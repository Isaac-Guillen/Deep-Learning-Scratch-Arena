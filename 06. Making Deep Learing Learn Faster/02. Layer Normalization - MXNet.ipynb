{
  "nbformat": 4,
  "nbformat_minor": 0,
  "metadata": {
    "colab": {
      "name": "Layer Normalization - MXNet (From Scratch).ipynb",
      "version": "0.3.2",
      "provenance": [],
      "collapsed_sections": []
    },
    "kernelspec": {
      "name": "python3",
      "display_name": "Python 3"
    },
    "accelerator": "GPU"
  },
  "cells": [
    {
      "cell_type": "code",
      "metadata": {
        "id": "PRwW2a0itwE-",
        "colab_type": "code",
        "outputId": "50f127dc-01dd-4bff-bc3d-b2be12990dea",
        "colab": {
          "base_uri": "https://localhost:8080/",
          "height": 155
        }
      },
      "source": [
        "!pip install mxnet-cu100"
      ],
      "execution_count": 1,
      "outputs": [
        {
          "output_type": "stream",
          "text": [
            "Requirement already satisfied: mxnet-cu100 in /usr/local/lib/python3.6/dist-packages (1.4.1)\n",
            "Requirement already satisfied: graphviz<0.9.0,>=0.8.1 in /usr/local/lib/python3.6/dist-packages (from mxnet-cu100) (0.8.4)\n",
            "Requirement already satisfied: requests>=2.20.0 in /usr/local/lib/python3.6/dist-packages (from mxnet-cu100) (2.21.0)\n",
            "Requirement already satisfied: numpy<1.15.0,>=1.8.2 in /usr/local/lib/python3.6/dist-packages (from mxnet-cu100) (1.14.6)\n",
            "Requirement already satisfied: urllib3<1.25,>=1.21.1 in /usr/local/lib/python3.6/dist-packages (from requests>=2.20.0->mxnet-cu100) (1.24.3)\n",
            "Requirement already satisfied: chardet<3.1.0,>=3.0.2 in /usr/local/lib/python3.6/dist-packages (from requests>=2.20.0->mxnet-cu100) (3.0.4)\n",
            "Requirement already satisfied: certifi>=2017.4.17 in /usr/local/lib/python3.6/dist-packages (from requests>=2.20.0->mxnet-cu100) (2019.3.9)\n",
            "Requirement already satisfied: idna<2.9,>=2.5 in /usr/local/lib/python3.6/dist-packages (from requests>=2.20.0->mxnet-cu100) (2.8)\n"
          ],
          "name": "stdout"
        }
      ]
    },
    {
      "cell_type": "code",
      "metadata": {
        "id": "yD7crq8C2Gof",
        "colab_type": "code",
        "colab": {}
      },
      "source": [
        "import mxnet as mx\n",
        "from mxnet import nd, autograd, gluon\n",
        "import matplotlib.pyplot as plt\n",
        "\n",
        "ctx = mx.gpu()"
      ],
      "execution_count": 0,
      "outputs": []
    },
    {
      "cell_type": "markdown",
      "metadata": {
        "id": "e9V_k_6s2xhX",
        "colab_type": "text"
      },
      "source": [
        "#Getting MNIST dataset"
      ]
    },
    {
      "cell_type": "code",
      "metadata": {
        "id": "ZLDyQYZo2wxw",
        "colab_type": "code",
        "colab": {}
      },
      "source": [
        "def transform(data, label):\n",
        "    return data.reshape((784)).astype('float32')/255.0, label.astype('float32')\n",
        "\n",
        "train_mnist = gluon.data.vision.datasets.MNIST(train = True, transform = transform)\n",
        "test_mnist = gluon.data.vision.datasets.MNIST(train = False, transform = transform)"
      ],
      "execution_count": 0,
      "outputs": []
    },
    {
      "cell_type": "code",
      "metadata": {
        "id": "H81sRUEQuNTw",
        "colab_type": "code",
        "outputId": "0298a6bb-0c8e-45ac-dc7e-7d7629ff36ae",
        "colab": {
          "base_uri": "https://localhost:8080/",
          "height": 34
        }
      },
      "source": [
        "image, label = train_mnist[5]\n",
        "image.shape, label.shape"
      ],
      "execution_count": 4,
      "outputs": [
        {
          "output_type": "execute_result",
          "data": {
            "text/plain": [
              "((784,), ())"
            ]
          },
          "metadata": {
            "tags": []
          },
          "execution_count": 4
        }
      ]
    },
    {
      "cell_type": "code",
      "metadata": {
        "id": "dWwYBdfFuerm",
        "colab_type": "code",
        "outputId": "0b87278f-9931-4d41-aefa-a812855c3642",
        "colab": {
          "base_uri": "https://localhost:8080/",
          "height": 281
        }
      },
      "source": [
        "plt.imshow(image.reshape((28, 28)).asnumpy(), cmap = 'gray')\n",
        "plt.title(label)\n",
        "plt.show()"
      ],
      "execution_count": 5,
      "outputs": [
        {
          "output_type": "display_data",
          "data": {
            "image/png": "[encoded data removed]",
            "text/plain": [
              "<Figure size 432x288 with 1 Axes>"
            ]
          },
          "metadata": {
            "tags": []
          }
        }
      ]
    },
    {
      "cell_type": "code",
      "metadata": {
        "id": "x_eoQ8Cx2w0x",
        "colab_type": "code",
        "colab": {}
      },
      "source": [
        "batch_size = 64\n",
        "train_data = gluon.data.DataLoader(train_mnist, batch_size, True)\n",
        "test_data = gluon.data.DataLoader(test_mnist, batch_size, False)"
      ],
      "execution_count": 0,
      "outputs": []
    },
    {
      "cell_type": "markdown",
      "metadata": {
        "id": "FqqqOgfG0P7f",
        "colab_type": "text"
      },
      "source": [
        "##Initializing model parameters and batch normal parameters"
      ]
    },
    {
      "cell_type": "code",
      "metadata": {
        "id": "M8bduuD24DOT",
        "colab_type": "code",
        "colab": {}
      },
      "source": [
        "weight_scale = .01\n",
        "\n",
        "#  Allocate parameters for the first hidden layer\n",
        "W1 = nd.random_normal(shape = (784, 256), scale = weight_scale, ctx = ctx)\n",
        "b1 = nd.random_normal(shape = 256, scale = weight_scale, ctx = ctx)\n",
        "gamma1 = nd.random_normal(shape = 256, scale = weight_scale, ctx = ctx)\n",
        "beta1 = nd.random_normal(shape = 256, scale = weight_scale, ctx = ctx)\n",
        "\n",
        "\n",
        "#  Allocate parameters for the second hidden layer\n",
        "W2 = nd.random_normal(shape = (256, 128), scale = weight_scale, ctx = ctx)\n",
        "b2 = nd.random_normal(shape = 128, scale = weight_scale, ctx = ctx)\n",
        "gamma2 = nd.random_normal(shape = 128, scale = weight_scale, ctx = ctx)\n",
        "beta2 = nd.random_normal(shape = 128, scale = weight_scale, ctx = ctx)\n",
        "\n",
        "#  Allocate parameters for the output layer\n",
        "W3 = nd.random_normal(shape=(128, 10), scale = weight_scale, ctx = ctx)\n",
        "b3 = nd.random_normal(shape=10, scale = weight_scale, ctx = ctx)\n",
        "\n",
        "params = [W1, b1, gamma1, beta1, W2, b2, gamma2, beta2, W3, b3]\n",
        "\n",
        "for param in params:\n",
        "    param.attach_grad()"
      ],
      "execution_count": 0,
      "outputs": []
    },
    {
      "cell_type": "markdown",
      "metadata": {
        "id": "uc2JVOAX4zsR",
        "colab_type": "text"
      },
      "source": [
        "##Defining Layer Norm Layer"
      ]
    },
    {
      "cell_type": "code",
      "metadata": {
        "id": "60aSuiux4DR9",
        "colab_type": "code",
        "colab": {}
      },
      "source": [
        "def layernorm(layer, gamma, beta):\n",
        "    mean = nd.mean(layer, axis = 1, keepdims = True)\n",
        "    variance = nd.mean((layer - mean) ** 2, axis=1, keepdims = True)\n",
        "    layer_hat = (layer - mean) * 1.0 / nd.sqrt(variance + 1e-8)\n",
        "    out = gamma * layer_hat + beta\n",
        "    \n",
        "    return out"
      ],
      "execution_count": 0,
      "outputs": []
    },
    {
      "cell_type": "code",
      "metadata": {
        "id": "uB9EJyuu4DM0",
        "colab_type": "code",
        "colab": {}
      },
      "source": [
        "def relu(x):\n",
        "    return nd.maximum(x, 0)"
      ],
      "execution_count": 0,
      "outputs": []
    },
    {
      "cell_type": "code",
      "metadata": {
        "id": "GwO0Qwmy5fyn",
        "colab_type": "code",
        "colab": {}
      },
      "source": [
        "def softmax(linear):\n",
        "    exp = nd.exp(linear - nd.max(linear))\n",
        "    partition = nd.sum(exp).reshape((-1, 1))\n",
        "    return exp / partition"
      ],
      "execution_count": 0,
      "outputs": []
    },
    {
      "cell_type": "markdown",
      "metadata": {
        "id": "yvQc2ogE0WeL",
        "colab_type": "text"
      },
      "source": [
        "##Building the model"
      ]
    },
    {
      "cell_type": "code",
      "metadata": {
        "id": "3FdYyCb65fvS",
        "colab_type": "code",
        "colab": {}
      },
      "source": [
        "def model(inputs):\n",
        "    layer1 = layernorm(nd.relu(nd.dot(inputs, W1) + b1), gamma1, beta1)\n",
        "    layer2 = layernorm(nd.relu(nd.dot(layer1, W2) + b2), gamma2, beta2)\n",
        "    return nd.softmax(nd.dot(layer2, W3) + b3)"
      ],
      "execution_count": 0,
      "outputs": []
    },
    {
      "cell_type": "code",
      "metadata": {
        "id": "UQtVGnWv8zcN",
        "colab_type": "code",
        "outputId": "0223e81f-73df-4249-ee47-39f7efeb6ee7",
        "colab": {
          "base_uri": "https://localhost:8080/",
          "height": 52
        }
      },
      "source": [
        "for data, _ in train_data:\n",
        "    data = data.as_in_context(ctx)\n",
        "    break\n",
        "    \n",
        "print(data.shape)\n",
        "output = model(data)\n",
        "print(output.shape)"
      ],
      "execution_count": 12,
      "outputs": [
        {
          "output_type": "stream",
          "text": [
            "(64, 784)\n",
            "(64, 10)\n"
          ],
          "name": "stdout"
        }
      ]
    },
    {
      "cell_type": "code",
      "metadata": {
        "id": "HjbezA0S5fwQ",
        "colab_type": "code",
        "colab": {}
      },
      "source": [
        "def categoricalcrossentropy(pred, label):\n",
        "    return -nd.sum(label * nd.log(pred))"
      ],
      "execution_count": 0,
      "outputs": []
    },
    {
      "cell_type": "code",
      "metadata": {
        "id": "AzdO_SXx5fuG",
        "colab_type": "code",
        "colab": {}
      },
      "source": [
        "def sgd(params, lr):\n",
        "    for param in params:\n",
        "        param[:] = param - lr * param.grad"
      ],
      "execution_count": 0,
      "outputs": []
    },
    {
      "cell_type": "code",
      "metadata": {
        "id": "Ff2oB_yFWR9O",
        "colab_type": "code",
        "colab": {}
      },
      "source": [
        "def accuracy(predictions, labels):\n",
        "    return nd.mean(predictions.argmax(1) == labels.argmax(1))"
      ],
      "execution_count": 0,
      "outputs": []
    },
    {
      "cell_type": "markdown",
      "metadata": {
        "id": "eGXnJ59P0bKz",
        "colab_type": "text"
      },
      "source": [
        "##Training the model"
      ]
    },
    {
      "cell_type": "code",
      "metadata": {
        "id": "toHHcCNo6AMC",
        "colab_type": "code",
        "colab": {
          "base_uri": "https://localhost:8080/",
          "height": 190
        },
        "outputId": "c8a1f941-9cb5-49d6-c1fe-2a8da3ae162c"
      },
      "source": [
        "epochs = 10\n",
        "num_batches = 60000/batch_size\n",
        "learning_rate = .001\n",
        "losses = []\n",
        "accs = []\n",
        "\n",
        "for epoch in range(epochs):\n",
        "    cumulative_loss = 0\n",
        "    cumulative_acc = 0\n",
        "    for features, labels in train_data:\n",
        "        features = features.as_in_context(ctx)\n",
        "        labels = labels.as_in_context(ctx).one_hot(10)\n",
        "        with autograd.record():\n",
        "            output = model(features)\n",
        "            loss = categoricalcrossentropy(output, labels)\n",
        "        loss.backward()\n",
        "        sgd(params, learning_rate)\n",
        "        cumulative_loss += loss\n",
        "        cumulative_acc += accuracy(output, labels)\n",
        "    loss = cumulative_loss.asscalar()/num_batches\n",
        "    cc = cumulative_acc.asscalar()/num_batches\n",
        "    print(f'Epoch: {epoch} | Loss: {loss:.5f} | Accuracy: {acc:.5f}')\n",
        "    losses.append(loss)\n",
        "    accs.append(acc)"
      ],
      "execution_count": 16,
      "outputs": [
        {
          "output_type": "stream",
          "text": [
            "Epoch: 0 | Loss: 67.16122 | Accuracy: 0.63060\n",
            "Epoch: 1 | Loss: 15.44060 | Accuracy: 0.93407\n",
            "Epoch: 2 | Loss: 11.29232 | Accuracy: 0.95153\n",
            "Epoch: 3 | Loss: 9.13283 | Accuracy: 0.95967\n",
            "Epoch: 4 | Loss: 7.58525 | Accuracy: 0.96690\n",
            "Epoch: 5 | Loss: 6.48895 | Accuracy: 0.97102\n",
            "Epoch: 6 | Loss: 5.76430 | Accuracy: 0.97397\n",
            "Epoch: 7 | Loss: 5.11823 | Accuracy: 0.97662\n",
            "Epoch: 8 | Loss: 4.56834 | Accuracy: 0.97877\n",
            "Epoch: 9 | Loss: 4.12497 | Accuracy: 0.98115\n"
          ],
          "name": "stdout"
        }
      ]
    },
    {
      "cell_type": "code",
      "metadata": {
        "id": "dJcq8cBl6AP_",
        "colab_type": "code",
        "colab": {
          "base_uri": "https://localhost:8080/",
          "height": 545
        },
        "outputId": "f07cd1d8-0998-447c-919a-bf50dba87b91"
      },
      "source": [
        "plt.plot(losses, c = 'r')\n",
        "plt.title('Training Loss')\n",
        "plt.show()\n",
        "plt.plot(accs, c = 'g')\n",
        "plt.title('Training Accuracy')\n",
        "plt.show()"
      ],
      "execution_count": 17,
      "outputs": [
        {
          "output_type": "display_data",
          "data": {
            "image/png": "[encoded data removed]",
            "text/plain": [
              "<Figure size 432x288 with 1 Axes>"
            ]
          },
          "metadata": {
            "tags": []
          }
        },
        {
          "output_type": "display_data",
          "data": {
            "image/png": "[encoded data removed]",
            "text/plain": [
              "<Figure size 432x288 with 1 Axes>"
            ]
          },
          "metadata": {
            "tags": []
          }
        }
      ]
    },
    {
      "cell_type": "markdown",
      "metadata": {
        "id": "X4WYxO2_0gbq",
        "colab_type": "text"
      },
      "source": [
        "##Testing the model"
      ]
    },
    {
      "cell_type": "code",
      "metadata": {
        "id": "4om_ZyHT6ALB",
        "colab_type": "code",
        "colab": {
          "base_uri": "https://localhost:8080/",
          "height": 34
        },
        "outputId": "9648dc87-a441-492a-e6bb-bf1eee74d8fa"
      },
      "source": [
        "acc = 0.0\n",
        "batches = 0\n",
        "for features, labels in test_data:\n",
        "    features = features.as_in_context(ctx)\n",
        "    labels = labels.as_in_context(ctx).one_hot(10)\n",
        "    predictions = model(features)\n",
        "    acc += accuracy(predictions, labels)\n",
        "    batches += 1\n",
        "print(f'Test Accuracy: {acc.asscalar()/batches}')"
      ],
      "execution_count": 19,
      "outputs": [
        {
          "output_type": "stream",
          "text": [
            "Test Accuracy: 0.9685509554140127\n"
          ],
          "name": "stdout"
        }
      ]
    }
  ]
}