{
  "nbformat": 4,
  "nbformat_minor": 0,
  "metadata": {
    "colab": {
      "name": "Understanding Convolutional - MXNet (From Scratch).ipynb",
      "version": "0.3.2",
      "provenance": [],
      "collapsed_sections": []
    },
    "kernelspec": {
      "name": "python3",
      "display_name": "Python 3"
    },
    "accelerator": "GPU"
  },
  "cells": [
    {
      "cell_type": "markdown",
      "metadata": {
        "id": "1YN4PT_Idstj",
        "colab_type": "text"
      },
      "source": [
        "#MXNet (From Scratch)"
      ]
    },
    {
      "cell_type": "code",
      "metadata": {
        "id": "CLGHa8i6WEaA",
        "colab_type": "code",
        "colab": {}
      },
      "source": [
        "import mxnet as mx\n",
        "from mxnet import nd\n",
        "import matplotlib.pyplot as plt\n",
        "\n",
        "ctx = mx.gpu()"
      ],
      "execution_count": 0,
      "outputs": []
    },
    {
      "cell_type": "markdown",
      "metadata": {
        "id": "5HUXvMyHYKoM",
        "colab_type": "text"
      },
      "source": [
        "#Understanding convolution"
      ]
    },
    {
      "cell_type": "markdown",
      "metadata": {
        "id": "u5Lekr1xNl3o",
        "colab_type": "text"
      },
      "source": [
        "##Getting the data"
      ]
    },
    {
      "cell_type": "code",
      "metadata": {
        "id": "SOMvJE7t2j-E",
        "colab_type": "code",
        "colab": {}
      },
      "source": [
        "mnist = mx.gluon.data.vision.MNIST()"
      ],
      "execution_count": 0,
      "outputs": []
    },
    {
      "cell_type": "code",
      "metadata": {
        "id": "z_t0Blm529jz",
        "colab_type": "code",
        "outputId": "217d72f2-0d56-4f4a-d913-2306992a4f1e",
        "colab": {
          "base_uri": "https://localhost:8080/",
          "height": 286
        }
      },
      "source": [
        "image, _ = mnist[2]\n",
        "\n",
        "image = image.flatten().astype('float32').as_in_context(ctx)\n",
        "\n",
        "print(image.shape)\n",
        "\n",
        "plt.imshow(image.asnumpy(), cmap = 'gray')\n",
        "plt.show()"
      ],
      "execution_count": 3,
      "outputs": [
        {
          "output_type": "stream",
          "text": [
            "(28, 28)\n"
          ],
          "name": "stdout"
        },
        {
          "output_type": "display_data",
          "data": {
            "image/png": "[encoded data removed]",
            "text/plain": [
              "<Figure size 432x288 with 1 Axes>"
            ]
          },
          "metadata": {
            "tags": []
          }
        }
      ]
    },
    {
      "cell_type": "code",
      "metadata": {
        "id": "u7Vdh54QWESq",
        "colab_type": "code",
        "colab": {}
      },
      "source": [
        "def convolution(inputs, kernal):\n",
        "    filter_hight, filter_width = kernal.shape\n",
        "    hight, width = (inputs.shape[0] - filter_hight) + 1, (inputs.shape[1] - filter_width) + 1\n",
        "    \n",
        "    layer = nd.zeros((int(hight), int(width)))\n",
        "    \n",
        "    row = 0\n",
        "    for i in range(0, inputs.shape[0]):\n",
        "        col = 0\n",
        "        for j in range(0, inputs.shape[1]):\n",
        "            if (i + filter_hight <= inputs.shape[0]) and (j + filter_width <= inputs.shape[1]):\n",
        "                layer[row, col] = (inputs[i:i + filter_hight, j:j + filter_width] * kernal).sum()\n",
        "            col += 1\n",
        "        row += 1\n",
        "    return layer"
      ],
      "execution_count": 0,
      "outputs": []
    },
    {
      "cell_type": "markdown",
      "metadata": {
        "id": "xMCXBgIdbxwY",
        "colab_type": "text"
      },
      "source": [
        "## This filter we are using below can detect vertical edges in the image"
      ]
    },
    {
      "cell_type": "code",
      "metadata": {
        "id": "P-N08yRpxRRH",
        "colab_type": "code",
        "outputId": "71847184-3339-46ef-b34e-db45e66ba760",
        "colab": {
          "base_uri": "https://localhost:8080/",
          "height": 286
        }
      },
      "source": [
        "kernal = nd.array([[1.0, 0.0, -1.0],\n",
        "                   [1.0, 0.0, -1.0],\n",
        "                   [1.0, 0.0, -1.0]], ctx = ctx)\n",
        "\n",
        "output = convolution(image, kernal)\n",
        "\n",
        "plt.imshow(output.asnumpy(), cmap = 'gray')\n",
        "plt.show()\n",
        "\n",
        "output.shape"
      ],
      "execution_count": 5,
      "outputs": [
        {
          "output_type": "display_data",
          "data": {
            "image/png": "[encoded data removed]",
            "text/plain": [
              "<Figure size 432x288 with 1 Axes>"
            ]
          },
          "metadata": {
            "tags": []
          }
        },
        {
          "output_type": "execute_result",
          "data": {
            "text/plain": [
              "(26, 26)"
            ]
          },
          "metadata": {
            "tags": []
          },
          "execution_count": 5
        }
      ]
    },
    {
      "cell_type": "markdown",
      "metadata": {
        "id": "i7C-WJGMbs1d",
        "colab_type": "text"
      },
      "source": [
        "## This filter we are using below can detect horizontal edges in the image"
      ]
    },
    {
      "cell_type": "code",
      "metadata": {
        "id": "uoTV2Wka41M0",
        "colab_type": "code",
        "outputId": "2d3264e3-97c8-4862-e774-1ea190c9023d",
        "colab": {
          "base_uri": "https://localhost:8080/",
          "height": 286
        }
      },
      "source": [
        "kernal = nd.array([[1, 1, 1],\n",
        "                   [0, 0, 0],\n",
        "                   [-1, -1, -1]], ctx = ctx)\n",
        "\n",
        "output = convolution(image, kernal)\n",
        "\n",
        "plt.imshow(output.asnumpy(), cmap = 'gray')\n",
        "plt.show()\n",
        "\n",
        "output.shape"
      ],
      "execution_count": 6,
      "outputs": [
        {
          "output_type": "display_data",
          "data": {
            "image/png": "[encoded data removed]",
            "text/plain": [
              "<Figure size 432x288 with 1 Axes>"
            ]
          },
          "metadata": {
            "tags": []
          }
        },
        {
          "output_type": "execute_result",
          "data": {
            "text/plain": [
              "(26, 26)"
            ]
          },
          "metadata": {
            "tags": []
          },
          "execution_count": 6
        }
      ]
    },
    {
      "cell_type": "markdown",
      "metadata": {
        "id": "v9mWwcq76iBO",
        "colab_type": "text"
      },
      "source": [
        "##Lets see some more examples with different types of filters."
      ]
    },
    {
      "cell_type": "code",
      "metadata": {
        "id": "JLap3b-76hjs",
        "colab_type": "code",
        "outputId": "6eb9cf42-75f4-42ff-b0ce-65e484b03d4e",
        "colab": {
          "base_uri": "https://localhost:8080/",
          "height": 286
        }
      },
      "source": [
        "kernal = nd.random.normal(0, 1, (3, 3)).as_in_context(ctx)\n",
        "# wondering what this random filter would generate?? Me too!! lets see.\n",
        "\n",
        "output = convolution(image, kernal)\n",
        "\n",
        "plt.imshow(output.asnumpy(), cmap = 'gray')\n",
        "plt.show()\n",
        "\n",
        "output.shape"
      ],
      "execution_count": 7,
      "outputs": [
        {
          "output_type": "display_data",
          "data": {
            "image/png": "[encoded data removed]",
            "text/plain": [
              "<Figure size 432x288 with 1 Axes>"
            ]
          },
          "metadata": {
            "tags": []
          }
        },
        {
          "output_type": "execute_result",
          "data": {
            "text/plain": [
              "(26, 26)"
            ]
          },
          "metadata": {
            "tags": []
          },
          "execution_count": 7
        }
      ]
    },
    {
      "cell_type": "markdown",
      "metadata": {
        "id": "bImJi_y_bou5",
        "colab_type": "text"
      },
      "source": [
        "## Time to check out a 5 by 5 random filter"
      ]
    },
    {
      "cell_type": "code",
      "metadata": {
        "id": "7VD_H7Mu6yLg",
        "colab_type": "code",
        "outputId": "a91b4a84-cded-4a4d-d730-5e68ab81f6ac",
        "colab": {
          "base_uri": "https://localhost:8080/",
          "height": 286
        }
      },
      "source": [
        "kernal = nd.random.normal(0, 1, (5, 5)).as_in_context(ctx)\n",
        "\n",
        "output = convolution(image, kernal)\n",
        "\n",
        "plt.imshow(output.asnumpy(), cmap = 'gray')\n",
        "plt.show()\n",
        "\n",
        "output.shape"
      ],
      "execution_count": 8,
      "outputs": [
        {
          "output_type": "display_data",
          "data": {
            "image/png": "[encoded data removed]",
            "text/plain": [
              "<Figure size 432x288 with 1 Axes>"
            ]
          },
          "metadata": {
            "tags": []
          }
        },
        {
          "output_type": "execute_result",
          "data": {
            "text/plain": [
              "(24, 24)"
            ]
          },
          "metadata": {
            "tags": []
          },
          "execution_count": 8
        }
      ]
    },
    {
      "cell_type": "markdown",
      "metadata": {
        "id": "VpAt4zZAblY3",
        "colab_type": "text"
      },
      "source": [
        "## Lets try one more time"
      ]
    },
    {
      "cell_type": "code",
      "metadata": {
        "id": "WE8O2o-G9d2j",
        "colab_type": "code",
        "outputId": "0c5cafe3-ed15-49c5-8938-5e029508b9f3",
        "colab": {
          "base_uri": "https://localhost:8080/",
          "height": 286
        }
      },
      "source": [
        "kernal = nd.random.normal(0, 1, (5, 5)).as_in_context(ctx)\n",
        "\n",
        "output = convolution(image, kernal)\n",
        "\n",
        "plt.imshow(output.asnumpy(), cmap = 'gray')\n",
        "plt.show()\n",
        "\n",
        "output.shape"
      ],
      "execution_count": 9,
      "outputs": [
        {
          "output_type": "display_data",
          "data": {
            "image/png": "[encoded data removed]",
            "text/plain": [
              "<Figure size 432x288 with 1 Axes>"
            ]
          },
          "metadata": {
            "tags": []
          }
        },
        {
          "output_type": "execute_result",
          "data": {
            "text/plain": [
              "(24, 24)"
            ]
          },
          "metadata": {
            "tags": []
          },
          "execution_count": 9
        }
      ]
    },
    {
      "cell_type": "markdown",
      "metadata": {
        "id": "BbkQAYeHbbMn",
        "colab_type": "text"
      },
      "source": [
        "## Lets try 7 by 7 this time"
      ]
    },
    {
      "cell_type": "code",
      "metadata": {
        "id": "NpEovLkB6yFm",
        "colab_type": "code",
        "outputId": "6d54735d-7f4c-442c-e529-e0f168594659",
        "colab": {
          "base_uri": "https://localhost:8080/",
          "height": 286
        }
      },
      "source": [
        "kernal = nd.random.normal(0, 1, (7, 7)).as_in_context(ctx)\n",
        "\n",
        "output = convolution(image, kernal)\n",
        "\n",
        "plt.imshow(output.asnumpy(), cmap = 'gray')\n",
        "plt.show()\n",
        "\n",
        "output.shape"
      ],
      "execution_count": 10,
      "outputs": [
        {
          "output_type": "display_data",
          "data": {
            "image/png": "[encoded data removed]",
            "text/plain": [
              "<Figure size 432x288 with 1 Axes>"
            ]
          },
          "metadata": {
            "tags": []
          }
        },
        {
          "output_type": "execute_result",
          "data": {
            "text/plain": [
              "(22, 22)"
            ]
          },
          "metadata": {
            "tags": []
          },
          "execution_count": 10
        }
      ]
    }
  ]
}