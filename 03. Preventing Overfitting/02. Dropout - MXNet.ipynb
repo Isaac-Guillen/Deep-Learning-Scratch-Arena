{
  "nbformat": 4,
  "nbformat_minor": 0,
  "metadata": {
    "colab": {
      "name": "Dropout - MXNet (From Scratch).ipynb",
      "version": "0.3.2",
      "provenance": [],
      "collapsed_sections": []
    },
    "kernelspec": {
      "name": "python3",
      "display_name": "Python 3"
    },
    "accelerator": "GPU"
  },
  "cells": [
    {
      "cell_type": "code",
      "metadata": {
        "id": "L3KIZndDdgt4",
        "colab_type": "code",
        "outputId": "f0f725c0-91e3-4797-dbc5-f70c766bc14c",
        "colab": {
          "base_uri": "https://localhost:8080/",
          "height": 151
        }
      },
      "source": [
        "!pip install mxnet-cu100"
      ],
      "execution_count": 0,
      "outputs": [
        {
          "output_type": "stream",
          "text": [
            "Requirement already satisfied: mxnet-cu100 in /usr/local/lib/python3.6/dist-packages (1.4.1)\n",
            "Requirement already satisfied: graphviz<0.9.0,>=0.8.1 in /usr/local/lib/python3.6/dist-packages (from mxnet-cu100) (0.8.4)\n",
            "Requirement already satisfied: requests>=2.20.0 in /usr/local/lib/python3.6/dist-packages (from mxnet-cu100) (2.21.0)\n",
            "Requirement already satisfied: numpy<1.15.0,>=1.8.2 in /usr/local/lib/python3.6/dist-packages (from mxnet-cu100) (1.14.6)\n",
            "Requirement already satisfied: chardet<3.1.0,>=3.0.2 in /usr/local/lib/python3.6/dist-packages (from requests>=2.20.0->mxnet-cu100) (3.0.4)\n",
            "Requirement already satisfied: idna<2.9,>=2.5 in /usr/local/lib/python3.6/dist-packages (from requests>=2.20.0->mxnet-cu100) (2.8)\n",
            "Requirement already satisfied: certifi>=2017.4.17 in /usr/local/lib/python3.6/dist-packages (from requests>=2.20.0->mxnet-cu100) (2019.3.9)\n",
            "Requirement already satisfied: urllib3<1.25,>=1.21.1 in /usr/local/lib/python3.6/dist-packages (from requests>=2.20.0->mxnet-cu100) (1.24.3)\n"
          ],
          "name": "stdout"
        }
      ]
    },
    {
      "cell_type": "markdown",
      "metadata": {
        "id": "1YN4PT_Idstj",
        "colab_type": "text"
      },
      "source": [
        "#MXNet (From Scratch)"
      ]
    },
    {
      "cell_type": "code",
      "metadata": {
        "id": "CLGHa8i6WEaA",
        "colab_type": "code",
        "colab": {}
      },
      "source": [
        "import mxnet as mx\n",
        "from mxnet import nd, autograd, gluon\n",
        "import matplotlib.pyplot as plt\n",
        "\n",
        "mx.random.seed(1)\n",
        "\n",
        "data_ctx = mx.cpu()\n",
        "model_ctx = mx.gpu()"
      ],
      "execution_count": 0,
      "outputs": []
    },
    {
      "cell_type": "code",
      "metadata": {
        "id": "huuK9vLaWEcO",
        "colab_type": "code",
        "colab": {}
      },
      "source": [
        "def transform(data, label):\n",
        "    return data.astype('float32')/255.0, label.astype('float32')\n",
        "\n",
        "train_mnist = gluon.data.vision.MNIST(train = True, transform = transform)\n",
        "test_mnist = gluon.data.vision.MNIST(train = False, transform = transform)"
      ],
      "execution_count": 0,
      "outputs": []
    },
    {
      "cell_type": "code",
      "metadata": {
        "id": "sAXcT8nSWEYo",
        "colab_type": "code",
        "outputId": "0a7ef0fd-652b-40be-96c6-faf4345572b7",
        "colab": {
          "base_uri": "https://localhost:8080/",
          "height": 34
        }
      },
      "source": [
        "image, label = train_mnist[798]\n",
        "print(image.shape, label.shape)"
      ],
      "execution_count": 0,
      "outputs": [
        {
          "output_type": "stream",
          "text": [
            "(28, 28, 1) ()\n"
          ],
          "name": "stdout"
        }
      ]
    },
    {
      "cell_type": "code",
      "metadata": {
        "id": "SIQSLxiFWEXg",
        "colab_type": "code",
        "outputId": "25e9bdd8-b9d6-4c09-cc30-ab2983a5b0d0",
        "colab": {
          "base_uri": "https://localhost:8080/",
          "height": 281
        }
      },
      "source": [
        "plt.imshow(image.reshape((28, 28)).asnumpy())\n",
        "plt.title(label)\n",
        "plt.show()\n"
      ],
      "execution_count": 0,
      "outputs": [
        {
          "output_type": "display_data",
          "data": {
            "image/png": "[encoded data removed]",
            "text/plain": [
              "<Figure size 432x288 with 1 Axes>"
            ]
          },
          "metadata": {
            "tags": []
          }
        }
      ]
    },
    {
      "cell_type": "markdown",
      "metadata": {
        "id": "oF-WKS-xX73T",
        "colab_type": "text"
      },
      "source": [
        "##Creating data loader for training and testing"
      ]
    },
    {
      "cell_type": "code",
      "metadata": {
        "id": "IVmMwE94WEWY",
        "colab_type": "code",
        "colab": {}
      },
      "source": [
        "batch_size = 64\n",
        "training_data = gluon.data.DataLoader(train_mnist, batch_size = batch_size, shuffle = True)\n",
        "testing_data = gluon.data.DataLoader(test_mnist, batch_size = batch_size, shuffle = False)"
      ],
      "execution_count": 0,
      "outputs": []
    },
    {
      "cell_type": "markdown",
      "metadata": {
        "id": "5HUXvMyHYKoM",
        "colab_type": "text"
      },
      "source": [
        "##Building the model"
      ]
    },
    {
      "cell_type": "markdown",
      "metadata": {
        "id": "n6LpOyKS9gKf",
        "colab_type": "text"
      },
      "source": [
        "###Understanding dropout function"
      ]
    },
    {
      "cell_type": "code",
      "metadata": {
        "id": "yM-HAEo87wrT",
        "colab_type": "code",
        "outputId": "ba7b1e91-8134-4309-a2ee-05da749a6115",
        "colab": {
          "base_uri": "https://localhost:8080/",
          "height": 269
        }
      },
      "source": [
        "layer = nd.random.normal(0, 1, (1, 10))\n",
        "a = nd.random.uniform(0, 1, layer.shape)\n",
        "prob = 0.4\n",
        "keep = 1 - prob\n",
        "mask = a < keep\n",
        "print(a)\n",
        "print(mask)\n",
        "print(layer)\n",
        "print(layer * mask)"
      ],
      "execution_count": 0,
      "outputs": [
        {
          "output_type": "stream",
          "text": [
            "\n",
            "[[0.23734096 0.9831371  0.792735   0.04023623 0.34534866 0.18300699\n",
            "  0.9539874  0.5292981  0.6002937  0.9280305 ]]\n",
            "<NDArray 1x10 @cpu(0)>\n",
            "\n",
            "[[1. 0. 0. 1. 1. 1. 0. 1. 0. 0.]]\n",
            "<NDArray 1x10 @cpu(0)>\n",
            "\n",
            "[[ 1.37109    -0.23789984  0.14867957 -0.49851316 -0.84815776  0.07811152\n",
            "  -0.38241303 -0.05334064 -0.31002352 -1.7337203 ]]\n",
            "<NDArray 1x10 @cpu(0)>\n",
            "\n",
            "[[ 1.37109    -0.          0.         -0.49851316 -0.84815776  0.07811152\n",
            "  -0.         -0.05334064 -0.         -0.        ]]\n",
            "<NDArray 1x10 @cpu(0)>\n"
          ],
          "name": "stdout"
        }
      ]
    },
    {
      "cell_type": "code",
      "metadata": {
        "id": "u7Vdh54QWESq",
        "colab_type": "code",
        "colab": {}
      },
      "source": [
        "weight_scale = .01\n",
        "\n",
        "#  Allocate parameters for the first hidden layer\n",
        "W1 = nd.random_normal(shape = (784, 256), scale=weight_scale, ctx=model_ctx)\n",
        "b1 = nd.random_normal(shape = 256, scale=weight_scale, ctx=model_ctx)\n",
        "\n",
        "#  Allocate parameters for the second hidden layer\n",
        "W2 = nd.random_normal(shape = (256, 128), scale=weight_scale, ctx=model_ctx)\n",
        "b2 = nd.random_normal(shape = 128, scale=weight_scale, ctx=model_ctx)\n",
        "\n",
        "#  Allocate parameters for the output layer\n",
        "W3 = nd.random_normal(shape=(128, 10), scale=weight_scale, ctx=model_ctx)\n",
        "b3 = nd.random_normal(shape=10, scale=weight_scale, ctx=model_ctx)\n",
        "\n",
        "params = [W1, b1, W2, b2, W3, b3]\n",
        "\n",
        "for param in params:\n",
        "    param.attach_grad()\n",
        "    \n",
        "def dropout(layer, drop_prob = 0.5):\n",
        "    # drop_prob is what is the probability that a each neuron will get droped\n",
        "    keep_prob = 1 - drop_prob\n",
        "    mask = nd.random.uniform(0, 1, layer.shape).as_in_context(model_ctx) < keep_prob\n",
        "    scale = 1/keep_prob if keep_prob > 0.0 else 0.0\n",
        "    return layer * mask * scale\n",
        "\n",
        "def neuralnetworks(inputs):\n",
        "    layer1 = dropout(nd.relu(nd.dot(inputs, W1) + b1), 0.2)\n",
        "    layer2 = dropout(nd.relu(nd.dot(layer1, W2) + b2), 0.2)\n",
        "    return nd.softmax(nd.dot(layer2, W3) + b3)"
      ],
      "execution_count": 0,
      "outputs": []
    },
    {
      "cell_type": "markdown",
      "metadata": {
        "id": "HW4Jzb46EyyD",
        "colab_type": "text"
      },
      "source": [
        "##Defining our objective function"
      ]
    },
    {
      "cell_type": "code",
      "metadata": {
        "id": "avO1uf5fItMV",
        "colab_type": "code",
        "colab": {}
      },
      "source": [
        "def categoricalcrossentropy(predictions, labels):\n",
        "    return -nd.sum(labels * nd.log(predictions))"
      ],
      "execution_count": 0,
      "outputs": []
    },
    {
      "cell_type": "markdown",
      "metadata": {
        "id": "3qr1NTDkE7Kh",
        "colab_type": "text"
      },
      "source": [
        "##Defining our parameters optimizer"
      ]
    },
    {
      "cell_type": "code",
      "metadata": {
        "id": "hvFKa4WuI9c-",
        "colab_type": "code",
        "colab": {}
      },
      "source": [
        "def sgd(params, lr):\n",
        "    for param in params:\n",
        "        param[:] = param - lr * param.grad"
      ],
      "execution_count": 0,
      "outputs": []
    },
    {
      "cell_type": "markdown",
      "metadata": {
        "id": "lbHoiGM3ZrQY",
        "colab_type": "text"
      },
      "source": [
        "##Defining our accuracy function"
      ]
    },
    {
      "cell_type": "code",
      "metadata": {
        "id": "-3osTW97ZuHR",
        "colab_type": "code",
        "colab": {}
      },
      "source": [
        "def accuracy(predictions, labels):\n",
        "    return nd.mean(predictions.argmax(1) == labels.argmax(1))"
      ],
      "execution_count": 0,
      "outputs": []
    },
    {
      "cell_type": "markdown",
      "metadata": {
        "id": "UlkEn5XxFPkd",
        "colab_type": "text"
      },
      "source": [
        "##Training the  model"
      ]
    },
    {
      "cell_type": "code",
      "metadata": {
        "id": "kVao6lbWCizF",
        "colab_type": "code",
        "outputId": "ab3ad68c-a1f7-46e4-c91c-c48a14269f1a",
        "colab": {
          "base_uri": "https://localhost:8080/",
          "height": 185
        }
      },
      "source": [
        "epochs = 10\n",
        "num_batches = 60000/batch_size\n",
        "learning_rate = .001\n",
        "losses = []\n",
        "accs = []\n",
        "\n",
        "for epoch in range(epochs):\n",
        "    cumulative_loss = 0\n",
        "    cumulative_acc = 0\n",
        "    for features, labels in training_data:\n",
        "        features = features.as_in_context(model_ctx).reshape((-1, 784))\n",
        "        labels = labels.as_in_context(model_ctx).one_hot(10)\n",
        "        with autograd.record():\n",
        "            output = neuralnetworks(features)\n",
        "            loss = categoricalcrossentropy(output, labels)\n",
        "        loss.backward()\n",
        "        sgd(params, learning_rate)\n",
        "        cumulative_loss += loss\n",
        "        cumulative_acc += accuracy(output, labels)\n",
        "    print(f'Epoch: {epoch} Loss: {cumulative_loss.asscalar()/num_batches} Accuracy: {cumulative_acc.asscalar()/num_batches}')\n",
        "    losses.append(cumulative_loss.asscalar()/num_batches)\n",
        "    accs.append(cumulative_acc.asscalar()/num_batches)"
      ],
      "execution_count": 0,
      "outputs": [
        {
          "output_type": "stream",
          "text": [
            "Epoch: 0 Loss: 91.01678333333334 Accuracy: 0.5009833333333333\n",
            "Epoch: 1 Loss: 24.889610416666667 Accuracy: 0.8861333333333333\n",
            "Epoch: 2 Loss: 16.524120833333335 Accuracy: 0.9255833333333333\n",
            "Epoch: 3 Loss: 12.392048958333334 Accuracy: 0.9443666666666667\n",
            "Epoch: 4 Loss: 10.018997916666667 Accuracy: 0.9546333333333333\n",
            "Epoch: 5 Loss: 8.511573958333333 Accuracy: 0.9617166666666667\n",
            "Epoch: 6 Loss: 7.417365104166667 Accuracy: 0.9663\n",
            "Epoch: 7 Loss: 6.6508859375 Accuracy: 0.9693333333333334\n",
            "Epoch: 8 Loss: 5.983238020833333 Accuracy: 0.9727833333333333\n",
            "Epoch: 9 Loss: 5.368407291666666 Accuracy: 0.9754\n"
          ],
          "name": "stdout"
        }
      ]
    },
    {
      "cell_type": "markdown",
      "metadata": {
        "id": "JJOc7DOepwEE",
        "colab_type": "text"
      },
      "source": [
        "##Lets see test accuracy"
      ]
    },
    {
      "cell_type": "code",
      "metadata": {
        "id": "dvvQC3oQYu5A",
        "colab_type": "code",
        "outputId": "f6d152f0-e13d-4295-fac3-cb2da1dac13a",
        "colab": {
          "base_uri": "https://localhost:8080/",
          "height": 34
        }
      },
      "source": [
        "acc = 0.0\n",
        "batches = 0\n",
        "for features, labels in testing_data:\n",
        "    features = features.as_in_context(model_ctx).reshape((-1, 784))\n",
        "    labels = labels.as_in_context(model_ctx).one_hot(10)\n",
        "    predictions = neuralnetworks(features)\n",
        "    acc += accuracy(predictions, labels)\n",
        "    batches += 1\n",
        "print(f'Test Accuracy: {acc.asscalar()/batches}')"
      ],
      "execution_count": 0,
      "outputs": [
        {
          "output_type": "stream",
          "text": [
            "Test Accuracy: 0.9686504777070064\n"
          ],
          "name": "stdout"
        }
      ]
    },
    {
      "cell_type": "code",
      "metadata": {
        "id": "hIBgjWVBYu3t",
        "colab_type": "code",
        "colab": {}
      },
      "source": [
        "def plot(losses = losses, accs = accs, model = neuralnetworks, samples = 5):\n",
        "    plt.plot(losses, 'r')\n",
        "    plt.title('Loss during Training')\n",
        "    plt.xlabel('Epoch')\n",
        "    plt.ylabel('Loss')\n",
        "    plt.show()\n",
        "    \n",
        "    plt.plot(accs, 'g')\n",
        "    plt.title('Accuracy during Training')\n",
        "    plt.xlabel('Epoch')\n",
        "    plt.ylabel('Accuracy')\n",
        "    plt.show()\n",
        "    \n",
        "    for i, batch in enumerate(test_mnist):\n",
        "        features = batch[0].as_in_context(model_ctx).reshape((1, 784))\n",
        "        labels = batch[1]\n",
        "        predictions = model(features).argmax(1).asscalar()\n",
        "        plt.imshow(features.reshape((28, 28)).asnumpy())\n",
        "        plt.title(f'Predicted: {predictions}, Target: {labels}')\n",
        "        plt.show()\n",
        "        if i == samples:\n",
        "            break"
      ],
      "execution_count": 0,
      "outputs": []
    },
    {
      "cell_type": "code",
      "metadata": {
        "id": "mkorWu1EYu2b",
        "colab_type": "code",
        "outputId": "a9ff5371-0221-4a84-9160-85258cecc095",
        "colab": {
          "base_uri": "https://localhost:8080/",
          "height": 3477
        }
      },
      "source": [
        "plot(samples = 10)"
      ],
      "execution_count": 0,
      "outputs": [
        {
          "output_type": "display_data",
          "data": {
            "image/png": "[encoded data removed]",
            "text/plain": [
              "<Figure size 432x288 with 1 Axes>"
            ]
          },
          "metadata": {
            "tags": []
          }
        },
        {
          "output_type": "display_data",
          "data": {
            "image/png": "[encoded data removed]",
            "text/plain": [
              "<Figure size 432x288 with 1 Axes>"
            ]
          },
          "metadata": {
            "tags": []
          }
        },
        {
          "output_type": "display_data",
          "data": {
            "image/png": "[encoded data removed]",
            "text/plain": [
              "<Figure size 432x288 with 1 Axes>"
            ]
          },
          "metadata": {
            "tags": []
          }
        },
        {
          "output_type": "display_data",
          "data": {
            "image/png": "[encoded data removed]",
            "text/plain": [
              "<Figure size 432x288 with 1 Axes>"
            ]
          },
          "metadata": {
            "tags": []
          }
        },
        {
          "output_type": "display_data",
          "data": {
            "image/png": "[encoded data removed]",
            "text/plain": [
              "<Figure size 432x288 with 1 Axes>"
            ]
          },
          "metadata": {
            "tags": []
          }
        },
        {
          "output_type": "display_data",
          "data": {
            "image/png": "[encoded data removed]",
            "text/plain": [
              "<Figure size 432x288 with 1 Axes>"
            ]
          },
          "metadata": {
            "tags": []
          }
        },
        {
          "output_type": "display_data",
          "data": {
            "image/png": "[encoded data removed]",
            "text/plain": [
              "<Figure size 432x288 with 1 Axes>"
            ]
          },
          "metadata": {
            "tags": []
          }
        },
        {
          "output_type": "display_data",
          "data": {
            "image/png": "[encoded data removed]",
            "text/plain": [
              "<Figure size 432x288 with 1 Axes>"
            ]
          },
          "metadata": {
            "tags": []
          }
        },
        {
          "output_type": "display_data",
          "data": {
            "image/png": "[encoded data removed]",
            "text/plain": [
              "<Figure size 432x288 with 1 Axes>"
            ]
          },
          "metadata": {
            "tags": []
          }
        },
        {
          "output_type": "display_data",
          "data": {
            "image/png": "[encoded data removed]",
            "text/plain": [
              "<Figure size 432x288 with 1 Axes>"
            ]
          },
          "metadata": {
            "tags": []
          }
        },
        {
          "output_type": "display_data",
          "data": {
            "image/png": "[encoded data removed]",
            "text/plain": [
              "<Figure size 432x288 with 1 Axes>"
            ]
          },
          "metadata": {
            "tags": []
          }
        },
        {
          "output_type": "display_data",
          "data": {
            "image/png": "[encoded data removed]",
            "text/plain": [
              "<Figure size 432x288 with 1 Axes>"
            ]
          },
          "metadata": {
            "tags": []
          }
        },
        {
          "output_type": "display_data",
          "data": {
            "image/png": "[encoded data removed]",
            "text/plain": [
              "<Figure size 432x288 with 1 Axes>"
            ]
          },
          "metadata": {
            "tags": []
          }
        }
      ]
    }
  ]
}