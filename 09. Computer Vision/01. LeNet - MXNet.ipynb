{
 "nbformat": 4,
 "nbformat_minor": 2,
 "metadata": {
  "language_info": {
   "name": "python",
   "codemirror_mode": {
    "name": "ipython",
    "version": 3
   },
   "version": "3.7.5-final"
  },
  "orig_nbformat": 2,
  "file_extension": ".py",
  "mimetype": "text/x-python",
  "name": "python",
  "npconvert_exporter": "python",
  "pygments_lexer": "ipython3",
  "version": 3,
  "kernelspec": {
   "name": "python3",
   "display_name": "Python 3"
  }
 },
 "cells": [
  {
   "cell_type": "markdown",
   "execution_count": null,
   "metadata": {},
   "outputs": [],
   "source": [
    "# __LeNet - MXNet (From Scratch)__"
   ]
  },
  {
   "cell_type": "code",
   "execution_count": 1,
   "metadata": {},
   "outputs": [],
   "source": [
    "import mxnet as mx\n",
    "from mxnet import nd, autograd, gluon\n",
    "from mxnet.gluon import nn\n",
    "import matplotlib.pyplot as plt\n",
    "\n",
    "ctx = mx.gpu()"
   ]
  },
  {
   "cell_type": "markdown",
   "execution_count": null,
   "metadata": {},
   "outputs": [],
   "source": [
    "## __Getting the dataset__"
   ]
  },
  {
   "cell_type": "code",
   "execution_count": 2,
   "metadata": {},
   "outputs": [],
   "source": [
    "def transform(data, label):\n",
    "    return data.transpose((2, 0, 1)).astype('float32')/255.0, label.astype('float32')\n",
    "\n",
    "train_mnist = gluon.data.vision.MNIST(train = True, transform = transform)\n",
    "test_mnist = gluon.data.vision.MNIST(train = False, transform = transform)"
   ]
  },
  {
   "cell_type": "code",
   "execution_count": 3,
   "metadata": {},
   "outputs": [
    {
     "name": "stdout",
     "output_type": "stream",
     "text": "(1, 28, 28)\n0.0\n"
    }
   ],
   "source": [
    "image, label = train_mnist[1]\n",
    "print(image.shape)\n",
    "print(label)"
   ]
  },
  {
   "cell_type": "code",
   "execution_count": 4,
   "metadata": {},
   "outputs": [
    {
     "data": {
      "image/png": "[encoded data removed]",
      "image/svg+xml": "<?xml version=\"1.0\" encoding=\"utf-8\" standalone=\"no\"?>\r\n<!DOCTYPE svg PUBLIC \"-//W3C//DTD SVG 1.1//EN\"\r\n  \"http://www.w3.org/Graphics/SVG/1.1/DTD/svg11.dtd\">\r\n<!-- Created with matplotlib (https://matplotlib.org/) -->\r\n<svg height=\"248.518125pt\" version=\"1.1\" viewBox=\"0 0 251.565 248.518125\" width=\"251.565pt\" xmlns=\"http://www.w3.org/2000/svg\" xmlns:xlink=\"http://www.w3.org/1999/xlink\">\r\n <defs>\r\n  <style type=\"text/css\">\r\n*{stroke-linecap:butt;stroke-linejoin:round;}\r\n  </style>\r\n </defs>\r\n <g id=\"figure_1\">\r\n  <g id=\"patch_1\">\r\n   <path d=\"M 0 248.518125 \r\nL 251.565 248.518125 \r\nL 251.565 0 \r\nL 0 0 \r\nz\r\n\" style=\"fill:none;\"/>\r\n  </g>\r\n  <g id=\"axes_1\">\r\n   <g id=\"patch_2\">\r\n    <path d=\"M 26.925 224.64 \r\nL 244.365 224.64 \r\nL 244.365 7.2 \r\nL 26.925 7.2 \r\nz\r\n\" style=\"fill:#ffffff;\"/>\r\n   </g>\r\n   <g clip-path=\"url(#p4dda648e35)\">\r\n    <image height=\"218\" id=\"image46084cfa93\" transform=\"scale(1 -1)translate(0 -218)\" width=\"218\" x=\"26.925\" xlink:href=\"data:image/png;base64,\r\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\" y=\"-6.64\"/>\r\n   </g>\r\n   <g id=\"matplotlib.axis_1\">\r\n    <g id=\"xtick_1\">\r\n     <g id=\"line2d_1\">\r\n      <defs>\r\n       <path d=\"M 0 0 \r\nL 0 3.5 \r\n\" id=\"m0fa081f2d1\" style=\"stroke:#000000;stroke-width:0.8;\"/>\r\n      </defs>\r\n      <g>\r\n       <use style=\"stroke:#000000;stroke-width:0.8;\" x=\"30.807857\" xlink:href=\"#m0fa081f2d1\" y=\"224.64\"/>\r\n      </g>\r\n     </g>\r\n     <g id=\"text_1\">\r\n      <!-- 0 -->\r\n      <defs>\r\n       <path d=\"M 31.78125 66.40625 \r\nQ 24.171875 66.40625 20.328125 58.90625 \r\nQ 16.5 51.421875 16.5 36.375 \r\nQ 16.5 21.390625 20.328125 13.890625 \r\nQ 24.171875 6.390625 31.78125 6.390625 \r\nQ 39.453125 6.390625 43.28125 13.890625 \r\nQ 47.125 21.390625 47.125 36.375 \r\nQ 47.125 51.421875 43.28125 58.90625 \r\nQ 39.453125 66.40625 31.78125 66.40625 \r\nz\r\nM 31.78125 74.21875 \r\nQ 44.046875 74.21875 50.515625 64.515625 \r\nQ 56.984375 54.828125 56.984375 36.375 \r\nQ 56.984375 17.96875 50.515625 8.265625 \r\nQ 44.046875 -1.421875 31.78125 -1.421875 \r\nQ 19.53125 -1.421875 13.0625 8.265625 \r\nQ 6.59375 17.96875 6.59375 36.375 \r\nQ 6.59375 54.828125 13.0625 64.515625 \r\nQ 19.53125 74.21875 31.78125 74.21875 \r\nz\r\n\" id=\"DejaVuSans-48\"/>\r\n      </defs>\r\n      <g transform=\"translate(27.626607 239.238437)scale(0.1 -0.1)\">\r\n       <use xlink:href=\"#DejaVuSans-48\"/>\r\n      </g>\r\n     </g>\r\n    </g>\r\n    <g id=\"xtick_2\">\r\n     <g id=\"line2d_2\">\r\n      <g>\r\n       <use style=\"stroke:#000000;stroke-width:0.8;\" x=\"69.636429\" xlink:href=\"#m0fa081f2d1\" y=\"224.64\"/>\r\n      </g>\r\n     </g>\r\n     <g id=\"text_2\">\r\n      <!-- 5 -->\r\n      <defs>\r\n       <path d=\"M 10.796875 72.90625 \r\nL 49.515625 72.90625 \r\nL 49.515625 64.59375 \r\nL 19.828125 64.59375 \r\nL 19.828125 46.734375 \r\nQ 21.96875 47.46875 24.109375 47.828125 \r\nQ 26.265625 48.1875 28.421875 48.1875 \r\nQ 40.625 48.1875 47.75 41.5 \r\nQ 54.890625 34.8125 54.890625 23.390625 \r\nQ 54.890625 11.625 47.5625 5.09375 \r\nQ 40.234375 -1.421875 26.90625 -1.421875 \r\nQ 22.3125 -1.421875 17.546875 -0.640625 \r\nQ 12.796875 0.140625 7.71875 1.703125 \r\nL 7.71875 11.625 \r\nQ 12.109375 9.234375 16.796875 8.0625 \r\nQ 21.484375 6.890625 26.703125 6.890625 \r\nQ 35.15625 6.890625 40.078125 11.328125 \r\nQ 45.015625 15.765625 45.015625 23.390625 \r\nQ 45.015625 31 40.078125 35.4375 \r\nQ 35.15625 39.890625 26.703125 39.890625 \r\nQ 22.75 39.890625 18.8125 39.015625 \r\nQ 14.890625 38.140625 10.796875 36.28125 \r\nz\r\n\" id=\"DejaVuSans-53\"/>\r\n      </defs>\r\n      <g transform=\"translate(66.455179 239.238437)scale(0.1 -0.1)\">\r\n       <use xlink:href=\"#DejaVuSans-53\"/>\r\n      </g>\r\n     </g>\r\n    </g>\r\n    <g id=\"xtick_3\">\r\n     <g id=\"line2d_3\">\r\n      <g>\r\n       <use style=\"stroke:#000000;stroke-width:0.8;\" x=\"108.465\" xlink:href=\"#m0fa081f2d1\" y=\"224.64\"/>\r\n      </g>\r\n     </g>\r\n     <g id=\"text_3\">\r\n      <!-- 10 -->\r\n      <defs>\r\n       <path d=\"M 12.40625 8.296875 \r\nL 28.515625 8.296875 \r\nL 28.515625 63.921875 \r\nL 10.984375 60.40625 \r\nL 10.984375 69.390625 \r\nL 28.421875 72.90625 \r\nL 38.28125 72.90625 \r\nL 38.28125 8.296875 \r\nL 54.390625 8.296875 \r\nL 54.390625 0 \r\nL 12.40625 0 \r\nz\r\n\" id=\"DejaVuSans-49\"/>\r\n      </defs>\r\n      <g transform=\"translate(102.1025 239.238437)scale(0.1 -0.1)\">\r\n       <use xlink:href=\"#DejaVuSans-49\"/>\r\n       <use x=\"63.623047\" xlink:href=\"#DejaVuSans-48\"/>\r\n      </g>\r\n     </g>\r\n    </g>\r\n    <g id=\"xtick_4\">\r\n     <g id=\"line2d_4\">\r\n      <g>\r\n       <use style=\"stroke:#000000;stroke-width:0.8;\" x=\"147.293571\" xlink:href=\"#m0fa081f2d1\" y=\"224.64\"/>\r\n      </g>\r\n     </g>\r\n     <g id=\"text_4\">\r\n      <!-- 15 -->\r\n      <g transform=\"translate(140.931071 239.238437)scale(0.1 -0.1)\">\r\n       <use xlink:href=\"#DejaVuSans-49\"/>\r\n       <use x=\"63.623047\" xlink:href=\"#DejaVuSans-53\"/>\r\n      </g>\r\n     </g>\r\n    </g>\r\n    <g id=\"xtick_5\">\r\n     <g id=\"line2d_5\">\r\n      <g>\r\n       <use style=\"stroke:#000000;stroke-width:0.8;\" x=\"186.122143\" xlink:href=\"#m0fa081f2d1\" y=\"224.64\"/>\r\n      </g>\r\n     </g>\r\n     <g id=\"text_5\">\r\n      <!-- 20 -->\r\n      <defs>\r\n       <path d=\"M 19.1875 8.296875 \r\nL 53.609375 8.296875 \r\nL 53.609375 0 \r\nL 7.328125 0 \r\nL 7.328125 8.296875 \r\nQ 12.9375 14.109375 22.625 23.890625 \r\nQ 32.328125 33.6875 34.8125 36.53125 \r\nQ 39.546875 41.84375 41.421875 45.53125 \r\nQ 43.3125 49.21875 43.3125 52.78125 \r\nQ 43.3125 58.59375 39.234375 62.25 \r\nQ 35.15625 65.921875 28.609375 65.921875 \r\nQ 23.96875 65.921875 18.8125 64.3125 \r\nQ 13.671875 62.703125 7.8125 59.421875 \r\nL 7.8125 69.390625 \r\nQ 13.765625 71.78125 18.9375 73 \r\nQ 24.125 74.21875 28.421875 74.21875 \r\nQ 39.75 74.21875 46.484375 68.546875 \r\nQ 53.21875 62.890625 53.21875 53.421875 \r\nQ 53.21875 48.921875 51.53125 44.890625 \r\nQ 49.859375 40.875 45.40625 35.40625 \r\nQ 44.1875 33.984375 37.640625 27.21875 \r\nQ 31.109375 20.453125 19.1875 8.296875 \r\nz\r\n\" id=\"DejaVuSans-50\"/>\r\n      </defs>\r\n      <g transform=\"translate(179.759643 239.238437)scale(0.1 -0.1)\">\r\n       <use xlink:href=\"#DejaVuSans-50\"/>\r\n       <use x=\"63.623047\" xlink:href=\"#DejaVuSans-48\"/>\r\n      </g>\r\n     </g>\r\n    </g>\r\n    <g id=\"xtick_6\">\r\n     <g id=\"line2d_6\">\r\n      <g>\r\n       <use style=\"stroke:#000000;stroke-width:0.8;\" x=\"224.950714\" xlink:href=\"#m0fa081f2d1\" y=\"224.64\"/>\r\n      </g>\r\n     </g>\r\n     <g id=\"text_6\">\r\n      <!-- 25 -->\r\n      <g transform=\"translate(218.588214 239.238437)scale(0.1 -0.1)\">\r\n       <use xlink:href=\"#DejaVuSans-50\"/>\r\n       <use x=\"63.623047\" xlink:href=\"#DejaVuSans-53\"/>\r\n      </g>\r\n     </g>\r\n    </g>\r\n   </g>\r\n   <g id=\"matplotlib.axis_2\">\r\n    <g id=\"ytick_1\">\r\n     <g id=\"line2d_7\">\r\n      <defs>\r\n       <path d=\"M 0 0 \r\nL -3.5 0 \r\n\" id=\"m72b4ff0a8e\" style=\"stroke:#000000;stroke-width:0.8;\"/>\r\n      </defs>\r\n      <g>\r\n       <use style=\"stroke:#000000;stroke-width:0.8;\" x=\"26.925\" xlink:href=\"#m72b4ff0a8e\" y=\"11.082857\"/>\r\n      </g>\r\n     </g>\r\n     <g id=\"text_7\">\r\n      <!-- 0 -->\r\n      <g transform=\"translate(13.5625 14.882076)scale(0.1 -0.1)\">\r\n       <use xlink:href=\"#DejaVuSans-48\"/>\r\n      </g>\r\n     </g>\r\n    </g>\r\n    <g id=\"ytick_2\">\r\n     <g id=\"line2d_8\">\r\n      <g>\r\n       <use style=\"stroke:#000000;stroke-width:0.8;\" x=\"26.925\" xlink:href=\"#m72b4ff0a8e\" y=\"49.911429\"/>\r\n      </g>\r\n     </g>\r\n     <g id=\"text_8\">\r\n      <!-- 5 -->\r\n      <g transform=\"translate(13.5625 53.710647)scale(0.1 -0.1)\">\r\n       <use xlink:href=\"#DejaVuSans-53\"/>\r\n      </g>\r\n     </g>\r\n    </g>\r\n    <g id=\"ytick_3\">\r\n     <g id=\"line2d_9\">\r\n      <g>\r\n       <use style=\"stroke:#000000;stroke-width:0.8;\" x=\"26.925\" xlink:href=\"#m72b4ff0a8e\" y=\"88.74\"/>\r\n      </g>\r\n     </g>\r\n     <g id=\"text_9\">\r\n      <!-- 10 -->\r\n      <g transform=\"translate(7.2 92.539219)scale(0.1 -0.1)\">\r\n       <use xlink:href=\"#DejaVuSans-49\"/>\r\n       <use x=\"63.623047\" xlink:href=\"#DejaVuSans-48\"/>\r\n      </g>\r\n     </g>\r\n    </g>\r\n    <g id=\"ytick_4\">\r\n     <g id=\"line2d_10\">\r\n      <g>\r\n       <use style=\"stroke:#000000;stroke-width:0.8;\" x=\"26.925\" xlink:href=\"#m72b4ff0a8e\" y=\"127.568571\"/>\r\n      </g>\r\n     </g>\r\n     <g id=\"text_10\">\r\n      <!-- 15 -->\r\n      <g transform=\"translate(7.2 131.36779)scale(0.1 -0.1)\">\r\n       <use xlink:href=\"#DejaVuSans-49\"/>\r\n       <use x=\"63.623047\" xlink:href=\"#DejaVuSans-53\"/>\r\n      </g>\r\n     </g>\r\n    </g>\r\n    <g id=\"ytick_5\">\r\n     <g id=\"line2d_11\">\r\n      <g>\r\n       <use style=\"stroke:#000000;stroke-width:0.8;\" x=\"26.925\" xlink:href=\"#m72b4ff0a8e\" y=\"166.397143\"/>\r\n      </g>\r\n     </g>\r\n     <g id=\"text_11\">\r\n      <!-- 20 -->\r\n      <g transform=\"translate(7.2 170.196362)scale(0.1 -0.1)\">\r\n       <use xlink:href=\"#DejaVuSans-50\"/>\r\n       <use x=\"63.623047\" xlink:href=\"#DejaVuSans-48\"/>\r\n      </g>\r\n     </g>\r\n    </g>\r\n    <g id=\"ytick_6\">\r\n     <g id=\"line2d_12\">\r\n      <g>\r\n       <use style=\"stroke:#000000;stroke-width:0.8;\" x=\"26.925\" xlink:href=\"#m72b4ff0a8e\" y=\"205.225714\"/>\r\n      </g>\r\n     </g>\r\n     <g id=\"text_12\">\r\n      <!-- 25 -->\r\n      <g transform=\"translate(7.2 209.024933)scale(0.1 -0.1)\">\r\n       <use xlink:href=\"#DejaVuSans-50\"/>\r\n       <use x=\"63.623047\" xlink:href=\"#DejaVuSans-53\"/>\r\n      </g>\r\n     </g>\r\n    </g>\r\n   </g>\r\n   <g id=\"patch_3\">\r\n    <path d=\"M 26.925 224.64 \r\nL 26.925 7.2 \r\n\" style=\"fill:none;stroke:#000000;stroke-linecap:square;stroke-linejoin:miter;stroke-width:0.8;\"/>\r\n   </g>\r\n   <g id=\"patch_4\">\r\n    <path d=\"M 244.365 224.64 \r\nL 244.365 7.2 \r\n\" style=\"fill:none;stroke:#000000;stroke-linecap:square;stroke-linejoin:miter;stroke-width:0.8;\"/>\r\n   </g>\r\n   <g id=\"patch_5\">\r\n    <path d=\"M 26.925 224.64 \r\nL 244.365 224.64 \r\n\" style=\"fill:none;stroke:#000000;stroke-linecap:square;stroke-linejoin:miter;stroke-width:0.8;\"/>\r\n   </g>\r\n   <g id=\"patch_6\">\r\n    <path d=\"M 26.925 7.2 \r\nL 244.365 7.2 \r\n\" style=\"fill:none;stroke:#000000;stroke-linecap:square;stroke-linejoin:miter;stroke-width:0.8;\"/>\r\n   </g>\r\n  </g>\r\n </g>\r\n <defs>\r\n  <clipPath id=\"p4dda648e35\">\r\n   <rect height=\"217.44\" width=\"217.44\" x=\"26.925\" y=\"7.2\"/>\r\n  </clipPath>\r\n </defs>\r\n</svg>\r\n",
      "text/plain": "<Figure size 432x288 with 1 Axes>"
     },
     "metadata": {
      "needs_background": "light"
     },
     "output_type": "display_data"
    }
   ],
   "source": [
    "plt.imshow(image[0].asnumpy(), 'gray')\n",
    "plt.show()"
   ]
  },
  {
   "cell_type": "markdown",
   "execution_count": null,
   "metadata": {},
   "outputs": [],
   "source": [
    "## __Defining data loaders__"
   ]
  },
  {
   "cell_type": "code",
   "execution_count": 5,
   "metadata": {},
   "outputs": [],
   "source": [
    "batch_size = 64\n",
    "train_data = gluon.data.DataLoader(train_mnist, batch_size = batch_size, shuffle = True)\n",
    "test_data = gluon.data.DataLoader(train_mnist, batch_size = batch_size, shuffle = False)"
   ]
  },
  {
   "cell_type": "markdown",
   "execution_count": null,
   "metadata": {},
   "outputs": [],
   "source": [
    "## __Defining LeNet Model Architecture__"
   ]
  },
  {
   "cell_type": "code",
   "execution_count": 6,
   "metadata": {},
   "outputs": [
    {
     "data": {
      "text/plain": "HybridSequential(\n  (0): Conv2D(None -> 6, kernel_size=(5, 5), stride=(1, 1))\n  (1): Activation(relu)\n  (2): MaxPool2D(size=(2, 2), stride=(2, 2), padding=(0, 0), ceil_mode=False, global_pool=False, pool_type=max, layout=NCHW)\n  (3): Conv2D(None -> 16, kernel_size=(5, 5), stride=(1, 1))\n  (4): Activation(relu)\n  (5): MaxPool2D(size=(2, 2), stride=(2, 2), padding=(0, 0), ceil_mode=False, global_pool=False, pool_type=max, layout=NCHW)\n  (6): Flatten\n  (7): Dense(None -> 120, Activation(relu))\n  (8): Dense(None -> 84, Activation(relu))\n  (9): Dense(None -> 10, linear)\n)"
     },
     "execution_count": 6,
     "metadata": {},
     "output_type": "execute_result"
    }
   ],
   "source": [
    "model = nn.HybridSequential()\n",
    "\n",
    "model.add(nn.Conv2D(channels = 6, kernel_size = (5, 5), strides = (1, 1)))\n",
    "model.add(nn.Activation('relu'))\n",
    "model.add(nn.MaxPool2D(pool_size = (2, 2), strides = (2, 2)))\n",
    "\n",
    "model.add(nn.Conv2D(channels = 16, kernel_size = (5, 5), strides = (1, 1)))\n",
    "model.add(nn.Activation('relu'))\n",
    "model.add(nn.MaxPool2D(pool_size = (2, 2), strides = (2, 2)))\n",
    "\n",
    "model.add(nn.Flatten())\n",
    "\n",
    "model.add(nn.Dense(120, activation = 'relu'))\n",
    "model.add(nn.Dense(84, activation = 'relu'))\n",
    "model.add(nn.Dense(10))\n",
    "\n",
    "model.initialize(mx.init.Xavier(), ctx)\n",
    "model"
   ]
  },
  {
   "cell_type": "markdown",
   "execution_count": null,
   "metadata": {},
   "outputs": [],
   "source": [
    "## __Summarizing the model__"
   ]
  },
  {
   "cell_type": "code",
   "execution_count": 7,
   "metadata": {},
   "outputs": [
    {
     "name": "stdout",
     "output_type": "stream",
     "text": "--------------------------------------------------------------------------------\n        Layer (type)                                Output Shape         Param #\n================================================================================\n               Input                              (1, 1, 28, 28)               0\n            Conv2D-1                              (1, 6, 24, 24)             156\n        Activation-2                              (1, 6, 24, 24)               0\n         MaxPool2D-3                              (1, 6, 12, 12)               0\n            Conv2D-4                               (1, 16, 8, 8)            2416\n        Activation-5                               (1, 16, 8, 8)               0\n         MaxPool2D-6                               (1, 16, 4, 4)               0\n           Flatten-7                                    (1, 256)               0\n        Activation-8                    <Symbol dense0_relu_fwd>               0\n        Activation-9                                    (1, 120)               0\n            Dense-10                                    (1, 120)           30840\n       Activation-11                    <Symbol dense1_relu_fwd>               0\n       Activation-12                                     (1, 84)               0\n            Dense-13                                     (1, 84)           10164\n            Dense-14                                     (1, 10)             850\n================================================================================\nParameters in forward computation graph, duplicate included\n   Total params: 44426\n   Trainable params: 44426\n   Non-trainable params: 0\nShared params in forward computation graph: 0\nUnique parameters in model: 44426\n--------------------------------------------------------------------------------\n"
    }
   ],
   "source": [
    "model.summary(image.expand_dims(0).as_in_context(ctx))"
   ]
  },
  {
   "cell_type": "markdown",
   "execution_count": null,
   "metadata": {},
   "outputs": [],
   "source": [
    "## __Visualizing model architecture__"
   ]
  },
  {
   "cell_type": "code",
   "execution_count": 8,
   "metadata": {},
   "outputs": [
    {
     "data": {
      "image/svg+xml": "<?xml version=\"1.0\" encoding=\"UTF-8\" standalone=\"no\"?>\r\n<!DOCTYPE svg PUBLIC \"-//W3C//DTD SVG 1.1//EN\"\r\n \"http://www.w3.org/Graphics/SVG/1.1/DTD/svg11.dtd\">\r\n<!-- Generated by graphviz version 2.38.0 (20140413.2041)\r\n -->\r\n<!-- Title: plot Pages: 1 -->\r\n<svg width=\"102pt\" height=\"1194pt\"\r\n viewBox=\"0.00 0.00 102.00 1194.00\" xmlns=\"http://www.w3.org/2000/svg\" xmlns:xlink=\"http://www.w3.org/1999/xlink\">\r\n<g id=\"graph0\" class=\"graph\" transform=\"scale(1 1) rotate(0) translate(4 1190)\">\r\n<title>plot</title>\r\n<polygon fill=\"white\" stroke=\"none\" points=\"-4,4 -4,-1190 98,-1190 98,4 -4,4\"/>\r\n<!-- data -->\r\n<g id=\"node1\" class=\"node\"><title>data</title>\r\n<ellipse fill=\"#8dd3c7\" stroke=\"black\" cx=\"47\" cy=\"-29\" rx=\"47\" ry=\"29\"/>\r\n<text text-anchor=\"middle\" x=\"47\" y=\"-25.3\" font-family=\"Times New Roman,serif\" font-size=\"14.00\">data</text>\r\n</g>\r\n<!-- conv0_fwd -->\r\n<g id=\"node2\" class=\"node\"><title>conv0_fwd</title>\r\n<polygon fill=\"#fb8072\" stroke=\"black\" points=\"94,-152 -7.10543e-015,-152 -7.10543e-015,-94 94,-94 94,-152\"/>\r\n<text text-anchor=\"middle\" x=\"47\" y=\"-126.8\" font-family=\"Times New Roman,serif\" font-size=\"14.00\">Convolution</text>\r\n<text text-anchor=\"middle\" x=\"47\" y=\"-111.8\" font-family=\"Times New Roman,serif\" font-size=\"14.00\">5x5/1x1, 6</text>\r\n</g>\r\n<!-- conv0_fwd&#45;&gt;data -->\r\n<g id=\"edge1\" class=\"edge\"><title>conv0_fwd&#45;&gt;data</title>\r\n<path fill=\"none\" stroke=\"black\" d=\"M47,-83.7443C47,-75.2043 47,-66.2977 47,-58.2479\"/>\r\n<polygon fill=\"black\" stroke=\"black\" points=\"47,-93.8971 42.5001,-83.897 47,-88.8971 47.0001,-83.8971 47.0001,-83.8971 47.0001,-83.8971 47,-88.8971 51.5001,-83.8971 47,-93.8971 47,-93.8971\"/>\r\n</g>\r\n<!-- relu0_fwd -->\r\n<g id=\"node3\" class=\"node\"><title>relu0_fwd</title>\r\n<polygon fill=\"#ffffb3\" stroke=\"black\" points=\"94,-246 -7.10543e-015,-246 -7.10543e-015,-188 94,-188 94,-246\"/>\r\n<text text-anchor=\"middle\" x=\"47\" y=\"-220.8\" font-family=\"Times New Roman,serif\" font-size=\"14.00\">Activation</text>\r\n<text text-anchor=\"middle\" x=\"47\" y=\"-205.8\" font-family=\"Times New Roman,serif\" font-size=\"14.00\">relu</text>\r\n</g>\r\n<!-- relu0_fwd&#45;&gt;conv0_fwd -->\r\n<g id=\"edge2\" class=\"edge\"><title>relu0_fwd&#45;&gt;conv0_fwd</title>\r\n<path fill=\"none\" stroke=\"black\" d=\"M47,-177.744C47,-169.204 47,-160.298 47,-152.248\"/>\r\n<polygon fill=\"black\" stroke=\"black\" points=\"47,-187.897 42.5001,-177.897 47,-182.897 47.0001,-177.897 47.0001,-177.897 47.0001,-177.897 47,-182.897 51.5001,-177.897 47,-187.897 47,-187.897\"/>\r\n</g>\r\n<!-- pool0_fwd -->\r\n<g id=\"node4\" class=\"node\"><title>pool0_fwd</title>\r\n<polygon fill=\"#80b1d3\" stroke=\"black\" points=\"94,-340 -7.10543e-015,-340 -7.10543e-015,-282 94,-282 94,-340\"/>\r\n<text text-anchor=\"middle\" x=\"47\" y=\"-314.8\" font-family=\"Times New Roman,serif\" font-size=\"14.00\">Pooling</text>\r\n<text text-anchor=\"middle\" x=\"47\" y=\"-299.8\" font-family=\"Times New Roman,serif\" font-size=\"14.00\">max, 2x2/2x2</text>\r\n</g>\r\n<!-- pool0_fwd&#45;&gt;relu0_fwd -->\r\n<g id=\"edge3\" class=\"edge\"><title>pool0_fwd&#45;&gt;relu0_fwd</title>\r\n<path fill=\"none\" stroke=\"black\" d=\"M47,-271.744C47,-263.204 47,-254.298 47,-246.248\"/>\r\n<polygon fill=\"black\" stroke=\"black\" points=\"47,-281.897 42.5001,-271.897 47,-276.897 47.0001,-271.897 47.0001,-271.897 47.0001,-271.897 47,-276.897 51.5001,-271.897 47,-281.897 47,-281.897\"/>\r\n</g>\r\n<!-- conv1_fwd -->\r\n<g id=\"node5\" class=\"node\"><title>conv1_fwd</title>\r\n<polygon fill=\"#fb8072\" stroke=\"black\" points=\"94,-434 -7.10543e-015,-434 -7.10543e-015,-376 94,-376 94,-434\"/>\r\n<text text-anchor=\"middle\" x=\"47\" y=\"-408.8\" font-family=\"Times New Roman,serif\" font-size=\"14.00\">Convolution</text>\r\n<text text-anchor=\"middle\" x=\"47\" y=\"-393.8\" font-family=\"Times New Roman,serif\" font-size=\"14.00\">5x5/1x1, 16</text>\r\n</g>\r\n<!-- conv1_fwd&#45;&gt;pool0_fwd -->\r\n<g id=\"edge4\" class=\"edge\"><title>conv1_fwd&#45;&gt;pool0_fwd</title>\r\n<path fill=\"none\" stroke=\"black\" d=\"M47,-365.744C47,-357.204 47,-348.298 47,-340.248\"/>\r\n<polygon fill=\"black\" stroke=\"black\" points=\"47,-375.897 42.5001,-365.897 47,-370.897 47.0001,-365.897 47.0001,-365.897 47.0001,-365.897 47,-370.897 51.5001,-365.897 47,-375.897 47,-375.897\"/>\r\n</g>\r\n<!-- relu1_fwd -->\r\n<g id=\"node6\" class=\"node\"><title>relu1_fwd</title>\r\n<polygon fill=\"#ffffb3\" stroke=\"black\" points=\"94,-528 -7.10543e-015,-528 -7.10543e-015,-470 94,-470 94,-528\"/>\r\n<text text-anchor=\"middle\" x=\"47\" y=\"-502.8\" font-family=\"Times New Roman,serif\" font-size=\"14.00\">Activation</text>\r\n<text text-anchor=\"middle\" x=\"47\" y=\"-487.8\" font-family=\"Times New Roman,serif\" font-size=\"14.00\">relu</text>\r\n</g>\r\n<!-- relu1_fwd&#45;&gt;conv1_fwd -->\r\n<g id=\"edge5\" class=\"edge\"><title>relu1_fwd&#45;&gt;conv1_fwd</title>\r\n<path fill=\"none\" stroke=\"black\" d=\"M47,-459.744C47,-451.204 47,-442.298 47,-434.248\"/>\r\n<polygon fill=\"black\" stroke=\"black\" points=\"47,-469.897 42.5001,-459.897 47,-464.897 47.0001,-459.897 47.0001,-459.897 47.0001,-459.897 47,-464.897 51.5001,-459.897 47,-469.897 47,-469.897\"/>\r\n</g>\r\n<!-- pool1_fwd -->\r\n<g id=\"node7\" class=\"node\"><title>pool1_fwd</title>\r\n<polygon fill=\"#80b1d3\" stroke=\"black\" points=\"94,-622 -7.10543e-015,-622 -7.10543e-015,-564 94,-564 94,-622\"/>\r\n<text text-anchor=\"middle\" x=\"47\" y=\"-596.8\" font-family=\"Times New Roman,serif\" font-size=\"14.00\">Pooling</text>\r\n<text text-anchor=\"middle\" x=\"47\" y=\"-581.8\" font-family=\"Times New Roman,serif\" font-size=\"14.00\">max, 2x2/2x2</text>\r\n</g>\r\n<!-- pool1_fwd&#45;&gt;relu1_fwd -->\r\n<g id=\"edge6\" class=\"edge\"><title>pool1_fwd&#45;&gt;relu1_fwd</title>\r\n<path fill=\"none\" stroke=\"black\" d=\"M47,-553.744C47,-545.204 47,-536.298 47,-528.248\"/>\r\n<polygon fill=\"black\" stroke=\"black\" points=\"47,-563.897 42.5001,-553.897 47,-558.897 47.0001,-553.897 47.0001,-553.897 47.0001,-553.897 47,-558.897 51.5001,-553.897 47,-563.897 47,-563.897\"/>\r\n</g>\r\n<!-- flatten0_flatten0 -->\r\n<g id=\"node8\" class=\"node\"><title>flatten0_flatten0</title>\r\n<polygon fill=\"#fdb462\" stroke=\"black\" points=\"94,-716 -7.10543e-015,-716 -7.10543e-015,-658 94,-658 94,-716\"/>\r\n<text text-anchor=\"middle\" x=\"47\" y=\"-683.3\" font-family=\"Times New Roman,serif\" font-size=\"14.00\">flatten0_flatten0</text>\r\n</g>\r\n<!-- flatten0_flatten0&#45;&gt;pool1_fwd -->\r\n<g id=\"edge7\" class=\"edge\"><title>flatten0_flatten0&#45;&gt;pool1_fwd</title>\r\n<path fill=\"none\" stroke=\"black\" d=\"M47,-647.744C47,-639.204 47,-630.298 47,-622.248\"/>\r\n<polygon fill=\"black\" stroke=\"black\" points=\"47,-657.897 42.5001,-647.897 47,-652.897 47.0001,-647.897 47.0001,-647.897 47.0001,-647.897 47,-652.897 51.5001,-647.897 47,-657.897 47,-657.897\"/>\r\n</g>\r\n<!-- dense0_fwd -->\r\n<g id=\"node9\" class=\"node\"><title>dense0_fwd</title>\r\n<polygon fill=\"#fb8072\" stroke=\"black\" points=\"94,-810 -7.10543e-015,-810 -7.10543e-015,-752 94,-752 94,-810\"/>\r\n<text text-anchor=\"middle\" x=\"47\" y=\"-784.8\" font-family=\"Times New Roman,serif\" font-size=\"14.00\">FullyConnected</text>\r\n<text text-anchor=\"middle\" x=\"47\" y=\"-769.8\" font-family=\"Times New Roman,serif\" font-size=\"14.00\">120</text>\r\n</g>\r\n<!-- dense0_fwd&#45;&gt;flatten0_flatten0 -->\r\n<g id=\"edge8\" class=\"edge\"><title>dense0_fwd&#45;&gt;flatten0_flatten0</title>\r\n<path fill=\"none\" stroke=\"black\" d=\"M47,-741.744C47,-733.204 47,-724.298 47,-716.248\"/>\r\n<polygon fill=\"black\" stroke=\"black\" points=\"47,-751.897 42.5001,-741.897 47,-746.897 47.0001,-741.897 47.0001,-741.897 47.0001,-741.897 47,-746.897 51.5001,-741.897 47,-751.897 47,-751.897\"/>\r\n</g>\r\n<!-- dense0_relu_fwd -->\r\n<g id=\"node10\" class=\"node\"><title>dense0_relu_fwd</title>\r\n<polygon fill=\"#ffffb3\" stroke=\"black\" points=\"94,-904 -7.10543e-015,-904 -7.10543e-015,-846 94,-846 94,-904\"/>\r\n<text text-anchor=\"middle\" x=\"47\" y=\"-878.8\" font-family=\"Times New Roman,serif\" font-size=\"14.00\">Activation</text>\r\n<text text-anchor=\"middle\" x=\"47\" y=\"-863.8\" font-family=\"Times New Roman,serif\" font-size=\"14.00\">relu</text>\r\n</g>\r\n<!-- dense0_relu_fwd&#45;&gt;dense0_fwd -->\r\n<g id=\"edge9\" class=\"edge\"><title>dense0_relu_fwd&#45;&gt;dense0_fwd</title>\r\n<path fill=\"none\" stroke=\"black\" d=\"M47,-835.744C47,-827.204 47,-818.298 47,-810.248\"/>\r\n<polygon fill=\"black\" stroke=\"black\" points=\"47,-845.897 42.5001,-835.897 47,-840.897 47.0001,-835.897 47.0001,-835.897 47.0001,-835.897 47,-840.897 51.5001,-835.897 47,-845.897 47,-845.897\"/>\r\n</g>\r\n<!-- dense1_fwd -->\r\n<g id=\"node11\" class=\"node\"><title>dense1_fwd</title>\r\n<polygon fill=\"#fb8072\" stroke=\"black\" points=\"94,-998 -7.10543e-015,-998 -7.10543e-015,-940 94,-940 94,-998\"/>\r\n<text text-anchor=\"middle\" x=\"47\" y=\"-972.8\" font-family=\"Times New Roman,serif\" font-size=\"14.00\">FullyConnected</text>\r\n<text text-anchor=\"middle\" x=\"47\" y=\"-957.8\" font-family=\"Times New Roman,serif\" font-size=\"14.00\">84</text>\r\n</g>\r\n<!-- dense1_fwd&#45;&gt;dense0_relu_fwd -->\r\n<g id=\"edge10\" class=\"edge\"><title>dense1_fwd&#45;&gt;dense0_relu_fwd</title>\r\n<path fill=\"none\" stroke=\"black\" d=\"M47,-929.744C47,-921.204 47,-912.298 47,-904.248\"/>\r\n<polygon fill=\"black\" stroke=\"black\" points=\"47,-939.897 42.5001,-929.897 47,-934.897 47.0001,-929.897 47.0001,-929.897 47.0001,-929.897 47,-934.897 51.5001,-929.897 47,-939.897 47,-939.897\"/>\r\n</g>\r\n<!-- dense1_relu_fwd -->\r\n<g id=\"node12\" class=\"node\"><title>dense1_relu_fwd</title>\r\n<polygon fill=\"#ffffb3\" stroke=\"black\" points=\"94,-1092 -7.10543e-015,-1092 -7.10543e-015,-1034 94,-1034 94,-1092\"/>\r\n<text text-anchor=\"middle\" x=\"47\" y=\"-1066.8\" font-family=\"Times New Roman,serif\" font-size=\"14.00\">Activation</text>\r\n<text text-anchor=\"middle\" x=\"47\" y=\"-1051.8\" font-family=\"Times New Roman,serif\" font-size=\"14.00\">relu</text>\r\n</g>\r\n<!-- dense1_relu_fwd&#45;&gt;dense1_fwd -->\r\n<g id=\"edge11\" class=\"edge\"><title>dense1_relu_fwd&#45;&gt;dense1_fwd</title>\r\n<path fill=\"none\" stroke=\"black\" d=\"M47,-1023.74C47,-1015.2 47,-1006.3 47,-998.248\"/>\r\n<polygon fill=\"black\" stroke=\"black\" points=\"47,-1033.9 42.5001,-1023.9 47,-1028.9 47.0001,-1023.9 47.0001,-1023.9 47.0001,-1023.9 47,-1028.9 51.5001,-1023.9 47,-1033.9 47,-1033.9\"/>\r\n</g>\r\n<!-- dense2_fwd -->\r\n<g id=\"node13\" class=\"node\"><title>dense2_fwd</title>\r\n<polygon fill=\"#fb8072\" stroke=\"black\" points=\"94,-1186 -7.10543e-015,-1186 -7.10543e-015,-1128 94,-1128 94,-1186\"/>\r\n<text text-anchor=\"middle\" x=\"47\" y=\"-1160.8\" font-family=\"Times New Roman,serif\" font-size=\"14.00\">FullyConnected</text>\r\n<text text-anchor=\"middle\" x=\"47\" y=\"-1145.8\" font-family=\"Times New Roman,serif\" font-size=\"14.00\">10</text>\r\n</g>\r\n<!-- dense2_fwd&#45;&gt;dense1_relu_fwd -->\r\n<g id=\"edge12\" class=\"edge\"><title>dense2_fwd&#45;&gt;dense1_relu_fwd</title>\r\n<path fill=\"none\" stroke=\"black\" d=\"M47,-1117.74C47,-1109.2 47,-1100.3 47,-1092.25\"/>\r\n<polygon fill=\"black\" stroke=\"black\" points=\"47,-1127.9 42.5001,-1117.9 47,-1122.9 47.0001,-1117.9 47.0001,-1117.9 47.0001,-1117.9 47,-1122.9 51.5001,-1117.9 47,-1127.9 47,-1127.9\"/>\r\n</g>\r\n</g>\r\n</svg>\r\n",
      "text/plain": "<graphviz.dot.Digraph at 0x24745199888>"
     },
     "execution_count": 8,
     "metadata": {},
     "output_type": "execute_result"
    }
   ],
   "source": [
    "mx.viz.plot_network(model(mx.sym.var(name = 'data', shape = (1, 1, 28, 28))))"
   ]
  },
  {
   "cell_type": "markdown",
   "execution_count": null,
   "metadata": {},
   "outputs": [],
   "source": [
    "By hybridizing the model becomes almost 1.5x fast, as it converts dynamically defined model in to static graph. Its a really cool feature that MXNet provides"
   ]
  },
  {
   "cell_type": "code",
   "execution_count": 9,
   "metadata": {},
   "outputs": [],
   "source": [
    "model.hybridize()"
   ]
  },
  {
   "cell_type": "markdown",
   "execution_count": null,
   "metadata": {},
   "outputs": [],
   "source": [
    "## __Defining our objective loss and optimizer__"
   ]
  },
  {
   "cell_type": "code",
   "execution_count": 10,
   "metadata": {},
   "outputs": [],
   "source": [
    "objective = gluon.loss.SoftmaxCrossEntropyLoss()\n",
    "trainer = gluon.Trainer(model.collect_params(), 'adam', {'learning_rate': 0.001})"
   ]
  },
  {
   "cell_type": "markdown",
   "execution_count": null,
   "metadata": {},
   "outputs": [],
   "source": [
    "## __Training the model__"
   ]
  },
  {
   "cell_type": "code",
   "execution_count": 11,
   "metadata": {},
   "outputs": [
    {
     "name": "stdout",
     "output_type": "stream",
     "text": "Epoch: 1 | Loss: 0.24294 | Training Accuracy: 0.9255833333333333\nEpoch: 2 | Loss: 0.07405 | Training Accuracy: 0.9771333333333333\nEpoch: 3 | Loss: 0.05438 | Training Accuracy: 0.9833833333333334\nEpoch: 4 | Loss: 0.04245 | Training Accuracy: 0.98715\nEpoch: 5 | Loss: 0.03503 | Training Accuracy: 0.9891333333333333\nEpoch: 6 | Loss: 0.02961 | Training Accuracy: 0.99065\nEpoch: 7 | Loss: 0.02475 | Training Accuracy: 0.9921833333333333\nEpoch: 8 | Loss: 0.02240 | Training Accuracy: 0.9926666666666667\nEpoch: 9 | Loss: 0.01961 | Training Accuracy: 0.9935333333333334\nEpoch: 10 | Loss: 0.01611 | Training Accuracy: 0.9946333333333334\n"
    }
   ],
   "source": [
    "epochs = 10\n",
    "batches = len(train_data)\n",
    "acc = mx.metric.Accuracy()\n",
    "\n",
    "for epoch in range(epochs):\n",
    "    acc.reset()\n",
    "    cum_loss = 0.0\n",
    "    for features, labels in train_data:\n",
    "        features = features.as_in_context(ctx)\n",
    "        labels = labels.as_in_context(ctx)\n",
    "\n",
    "        with autograd.record():\n",
    "            outputs = model(features)\n",
    "            loss = objective(outputs, labels)\n",
    "        loss.backward()\n",
    "        trainer.step(batch_size)\n",
    "\n",
    "        cum_loss += loss.mean()\n",
    "        acc.update(labels, outputs)\n",
    "    \n",
    "    print(f'Epoch: {epoch + 1} | Loss: {cum_loss.asscalar()/batches:.5f} | Training Accuracy: {acc.get()[1]}')"
   ]
  },
  {
   "cell_type": "markdown",
   "execution_count": null,
   "metadata": {},
   "outputs": [],
   "source": [
    "## __Testing the model__"
   ]
  },
  {
   "cell_type": "code",
   "execution_count": 12,
   "metadata": {},
   "outputs": [
    {
     "data": {
      "text/plain": "('accuracy', 0.9966333333333334)"
     },
     "execution_count": 12,
     "metadata": {},
     "output_type": "execute_result"
    }
   ],
   "source": [
    "acc.reset()\n",
    "for features, labels in test_data:\n",
    "    features = features.as_in_context(ctx)\n",
    "    labels = labels.as_in_context(ctx)\n",
    "    outputs = model(features)\n",
    "    acc.update(labels, outputs)\n",
    "acc.get()"
   ]
  }
 ]
}