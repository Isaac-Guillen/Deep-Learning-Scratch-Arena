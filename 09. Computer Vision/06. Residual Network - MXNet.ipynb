{
  "nbformat": 4,
  "nbformat_minor": 0,
  "metadata": {
    "colab": {
      "name": "Residual Network - MXNet.ipynb",
      "provenance": [],
      "collapsed_sections": []
    },
    "kernelspec": {
      "name": "python3",
      "display_name": "Python 3"
    },
    "accelerator": "GPU"
  },
  "cells": [
    {
      "cell_type": "markdown",
      "metadata": {
        "colab_type": "text",
        "id": "HO-7HJPVHXCH"
      },
      "source": [
        "# __Residual Netwokr - MXNet__"
      ]
    },
    {
      "cell_type": "code",
      "execution_count": 0,
      "metadata": {
        "colab": {},
        "colab_type": "code",
        "id": "t0sXvPG-ytVs"
      },
      "outputs": [],
      "source": [
        "import mxnet as mx\n",
        "from mxnet import nd, autograd, gluon\n",
        "from mxnet.gluon import nn\n",
        "import matplotlib.pyplot as plt\n",
        "\n",
        "ctx = mx.gpu()"
      ]
    },
    {
      "cell_type": "markdown",
      "metadata": {
        "colab_type": "text",
        "id": "Wt-gqScHHfou"
      },
      "source": [
        "## __Getting the dataset__"
      ]
    },
    {
      "cell_type": "code",
      "execution_count": 3,
      "metadata": {
        "colab": {
          "base_uri": "https://localhost:8080/",
          "height": 54
        },
        "colab_type": "code",
        "id": "FMnHwtmKyvo0",
        "outputId": "32485eb6-a7cc-4f5c-e160-051e3a7cabf4"
      },
      "outputs": [
        {
          "name": "stdout",
          "output_type": "stream",
          "text": [
            "Downloading /root/.mxnet/datasets/cifar10/cifar-10-binary.tar.gz from https://apache-mxnet.s3-accelerate.dualstack.amazonaws.com/gluon/dataset/cifar10/cifar-10-binary.tar.gz...\n"
          ]
        }
      ],
      "source": [
        "transform = gluon.data.vision.transforms.ToTensor()\n",
        "\n",
        "train_mnist = gluon.data.vision.CIFAR10(train = True).transform_first(transform)\n",
        "test_mnist = gluon.data.vision.CIFAR10(train = False).transform_first(transform)"
      ]
    },
    {
      "cell_type": "code",
      "execution_count": 4,
      "metadata": {
        "colab": {
          "base_uri": "https://localhost:8080/",
          "height": 50
        },
        "colab_type": "code",
        "id": "fru8__gRywil",
        "outputId": "bfe698ed-e253-4780-9ffe-f55192b38db8"
      },
      "outputs": [
        {
          "name": "stdout",
          "output_type": "stream",
          "text": [
            "(3, 32, 32)\n",
            "9\n"
          ]
        }
      ],
      "source": [
        "image, label = train_mnist[1]\n",
        "print(image.shape)\n",
        "print(label)"
      ]
    },
    {
      "cell_type": "code",
      "execution_count": 5,
      "metadata": {
        "colab": {
          "base_uri": "https://localhost:8080/",
          "height": 266
        },
        "colab_type": "code",
        "id": "GOFMgaltywsT",
        "outputId": "76b7c19b-d00f-4cab-8985-3983801f0e84"
      },
      "outputs": [
        {
          "data": {
            "image/png": "[encoded data removed]",
            "text/plain": [
              "<Figure size 432x288 with 1 Axes>"
            ]
          },
          "metadata": {
            "tags": []
          },
          "output_type": "display_data"
        }
      ],
      "source": [
        "plt.imshow(image.transpose((1, 2, 0)).asnumpy())\n",
        "plt.show()"
      ]
    },
    {
      "cell_type": "markdown",
      "metadata": {
        "colab_type": "text",
        "id": "rcZT9dvzHjLK"
      },
      "source": [
        "## __Defining data loaders__"
      ]
    },
    {
      "cell_type": "code",
      "execution_count": 0,
      "metadata": {
        "colab": {},
        "colab_type": "code",
        "id": "68qO-LTnywvY"
      },
      "outputs": [],
      "source": [
        "batch_size = 64\n",
        "train_data = gluon.data.DataLoader(train_mnist, batch_size = batch_size, shuffle = True)\n",
        "test_data = gluon.data.DataLoader(train_mnist, batch_size = batch_size, shuffle = False)"
      ]
    },
    {
      "cell_type": "markdown",
      "metadata": {
        "colab_type": "text",
        "id": "6PHbpC6nHmLs"
      },
      "source": [
        "## __Defining Residual Network Model Architecture__ "
      ]
    },
    {
      "cell_type": "markdown",
      "metadata": {
        "colab_type": "text",
        "id": "CDyCqHMIHq-R"
      },
      "source": [
        "### First we will define single residual connection block"
      ]
    },
    {
      "cell_type": "code",
      "execution_count": 0,
      "metadata": {
        "colab": {},
        "colab_type": "code",
        "id": "SKImYbq3ywxu"
      },
      "outputs": [],
      "source": [
        "class residualblock(nn.HybridBlock):\n",
        "    def __init__(self, channels, strides):\n",
        "        super(residualblock, self).__init__()\n",
        "        \n",
        "        self.conv1 = nn.HybridSequential()\n",
        "        self.conv1.add(nn.Conv2D(channels, kernel_size = 3, padding = 1, strides = strides))\n",
        "        self.conv1.add(nn.BatchNorm())\n",
        "\n",
        "        self.conv2 = nn.HybridSequential()\n",
        "        self.conv2.add(nn.Conv2D(channels, kernel_size = 3, padding = 1))\n",
        "        self.conv2.add(nn.BatchNorm())\n",
        "\n",
        "        self.residual = nn.Conv2D(channels, kernel_size = 1, strides = strides)\n",
        "        # doing network in network convolution(1X1) above for residual connection\n",
        "\n",
        "        self.activation = nn.Activation('relu')\n",
        "\n",
        "    def hybrid_forward(self, F, x):\n",
        "        layer = self.activation(self.conv1(x))\n",
        "        layer = self.conv2(layer)\n",
        "        residual = self.residual(x)\n",
        "        return self.activation(layer + residual)"
      ]
    },
    {
      "cell_type": "markdown",
      "metadata": {
        "colab_type": "text",
        "id": "SYhagDrdHwoU"
      },
      "source": [
        "### Visualizing single block of residual block"
      ]
    },
    {
      "cell_type": "code",
      "execution_count": 16,
      "metadata": {
        "colab": {
          "base_uri": "https://localhost:8080/",
          "height": 538
        },
        "colab_type": "code",
        "id": "Jevnp5cKywqc",
        "outputId": "21690384-1cfb-4356-8305-cf5d6e4c7ed5"
      },
      "outputs": [
        {
          "name": "stderr",
          "output_type": "stream",
          "text": [
            "/usr/local/lib/python3.6/dist-packages/mxnet/visualization.py:301: RuntimeWarning: There are multiple variables with the same name in your graph, this may result in cyclic graph. Repeated names: relu2_fwd\n",
            "  warnings.warn(warning_message, RuntimeWarning)\n"
          ]
        },
        {
          "data": {
            "image/svg+xml": "<?xml version=\"1.0\" encoding=\"UTF-8\" standalone=\"no\"?>\n<!DOCTYPE svg PUBLIC \"-//W3C//DTD SVG 1.1//EN\"\n \"http://www.w3.org/Graphics/SVG/1.1/DTD/svg11.dtd\">\n<!-- Generated by graphviz version 2.40.1 (20161225.0304)\n -->\n<!-- Title: plot Pages: 1 -->\n<svg width=\"380pt\" height=\"348pt\"\n viewBox=\"0.00 0.00 380.00 348.00\" xmlns=\"http://www.w3.org/2000/svg\" xmlns:xlink=\"http://www.w3.org/1999/xlink\">\n<g id=\"graph0\" class=\"graph\" transform=\"scale(1 1) rotate(0) translate(4 344)\">\n<title>plot</title>\n<polygon fill=\"#ffffff\" stroke=\"transparent\" points=\"-4,4 -4,-344 376,-344 376,4 -4,4\"/>\n<!-- data -->\n<g id=\"node1\" class=\"node\">\n<title>data</title>\n<ellipse fill=\"#8dd3c7\" stroke=\"#000000\" cx=\"103\" cy=\"-29\" rx=\"47\" ry=\"29\"/>\n<text text-anchor=\"middle\" x=\"103\" y=\"-25.3\" font-family=\"Times,serif\" font-size=\"14.00\" fill=\"#000000\">data</text>\n</g>\n<!-- conv7_fwd -->\n<g id=\"node2\" class=\"node\">\n<title>conv7_fwd</title>\n<polygon fill=\"#fb8072\" stroke=\"#000000\" points=\"94,-152 0,-152 0,-94 94,-94 94,-152\"/>\n<text text-anchor=\"middle\" x=\"47\" y=\"-126.8\" font-family=\"Times,serif\" font-size=\"14.00\" fill=\"#000000\">Convolution</text>\n<text text-anchor=\"middle\" x=\"47\" y=\"-111.8\" font-family=\"Times,serif\" font-size=\"14.00\" fill=\"#000000\">3x3/1x1, 32</text>\n</g>\n<!-- conv7_fwd&#45;&gt;data -->\n<g id=\"edge1\" class=\"edge\">\n<title>conv7_fwd&#45;&gt;data</title>\n<path fill=\"none\" stroke=\"#000000\" d=\"M69.5712,-85.1126C75.3182,-75.4659 81.3825,-65.2865 86.7449,-56.2854\"/>\n<polygon fill=\"#000000\" stroke=\"#000000\" points=\"64.4118,-93.7731 65.6639,-82.8789 66.9708,-89.4776 69.5299,-85.1821 69.5299,-85.1821 69.5299,-85.1821 66.9708,-89.4776 73.3958,-87.4852 64.4118,-93.7731 64.4118,-93.7731\"/>\n</g>\n<!-- batchnorm5_fwd -->\n<g id=\"node3\" class=\"node\">\n<title>batchnorm5_fwd</title>\n<polygon fill=\"#bebada\" stroke=\"#000000\" points=\"123,-246 7,-246 7,-188 123,-188 123,-246\"/>\n<text text-anchor=\"middle\" x=\"65\" y=\"-213.3\" font-family=\"Times,serif\" font-size=\"14.00\" fill=\"#000000\">batchnorm5_fwd</text>\n</g>\n<!-- batchnorm5_fwd&#45;&gt;conv7_fwd -->\n<g id=\"edge2\" class=\"edge\">\n<title>batchnorm5_fwd&#45;&gt;conv7_fwd</title>\n<path fill=\"none\" stroke=\"#000000\" d=\"M57.5152,-177.9128C55.8678,-169.3096 54.1507,-160.3423 52.5932,-152.2088\"/>\n<polygon fill=\"#000000\" stroke=\"#000000\" points=\"59.4034,-187.7731 53.1029,-178.7979 58.463,-182.8623 57.5226,-177.9515 57.5226,-177.9515 57.5226,-177.9515 58.463,-182.8623 61.9423,-177.1052 59.4034,-187.7731 59.4034,-187.7731\"/>\n</g>\n<!-- relu2_fwd -->\n<g id=\"node4\" class=\"node\">\n<title>relu2_fwd</title>\n<polygon fill=\"#ffffb3\" stroke=\"#000000\" points=\"296,-340 202,-340 202,-282 296,-282 296,-340\"/>\n<text text-anchor=\"middle\" x=\"249\" y=\"-314.8\" font-family=\"Times,serif\" font-size=\"14.00\" fill=\"#000000\">Activation</text>\n<text text-anchor=\"middle\" x=\"249\" y=\"-299.8\" font-family=\"Times,serif\" font-size=\"14.00\" fill=\"#000000\">relu</text>\n</g>\n<!-- relu2_fwd&#45;&gt;batchnorm5_fwd -->\n<g id=\"edge3\" class=\"edge\">\n<title>relu2_fwd&#45;&gt;batchnorm5_fwd</title>\n<path fill=\"none\" stroke=\"#000000\" d=\"M192.5725,-282.1729C170.1955,-270.7412 144.4997,-257.614 122.0608,-246.1506\"/>\n<polygon fill=\"#000000\" stroke=\"#000000\" points=\"201.6154,-286.7927 190.6629,-286.2506 197.1628,-284.5179 192.7102,-282.2432 192.7102,-282.2432 192.7102,-282.2432 197.1628,-284.5179 194.7575,-278.2359 201.6154,-286.7927 201.6154,-286.7927\"/>\n</g>\n<!-- residualblock2__plus0 -->\n<g id=\"node8\" class=\"node\">\n<title>residualblock2__plus0</title>\n<polygon fill=\"#fccde5\" stroke=\"#000000\" points=\"322.5,-246 175.5,-246 175.5,-188 322.5,-188 322.5,-246\"/>\n<text text-anchor=\"middle\" x=\"249\" y=\"-213.3\" font-family=\"Times,serif\" font-size=\"14.00\" fill=\"#000000\">residualblock2__plus0</text>\n</g>\n<!-- relu2_fwd&#45;&gt;residualblock2__plus0 -->\n<g id=\"edge9\" class=\"edge\">\n<title>relu2_fwd&#45;&gt;residualblock2__plus0</title>\n<path fill=\"none\" stroke=\"#000000\" d=\"M249,-271.6321C249,-263.1148 249,-254.2539 249,-246.2088\"/>\n<polygon fill=\"#000000\" stroke=\"#000000\" points=\"249,-281.7731 244.5001,-271.773 249,-276.7731 249.0001,-271.7731 249.0001,-271.7731 249.0001,-271.7731 249,-276.7731 253.5001,-271.7731 249,-281.7731 249,-281.7731\"/>\n</g>\n<!-- conv8_fwd -->\n<g id=\"node5\" class=\"node\">\n<title>conv8_fwd</title>\n<polygon fill=\"#fb8072\" stroke=\"#000000\" points=\"372,-58 278,-58 278,0 372,0 372,-58\"/>\n<text text-anchor=\"middle\" x=\"325\" y=\"-32.8\" font-family=\"Times,serif\" font-size=\"14.00\" fill=\"#000000\">Convolution</text>\n<text text-anchor=\"middle\" x=\"325\" y=\"-17.8\" font-family=\"Times,serif\" font-size=\"14.00\" fill=\"#000000\">3x3/1x1, 32</text>\n</g>\n<!-- conv8_fwd&#45;&gt;relu2_fwd -->\n<g id=\"edge4\" class=\"edge\">\n<title>conv8_fwd&#45;&gt;relu2_fwd</title>\n<path fill=\"none\" stroke=\"#000000\" d=\"M341.8521,-67.7976C344.8173,-76.2786 347.4485,-85.3185 349,-94 360.9682,-160.9665 366.2589,-187.823 331,-246 322.3376,-260.2928 309.311,-272.7075 296.1757,-282.7479\"/>\n<polygon fill=\"#000000\" stroke=\"#000000\" points=\"338.2624,-58.1532 345.9681,-65.9554 340.0066,-62.8392 341.7507,-67.5251 341.7507,-67.5251 341.7507,-67.5251 340.0066,-62.8392 337.5334,-69.0949 338.2624,-58.1532 338.2624,-58.1532\"/>\n</g>\n<!-- batchnorm6_fwd -->\n<g id=\"node6\" class=\"node\">\n<title>batchnorm6_fwd</title>\n<polygon fill=\"#bebada\" stroke=\"#000000\" points=\"340,-152 224,-152 224,-94 340,-94 340,-152\"/>\n<text text-anchor=\"middle\" x=\"282\" y=\"-119.3\" font-family=\"Times,serif\" font-size=\"14.00\" fill=\"#000000\">batchnorm6_fwd</text>\n</g>\n<!-- batchnorm6_fwd&#45;&gt;conv8_fwd -->\n<g id=\"edge5\" class=\"edge\">\n<title>batchnorm6_fwd&#45;&gt;conv8_fwd</title>\n<path fill=\"none\" stroke=\"#000000\" d=\"M299.6239,-84.4734C303.6373,-75.6999 307.837,-66.5191 311.6385,-58.2088\"/>\n<polygon fill=\"#000000\" stroke=\"#000000\" points=\"295.3698,-93.7731 295.4375,-82.8074 297.4497,-89.2262 299.5297,-84.6794 299.5297,-84.6794 299.5297,-84.6794 297.4497,-89.2262 303.6219,-86.5513 295.3698,-93.7731 295.3698,-93.7731\"/>\n</g>\n<!-- conv9_fwd -->\n<g id=\"node7\" class=\"node\">\n<title>conv9_fwd</title>\n<polygon fill=\"#fb8072\" stroke=\"#000000\" points=\"206,-152 112,-152 112,-94 206,-94 206,-152\"/>\n<text text-anchor=\"middle\" x=\"159\" y=\"-126.8\" font-family=\"Times,serif\" font-size=\"14.00\" fill=\"#000000\">Convolution</text>\n<text text-anchor=\"middle\" x=\"159\" y=\"-111.8\" font-family=\"Times,serif\" font-size=\"14.00\" fill=\"#000000\">1x1/1x1, 32</text>\n</g>\n<!-- conv9_fwd&#45;&gt;data -->\n<g id=\"edge6\" class=\"edge\">\n<title>conv9_fwd&#45;&gt;data</title>\n<path fill=\"none\" stroke=\"#000000\" d=\"M136.4288,-85.1126C130.6818,-75.4659 124.6175,-65.2865 119.2551,-56.2854\"/>\n<polygon fill=\"#000000\" stroke=\"#000000\" points=\"141.5882,-93.7731 132.6042,-87.4852 139.0292,-89.4776 136.4701,-85.1821 136.4701,-85.1821 136.4701,-85.1821 139.0292,-89.4776 140.3361,-82.8789 141.5882,-93.7731 141.5882,-93.7731\"/>\n</g>\n<!-- residualblock2__plus0&#45;&gt;batchnorm6_fwd -->\n<g id=\"edge7\" class=\"edge\">\n<title>residualblock2__plus0&#45;&gt;batchnorm6_fwd</title>\n<path fill=\"none\" stroke=\"#000000\" d=\"M262.6237,-178.1932C265.6739,-169.5047 268.8594,-160.4307 271.7458,-152.2088\"/>\n<polygon fill=\"#000000\" stroke=\"#000000\" points=\"259.2605,-187.7731 258.3271,-176.847 260.9168,-183.0554 262.573,-178.3376 262.573,-178.3376 262.573,-178.3376 260.9168,-183.0554 266.819,-179.8283 259.2605,-187.7731 259.2605,-187.7731\"/>\n</g>\n<!-- residualblock2__plus0&#45;&gt;conv9_fwd -->\n<g id=\"edge8\" class=\"edge\">\n<title>residualblock2__plus0&#45;&gt;conv9_fwd</title>\n<path fill=\"none\" stroke=\"#000000\" d=\"M213.9824,-180.4261C205.0265,-171.0721 195.5151,-161.138 186.9659,-152.2088\"/>\n<polygon fill=\"#000000\" stroke=\"#000000\" points=\"221.0168,-187.7731 210.8506,-183.6621 217.5589,-184.1615 214.101,-180.55 214.101,-180.55 214.101,-180.55 217.5589,-184.1615 217.3514,-177.4379 221.0168,-187.7731 221.0168,-187.7731\"/>\n</g>\n</g>\n</svg>\n",
            "text/plain": [
              "<graphviz.dot.Digraph at 0x7f4b5a1b8780>"
            ]
          },
          "execution_count": 16,
          "metadata": {
            "tags": []
          },
          "output_type": "execute_result"
        }
      ],
      "source": [
        "block = residualblock(32, 1)\n",
        "block.initialize(ctx = ctx)\n",
        "mx.viz.plot_network(block(mx.sym.var(name = 'data')), node_attrs={\"fixedsize\":\"false\"})"
      ]
    },
    {
      "cell_type": "markdown",
      "metadata": {
        "colab_type": "text",
        "id": "6LOc1aY8Ihlu"
      },
      "source": [
        "## __Defining the whole model__"
      ]
    },
    {
      "cell_type": "code",
      "execution_count": 17,
      "metadata": {
        "colab": {
          "base_uri": "https://localhost:8080/",
          "height": 1000
        },
        "colab_type": "code",
        "id": "wlp_psO_ywof",
        "outputId": "e60ca106-8974-4996-99cb-248c269fd05b"
      },
      "outputs": [
        {
          "data": {
            "text/plain": [
              "HybridSequential(\n",
              "  (0): Conv2D(None -> 64, kernel_size=(7, 7), stride=(2, 2), padding=(3, 3))\n",
              "  (1): BatchNorm(axis=1, eps=1e-05, momentum=0.9, fix_gamma=False, use_global_stats=False, in_channels=None)\n",
              "  (2): MaxPool2D(size=(3, 3), stride=(2, 2), padding=(1, 1), ceil_mode=False, global_pool=False, pool_type=max, layout=NCHW)\n",
              "  (3): residualblock(\n",
              "    (conv1): HybridSequential(\n",
              "      (0): Conv2D(None -> 64, kernel_size=(3, 3), stride=(2, 2), padding=(1, 1))\n",
              "      (1): BatchNorm(axis=1, eps=1e-05, momentum=0.9, fix_gamma=False, use_global_stats=False, in_channels=None)\n",
              "    )\n",
              "    (conv2): HybridSequential(\n",
              "      (0): Conv2D(None -> 64, kernel_size=(3, 3), stride=(1, 1), padding=(1, 1))\n",
              "      (1): BatchNorm(axis=1, eps=1e-05, momentum=0.9, fix_gamma=False, use_global_stats=False, in_channels=None)\n",
              "    )\n",
              "    (residual): Conv2D(None -> 64, kernel_size=(1, 1), stride=(2, 2))\n",
              "    (activation): Activation(relu)\n",
              "  )\n",
              "  (4): residualblock(\n",
              "    (conv1): HybridSequential(\n",
              "      (0): Conv2D(None -> 64, kernel_size=(3, 3), stride=(2, 2), padding=(1, 1))\n",
              "      (1): BatchNorm(axis=1, eps=1e-05, momentum=0.9, fix_gamma=False, use_global_stats=False, in_channels=None)\n",
              "    )\n",
              "    (conv2): HybridSequential(\n",
              "      (0): Conv2D(None -> 64, kernel_size=(3, 3), stride=(1, 1), padding=(1, 1))\n",
              "      (1): BatchNorm(axis=1, eps=1e-05, momentum=0.9, fix_gamma=False, use_global_stats=False, in_channels=None)\n",
              "    )\n",
              "    (residual): Conv2D(None -> 64, kernel_size=(1, 1), stride=(2, 2))\n",
              "    (activation): Activation(relu)\n",
              "  )\n",
              "  (5): residualblock(\n",
              "    (conv1): HybridSequential(\n",
              "      (0): Conv2D(None -> 128, kernel_size=(3, 3), stride=(1, 1), padding=(1, 1))\n",
              "      (1): BatchNorm(axis=1, eps=1e-05, momentum=0.9, fix_gamma=False, use_global_stats=False, in_channels=None)\n",
              "    )\n",
              "    (conv2): HybridSequential(\n",
              "      (0): Conv2D(None -> 128, kernel_size=(3, 3), stride=(1, 1), padding=(1, 1))\n",
              "      (1): BatchNorm(axis=1, eps=1e-05, momentum=0.9, fix_gamma=False, use_global_stats=False, in_channels=None)\n",
              "    )\n",
              "    (residual): Conv2D(None -> 128, kernel_size=(1, 1), stride=(1, 1))\n",
              "    (activation): Activation(relu)\n",
              "  )\n",
              "  (6): residualblock(\n",
              "    (conv1): HybridSequential(\n",
              "      (0): Conv2D(None -> 128, kernel_size=(3, 3), stride=(1, 1), padding=(1, 1))\n",
              "      (1): BatchNorm(axis=1, eps=1e-05, momentum=0.9, fix_gamma=False, use_global_stats=False, in_channels=None)\n",
              "    )\n",
              "    (conv2): HybridSequential(\n",
              "      (0): Conv2D(None -> 128, kernel_size=(3, 3), stride=(1, 1), padding=(1, 1))\n",
              "      (1): BatchNorm(axis=1, eps=1e-05, momentum=0.9, fix_gamma=False, use_global_stats=False, in_channels=None)\n",
              "    )\n",
              "    (residual): Conv2D(None -> 128, kernel_size=(1, 1), stride=(1, 1))\n",
              "    (activation): Activation(relu)\n",
              "  )\n",
              "  (7): residualblock(\n",
              "    (conv1): HybridSequential(\n",
              "      (0): Conv2D(None -> 256, kernel_size=(3, 3), stride=(1, 1), padding=(1, 1))\n",
              "      (1): BatchNorm(axis=1, eps=1e-05, momentum=0.9, fix_gamma=False, use_global_stats=False, in_channels=None)\n",
              "    )\n",
              "    (conv2): HybridSequential(\n",
              "      (0): Conv2D(None -> 256, kernel_size=(3, 3), stride=(1, 1), padding=(1, 1))\n",
              "      (1): BatchNorm(axis=1, eps=1e-05, momentum=0.9, fix_gamma=False, use_global_stats=False, in_channels=None)\n",
              "    )\n",
              "    (residual): Conv2D(None -> 256, kernel_size=(1, 1), stride=(1, 1))\n",
              "    (activation): Activation(relu)\n",
              "  )\n",
              "  (8): residualblock(\n",
              "    (conv1): HybridSequential(\n",
              "      (0): Conv2D(None -> 256, kernel_size=(3, 3), stride=(1, 1), padding=(1, 1))\n",
              "      (1): BatchNorm(axis=1, eps=1e-05, momentum=0.9, fix_gamma=False, use_global_stats=False, in_channels=None)\n",
              "    )\n",
              "    (conv2): HybridSequential(\n",
              "      (0): Conv2D(None -> 256, kernel_size=(3, 3), stride=(1, 1), padding=(1, 1))\n",
              "      (1): BatchNorm(axis=1, eps=1e-05, momentum=0.9, fix_gamma=False, use_global_stats=False, in_channels=None)\n",
              "    )\n",
              "    (residual): Conv2D(None -> 256, kernel_size=(1, 1), stride=(1, 1))\n",
              "    (activation): Activation(relu)\n",
              "  )\n",
              "  (9): residualblock(\n",
              "    (conv1): HybridSequential(\n",
              "      (0): Conv2D(None -> 512, kernel_size=(3, 3), stride=(1, 1), padding=(1, 1))\n",
              "      (1): BatchNorm(axis=1, eps=1e-05, momentum=0.9, fix_gamma=False, use_global_stats=False, in_channels=None)\n",
              "    )\n",
              "    (conv2): HybridSequential(\n",
              "      (0): Conv2D(None -> 512, kernel_size=(3, 3), stride=(1, 1), padding=(1, 1))\n",
              "      (1): BatchNorm(axis=1, eps=1e-05, momentum=0.9, fix_gamma=False, use_global_stats=False, in_channels=None)\n",
              "    )\n",
              "    (residual): Conv2D(None -> 512, kernel_size=(1, 1), stride=(1, 1))\n",
              "    (activation): Activation(relu)\n",
              "  )\n",
              "  (10): residualblock(\n",
              "    (conv1): HybridSequential(\n",
              "      (0): Conv2D(None -> 512, kernel_size=(3, 3), stride=(1, 1), padding=(1, 1))\n",
              "      (1): BatchNorm(axis=1, eps=1e-05, momentum=0.9, fix_gamma=False, use_global_stats=False, in_channels=None)\n",
              "    )\n",
              "    (conv2): HybridSequential(\n",
              "      (0): Conv2D(None -> 512, kernel_size=(3, 3), stride=(1, 1), padding=(1, 1))\n",
              "      (1): BatchNorm(axis=1, eps=1e-05, momentum=0.9, fix_gamma=False, use_global_stats=False, in_channels=None)\n",
              "    )\n",
              "    (residual): Conv2D(None -> 512, kernel_size=(1, 1), stride=(1, 1))\n",
              "    (activation): Activation(relu)\n",
              "  )\n",
              "  (11): GlobalAvgPool2D(size=(1, 1), stride=(1, 1), padding=(0, 0), ceil_mode=True, global_pool=True, pool_type=avg, layout=NCHW)\n",
              "  (12): Dense(None -> 10, linear)\n",
              ")"
            ]
          },
          "execution_count": 17,
          "metadata": {
            "tags": []
          },
          "output_type": "execute_result"
        }
      ],
      "source": [
        "model = nn.HybridSequential()\n",
        "\n",
        "model.add(nn.Conv2D(64, kernel_size = 7, strides = 2, padding = 3))\n",
        "model.add(nn.BatchNorm())\n",
        "model.add(nn.MaxPool2D(pool_size = 3, strides = 2, padding = 1))\n",
        "\n",
        "model.add(residualblock(channels = 64, strides = 2))\n",
        "model.add(residualblock(channels = 64, strides = 2))\n",
        "\n",
        "model.add(residualblock(channels = 128, strides = 1))\n",
        "model.add(residualblock(channels = 128, strides = 1))\n",
        "\n",
        "model.add(residualblock(channels = 256, strides = 1))\n",
        "model.add(residualblock(channels = 256, strides = 1))\n",
        "\n",
        "model.add(residualblock(channels = 512, strides = 1))\n",
        "model.add(residualblock(channels = 512, strides = 1))\n",
        "\n",
        "model.add(nn.GlobalAvgPool2D())\n",
        "model.add(nn.Dense(10))\n",
        "\n",
        "model.initialize(mx.init.Xavier(), ctx)\n",
        "model"
      ]
    },
    {
      "cell_type": "markdown",
      "metadata": {
        "colab_type": "text",
        "id": "YGW5do2DInrM"
      },
      "source": [
        "## __Summarizing the model__"
      ]
    },
    {
      "cell_type": "code",
      "execution_count": 18,
      "metadata": {
        "colab": {
          "base_uri": "https://localhost:8080/",
          "height": 1000
        },
        "colab_type": "code",
        "id": "fWwau-Uxywmi",
        "outputId": "400954cc-5ace-4ddb-8525-333a7fa3aab6"
      },
      "outputs": [
        {
          "name": "stdout",
          "output_type": "stream",
          "text": [
            "--------------------------------------------------------------------------------\n",
            "        Layer (type)                                Output Shape         Param #\n",
            "================================================================================\n",
            "               Input                              (1, 3, 32, 32)               0\n",
            "            Conv2D-1                             (1, 64, 16, 16)            9472\n",
            "         BatchNorm-2                             (1, 64, 16, 16)             256\n",
            "         MaxPool2D-3                               (1, 64, 8, 8)               0\n",
            "            Conv2D-4                               (1, 64, 4, 4)           36928\n",
            "         BatchNorm-5                               (1, 64, 4, 4)             256\n",
            "        Activation-6                               (1, 64, 4, 4)               0\n",
            "            Conv2D-7                               (1, 64, 4, 4)           36928\n",
            "         BatchNorm-8                               (1, 64, 4, 4)             256\n",
            "            Conv2D-9                               (1, 64, 4, 4)            4160\n",
            "       Activation-10                               (1, 64, 4, 4)               0\n",
            "    residualblock-11                               (1, 64, 4, 4)               0\n",
            "           Conv2D-12                               (1, 64, 2, 2)           36928\n",
            "        BatchNorm-13                               (1, 64, 2, 2)             256\n",
            "       Activation-14                               (1, 64, 2, 2)               0\n",
            "           Conv2D-15                               (1, 64, 2, 2)           36928\n",
            "        BatchNorm-16                               (1, 64, 2, 2)             256\n",
            "           Conv2D-17                               (1, 64, 2, 2)            4160\n",
            "       Activation-18                               (1, 64, 2, 2)               0\n",
            "    residualblock-19                               (1, 64, 2, 2)               0\n",
            "           Conv2D-20                              (1, 128, 2, 2)           73856\n",
            "        BatchNorm-21                              (1, 128, 2, 2)             512\n",
            "       Activation-22                              (1, 128, 2, 2)               0\n",
            "           Conv2D-23                              (1, 128, 2, 2)          147584\n",
            "        BatchNorm-24                              (1, 128, 2, 2)             512\n",
            "           Conv2D-25                              (1, 128, 2, 2)            8320\n",
            "       Activation-26                              (1, 128, 2, 2)               0\n",
            "    residualblock-27                              (1, 128, 2, 2)               0\n",
            "           Conv2D-28                              (1, 128, 2, 2)          147584\n",
            "        BatchNorm-29                              (1, 128, 2, 2)             512\n",
            "       Activation-30                              (1, 128, 2, 2)               0\n",
            "           Conv2D-31                              (1, 128, 2, 2)          147584\n",
            "        BatchNorm-32                              (1, 128, 2, 2)             512\n",
            "           Conv2D-33                              (1, 128, 2, 2)           16512\n",
            "       Activation-34                              (1, 128, 2, 2)               0\n",
            "    residualblock-35                              (1, 128, 2, 2)               0\n",
            "           Conv2D-36                              (1, 256, 2, 2)          295168\n",
            "        BatchNorm-37                              (1, 256, 2, 2)            1024\n",
            "       Activation-38                              (1, 256, 2, 2)               0\n",
            "           Conv2D-39                              (1, 256, 2, 2)          590080\n",
            "        BatchNorm-40                              (1, 256, 2, 2)            1024\n",
            "           Conv2D-41                              (1, 256, 2, 2)           33024\n",
            "       Activation-42                              (1, 256, 2, 2)               0\n",
            "    residualblock-43                              (1, 256, 2, 2)               0\n",
            "           Conv2D-44                              (1, 256, 2, 2)          590080\n",
            "        BatchNorm-45                              (1, 256, 2, 2)            1024\n",
            "       Activation-46                              (1, 256, 2, 2)               0\n",
            "           Conv2D-47                              (1, 256, 2, 2)          590080\n",
            "        BatchNorm-48                              (1, 256, 2, 2)            1024\n",
            "           Conv2D-49                              (1, 256, 2, 2)           65792\n",
            "       Activation-50                              (1, 256, 2, 2)               0\n",
            "    residualblock-51                              (1, 256, 2, 2)               0\n",
            "           Conv2D-52                              (1, 512, 2, 2)         1180160\n",
            "        BatchNorm-53                              (1, 512, 2, 2)            2048\n",
            "       Activation-54                              (1, 512, 2, 2)               0\n",
            "           Conv2D-55                              (1, 512, 2, 2)         2359808\n",
            "        BatchNorm-56                              (1, 512, 2, 2)            2048\n",
            "           Conv2D-57                              (1, 512, 2, 2)          131584\n",
            "       Activation-58                              (1, 512, 2, 2)               0\n",
            "    residualblock-59                              (1, 512, 2, 2)               0\n",
            "           Conv2D-60                              (1, 512, 2, 2)         2359808\n",
            "        BatchNorm-61                              (1, 512, 2, 2)            2048\n",
            "       Activation-62                              (1, 512, 2, 2)               0\n",
            "           Conv2D-63                              (1, 512, 2, 2)         2359808\n",
            "        BatchNorm-64                              (1, 512, 2, 2)            2048\n",
            "           Conv2D-65                              (1, 512, 2, 2)          262656\n",
            "       Activation-66                              (1, 512, 2, 2)               0\n",
            "    residualblock-67                              (1, 512, 2, 2)               0\n",
            "  GlobalAvgPool2D-68                              (1, 512, 1, 1)               0\n",
            "            Dense-69                                     (1, 10)            5130\n",
            "================================================================================\n",
            "Parameters in forward computation graph, duplicate included\n",
            "   Total params: 11545738\n",
            "   Trainable params: 11537930\n",
            "   Non-trainable params: 7808\n",
            "Shared params in forward computation graph: 0\n",
            "Unique parameters in model: 11545738\n",
            "--------------------------------------------------------------------------------\n"
          ]
        }
      ],
      "source": [
        "model.summary(image.expand_dims(0).as_in_context(ctx))"
      ]
    },
    {
      "cell_type": "markdown",
      "metadata": {
        "colab_type": "text",
        "id": "4KlBsabaItQc"
      },
      "source": [
        "## __Visializing model architecture__"
      ]
    },
    {
      "cell_type": "code",
      "execution_count": 19,
      "metadata": {
        "colab": {
          "base_uri": "https://localhost:8080/",
          "height": 1000
        },
        "colab_type": "code",
        "id": "_dssSLsM0thA",
        "outputId": "cf110d0c-d293-42f0-f811-dd730e9e8e46"
      },
      "outputs": [
        {
          "name": "stderr",
          "output_type": "stream",
          "text": [
            "/usr/local/lib/python3.6/dist-packages/mxnet/visualization.py:301: RuntimeWarning: There are multiple variables with the same name in your graph, this may result in cyclic graph. Repeated names: relu7_fwd,relu9_fwd,relu8_fwd,relu6_fwd,relu5_fwd,relu10_fwd,relu3_fwd,relu4_fwd\n",
            "  warnings.warn(warning_message, RuntimeWarning)\n"
          ]
        },
        {
          "data": {
            "image/svg+xml": "<?xml version=\"1.0\" encoding=\"UTF-8\" standalone=\"no\"?>\n<!DOCTYPE svg PUBLIC \"-//W3C//DTD SVG 1.1//EN\"\n \"http://www.w3.org/Graphics/SVG/1.1/DTD/svg11.dtd\">\n<!-- Generated by graphviz version 2.40.1 (20161225.0304)\n -->\n<!-- Title: plot Pages: 1 -->\n<svg width=\"1449pt\" height=\"2792pt\"\n viewBox=\"0.00 0.00 1448.50 2792.00\" xmlns=\"http://www.w3.org/2000/svg\" xmlns:xlink=\"http://www.w3.org/1999/xlink\">\n<g id=\"graph0\" class=\"graph\" transform=\"scale(1 1) rotate(0) translate(4 2788)\">\n<title>plot</title>\n<polygon fill=\"#ffffff\" stroke=\"transparent\" points=\"-4,4 -4,-2788 1444.5,-2788 1444.5,4 -4,4\"/>\n<!-- data -->\n<g id=\"node1\" class=\"node\">\n<title>data</title>\n<ellipse fill=\"#8dd3c7\" stroke=\"#000000\" cx=\"103\" cy=\"-29\" rx=\"47\" ry=\"29\"/>\n<text text-anchor=\"middle\" x=\"103\" y=\"-25.3\" font-family=\"Times,serif\" font-size=\"14.00\" fill=\"#000000\">data</text>\n</g>\n<!-- conv10_fwd -->\n<g id=\"node2\" class=\"node\">\n<title>conv10_fwd</title>\n<polygon fill=\"#fb8072\" stroke=\"#000000\" points=\"150,-152 56,-152 56,-94 150,-94 150,-152\"/>\n<text text-anchor=\"middle\" x=\"103\" y=\"-126.8\" font-family=\"Times,serif\" font-size=\"14.00\" fill=\"#000000\">Convolution</text>\n<text text-anchor=\"middle\" x=\"103\" y=\"-111.8\" font-family=\"Times,serif\" font-size=\"14.00\" fill=\"#000000\">7x7/2x2, 64</text>\n</g>\n<!-- conv10_fwd&#45;&gt;data -->\n<g id=\"edge1\" class=\"edge\">\n<title>conv10_fwd&#45;&gt;data</title>\n<path fill=\"none\" stroke=\"#000000\" d=\"M103,-83.6321C103,-75.1148 103,-66.2539 103,-58.2088\"/>\n<polygon fill=\"#000000\" stroke=\"#000000\" points=\"103,-93.7731 98.5001,-83.773 103,-88.7731 103.0001,-83.7731 103.0001,-83.7731 103.0001,-83.7731 103,-88.7731 107.5001,-83.7731 103,-93.7731 103,-93.7731\"/>\n</g>\n<!-- batchnorm7_fwd -->\n<g id=\"node3\" class=\"node\">\n<title>batchnorm7_fwd</title>\n<polygon fill=\"#bebada\" stroke=\"#000000\" points=\"161,-246 45,-246 45,-188 161,-188 161,-246\"/>\n<text text-anchor=\"middle\" x=\"103\" y=\"-213.3\" font-family=\"Times,serif\" font-size=\"14.00\" fill=\"#000000\">batchnorm7_fwd</text>\n</g>\n<!-- batchnorm7_fwd&#45;&gt;conv10_fwd -->\n<g id=\"edge2\" class=\"edge\">\n<title>batchnorm7_fwd&#45;&gt;conv10_fwd</title>\n<path fill=\"none\" stroke=\"#000000\" d=\"M103,-177.6321C103,-169.1148 103,-160.2539 103,-152.2088\"/>\n<polygon fill=\"#000000\" stroke=\"#000000\" points=\"103,-187.7731 98.5001,-177.773 103,-182.7731 103.0001,-177.7731 103.0001,-177.7731 103.0001,-177.7731 103,-182.7731 107.5001,-177.7731 103,-187.7731 103,-187.7731\"/>\n</g>\n<!-- pool0_fwd -->\n<g id=\"node4\" class=\"node\">\n<title>pool0_fwd</title>\n<polygon fill=\"#80b1d3\" stroke=\"#000000\" points=\"152,-340 54,-340 54,-282 152,-282 152,-340\"/>\n<text text-anchor=\"middle\" x=\"103\" y=\"-314.8\" font-family=\"Times,serif\" font-size=\"14.00\" fill=\"#000000\">Pooling</text>\n<text text-anchor=\"middle\" x=\"103\" y=\"-299.8\" font-family=\"Times,serif\" font-size=\"14.00\" fill=\"#000000\">max, 3x3/2x2</text>\n</g>\n<!-- pool0_fwd&#45;&gt;batchnorm7_fwd -->\n<g id=\"edge3\" class=\"edge\">\n<title>pool0_fwd&#45;&gt;batchnorm7_fwd</title>\n<path fill=\"none\" stroke=\"#000000\" d=\"M103,-271.6321C103,-263.1148 103,-254.2539 103,-246.2088\"/>\n<polygon fill=\"#000000\" stroke=\"#000000\" points=\"103,-281.7731 98.5001,-271.773 103,-276.7731 103.0001,-271.7731 103.0001,-271.7731 103.0001,-271.7731 103,-276.7731 107.5001,-271.7731 103,-281.7731 103,-281.7731\"/>\n</g>\n<!-- conv11_fwd -->\n<g id=\"node5\" class=\"node\">\n<title>conv11_fwd</title>\n<polygon fill=\"#fb8072\" stroke=\"#000000\" points=\"94,-434 0,-434 0,-376 94,-376 94,-434\"/>\n<text text-anchor=\"middle\" x=\"47\" y=\"-408.8\" font-family=\"Times,serif\" font-size=\"14.00\" fill=\"#000000\">Convolution</text>\n<text text-anchor=\"middle\" x=\"47\" y=\"-393.8\" font-family=\"Times,serif\" font-size=\"14.00\" fill=\"#000000\">3x3/2x2, 64</text>\n</g>\n<!-- conv11_fwd&#45;&gt;pool0_fwd -->\n<g id=\"edge4\" class=\"edge\">\n<title>conv11_fwd&#45;&gt;pool0_fwd</title>\n<path fill=\"none\" stroke=\"#000000\" d=\"M69.6188,-367.0328C74.9458,-358.091 80.5429,-348.6959 85.599,-340.2088\"/>\n<polygon fill=\"#000000\" stroke=\"#000000\" points=\"64.4118,-375.7731 65.6639,-364.8789 66.9708,-371.4776 69.5299,-367.1821 69.5299,-367.1821 69.5299,-367.1821 66.9708,-371.4776 73.3958,-369.4852 64.4118,-375.7731 64.4118,-375.7731\"/>\n</g>\n<!-- batchnorm8_fwd -->\n<g id=\"node6\" class=\"node\">\n<title>batchnorm8_fwd</title>\n<polygon fill=\"#bebada\" stroke=\"#000000\" points=\"139,-528 23,-528 23,-470 139,-470 139,-528\"/>\n<text text-anchor=\"middle\" x=\"81\" y=\"-495.3\" font-family=\"Times,serif\" font-size=\"14.00\" fill=\"#000000\">batchnorm8_fwd</text>\n</g>\n<!-- batchnorm8_fwd&#45;&gt;conv11_fwd -->\n<g id=\"edge5\" class=\"edge\">\n<title>batchnorm8_fwd&#45;&gt;conv11_fwd</title>\n<path fill=\"none\" stroke=\"#000000\" d=\"M66.9635,-460.1932C63.8208,-451.5047 60.5388,-442.4307 57.5649,-434.2088\"/>\n<polygon fill=\"#000000\" stroke=\"#000000\" points=\"70.4286,-469.7731 62.7954,-461.9 68.7278,-465.0712 67.0271,-460.3693 67.0271,-460.3693 67.0271,-460.3693 68.7278,-465.0712 71.2588,-458.8387 70.4286,-469.7731 70.4286,-469.7731\"/>\n</g>\n<!-- relu3_fwd -->\n<g id=\"node7\" class=\"node\">\n<title>relu3_fwd</title>\n<polygon fill=\"#ffffb3\" stroke=\"#000000\" points=\"295,-622 201,-622 201,-564 295,-564 295,-622\"/>\n<text text-anchor=\"middle\" x=\"248\" y=\"-596.8\" font-family=\"Times,serif\" font-size=\"14.00\" fill=\"#000000\">Activation</text>\n<text text-anchor=\"middle\" x=\"248\" y=\"-581.8\" font-family=\"Times,serif\" font-size=\"14.00\" fill=\"#000000\">relu</text>\n</g>\n<!-- relu3_fwd&#45;&gt;batchnorm8_fwd -->\n<g id=\"edge6\" class=\"edge\">\n<title>relu3_fwd&#45;&gt;batchnorm8_fwd</title>\n<path fill=\"none\" stroke=\"#000000\" d=\"M191.6925,-561.3059C172.5862,-550.5515 151.3477,-538.5969 132.6249,-528.0583\"/>\n<polygon fill=\"#000000\" stroke=\"#000000\" points=\"200.5912,-566.3148 189.6695,-565.3311 196.234,-563.8622 191.8768,-561.4097 191.8768,-561.4097 191.8768,-561.4097 196.234,-563.8622 194.0841,-557.4882 200.5912,-566.3148 200.5912,-566.3148\"/>\n</g>\n<!-- residualblock3__plus0 -->\n<g id=\"node11\" class=\"node\">\n<title>residualblock3__plus0</title>\n<polygon fill=\"#fccde5\" stroke=\"#000000\" points=\"321.5,-528 174.5,-528 174.5,-470 321.5,-470 321.5,-528\"/>\n<text text-anchor=\"middle\" x=\"248\" y=\"-495.3\" font-family=\"Times,serif\" font-size=\"14.00\" fill=\"#000000\">residualblock3__plus0</text>\n</g>\n<!-- relu3_fwd&#45;&gt;residualblock3__plus0 -->\n<g id=\"edge12\" class=\"edge\">\n<title>relu3_fwd&#45;&gt;residualblock3__plus0</title>\n<path fill=\"none\" stroke=\"#000000\" d=\"M248,-553.6321C248,-545.1148 248,-536.2539 248,-528.2088\"/>\n<polygon fill=\"#000000\" stroke=\"#000000\" points=\"248,-563.7731 243.5001,-553.773 248,-558.7731 248.0001,-553.7731 248.0001,-553.7731 248.0001,-553.7731 248,-558.7731 252.5001,-553.7731 248,-563.7731 248,-563.7731\"/>\n</g>\n<!-- conv12_fwd -->\n<g id=\"node8\" class=\"node\">\n<title>conv12_fwd</title>\n<polygon fill=\"#fb8072\" stroke=\"#000000\" points=\"372,-340 278,-340 278,-282 372,-282 372,-340\"/>\n<text text-anchor=\"middle\" x=\"325\" y=\"-314.8\" font-family=\"Times,serif\" font-size=\"14.00\" fill=\"#000000\">Convolution</text>\n<text text-anchor=\"middle\" x=\"325\" y=\"-299.8\" font-family=\"Times,serif\" font-size=\"14.00\" fill=\"#000000\">3x3/1x1, 64</text>\n</g>\n<!-- conv12_fwd&#45;&gt;relu3_fwd -->\n<g id=\"edge7\" class=\"edge\">\n<title>conv12_fwd&#45;&gt;relu3_fwd</title>\n<path fill=\"none\" stroke=\"#000000\" d=\"M341.8521,-349.7976C344.8173,-358.2786 347.4485,-367.3185 349,-376 360.9776,-443.0194 365.5845,-469.9586 330,-528 321.2646,-542.2483 308.2174,-554.6504 295.0857,-564.6931\"/>\n<polygon fill=\"#000000\" stroke=\"#000000\" points=\"338.2624,-340.1532 345.9681,-347.9554 340.0066,-344.8392 341.7507,-349.5251 341.7507,-349.5251 341.7507,-349.5251 340.0066,-344.8392 337.5334,-351.0949 338.2624,-340.1532 338.2624,-340.1532\"/>\n</g>\n<!-- batchnorm9_fwd -->\n<g id=\"node9\" class=\"node\">\n<title>batchnorm9_fwd</title>\n<polygon fill=\"#bebada\" stroke=\"#000000\" points=\"340,-434 224,-434 224,-376 340,-376 340,-434\"/>\n<text text-anchor=\"middle\" x=\"282\" y=\"-401.3\" font-family=\"Times,serif\" font-size=\"14.00\" fill=\"#000000\">batchnorm9_fwd</text>\n</g>\n<!-- batchnorm9_fwd&#45;&gt;conv12_fwd -->\n<g id=\"edge8\" class=\"edge\">\n<title>batchnorm9_fwd&#45;&gt;conv12_fwd</title>\n<path fill=\"none\" stroke=\"#000000\" d=\"M299.6239,-366.4734C303.6373,-357.6999 307.837,-348.5191 311.6385,-340.2088\"/>\n<polygon fill=\"#000000\" stroke=\"#000000\" points=\"295.3698,-375.7731 295.4375,-364.8074 297.4497,-371.2262 299.5297,-366.6794 299.5297,-366.6794 299.5297,-366.6794 297.4497,-371.2262 303.6219,-368.5513 295.3698,-375.7731 295.3698,-375.7731\"/>\n</g>\n<!-- conv13_fwd -->\n<g id=\"node10\" class=\"node\">\n<title>conv13_fwd</title>\n<polygon fill=\"#fb8072\" stroke=\"#000000\" points=\"206,-434 112,-434 112,-376 206,-376 206,-434\"/>\n<text text-anchor=\"middle\" x=\"159\" y=\"-408.8\" font-family=\"Times,serif\" font-size=\"14.00\" fill=\"#000000\">Convolution</text>\n<text text-anchor=\"middle\" x=\"159\" y=\"-393.8\" font-family=\"Times,serif\" font-size=\"14.00\" fill=\"#000000\">1x1/2x2, 64</text>\n</g>\n<!-- conv13_fwd&#45;&gt;pool0_fwd -->\n<g id=\"edge9\" class=\"edge\">\n<title>conv13_fwd&#45;&gt;pool0_fwd</title>\n<path fill=\"none\" stroke=\"#000000\" d=\"M136.3812,-367.0328C131.0542,-358.091 125.4571,-348.6959 120.401,-340.2088\"/>\n<polygon fill=\"#000000\" stroke=\"#000000\" points=\"141.5882,-375.7731 132.6042,-369.4852 139.0292,-371.4776 136.4701,-367.1821 136.4701,-367.1821 136.4701,-367.1821 139.0292,-371.4776 140.3361,-364.8789 141.5882,-375.7731 141.5882,-375.7731\"/>\n</g>\n<!-- residualblock3__plus0&#45;&gt;batchnorm9_fwd -->\n<g id=\"edge10\" class=\"edge\">\n<title>residualblock3__plus0&#45;&gt;batchnorm9_fwd</title>\n<path fill=\"none\" stroke=\"#000000\" d=\"M262.0365,-460.1932C265.1792,-451.5047 268.4612,-442.4307 271.4351,-434.2088\"/>\n<polygon fill=\"#000000\" stroke=\"#000000\" points=\"258.5714,-469.7731 257.7412,-458.8387 260.2722,-465.0712 261.9729,-460.3693 261.9729,-460.3693 261.9729,-460.3693 260.2722,-465.0712 266.2046,-461.9 258.5714,-469.7731 258.5714,-469.7731\"/>\n</g>\n<!-- residualblock3__plus0&#45;&gt;conv13_fwd -->\n<g id=\"edge11\" class=\"edge\">\n<title>residualblock3__plus0&#45;&gt;conv13_fwd</title>\n<path fill=\"none\" stroke=\"#000000\" d=\"M213.3715,-462.4261C204.5151,-453.0721 195.1093,-443.138 186.6552,-434.2088\"/>\n<polygon fill=\"#000000\" stroke=\"#000000\" points=\"220.3277,-469.7731 210.1847,-465.6054 216.89,-466.1423 213.4524,-462.5115 213.4524,-462.5115 213.4524,-462.5115 216.89,-466.1423 216.7201,-459.4176 220.3277,-469.7731 220.3277,-469.7731\"/>\n</g>\n<!-- conv14_fwd -->\n<g id=\"node12\" class=\"node\">\n<title>conv14_fwd</title>\n<polygon fill=\"#fb8072\" stroke=\"#000000\" points=\"239,-716 145,-716 145,-658 239,-658 239,-716\"/>\n<text text-anchor=\"middle\" x=\"192\" y=\"-690.8\" font-family=\"Times,serif\" font-size=\"14.00\" fill=\"#000000\">Convolution</text>\n<text text-anchor=\"middle\" x=\"192\" y=\"-675.8\" font-family=\"Times,serif\" font-size=\"14.00\" fill=\"#000000\">3x3/2x2, 64</text>\n</g>\n<!-- conv14_fwd&#45;&gt;relu3_fwd -->\n<g id=\"edge13\" class=\"edge\">\n<title>conv14_fwd&#45;&gt;relu3_fwd</title>\n<path fill=\"none\" stroke=\"#000000\" d=\"M214.6188,-649.0328C219.9458,-640.091 225.5429,-630.6959 230.599,-622.2088\"/>\n<polygon fill=\"#000000\" stroke=\"#000000\" points=\"209.4118,-657.7731 210.6639,-646.8789 211.9708,-653.4776 214.5299,-649.1821 214.5299,-649.1821 214.5299,-649.1821 211.9708,-653.4776 218.3958,-651.4852 209.4118,-657.7731 209.4118,-657.7731\"/>\n</g>\n<!-- batchnorm10_fwd -->\n<g id=\"node13\" class=\"node\">\n<title>batchnorm10_fwd</title>\n<polygon fill=\"#bebada\" stroke=\"#000000\" points=\"289.5,-810 166.5,-810 166.5,-752 289.5,-752 289.5,-810\"/>\n<text text-anchor=\"middle\" x=\"228\" y=\"-777.3\" font-family=\"Times,serif\" font-size=\"14.00\" fill=\"#000000\">batchnorm10_fwd</text>\n</g>\n<!-- batchnorm10_fwd&#45;&gt;conv14_fwd -->\n<g id=\"edge14\" class=\"edge\">\n<title>batchnorm10_fwd&#45;&gt;conv14_fwd</title>\n<path fill=\"none\" stroke=\"#000000\" d=\"M213.1378,-742.1932C209.8103,-733.5047 206.3352,-724.4307 203.1864,-716.2088\"/>\n<polygon fill=\"#000000\" stroke=\"#000000\" points=\"216.8067,-751.7731 209.0278,-744.0439 215.0184,-747.1038 213.2302,-742.4345 213.2302,-742.4345 213.2302,-742.4345 215.0184,-747.1038 217.4325,-740.8251 216.8067,-751.7731 216.8067,-751.7731\"/>\n</g>\n<!-- relu4_fwd -->\n<g id=\"node14\" class=\"node\">\n<title>relu4_fwd</title>\n<polygon fill=\"#ffffb3\" stroke=\"#000000\" points=\"446,-904 352,-904 352,-846 446,-846 446,-904\"/>\n<text text-anchor=\"middle\" x=\"399\" y=\"-878.8\" font-family=\"Times,serif\" font-size=\"14.00\" fill=\"#000000\">Activation</text>\n<text text-anchor=\"middle\" x=\"399\" y=\"-863.8\" font-family=\"Times,serif\" font-size=\"14.00\" fill=\"#000000\">relu</text>\n</g>\n<!-- relu4_fwd&#45;&gt;batchnorm10_fwd -->\n<g id=\"edge15\" class=\"edge\">\n<title>relu4_fwd&#45;&gt;batchnorm10_fwd</title>\n<path fill=\"none\" stroke=\"#000000\" d=\"M342.8701,-844.145C322.9797,-833.211 300.6752,-820.9501 281.0494,-810.1617\"/>\n<polygon fill=\"#000000\" stroke=\"#000000\" points=\"351.8208,-849.0653 340.8898,-848.1914 347.4392,-846.6566 343.0576,-844.248 343.0576,-844.248 343.0576,-844.248 347.4392,-846.6566 345.2254,-840.3045 351.8208,-849.0653 351.8208,-849.0653\"/>\n</g>\n<!-- residualblock4__plus0 -->\n<g id=\"node18\" class=\"node\">\n<title>residualblock4__plus0</title>\n<polygon fill=\"#fccde5\" stroke=\"#000000\" points=\"472.5,-810 325.5,-810 325.5,-752 472.5,-752 472.5,-810\"/>\n<text text-anchor=\"middle\" x=\"399\" y=\"-777.3\" font-family=\"Times,serif\" font-size=\"14.00\" fill=\"#000000\">residualblock4__plus0</text>\n</g>\n<!-- relu4_fwd&#45;&gt;residualblock4__plus0 -->\n<g id=\"edge21\" class=\"edge\">\n<title>relu4_fwd&#45;&gt;residualblock4__plus0</title>\n<path fill=\"none\" stroke=\"#000000\" d=\"M399,-835.6321C399,-827.1148 399,-818.2539 399,-810.2088\"/>\n<polygon fill=\"#000000\" stroke=\"#000000\" points=\"399,-845.7731 394.5001,-835.773 399,-840.7731 399.0001,-835.7731 399.0001,-835.7731 399.0001,-835.7731 399,-840.7731 403.5001,-835.7731 399,-845.7731 399,-845.7731\"/>\n</g>\n<!-- conv15_fwd -->\n<g id=\"node15\" class=\"node\">\n<title>conv15_fwd</title>\n<polygon fill=\"#fb8072\" stroke=\"#000000\" points=\"521,-622 427,-622 427,-564 521,-564 521,-622\"/>\n<text text-anchor=\"middle\" x=\"474\" y=\"-596.8\" font-family=\"Times,serif\" font-size=\"14.00\" fill=\"#000000\">Convolution</text>\n<text text-anchor=\"middle\" x=\"474\" y=\"-581.8\" font-family=\"Times,serif\" font-size=\"14.00\" fill=\"#000000\">3x3/1x1, 64</text>\n</g>\n<!-- conv15_fwd&#45;&gt;relu4_fwd -->\n<g id=\"edge16\" class=\"edge\">\n<title>conv15_fwd&#45;&gt;relu4_fwd</title>\n<path fill=\"none\" stroke=\"#000000\" d=\"M492.1451,-631.4169C495.4006,-639.9842 498.2967,-649.1553 500,-658 512.8747,-724.8529 516.5845,-751.9586 481,-810 472.2646,-824.2483 459.2174,-836.6504 446.0857,-846.6931\"/>\n<polygon fill=\"#000000\" stroke=\"#000000\" points=\"488.3613,-622.0503 496.2794,-629.6368 490.2342,-626.6863 492.107,-631.3223 492.107,-631.3223 492.107,-631.3223 490.2342,-626.6863 487.9346,-633.0079 488.3613,-622.0503 488.3613,-622.0503\"/>\n</g>\n<!-- batchnorm11_fwd -->\n<g id=\"node16\" class=\"node\">\n<title>batchnorm11_fwd</title>\n<polygon fill=\"#bebada\" stroke=\"#000000\" points=\"491,-716 369,-716 369,-658 491,-658 491,-716\"/>\n<text text-anchor=\"middle\" x=\"430\" y=\"-683.3\" font-family=\"Times,serif\" font-size=\"14.00\" fill=\"#000000\">batchnorm11_fwd</text>\n</g>\n<!-- batchnorm11_fwd&#45;&gt;conv15_fwd -->\n<g id=\"edge17\" class=\"edge\">\n<title>batchnorm11_fwd&#45;&gt;conv15_fwd</title>\n<path fill=\"none\" stroke=\"#000000\" d=\"M448.0337,-648.4734C452.1405,-639.6999 456.4379,-630.5191 460.3278,-622.2088\"/>\n<polygon fill=\"#000000\" stroke=\"#000000\" points=\"443.6807,-657.7731 443.8445,-646.8084 445.8004,-653.2446 447.9201,-648.7162 447.9201,-648.7162 447.9201,-648.7162 445.8004,-653.2446 451.9958,-650.6239 443.6807,-657.7731 443.6807,-657.7731\"/>\n</g>\n<!-- conv16_fwd -->\n<g id=\"node17\" class=\"node\">\n<title>conv16_fwd</title>\n<polygon fill=\"#fb8072\" stroke=\"#000000\" points=\"351,-716 257,-716 257,-658 351,-658 351,-716\"/>\n<text text-anchor=\"middle\" x=\"304\" y=\"-690.8\" font-family=\"Times,serif\" font-size=\"14.00\" fill=\"#000000\">Convolution</text>\n<text text-anchor=\"middle\" x=\"304\" y=\"-675.8\" font-family=\"Times,serif\" font-size=\"14.00\" fill=\"#000000\">1x1/2x2, 64</text>\n</g>\n<!-- conv16_fwd&#45;&gt;relu3_fwd -->\n<g id=\"edge18\" class=\"edge\">\n<title>conv16_fwd&#45;&gt;relu3_fwd</title>\n<path fill=\"none\" stroke=\"#000000\" d=\"M281.3812,-649.0328C276.0542,-640.091 270.4571,-630.6959 265.401,-622.2088\"/>\n<polygon fill=\"#000000\" stroke=\"#000000\" points=\"286.5882,-657.7731 277.6042,-651.4852 284.0292,-653.4776 281.4701,-649.1821 281.4701,-649.1821 281.4701,-649.1821 284.0292,-653.4776 285.3361,-646.8789 286.5882,-657.7731 286.5882,-657.7731\"/>\n</g>\n<!-- residualblock4__plus0&#45;&gt;batchnorm11_fwd -->\n<g id=\"edge19\" class=\"edge\">\n<title>residualblock4__plus0&#45;&gt;batchnorm11_fwd</title>\n<path fill=\"none\" stroke=\"#000000\" d=\"M411.798,-742.1932C414.6633,-733.5047 417.6558,-724.4307 420.3673,-716.2088\"/>\n<polygon fill=\"#000000\" stroke=\"#000000\" points=\"408.6387,-751.7731 407.4971,-740.8668 410.2047,-747.0246 411.7707,-742.2762 411.7707,-742.2762 411.7707,-742.2762 410.2047,-747.0246 416.0443,-743.6856 408.6387,-751.7731 408.6387,-751.7731\"/>\n</g>\n<!-- residualblock4__plus0&#45;&gt;conv16_fwd -->\n<g id=\"edge20\" class=\"edge\">\n<title>residualblock4__plus0&#45;&gt;conv16_fwd</title>\n<path fill=\"none\" stroke=\"#000000\" d=\"M362.3176,-744.7037C352.7824,-735.2689 342.633,-725.2264 333.5196,-716.2088\"/>\n<polygon fill=\"#000000\" stroke=\"#000000\" points=\"369.4622,-751.7731 359.1886,-747.9383 365.908,-748.2563 362.3537,-744.7395 362.3537,-744.7395 362.3537,-744.7395 365.908,-748.2563 365.5189,-741.5407 369.4622,-751.7731 369.4622,-751.7731\"/>\n</g>\n<!-- conv17_fwd -->\n<g id=\"node19\" class=\"node\">\n<title>conv17_fwd</title>\n<polygon fill=\"#fb8072\" stroke=\"#000000\" points=\"390.5,-998 295.5,-998 295.5,-940 390.5,-940 390.5,-998\"/>\n<text text-anchor=\"middle\" x=\"343\" y=\"-972.8\" font-family=\"Times,serif\" font-size=\"14.00\" fill=\"#000000\">Convolution</text>\n<text text-anchor=\"middle\" x=\"343\" y=\"-957.8\" font-family=\"Times,serif\" font-size=\"14.00\" fill=\"#000000\">3x3/1x1, 128</text>\n</g>\n<!-- conv17_fwd&#45;&gt;relu4_fwd -->\n<g id=\"edge22\" class=\"edge\">\n<title>conv17_fwd&#45;&gt;relu4_fwd</title>\n<path fill=\"none\" stroke=\"#000000\" d=\"M365.6188,-931.0328C370.9458,-922.091 376.5429,-912.6959 381.599,-904.2088\"/>\n<polygon fill=\"#000000\" stroke=\"#000000\" points=\"360.4118,-939.7731 361.6639,-928.8789 362.9708,-935.4776 365.5299,-931.1821 365.5299,-931.1821 365.5299,-931.1821 362.9708,-935.4776 369.3958,-933.4852 360.4118,-939.7731 360.4118,-939.7731\"/>\n</g>\n<!-- batchnorm12_fwd -->\n<g id=\"node20\" class=\"node\">\n<title>batchnorm12_fwd</title>\n<polygon fill=\"#bebada\" stroke=\"#000000\" points=\"441.5,-1092 318.5,-1092 318.5,-1034 441.5,-1034 441.5,-1092\"/>\n<text text-anchor=\"middle\" x=\"380\" y=\"-1059.3\" font-family=\"Times,serif\" font-size=\"14.00\" fill=\"#000000\">batchnorm12_fwd</text>\n</g>\n<!-- batchnorm12_fwd&#45;&gt;conv17_fwd -->\n<g id=\"edge23\" class=\"edge\">\n<title>batchnorm12_fwd&#45;&gt;conv17_fwd</title>\n<path fill=\"none\" stroke=\"#000000\" d=\"M364.725,-1024.1932C361.305,-1015.5047 357.7334,-1006.4307 354.4971,-998.2088\"/>\n<polygon fill=\"#000000\" stroke=\"#000000\" points=\"368.4958,-1033.7731 360.6458,-1026.1162 366.6644,-1029.1205 364.8331,-1024.468 364.8331,-1024.468 364.8331,-1024.468 366.6644,-1029.1205 369.0204,-1022.8198 368.4958,-1033.7731 368.4958,-1033.7731\"/>\n</g>\n<!-- relu5_fwd -->\n<g id=\"node21\" class=\"node\">\n<title>relu5_fwd</title>\n<polygon fill=\"#ffffb3\" stroke=\"#000000\" points=\"599,-1186 505,-1186 505,-1128 599,-1128 599,-1186\"/>\n<text text-anchor=\"middle\" x=\"552\" y=\"-1160.8\" font-family=\"Times,serif\" font-size=\"14.00\" fill=\"#000000\">Activation</text>\n<text text-anchor=\"middle\" x=\"552\" y=\"-1145.8\" font-family=\"Times,serif\" font-size=\"14.00\" fill=\"#000000\">relu</text>\n</g>\n<!-- relu5_fwd&#45;&gt;batchnorm12_fwd -->\n<g id=\"edge24\" class=\"edge\">\n<title>relu5_fwd&#45;&gt;batchnorm12_fwd</title>\n<path fill=\"none\" stroke=\"#000000\" d=\"M495.5419,-1126.145C475.5351,-1115.211 453.1002,-1102.9501 433.3596,-1092.1617\"/>\n<polygon fill=\"#000000\" stroke=\"#000000\" points=\"504.5449,-1131.0653 493.6118,-1130.2183 500.1574,-1128.6674 495.7699,-1126.2695 495.7699,-1126.2695 495.7699,-1126.2695 500.1574,-1128.6674 497.9279,-1122.3208 504.5449,-1131.0653 504.5449,-1131.0653\"/>\n</g>\n<!-- residualblock5__plus0 -->\n<g id=\"node25\" class=\"node\">\n<title>residualblock5__plus0</title>\n<polygon fill=\"#fccde5\" stroke=\"#000000\" points=\"625.5,-1092 478.5,-1092 478.5,-1034 625.5,-1034 625.5,-1092\"/>\n<text text-anchor=\"middle\" x=\"552\" y=\"-1059.3\" font-family=\"Times,serif\" font-size=\"14.00\" fill=\"#000000\">residualblock5__plus0</text>\n</g>\n<!-- relu5_fwd&#45;&gt;residualblock5__plus0 -->\n<g id=\"edge30\" class=\"edge\">\n<title>relu5_fwd&#45;&gt;residualblock5__plus0</title>\n<path fill=\"none\" stroke=\"#000000\" d=\"M552,-1117.6321C552,-1109.1148 552,-1100.2539 552,-1092.2088\"/>\n<polygon fill=\"#000000\" stroke=\"#000000\" points=\"552,-1127.7731 547.5001,-1117.773 552,-1122.7731 552.0001,-1117.7731 552.0001,-1117.7731 552.0001,-1117.7731 552,-1122.7731 556.5001,-1117.7731 552,-1127.7731 552,-1127.7731\"/>\n</g>\n<!-- conv18_fwd -->\n<g id=\"node22\" class=\"node\">\n<title>conv18_fwd</title>\n<polygon fill=\"#fb8072\" stroke=\"#000000\" points=\"675.5,-904 580.5,-904 580.5,-846 675.5,-846 675.5,-904\"/>\n<text text-anchor=\"middle\" x=\"628\" y=\"-878.8\" font-family=\"Times,serif\" font-size=\"14.00\" fill=\"#000000\">Convolution</text>\n<text text-anchor=\"middle\" x=\"628\" y=\"-863.8\" font-family=\"Times,serif\" font-size=\"14.00\" fill=\"#000000\">3x3/1x1, 128</text>\n</g>\n<!-- conv18_fwd&#45;&gt;relu5_fwd -->\n<g id=\"edge25\" class=\"edge\">\n<title>conv18_fwd&#45;&gt;relu5_fwd</title>\n<path fill=\"none\" stroke=\"#000000\" d=\"M645.4504,-913.47C648.5804,-922.034 651.3642,-931.1903 653,-940 665.4287,-1006.9372 669.5845,-1033.9586 634,-1092 625.2646,-1106.2483 612.2174,-1118.6504 599.0857,-1128.6931\"/>\n<polygon fill=\"#000000\" stroke=\"#000000\" points=\"641.812,-904.1027 649.6274,-911.7949 643.6224,-908.7634 645.4327,-913.4242 645.4327,-913.4242 645.4327,-913.4242 643.6224,-908.7634 641.238,-915.0535 641.812,-904.1027 641.812,-904.1027\"/>\n</g>\n<!-- batchnorm13_fwd -->\n<g id=\"node23\" class=\"node\">\n<title>batchnorm13_fwd</title>\n<polygon fill=\"#bebada\" stroke=\"#000000\" points=\"644.5,-998 521.5,-998 521.5,-940 644.5,-940 644.5,-998\"/>\n<text text-anchor=\"middle\" x=\"583\" y=\"-965.3\" font-family=\"Times,serif\" font-size=\"14.00\" fill=\"#000000\">batchnorm13_fwd</text>\n</g>\n<!-- batchnorm13_fwd&#45;&gt;conv18_fwd -->\n<g id=\"edge26\" class=\"edge\">\n<title>batchnorm13_fwd&#45;&gt;conv18_fwd</title>\n<path fill=\"none\" stroke=\"#000000\" d=\"M601.3096,-930.7532C605.5501,-921.8954 609.9964,-912.6075 614.017,-904.2088\"/>\n<polygon fill=\"#000000\" stroke=\"#000000\" points=\"596.9916,-939.7731 597.2507,-928.8103 599.1506,-935.2632 601.3096,-930.7534 601.3096,-930.7534 601.3096,-930.7534 599.1506,-935.2632 605.3685,-932.6965 596.9916,-939.7731 596.9916,-939.7731\"/>\n</g>\n<!-- conv19_fwd -->\n<g id=\"node24\" class=\"node\">\n<title>conv19_fwd</title>\n<polygon fill=\"#fb8072\" stroke=\"#000000\" points=\"503.5,-998 408.5,-998 408.5,-940 503.5,-940 503.5,-998\"/>\n<text text-anchor=\"middle\" x=\"456\" y=\"-972.8\" font-family=\"Times,serif\" font-size=\"14.00\" fill=\"#000000\">Convolution</text>\n<text text-anchor=\"middle\" x=\"456\" y=\"-957.8\" font-family=\"Times,serif\" font-size=\"14.00\" fill=\"#000000\">1x1/1x1, 128</text>\n</g>\n<!-- conv19_fwd&#45;&gt;relu4_fwd -->\n<g id=\"edge27\" class=\"edge\">\n<title>conv19_fwd&#45;&gt;relu4_fwd</title>\n<path fill=\"none\" stroke=\"#000000\" d=\"M432.9773,-931.0328C427.5552,-922.091 421.8582,-912.6959 416.7117,-904.2088\"/>\n<polygon fill=\"#000000\" stroke=\"#000000\" points=\"438.2773,-939.7731 429.2444,-933.5556 435.6848,-935.4977 433.0922,-931.2223 433.0922,-931.2223 433.0922,-931.2223 435.6848,-935.4977 436.9401,-928.889 438.2773,-939.7731 438.2773,-939.7731\"/>\n</g>\n<!-- residualblock5__plus0&#45;&gt;batchnorm13_fwd -->\n<g id=\"edge28\" class=\"edge\">\n<title>residualblock5__plus0&#45;&gt;batchnorm13_fwd</title>\n<path fill=\"none\" stroke=\"#000000\" d=\"M564.798,-1024.1932C567.6633,-1015.5047 570.6558,-1006.4307 573.3673,-998.2088\"/>\n<polygon fill=\"#000000\" stroke=\"#000000\" points=\"561.6387,-1033.7731 560.4971,-1022.8668 563.2047,-1029.0246 564.7707,-1024.2762 564.7707,-1024.2762 564.7707,-1024.2762 563.2047,-1029.0246 569.0443,-1025.6856 561.6387,-1033.7731 561.6387,-1033.7731\"/>\n</g>\n<!-- residualblock5__plus0&#45;&gt;conv19_fwd -->\n<g id=\"edge29\" class=\"edge\">\n<title>residualblock5__plus0&#45;&gt;conv19_fwd</title>\n<path fill=\"none\" stroke=\"#000000\" d=\"M514.9315,-1026.7037C505.2959,-1017.2689 495.0397,-1007.2264 485.8303,-998.2088\"/>\n<polygon fill=\"#000000\" stroke=\"#000000\" points=\"522.1512,-1033.7731 511.8578,-1029.9921 518.5787,-1030.2749 515.0061,-1026.7768 515.0061,-1026.7768 515.0061,-1026.7768 518.5787,-1030.2749 518.1544,-1023.5615 522.1512,-1033.7731 522.1512,-1033.7731\"/>\n</g>\n<!-- conv20_fwd -->\n<g id=\"node26\" class=\"node\">\n<title>conv20_fwd</title>\n<polygon fill=\"#fb8072\" stroke=\"#000000\" points=\"543.5,-1280 448.5,-1280 448.5,-1222 543.5,-1222 543.5,-1280\"/>\n<text text-anchor=\"middle\" x=\"496\" y=\"-1254.8\" font-family=\"Times,serif\" font-size=\"14.00\" fill=\"#000000\">Convolution</text>\n<text text-anchor=\"middle\" x=\"496\" y=\"-1239.8\" font-family=\"Times,serif\" font-size=\"14.00\" fill=\"#000000\">3x3/1x1, 128</text>\n</g>\n<!-- conv20_fwd&#45;&gt;relu5_fwd -->\n<g id=\"edge31\" class=\"edge\">\n<title>conv20_fwd&#45;&gt;relu5_fwd</title>\n<path fill=\"none\" stroke=\"#000000\" d=\"M518.6188,-1213.0328C523.9458,-1204.091 529.5429,-1194.6959 534.599,-1186.2088\"/>\n<polygon fill=\"#000000\" stroke=\"#000000\" points=\"513.4118,-1221.7731 514.6639,-1210.8789 515.9708,-1217.4776 518.5299,-1213.1821 518.5299,-1213.1821 518.5299,-1213.1821 515.9708,-1217.4776 522.3958,-1215.4852 513.4118,-1221.7731 513.4118,-1221.7731\"/>\n</g>\n<!-- batchnorm14_fwd -->\n<g id=\"node27\" class=\"node\">\n<title>batchnorm14_fwd</title>\n<polygon fill=\"#bebada\" stroke=\"#000000\" points=\"576.5,-1374 453.5,-1374 453.5,-1316 576.5,-1316 576.5,-1374\"/>\n<text text-anchor=\"middle\" x=\"515\" y=\"-1341.3\" font-family=\"Times,serif\" font-size=\"14.00\" fill=\"#000000\">batchnorm14_fwd</text>\n</g>\n<!-- batchnorm14_fwd&#45;&gt;conv20_fwd -->\n<g id=\"edge32\" class=\"edge\">\n<title>batchnorm14_fwd&#45;&gt;conv20_fwd</title>\n<path fill=\"none\" stroke=\"#000000\" d=\"M507.0994,-1305.9128C505.3605,-1297.3096 503.5479,-1288.3423 501.9039,-1280.2088\"/>\n<polygon fill=\"#000000\" stroke=\"#000000\" points=\"509.0924,-1315.7731 502.7003,-1306.8629 508.1018,-1310.8722 507.1111,-1305.9713 507.1111,-1305.9713 507.1111,-1305.9713 508.1018,-1310.8722 511.5219,-1305.0797 509.0924,-1315.7731 509.0924,-1315.7731\"/>\n</g>\n<!-- relu6_fwd -->\n<g id=\"node28\" class=\"node\">\n<title>relu6_fwd</title>\n<polygon fill=\"#ffffb3\" stroke=\"#000000\" points=\"752,-1468 658,-1468 658,-1410 752,-1410 752,-1468\"/>\n<text text-anchor=\"middle\" x=\"705\" y=\"-1442.8\" font-family=\"Times,serif\" font-size=\"14.00\" fill=\"#000000\">Activation</text>\n<text text-anchor=\"middle\" x=\"705\" y=\"-1427.8\" font-family=\"Times,serif\" font-size=\"14.00\" fill=\"#000000\">relu</text>\n</g>\n<!-- relu6_fwd&#45;&gt;batchnorm14_fwd -->\n<g id=\"edge33\" class=\"edge\">\n<title>relu6_fwd&#45;&gt;batchnorm14_fwd</title>\n<path fill=\"none\" stroke=\"#000000\" d=\"M648.3844,-1410.9902C624.8357,-1399.3398 597.5041,-1385.8178 573.7359,-1374.0588\"/>\n<polygon fill=\"#000000\" stroke=\"#000000\" points=\"657.5451,-1415.5223 646.5865,-1415.1213 653.0636,-1413.3051 648.582,-1411.0879 648.582,-1411.0879 648.582,-1411.0879 653.0636,-1413.3051 650.5775,-1407.0545 657.5451,-1415.5223 657.5451,-1415.5223\"/>\n</g>\n<!-- residualblock6__plus0 -->\n<g id=\"node32\" class=\"node\">\n<title>residualblock6__plus0</title>\n<polygon fill=\"#fccde5\" stroke=\"#000000\" points=\"778.5,-1374 631.5,-1374 631.5,-1316 778.5,-1316 778.5,-1374\"/>\n<text text-anchor=\"middle\" x=\"705\" y=\"-1341.3\" font-family=\"Times,serif\" font-size=\"14.00\" fill=\"#000000\">residualblock6__plus0</text>\n</g>\n<!-- relu6_fwd&#45;&gt;residualblock6__plus0 -->\n<g id=\"edge39\" class=\"edge\">\n<title>relu6_fwd&#45;&gt;residualblock6__plus0</title>\n<path fill=\"none\" stroke=\"#000000\" d=\"M705,-1399.6321C705,-1391.1148 705,-1382.2539 705,-1374.2088\"/>\n<polygon fill=\"#000000\" stroke=\"#000000\" points=\"705,-1409.7731 700.5001,-1399.773 705,-1404.7731 705.0001,-1399.7731 705.0001,-1399.7731 705.0001,-1399.7731 705,-1404.7731 709.5001,-1399.7731 705,-1409.7731 705,-1409.7731\"/>\n</g>\n<!-- conv21_fwd -->\n<g id=\"node29\" class=\"node\">\n<title>conv21_fwd</title>\n<polygon fill=\"#fb8072\" stroke=\"#000000\" points=\"828.5,-1186 733.5,-1186 733.5,-1128 828.5,-1128 828.5,-1186\"/>\n<text text-anchor=\"middle\" x=\"781\" y=\"-1160.8\" font-family=\"Times,serif\" font-size=\"14.00\" fill=\"#000000\">Convolution</text>\n<text text-anchor=\"middle\" x=\"781\" y=\"-1145.8\" font-family=\"Times,serif\" font-size=\"14.00\" fill=\"#000000\">3x3/1x1, 128</text>\n</g>\n<!-- conv21_fwd&#45;&gt;relu6_fwd -->\n<g id=\"edge34\" class=\"edge\">\n<title>conv21_fwd&#45;&gt;relu6_fwd</title>\n<path fill=\"none\" stroke=\"#000000\" d=\"M798.4504,-1195.47C801.5804,-1204.034 804.3642,-1213.1903 806,-1222 818.4287,-1288.9372 822.5845,-1315.9586 787,-1374 778.2646,-1388.2483 765.2174,-1400.6504 752.0857,-1410.6931\"/>\n<polygon fill=\"#000000\" stroke=\"#000000\" points=\"794.812,-1186.1027 802.6274,-1193.7949 796.6224,-1190.7634 798.4327,-1195.4242 798.4327,-1195.4242 798.4327,-1195.4242 796.6224,-1190.7634 794.238,-1197.0535 794.812,-1186.1027 794.812,-1186.1027\"/>\n</g>\n<!-- batchnorm15_fwd -->\n<g id=\"node30\" class=\"node\">\n<title>batchnorm15_fwd</title>\n<polygon fill=\"#bebada\" stroke=\"#000000\" points=\"797.5,-1280 674.5,-1280 674.5,-1222 797.5,-1222 797.5,-1280\"/>\n<text text-anchor=\"middle\" x=\"736\" y=\"-1247.3\" font-family=\"Times,serif\" font-size=\"14.00\" fill=\"#000000\">batchnorm15_fwd</text>\n</g>\n<!-- batchnorm15_fwd&#45;&gt;conv21_fwd -->\n<g id=\"edge35\" class=\"edge\">\n<title>batchnorm15_fwd&#45;&gt;conv21_fwd</title>\n<path fill=\"none\" stroke=\"#000000\" d=\"M754.3096,-1212.7532C758.5501,-1203.8954 762.9964,-1194.6075 767.017,-1186.2088\"/>\n<polygon fill=\"#000000\" stroke=\"#000000\" points=\"749.9916,-1221.7731 750.2507,-1210.8103 752.1506,-1217.2632 754.3096,-1212.7534 754.3096,-1212.7534 754.3096,-1212.7534 752.1506,-1217.2632 758.3685,-1214.6965 749.9916,-1221.7731 749.9916,-1221.7731\"/>\n</g>\n<!-- conv22_fwd -->\n<g id=\"node31\" class=\"node\">\n<title>conv22_fwd</title>\n<polygon fill=\"#fb8072\" stroke=\"#000000\" points=\"656.5,-1280 561.5,-1280 561.5,-1222 656.5,-1222 656.5,-1280\"/>\n<text text-anchor=\"middle\" x=\"609\" y=\"-1254.8\" font-family=\"Times,serif\" font-size=\"14.00\" fill=\"#000000\">Convolution</text>\n<text text-anchor=\"middle\" x=\"609\" y=\"-1239.8\" font-family=\"Times,serif\" font-size=\"14.00\" fill=\"#000000\">1x1/1x1, 128</text>\n</g>\n<!-- conv22_fwd&#45;&gt;relu5_fwd -->\n<g id=\"edge36\" class=\"edge\">\n<title>conv22_fwd&#45;&gt;relu5_fwd</title>\n<path fill=\"none\" stroke=\"#000000\" d=\"M585.9773,-1213.0328C580.5552,-1204.091 574.8582,-1194.6959 569.7117,-1186.2088\"/>\n<polygon fill=\"#000000\" stroke=\"#000000\" points=\"591.2773,-1221.7731 582.2444,-1215.5556 588.6848,-1217.4977 586.0922,-1213.2223 586.0922,-1213.2223 586.0922,-1213.2223 588.6848,-1217.4977 589.9401,-1210.889 591.2773,-1221.7731 591.2773,-1221.7731\"/>\n</g>\n<!-- residualblock6__plus0&#45;&gt;batchnorm15_fwd -->\n<g id=\"edge37\" class=\"edge\">\n<title>residualblock6__plus0&#45;&gt;batchnorm15_fwd</title>\n<path fill=\"none\" stroke=\"#000000\" d=\"M717.798,-1306.1932C720.6633,-1297.5047 723.6558,-1288.4307 726.3673,-1280.2088\"/>\n<polygon fill=\"#000000\" stroke=\"#000000\" points=\"714.6387,-1315.7731 713.4971,-1304.8668 716.2047,-1311.0246 717.7707,-1306.2762 717.7707,-1306.2762 717.7707,-1306.2762 716.2047,-1311.0246 722.0443,-1307.6856 714.6387,-1315.7731 714.6387,-1315.7731\"/>\n</g>\n<!-- residualblock6__plus0&#45;&gt;conv22_fwd -->\n<g id=\"edge38\" class=\"edge\">\n<title>residualblock6__plus0&#45;&gt;conv22_fwd</title>\n<path fill=\"none\" stroke=\"#000000\" d=\"M667.9315,-1308.7037C658.2959,-1299.2689 648.0397,-1289.2264 638.8303,-1280.2088\"/>\n<polygon fill=\"#000000\" stroke=\"#000000\" points=\"675.1512,-1315.7731 664.8578,-1311.9921 671.5787,-1312.2749 668.0061,-1308.7768 668.0061,-1308.7768 668.0061,-1308.7768 671.5787,-1312.2749 671.1544,-1305.5615 675.1512,-1315.7731 675.1512,-1315.7731\"/>\n</g>\n<!-- conv23_fwd -->\n<g id=\"node33\" class=\"node\">\n<title>conv23_fwd</title>\n<polygon fill=\"#fb8072\" stroke=\"#000000\" points=\"696.5,-1562 601.5,-1562 601.5,-1504 696.5,-1504 696.5,-1562\"/>\n<text text-anchor=\"middle\" x=\"649\" y=\"-1536.8\" font-family=\"Times,serif\" font-size=\"14.00\" fill=\"#000000\">Convolution</text>\n<text text-anchor=\"middle\" x=\"649\" y=\"-1521.8\" font-family=\"Times,serif\" font-size=\"14.00\" fill=\"#000000\">3x3/1x1, 256</text>\n</g>\n<!-- conv23_fwd&#45;&gt;relu6_fwd -->\n<g id=\"edge40\" class=\"edge\">\n<title>conv23_fwd&#45;&gt;relu6_fwd</title>\n<path fill=\"none\" stroke=\"#000000\" d=\"M671.6188,-1495.0328C676.9458,-1486.091 682.5429,-1476.6959 687.599,-1468.2088\"/>\n<polygon fill=\"#000000\" stroke=\"#000000\" points=\"666.4118,-1503.7731 667.6639,-1492.8789 668.9708,-1499.4776 671.5299,-1495.1821 671.5299,-1495.1821 671.5299,-1495.1821 668.9708,-1499.4776 675.3958,-1497.4852 666.4118,-1503.7731 666.4118,-1503.7731\"/>\n</g>\n<!-- batchnorm16_fwd -->\n<g id=\"node34\" class=\"node\">\n<title>batchnorm16_fwd</title>\n<polygon fill=\"#bebada\" stroke=\"#000000\" points=\"747.5,-1656 624.5,-1656 624.5,-1598 747.5,-1598 747.5,-1656\"/>\n<text text-anchor=\"middle\" x=\"686\" y=\"-1623.3\" font-family=\"Times,serif\" font-size=\"14.00\" fill=\"#000000\">batchnorm16_fwd</text>\n</g>\n<!-- batchnorm16_fwd&#45;&gt;conv23_fwd -->\n<g id=\"edge41\" class=\"edge\">\n<title>batchnorm16_fwd&#45;&gt;conv23_fwd</title>\n<path fill=\"none\" stroke=\"#000000\" d=\"M670.725,-1588.1932C667.305,-1579.5047 663.7334,-1570.4307 660.4971,-1562.2088\"/>\n<polygon fill=\"#000000\" stroke=\"#000000\" points=\"674.4958,-1597.7731 666.6458,-1590.1162 672.6644,-1593.1205 670.8331,-1588.468 670.8331,-1588.468 670.8331,-1588.468 672.6644,-1593.1205 675.0204,-1586.8198 674.4958,-1597.7731 674.4958,-1597.7731\"/>\n</g>\n<!-- relu7_fwd -->\n<g id=\"node35\" class=\"node\">\n<title>relu7_fwd</title>\n<polygon fill=\"#ffffb3\" stroke=\"#000000\" points=\"905,-1750 811,-1750 811,-1692 905,-1692 905,-1750\"/>\n<text text-anchor=\"middle\" x=\"858\" y=\"-1724.8\" font-family=\"Times,serif\" font-size=\"14.00\" fill=\"#000000\">Activation</text>\n<text text-anchor=\"middle\" x=\"858\" y=\"-1709.8\" font-family=\"Times,serif\" font-size=\"14.00\" fill=\"#000000\">relu</text>\n</g>\n<!-- relu7_fwd&#45;&gt;batchnorm16_fwd -->\n<g id=\"edge42\" class=\"edge\">\n<title>relu7_fwd&#45;&gt;batchnorm16_fwd</title>\n<path fill=\"none\" stroke=\"#000000\" d=\"M801.5419,-1690.145C781.5351,-1679.211 759.1002,-1666.9501 739.3596,-1656.1617\"/>\n<polygon fill=\"#000000\" stroke=\"#000000\" points=\"810.5449,-1695.0653 799.6118,-1694.2183 806.1574,-1692.6674 801.7699,-1690.2695 801.7699,-1690.2695 801.7699,-1690.2695 806.1574,-1692.6674 803.9279,-1686.3208 810.5449,-1695.0653 810.5449,-1695.0653\"/>\n</g>\n<!-- residualblock7__plus0 -->\n<g id=\"node39\" class=\"node\">\n<title>residualblock7__plus0</title>\n<polygon fill=\"#fccde5\" stroke=\"#000000\" points=\"931.5,-1656 784.5,-1656 784.5,-1598 931.5,-1598 931.5,-1656\"/>\n<text text-anchor=\"middle\" x=\"858\" y=\"-1623.3\" font-family=\"Times,serif\" font-size=\"14.00\" fill=\"#000000\">residualblock7__plus0</text>\n</g>\n<!-- relu7_fwd&#45;&gt;residualblock7__plus0 -->\n<g id=\"edge48\" class=\"edge\">\n<title>relu7_fwd&#45;&gt;residualblock7__plus0</title>\n<path fill=\"none\" stroke=\"#000000\" d=\"M858,-1681.6321C858,-1673.1148 858,-1664.2539 858,-1656.2088\"/>\n<polygon fill=\"#000000\" stroke=\"#000000\" points=\"858,-1691.7731 853.5001,-1681.773 858,-1686.7731 858.0001,-1681.7731 858.0001,-1681.7731 858.0001,-1681.7731 858,-1686.7731 862.5001,-1681.7731 858,-1691.7731 858,-1691.7731\"/>\n</g>\n<!-- conv24_fwd -->\n<g id=\"node36\" class=\"node\">\n<title>conv24_fwd</title>\n<polygon fill=\"#fb8072\" stroke=\"#000000\" points=\"981.5,-1468 886.5,-1468 886.5,-1410 981.5,-1410 981.5,-1468\"/>\n<text text-anchor=\"middle\" x=\"934\" y=\"-1442.8\" font-family=\"Times,serif\" font-size=\"14.00\" fill=\"#000000\">Convolution</text>\n<text text-anchor=\"middle\" x=\"934\" y=\"-1427.8\" font-family=\"Times,serif\" font-size=\"14.00\" fill=\"#000000\">3x3/1x1, 256</text>\n</g>\n<!-- conv24_fwd&#45;&gt;relu7_fwd -->\n<g id=\"edge43\" class=\"edge\">\n<title>conv24_fwd&#45;&gt;relu7_fwd</title>\n<path fill=\"none\" stroke=\"#000000\" d=\"M951.4504,-1477.47C954.5804,-1486.034 957.3642,-1495.1903 959,-1504 971.4287,-1570.9372 975.5845,-1597.9586 940,-1656 931.2646,-1670.2483 918.2174,-1682.6504 905.0857,-1692.6931\"/>\n<polygon fill=\"#000000\" stroke=\"#000000\" points=\"947.812,-1468.1027 955.6274,-1475.7949 949.6224,-1472.7634 951.4327,-1477.4242 951.4327,-1477.4242 951.4327,-1477.4242 949.6224,-1472.7634 947.238,-1479.0535 947.812,-1468.1027 947.812,-1468.1027\"/>\n</g>\n<!-- batchnorm17_fwd -->\n<g id=\"node37\" class=\"node\">\n<title>batchnorm17_fwd</title>\n<polygon fill=\"#bebada\" stroke=\"#000000\" points=\"950.5,-1562 827.5,-1562 827.5,-1504 950.5,-1504 950.5,-1562\"/>\n<text text-anchor=\"middle\" x=\"889\" y=\"-1529.3\" font-family=\"Times,serif\" font-size=\"14.00\" fill=\"#000000\">batchnorm17_fwd</text>\n</g>\n<!-- batchnorm17_fwd&#45;&gt;conv24_fwd -->\n<g id=\"edge44\" class=\"edge\">\n<title>batchnorm17_fwd&#45;&gt;conv24_fwd</title>\n<path fill=\"none\" stroke=\"#000000\" d=\"M907.3096,-1494.7532C911.5501,-1485.8954 915.9964,-1476.6075 920.017,-1468.2088\"/>\n<polygon fill=\"#000000\" stroke=\"#000000\" points=\"902.9916,-1503.7731 903.2507,-1492.8103 905.1506,-1499.2632 907.3096,-1494.7534 907.3096,-1494.7534 907.3096,-1494.7534 905.1506,-1499.2632 911.3685,-1496.6965 902.9916,-1503.7731 902.9916,-1503.7731\"/>\n</g>\n<!-- conv25_fwd -->\n<g id=\"node38\" class=\"node\">\n<title>conv25_fwd</title>\n<polygon fill=\"#fb8072\" stroke=\"#000000\" points=\"809.5,-1562 714.5,-1562 714.5,-1504 809.5,-1504 809.5,-1562\"/>\n<text text-anchor=\"middle\" x=\"762\" y=\"-1536.8\" font-family=\"Times,serif\" font-size=\"14.00\" fill=\"#000000\">Convolution</text>\n<text text-anchor=\"middle\" x=\"762\" y=\"-1521.8\" font-family=\"Times,serif\" font-size=\"14.00\" fill=\"#000000\">1x1/1x1, 256</text>\n</g>\n<!-- conv25_fwd&#45;&gt;relu6_fwd -->\n<g id=\"edge45\" class=\"edge\">\n<title>conv25_fwd&#45;&gt;relu6_fwd</title>\n<path fill=\"none\" stroke=\"#000000\" d=\"M738.9773,-1495.0328C733.5552,-1486.091 727.8582,-1476.6959 722.7117,-1468.2088\"/>\n<polygon fill=\"#000000\" stroke=\"#000000\" points=\"744.2773,-1503.7731 735.2444,-1497.5556 741.6848,-1499.4977 739.0922,-1495.2223 739.0922,-1495.2223 739.0922,-1495.2223 741.6848,-1499.4977 742.9401,-1492.889 744.2773,-1503.7731 744.2773,-1503.7731\"/>\n</g>\n<!-- residualblock7__plus0&#45;&gt;batchnorm17_fwd -->\n<g id=\"edge46\" class=\"edge\">\n<title>residualblock7__plus0&#45;&gt;batchnorm17_fwd</title>\n<path fill=\"none\" stroke=\"#000000\" d=\"M870.798,-1588.1932C873.6633,-1579.5047 876.6558,-1570.4307 879.3673,-1562.2088\"/>\n<polygon fill=\"#000000\" stroke=\"#000000\" points=\"867.6387,-1597.7731 866.4971,-1586.8668 869.2047,-1593.0246 870.7707,-1588.2762 870.7707,-1588.2762 870.7707,-1588.2762 869.2047,-1593.0246 875.0443,-1589.6856 867.6387,-1597.7731 867.6387,-1597.7731\"/>\n</g>\n<!-- residualblock7__plus0&#45;&gt;conv25_fwd -->\n<g id=\"edge47\" class=\"edge\">\n<title>residualblock7__plus0&#45;&gt;conv25_fwd</title>\n<path fill=\"none\" stroke=\"#000000\" d=\"M820.9315,-1590.7037C811.2959,-1581.2689 801.0397,-1571.2264 791.8303,-1562.2088\"/>\n<polygon fill=\"#000000\" stroke=\"#000000\" points=\"828.1512,-1597.7731 817.8578,-1593.9921 824.5787,-1594.2749 821.0061,-1590.7768 821.0061,-1590.7768 821.0061,-1590.7768 824.5787,-1594.2749 824.1544,-1587.5615 828.1512,-1597.7731 828.1512,-1597.7731\"/>\n</g>\n<!-- conv26_fwd -->\n<g id=\"node40\" class=\"node\">\n<title>conv26_fwd</title>\n<polygon fill=\"#fb8072\" stroke=\"#000000\" points=\"849.5,-1844 754.5,-1844 754.5,-1786 849.5,-1786 849.5,-1844\"/>\n<text text-anchor=\"middle\" x=\"802\" y=\"-1818.8\" font-family=\"Times,serif\" font-size=\"14.00\" fill=\"#000000\">Convolution</text>\n<text text-anchor=\"middle\" x=\"802\" y=\"-1803.8\" font-family=\"Times,serif\" font-size=\"14.00\" fill=\"#000000\">3x3/1x1, 256</text>\n</g>\n<!-- conv26_fwd&#45;&gt;relu7_fwd -->\n<g id=\"edge49\" class=\"edge\">\n<title>conv26_fwd&#45;&gt;relu7_fwd</title>\n<path fill=\"none\" stroke=\"#000000\" d=\"M824.6188,-1777.0328C829.9458,-1768.091 835.5429,-1758.6959 840.599,-1750.2088\"/>\n<polygon fill=\"#000000\" stroke=\"#000000\" points=\"819.4118,-1785.7731 820.6639,-1774.8789 821.9708,-1781.4776 824.5299,-1777.1821 824.5299,-1777.1821 824.5299,-1777.1821 821.9708,-1781.4776 828.3958,-1779.4852 819.4118,-1785.7731 819.4118,-1785.7731\"/>\n</g>\n<!-- batchnorm18_fwd -->\n<g id=\"node41\" class=\"node\">\n<title>batchnorm18_fwd</title>\n<polygon fill=\"#bebada\" stroke=\"#000000\" points=\"900.5,-1938 777.5,-1938 777.5,-1880 900.5,-1880 900.5,-1938\"/>\n<text text-anchor=\"middle\" x=\"839\" y=\"-1905.3\" font-family=\"Times,serif\" font-size=\"14.00\" fill=\"#000000\">batchnorm18_fwd</text>\n</g>\n<!-- batchnorm18_fwd&#45;&gt;conv26_fwd -->\n<g id=\"edge50\" class=\"edge\">\n<title>batchnorm18_fwd&#45;&gt;conv26_fwd</title>\n<path fill=\"none\" stroke=\"#000000\" d=\"M823.725,-1870.1932C820.305,-1861.5047 816.7334,-1852.4307 813.4971,-1844.2088\"/>\n<polygon fill=\"#000000\" stroke=\"#000000\" points=\"827.4958,-1879.7731 819.6458,-1872.1162 825.6644,-1875.1205 823.8331,-1870.468 823.8331,-1870.468 823.8331,-1870.468 825.6644,-1875.1205 828.0204,-1868.8198 827.4958,-1879.7731 827.4958,-1879.7731\"/>\n</g>\n<!-- relu8_fwd -->\n<g id=\"node42\" class=\"node\">\n<title>relu8_fwd</title>\n<polygon fill=\"#ffffb3\" stroke=\"#000000\" points=\"1058,-2032 964,-2032 964,-1974 1058,-1974 1058,-2032\"/>\n<text text-anchor=\"middle\" x=\"1011\" y=\"-2006.8\" font-family=\"Times,serif\" font-size=\"14.00\" fill=\"#000000\">Activation</text>\n<text text-anchor=\"middle\" x=\"1011\" y=\"-1991.8\" font-family=\"Times,serif\" font-size=\"14.00\" fill=\"#000000\">relu</text>\n</g>\n<!-- relu8_fwd&#45;&gt;batchnorm18_fwd -->\n<g id=\"edge51\" class=\"edge\">\n<title>relu8_fwd&#45;&gt;batchnorm18_fwd</title>\n<path fill=\"none\" stroke=\"#000000\" d=\"M954.5419,-1972.145C934.5351,-1961.211 912.1002,-1948.9501 892.3596,-1938.1617\"/>\n<polygon fill=\"#000000\" stroke=\"#000000\" points=\"963.5449,-1977.0653 952.6118,-1976.2183 959.1574,-1974.6674 954.7699,-1972.2695 954.7699,-1972.2695 954.7699,-1972.2695 959.1574,-1974.6674 956.9279,-1968.3208 963.5449,-1977.0653 963.5449,-1977.0653\"/>\n</g>\n<!-- residualblock8__plus0 -->\n<g id=\"node46\" class=\"node\">\n<title>residualblock8__plus0</title>\n<polygon fill=\"#fccde5\" stroke=\"#000000\" points=\"1084.5,-1938 937.5,-1938 937.5,-1880 1084.5,-1880 1084.5,-1938\"/>\n<text text-anchor=\"middle\" x=\"1011\" y=\"-1905.3\" font-family=\"Times,serif\" font-size=\"14.00\" fill=\"#000000\">residualblock8__plus0</text>\n</g>\n<!-- relu8_fwd&#45;&gt;residualblock8__plus0 -->\n<g id=\"edge57\" class=\"edge\">\n<title>relu8_fwd&#45;&gt;residualblock8__plus0</title>\n<path fill=\"none\" stroke=\"#000000\" d=\"M1011,-1963.6321C1011,-1955.1148 1011,-1946.2539 1011,-1938.2088\"/>\n<polygon fill=\"#000000\" stroke=\"#000000\" points=\"1011,-1973.7731 1006.5001,-1963.773 1011,-1968.7731 1011.0001,-1963.7731 1011.0001,-1963.7731 1011.0001,-1963.7731 1011,-1968.7731 1015.5001,-1963.7731 1011,-1973.7731 1011,-1973.7731\"/>\n</g>\n<!-- conv27_fwd -->\n<g id=\"node43\" class=\"node\">\n<title>conv27_fwd</title>\n<polygon fill=\"#fb8072\" stroke=\"#000000\" points=\"1134.5,-1750 1039.5,-1750 1039.5,-1692 1134.5,-1692 1134.5,-1750\"/>\n<text text-anchor=\"middle\" x=\"1087\" y=\"-1724.8\" font-family=\"Times,serif\" font-size=\"14.00\" fill=\"#000000\">Convolution</text>\n<text text-anchor=\"middle\" x=\"1087\" y=\"-1709.8\" font-family=\"Times,serif\" font-size=\"14.00\" fill=\"#000000\">3x3/1x1, 256</text>\n</g>\n<!-- conv27_fwd&#45;&gt;relu8_fwd -->\n<g id=\"edge52\" class=\"edge\">\n<title>conv27_fwd&#45;&gt;relu8_fwd</title>\n<path fill=\"none\" stroke=\"#000000\" d=\"M1104.4504,-1759.47C1107.5804,-1768.034 1110.3642,-1777.1903 1112,-1786 1124.4287,-1852.9372 1128.5845,-1879.9586 1093,-1938 1084.2646,-1952.2483 1071.2174,-1964.6504 1058.0857,-1974.6931\"/>\n<polygon fill=\"#000000\" stroke=\"#000000\" points=\"1100.812,-1750.1027 1108.6274,-1757.7949 1102.6224,-1754.7634 1104.4327,-1759.4242 1104.4327,-1759.4242 1104.4327,-1759.4242 1102.6224,-1754.7634 1100.238,-1761.0535 1100.812,-1750.1027 1100.812,-1750.1027\"/>\n</g>\n<!-- batchnorm19_fwd -->\n<g id=\"node44\" class=\"node\">\n<title>batchnorm19_fwd</title>\n<polygon fill=\"#bebada\" stroke=\"#000000\" points=\"1103.5,-1844 980.5,-1844 980.5,-1786 1103.5,-1786 1103.5,-1844\"/>\n<text text-anchor=\"middle\" x=\"1042\" y=\"-1811.3\" font-family=\"Times,serif\" font-size=\"14.00\" fill=\"#000000\">batchnorm19_fwd</text>\n</g>\n<!-- batchnorm19_fwd&#45;&gt;conv27_fwd -->\n<g id=\"edge53\" class=\"edge\">\n<title>batchnorm19_fwd&#45;&gt;conv27_fwd</title>\n<path fill=\"none\" stroke=\"#000000\" d=\"M1060.3096,-1776.7532C1064.5501,-1767.8954 1068.9964,-1758.6075 1073.017,-1750.2088\"/>\n<polygon fill=\"#000000\" stroke=\"#000000\" points=\"1055.9916,-1785.7731 1056.2507,-1774.8103 1058.1506,-1781.2632 1060.3096,-1776.7534 1060.3096,-1776.7534 1060.3096,-1776.7534 1058.1506,-1781.2632 1064.3685,-1778.6965 1055.9916,-1785.7731 1055.9916,-1785.7731\"/>\n</g>\n<!-- conv28_fwd -->\n<g id=\"node45\" class=\"node\">\n<title>conv28_fwd</title>\n<polygon fill=\"#fb8072\" stroke=\"#000000\" points=\"962.5,-1844 867.5,-1844 867.5,-1786 962.5,-1786 962.5,-1844\"/>\n<text text-anchor=\"middle\" x=\"915\" y=\"-1818.8\" font-family=\"Times,serif\" font-size=\"14.00\" fill=\"#000000\">Convolution</text>\n<text text-anchor=\"middle\" x=\"915\" y=\"-1803.8\" font-family=\"Times,serif\" font-size=\"14.00\" fill=\"#000000\">1x1/1x1, 256</text>\n</g>\n<!-- conv28_fwd&#45;&gt;relu7_fwd -->\n<g id=\"edge54\" class=\"edge\">\n<title>conv28_fwd&#45;&gt;relu7_fwd</title>\n<path fill=\"none\" stroke=\"#000000\" d=\"M891.9773,-1777.0328C886.5552,-1768.091 880.8582,-1758.6959 875.7117,-1750.2088\"/>\n<polygon fill=\"#000000\" stroke=\"#000000\" points=\"897.2773,-1785.7731 888.2444,-1779.5556 894.6848,-1781.4977 892.0922,-1777.2223 892.0922,-1777.2223 892.0922,-1777.2223 894.6848,-1781.4977 895.9401,-1774.889 897.2773,-1785.7731 897.2773,-1785.7731\"/>\n</g>\n<!-- residualblock8__plus0&#45;&gt;batchnorm19_fwd -->\n<g id=\"edge55\" class=\"edge\">\n<title>residualblock8__plus0&#45;&gt;batchnorm19_fwd</title>\n<path fill=\"none\" stroke=\"#000000\" d=\"M1023.798,-1870.1932C1026.6633,-1861.5047 1029.6558,-1852.4307 1032.3673,-1844.2088\"/>\n<polygon fill=\"#000000\" stroke=\"#000000\" points=\"1020.6387,-1879.7731 1019.4971,-1868.8668 1022.2047,-1875.0246 1023.7707,-1870.2762 1023.7707,-1870.2762 1023.7707,-1870.2762 1022.2047,-1875.0246 1028.0443,-1871.6856 1020.6387,-1879.7731 1020.6387,-1879.7731\"/>\n</g>\n<!-- residualblock8__plus0&#45;&gt;conv28_fwd -->\n<g id=\"edge56\" class=\"edge\">\n<title>residualblock8__plus0&#45;&gt;conv28_fwd</title>\n<path fill=\"none\" stroke=\"#000000\" d=\"M973.9315,-1872.7037C964.2959,-1863.2689 954.0397,-1853.2264 944.8303,-1844.2088\"/>\n<polygon fill=\"#000000\" stroke=\"#000000\" points=\"981.1512,-1879.7731 970.8578,-1875.9921 977.5787,-1876.2749 974.0061,-1872.7768 974.0061,-1872.7768 974.0061,-1872.7768 977.5787,-1876.2749 977.1544,-1869.5615 981.1512,-1879.7731 981.1512,-1879.7731\"/>\n</g>\n<!-- conv29_fwd -->\n<g id=\"node47\" class=\"node\">\n<title>conv29_fwd</title>\n<polygon fill=\"#fb8072\" stroke=\"#000000\" points=\"1002.5,-2126 907.5,-2126 907.5,-2068 1002.5,-2068 1002.5,-2126\"/>\n<text text-anchor=\"middle\" x=\"955\" y=\"-2100.8\" font-family=\"Times,serif\" font-size=\"14.00\" fill=\"#000000\">Convolution</text>\n<text text-anchor=\"middle\" x=\"955\" y=\"-2085.8\" font-family=\"Times,serif\" font-size=\"14.00\" fill=\"#000000\">3x3/1x1, 512</text>\n</g>\n<!-- conv29_fwd&#45;&gt;relu8_fwd -->\n<g id=\"edge58\" class=\"edge\">\n<title>conv29_fwd&#45;&gt;relu8_fwd</title>\n<path fill=\"none\" stroke=\"#000000\" d=\"M977.6188,-2059.0328C982.9458,-2050.091 988.5429,-2040.6959 993.599,-2032.2088\"/>\n<polygon fill=\"#000000\" stroke=\"#000000\" points=\"972.4118,-2067.7731 973.6639,-2056.8789 974.9708,-2063.4776 977.5299,-2059.1821 977.5299,-2059.1821 977.5299,-2059.1821 974.9708,-2063.4776 981.3958,-2061.4852 972.4118,-2067.7731 972.4118,-2067.7731\"/>\n</g>\n<!-- batchnorm20_fwd -->\n<g id=\"node48\" class=\"node\">\n<title>batchnorm20_fwd</title>\n<polygon fill=\"#bebada\" stroke=\"#000000\" points=\"1035.5,-2220 912.5,-2220 912.5,-2162 1035.5,-2162 1035.5,-2220\"/>\n<text text-anchor=\"middle\" x=\"974\" y=\"-2187.3\" font-family=\"Times,serif\" font-size=\"14.00\" fill=\"#000000\">batchnorm20_fwd</text>\n</g>\n<!-- batchnorm20_fwd&#45;&gt;conv29_fwd -->\n<g id=\"edge59\" class=\"edge\">\n<title>batchnorm20_fwd&#45;&gt;conv29_fwd</title>\n<path fill=\"none\" stroke=\"#000000\" d=\"M966.0994,-2151.9128C964.3605,-2143.3096 962.5479,-2134.3423 960.9039,-2126.2088\"/>\n<polygon fill=\"#000000\" stroke=\"#000000\" points=\"968.0924,-2161.7731 961.7003,-2152.8629 967.1018,-2156.8722 966.1111,-2151.9713 966.1111,-2151.9713 966.1111,-2151.9713 967.1018,-2156.8722 970.5219,-2151.0797 968.0924,-2161.7731 968.0924,-2161.7731\"/>\n</g>\n<!-- relu9_fwd -->\n<g id=\"node49\" class=\"node\">\n<title>relu9_fwd</title>\n<polygon fill=\"#ffffb3\" stroke=\"#000000\" points=\"1211,-2314 1117,-2314 1117,-2256 1211,-2256 1211,-2314\"/>\n<text text-anchor=\"middle\" x=\"1164\" y=\"-2288.8\" font-family=\"Times,serif\" font-size=\"14.00\" fill=\"#000000\">Activation</text>\n<text text-anchor=\"middle\" x=\"1164\" y=\"-2273.8\" font-family=\"Times,serif\" font-size=\"14.00\" fill=\"#000000\">relu</text>\n</g>\n<!-- relu9_fwd&#45;&gt;batchnorm20_fwd -->\n<g id=\"edge60\" class=\"edge\">\n<title>relu9_fwd&#45;&gt;batchnorm20_fwd</title>\n<path fill=\"none\" stroke=\"#000000\" d=\"M1107.3844,-2256.9902C1083.8357,-2245.3398 1056.5041,-2231.8178 1032.7359,-2220.0588\"/>\n<polygon fill=\"#000000\" stroke=\"#000000\" points=\"1116.5451,-2261.5223 1105.5865,-2261.1213 1112.0636,-2259.3051 1107.582,-2257.0879 1107.582,-2257.0879 1107.582,-2257.0879 1112.0636,-2259.3051 1109.5775,-2253.0545 1116.5451,-2261.5223 1116.5451,-2261.5223\"/>\n</g>\n<!-- residualblock9__plus0 -->\n<g id=\"node53\" class=\"node\">\n<title>residualblock9__plus0</title>\n<polygon fill=\"#fccde5\" stroke=\"#000000\" points=\"1237.5,-2220 1090.5,-2220 1090.5,-2162 1237.5,-2162 1237.5,-2220\"/>\n<text text-anchor=\"middle\" x=\"1164\" y=\"-2187.3\" font-family=\"Times,serif\" font-size=\"14.00\" fill=\"#000000\">residualblock9__plus0</text>\n</g>\n<!-- relu9_fwd&#45;&gt;residualblock9__plus0 -->\n<g id=\"edge66\" class=\"edge\">\n<title>relu9_fwd&#45;&gt;residualblock9__plus0</title>\n<path fill=\"none\" stroke=\"#000000\" d=\"M1164,-2245.6321C1164,-2237.1148 1164,-2228.2539 1164,-2220.2088\"/>\n<polygon fill=\"#000000\" stroke=\"#000000\" points=\"1164,-2255.7731 1159.5001,-2245.773 1164,-2250.7731 1164.0001,-2245.7731 1164.0001,-2245.7731 1164.0001,-2245.7731 1164,-2250.7731 1168.5001,-2245.7731 1164,-2255.7731 1164,-2255.7731\"/>\n</g>\n<!-- conv30_fwd -->\n<g id=\"node50\" class=\"node\">\n<title>conv30_fwd</title>\n<polygon fill=\"#fb8072\" stroke=\"#000000\" points=\"1287.5,-2032 1192.5,-2032 1192.5,-1974 1287.5,-1974 1287.5,-2032\"/>\n<text text-anchor=\"middle\" x=\"1240\" y=\"-2006.8\" font-family=\"Times,serif\" font-size=\"14.00\" fill=\"#000000\">Convolution</text>\n<text text-anchor=\"middle\" x=\"1240\" y=\"-1991.8\" font-family=\"Times,serif\" font-size=\"14.00\" fill=\"#000000\">3x3/1x1, 512</text>\n</g>\n<!-- conv30_fwd&#45;&gt;relu9_fwd -->\n<g id=\"edge61\" class=\"edge\">\n<title>conv30_fwd&#45;&gt;relu9_fwd</title>\n<path fill=\"none\" stroke=\"#000000\" d=\"M1257.4504,-2041.47C1260.5804,-2050.034 1263.3642,-2059.1903 1265,-2068 1277.4287,-2134.9372 1281.5845,-2161.9586 1246,-2220 1237.2646,-2234.2483 1224.2174,-2246.6504 1211.0857,-2256.6931\"/>\n<polygon fill=\"#000000\" stroke=\"#000000\" points=\"1253.812,-2032.1027 1261.6274,-2039.7949 1255.6224,-2036.7634 1257.4327,-2041.4242 1257.4327,-2041.4242 1257.4327,-2041.4242 1255.6224,-2036.7634 1253.238,-2043.0535 1253.812,-2032.1027 1253.812,-2032.1027\"/>\n</g>\n<!-- batchnorm21_fwd -->\n<g id=\"node51\" class=\"node\">\n<title>batchnorm21_fwd</title>\n<polygon fill=\"#bebada\" stroke=\"#000000\" points=\"1256.5,-2126 1133.5,-2126 1133.5,-2068 1256.5,-2068 1256.5,-2126\"/>\n<text text-anchor=\"middle\" x=\"1195\" y=\"-2093.3\" font-family=\"Times,serif\" font-size=\"14.00\" fill=\"#000000\">batchnorm21_fwd</text>\n</g>\n<!-- batchnorm21_fwd&#45;&gt;conv30_fwd -->\n<g id=\"edge62\" class=\"edge\">\n<title>batchnorm21_fwd&#45;&gt;conv30_fwd</title>\n<path fill=\"none\" stroke=\"#000000\" d=\"M1213.3096,-2058.7532C1217.5501,-2049.8954 1221.9964,-2040.6075 1226.017,-2032.2088\"/>\n<polygon fill=\"#000000\" stroke=\"#000000\" points=\"1208.9916,-2067.7731 1209.2507,-2056.8103 1211.1506,-2063.2632 1213.3096,-2058.7534 1213.3096,-2058.7534 1213.3096,-2058.7534 1211.1506,-2063.2632 1217.3685,-2060.6965 1208.9916,-2067.7731 1208.9916,-2067.7731\"/>\n</g>\n<!-- conv31_fwd -->\n<g id=\"node52\" class=\"node\">\n<title>conv31_fwd</title>\n<polygon fill=\"#fb8072\" stroke=\"#000000\" points=\"1115.5,-2126 1020.5,-2126 1020.5,-2068 1115.5,-2068 1115.5,-2126\"/>\n<text text-anchor=\"middle\" x=\"1068\" y=\"-2100.8\" font-family=\"Times,serif\" font-size=\"14.00\" fill=\"#000000\">Convolution</text>\n<text text-anchor=\"middle\" x=\"1068\" y=\"-2085.8\" font-family=\"Times,serif\" font-size=\"14.00\" fill=\"#000000\">1x1/1x1, 512</text>\n</g>\n<!-- conv31_fwd&#45;&gt;relu8_fwd -->\n<g id=\"edge63\" class=\"edge\">\n<title>conv31_fwd&#45;&gt;relu8_fwd</title>\n<path fill=\"none\" stroke=\"#000000\" d=\"M1044.9773,-2059.0328C1039.5552,-2050.091 1033.8582,-2040.6959 1028.7117,-2032.2088\"/>\n<polygon fill=\"#000000\" stroke=\"#000000\" points=\"1050.2773,-2067.7731 1041.2444,-2061.5556 1047.6848,-2063.4977 1045.0922,-2059.2223 1045.0922,-2059.2223 1045.0922,-2059.2223 1047.6848,-2063.4977 1048.9401,-2056.889 1050.2773,-2067.7731 1050.2773,-2067.7731\"/>\n</g>\n<!-- residualblock9__plus0&#45;&gt;batchnorm21_fwd -->\n<g id=\"edge64\" class=\"edge\">\n<title>residualblock9__plus0&#45;&gt;batchnorm21_fwd</title>\n<path fill=\"none\" stroke=\"#000000\" d=\"M1176.798,-2152.1932C1179.6633,-2143.5047 1182.6558,-2134.4307 1185.3673,-2126.2088\"/>\n<polygon fill=\"#000000\" stroke=\"#000000\" points=\"1173.6387,-2161.7731 1172.4971,-2150.8668 1175.2047,-2157.0246 1176.7707,-2152.2762 1176.7707,-2152.2762 1176.7707,-2152.2762 1175.2047,-2157.0246 1181.0443,-2153.6856 1173.6387,-2161.7731 1173.6387,-2161.7731\"/>\n</g>\n<!-- residualblock9__plus0&#45;&gt;conv31_fwd -->\n<g id=\"edge65\" class=\"edge\">\n<title>residualblock9__plus0&#45;&gt;conv31_fwd</title>\n<path fill=\"none\" stroke=\"#000000\" d=\"M1126.9315,-2154.7037C1117.2959,-2145.2689 1107.0397,-2135.2264 1097.8303,-2126.2088\"/>\n<polygon fill=\"#000000\" stroke=\"#000000\" points=\"1134.1512,-2161.7731 1123.8578,-2157.9921 1130.5787,-2158.2749 1127.0061,-2154.7768 1127.0061,-2154.7768 1127.0061,-2154.7768 1130.5787,-2158.2749 1130.1544,-2151.5615 1134.1512,-2161.7731 1134.1512,-2161.7731\"/>\n</g>\n<!-- conv32_fwd -->\n<g id=\"node54\" class=\"node\">\n<title>conv32_fwd</title>\n<polygon fill=\"#fb8072\" stroke=\"#000000\" points=\"1155.5,-2408 1060.5,-2408 1060.5,-2350 1155.5,-2350 1155.5,-2408\"/>\n<text text-anchor=\"middle\" x=\"1108\" y=\"-2382.8\" font-family=\"Times,serif\" font-size=\"14.00\" fill=\"#000000\">Convolution</text>\n<text text-anchor=\"middle\" x=\"1108\" y=\"-2367.8\" font-family=\"Times,serif\" font-size=\"14.00\" fill=\"#000000\">3x3/1x1, 512</text>\n</g>\n<!-- conv32_fwd&#45;&gt;relu9_fwd -->\n<g id=\"edge67\" class=\"edge\">\n<title>conv32_fwd&#45;&gt;relu9_fwd</title>\n<path fill=\"none\" stroke=\"#000000\" d=\"M1130.6188,-2341.0328C1135.9458,-2332.091 1141.5429,-2322.6959 1146.599,-2314.2088\"/>\n<polygon fill=\"#000000\" stroke=\"#000000\" points=\"1125.4118,-2349.7731 1126.6639,-2338.8789 1127.9708,-2345.4776 1130.5299,-2341.1821 1130.5299,-2341.1821 1130.5299,-2341.1821 1127.9708,-2345.4776 1134.3958,-2343.4852 1125.4118,-2349.7731 1125.4118,-2349.7731\"/>\n</g>\n<!-- batchnorm22_fwd -->\n<g id=\"node55\" class=\"node\">\n<title>batchnorm22_fwd</title>\n<polygon fill=\"#bebada\" stroke=\"#000000\" points=\"1186.5,-2502 1063.5,-2502 1063.5,-2444 1186.5,-2444 1186.5,-2502\"/>\n<text text-anchor=\"middle\" x=\"1125\" y=\"-2469.3\" font-family=\"Times,serif\" font-size=\"14.00\" fill=\"#000000\">batchnorm22_fwd</text>\n</g>\n<!-- batchnorm22_fwd&#45;&gt;conv32_fwd -->\n<g id=\"edge68\" class=\"edge\">\n<title>batchnorm22_fwd&#45;&gt;conv32_fwd</title>\n<path fill=\"none\" stroke=\"#000000\" d=\"M1117.931,-2433.9128C1116.3751,-2425.3096 1114.7534,-2416.3423 1113.2825,-2408.2088\"/>\n<polygon fill=\"#000000\" stroke=\"#000000\" points=\"1119.7143,-2443.7731 1113.5064,-2434.7336 1118.8244,-2438.8529 1117.9346,-2433.9327 1117.9346,-2433.9327 1117.9346,-2433.9327 1118.8244,-2438.8529 1122.3627,-2433.1318 1119.7143,-2443.7731 1119.7143,-2443.7731\"/>\n</g>\n<!-- relu10_fwd -->\n<g id=\"node56\" class=\"node\">\n<title>relu10_fwd</title>\n<polygon fill=\"#ffffb3\" stroke=\"#000000\" points=\"1362,-2596 1268,-2596 1268,-2538 1362,-2538 1362,-2596\"/>\n<text text-anchor=\"middle\" x=\"1315\" y=\"-2570.8\" font-family=\"Times,serif\" font-size=\"14.00\" fill=\"#000000\">Activation</text>\n<text text-anchor=\"middle\" x=\"1315\" y=\"-2555.8\" font-family=\"Times,serif\" font-size=\"14.00\" fill=\"#000000\">relu</text>\n</g>\n<!-- relu10_fwd&#45;&gt;batchnorm22_fwd -->\n<g id=\"edge69\" class=\"edge\">\n<title>relu10_fwd&#45;&gt;batchnorm22_fwd</title>\n<path fill=\"none\" stroke=\"#000000\" d=\"M1258.3844,-2538.9902C1234.8357,-2527.3398 1207.5041,-2513.8178 1183.7359,-2502.0588\"/>\n<polygon fill=\"#000000\" stroke=\"#000000\" points=\"1267.5451,-2543.5223 1256.5865,-2543.1213 1263.0636,-2541.3051 1258.582,-2539.0879 1258.582,-2539.0879 1258.582,-2539.0879 1263.0636,-2541.3051 1260.5775,-2535.0545 1267.5451,-2543.5223 1267.5451,-2543.5223\"/>\n</g>\n<!-- residualblock10__plus0 -->\n<g id=\"node60\" class=\"node\">\n<title>residualblock10__plus0</title>\n<polygon fill=\"#fccde5\" stroke=\"#000000\" points=\"1392.5,-2502 1237.5,-2502 1237.5,-2444 1392.5,-2444 1392.5,-2502\"/>\n<text text-anchor=\"middle\" x=\"1315\" y=\"-2469.3\" font-family=\"Times,serif\" font-size=\"14.00\" fill=\"#000000\">residualblock10__plus0</text>\n</g>\n<!-- relu10_fwd&#45;&gt;residualblock10__plus0 -->\n<g id=\"edge75\" class=\"edge\">\n<title>relu10_fwd&#45;&gt;residualblock10__plus0</title>\n<path fill=\"none\" stroke=\"#000000\" d=\"M1315,-2527.6321C1315,-2519.1148 1315,-2510.2539 1315,-2502.2088\"/>\n<polygon fill=\"#000000\" stroke=\"#000000\" points=\"1315,-2537.7731 1310.5001,-2527.773 1315,-2532.7731 1315.0001,-2527.7731 1315.0001,-2527.7731 1315.0001,-2527.7731 1315,-2532.7731 1319.5001,-2527.7731 1315,-2537.7731 1315,-2537.7731\"/>\n</g>\n<!-- conv33_fwd -->\n<g id=\"node57\" class=\"node\">\n<title>conv33_fwd</title>\n<polygon fill=\"#fb8072\" stroke=\"#000000\" points=\"1440.5,-2314 1345.5,-2314 1345.5,-2256 1440.5,-2256 1440.5,-2314\"/>\n<text text-anchor=\"middle\" x=\"1393\" y=\"-2288.8\" font-family=\"Times,serif\" font-size=\"14.00\" fill=\"#000000\">Convolution</text>\n<text text-anchor=\"middle\" x=\"1393\" y=\"-2273.8\" font-family=\"Times,serif\" font-size=\"14.00\" fill=\"#000000\">3x3/1x1, 512</text>\n</g>\n<!-- conv33_fwd&#45;&gt;relu10_fwd -->\n<g id=\"edge70\" class=\"edge\">\n<title>conv33_fwd&#45;&gt;relu10_fwd</title>\n<path fill=\"none\" stroke=\"#000000\" d=\"M1410.4504,-2323.47C1413.5804,-2332.034 1416.3642,-2341.1903 1418,-2350 1430.4097,-2416.8344 1436.603,-2444.0926 1401,-2502 1391.4918,-2517.4648 1376.842,-2530.5422 1362.3121,-2540.8212\"/>\n<polygon fill=\"#000000\" stroke=\"#000000\" points=\"1406.812,-2314.1027 1414.6274,-2321.7949 1408.6224,-2318.7634 1410.4327,-2323.4242 1410.4327,-2323.4242 1410.4327,-2323.4242 1408.6224,-2318.7634 1406.238,-2325.0535 1406.812,-2314.1027 1406.812,-2314.1027\"/>\n</g>\n<!-- batchnorm23_fwd -->\n<g id=\"node58\" class=\"node\">\n<title>batchnorm23_fwd</title>\n<polygon fill=\"#bebada\" stroke=\"#000000\" points=\"1409.5,-2408 1286.5,-2408 1286.5,-2350 1409.5,-2350 1409.5,-2408\"/>\n<text text-anchor=\"middle\" x=\"1348\" y=\"-2375.3\" font-family=\"Times,serif\" font-size=\"14.00\" fill=\"#000000\">batchnorm23_fwd</text>\n</g>\n<!-- batchnorm23_fwd&#45;&gt;conv33_fwd -->\n<g id=\"edge71\" class=\"edge\">\n<title>batchnorm23_fwd&#45;&gt;conv33_fwd</title>\n<path fill=\"none\" stroke=\"#000000\" d=\"M1366.3096,-2340.7532C1370.5501,-2331.8954 1374.9964,-2322.6075 1379.017,-2314.2088\"/>\n<polygon fill=\"#000000\" stroke=\"#000000\" points=\"1361.9916,-2349.7731 1362.2507,-2338.8103 1364.1506,-2345.2632 1366.3096,-2340.7534 1366.3096,-2340.7534 1366.3096,-2340.7534 1364.1506,-2345.2632 1370.3685,-2342.6965 1361.9916,-2349.7731 1361.9916,-2349.7731\"/>\n</g>\n<!-- conv34_fwd -->\n<g id=\"node59\" class=\"node\">\n<title>conv34_fwd</title>\n<polygon fill=\"#fb8072\" stroke=\"#000000\" points=\"1268.5,-2408 1173.5,-2408 1173.5,-2350 1268.5,-2350 1268.5,-2408\"/>\n<text text-anchor=\"middle\" x=\"1221\" y=\"-2382.8\" font-family=\"Times,serif\" font-size=\"14.00\" fill=\"#000000\">Convolution</text>\n<text text-anchor=\"middle\" x=\"1221\" y=\"-2367.8\" font-family=\"Times,serif\" font-size=\"14.00\" fill=\"#000000\">1x1/1x1, 512</text>\n</g>\n<!-- conv34_fwd&#45;&gt;relu9_fwd -->\n<g id=\"edge72\" class=\"edge\">\n<title>conv34_fwd&#45;&gt;relu9_fwd</title>\n<path fill=\"none\" stroke=\"#000000\" d=\"M1197.9773,-2341.0328C1192.5552,-2332.091 1186.8582,-2322.6959 1181.7117,-2314.2088\"/>\n<polygon fill=\"#000000\" stroke=\"#000000\" points=\"1203.2773,-2349.7731 1194.2444,-2343.5556 1200.6848,-2345.4977 1198.0922,-2341.2223 1198.0922,-2341.2223 1198.0922,-2341.2223 1200.6848,-2345.4977 1201.9401,-2338.889 1203.2773,-2349.7731 1203.2773,-2349.7731\"/>\n</g>\n<!-- residualblock10__plus0&#45;&gt;batchnorm23_fwd -->\n<g id=\"edge73\" class=\"edge\">\n<title>residualblock10__plus0&#45;&gt;batchnorm23_fwd</title>\n<path fill=\"none\" stroke=\"#000000\" d=\"M1328.6237,-2434.1932C1331.6739,-2425.5047 1334.8594,-2416.4307 1337.7458,-2408.2088\"/>\n<polygon fill=\"#000000\" stroke=\"#000000\" points=\"1325.2605,-2443.7731 1324.3271,-2432.847 1326.9168,-2439.0554 1328.573,-2434.3376 1328.573,-2434.3376 1328.573,-2434.3376 1326.9168,-2439.0554 1332.819,-2435.8283 1325.2605,-2443.7731 1325.2605,-2443.7731\"/>\n</g>\n<!-- residualblock10__plus0&#45;&gt;conv34_fwd -->\n<g id=\"edge74\" class=\"edge\">\n<title>residualblock10__plus0&#45;&gt;conv34_fwd</title>\n<path fill=\"none\" stroke=\"#000000\" d=\"M1278.4261,-2436.4261C1269.0721,-2427.0721 1259.138,-2417.138 1250.2088,-2408.2088\"/>\n<polygon fill=\"#000000\" stroke=\"#000000\" points=\"1285.7731,-2443.7731 1275.52,-2439.884 1282.2375,-2440.2375 1278.702,-2436.702 1278.702,-2436.702 1278.702,-2436.702 1282.2375,-2440.2375 1281.884,-2433.52 1285.7731,-2443.7731 1285.7731,-2443.7731\"/>\n</g>\n<!-- pool1_fwd -->\n<g id=\"node61\" class=\"node\">\n<title>pool1_fwd</title>\n<polygon fill=\"#80b1d3\" stroke=\"#000000\" points=\"1362,-2690 1268,-2690 1268,-2632 1362,-2632 1362,-2690\"/>\n<text text-anchor=\"middle\" x=\"1315\" y=\"-2664.8\" font-family=\"Times,serif\" font-size=\"14.00\" fill=\"#000000\">Pooling</text>\n<text text-anchor=\"middle\" x=\"1315\" y=\"-2649.8\" font-family=\"Times,serif\" font-size=\"14.00\" fill=\"#000000\">avg, 1x1/1x1</text>\n</g>\n<!-- pool1_fwd&#45;&gt;relu10_fwd -->\n<g id=\"edge76\" class=\"edge\">\n<title>pool1_fwd&#45;&gt;relu10_fwd</title>\n<path fill=\"none\" stroke=\"#000000\" d=\"M1315,-2621.6321C1315,-2613.1148 1315,-2604.2539 1315,-2596.2088\"/>\n<polygon fill=\"#000000\" stroke=\"#000000\" points=\"1315,-2631.7731 1310.5001,-2621.773 1315,-2626.7731 1315.0001,-2621.7731 1315.0001,-2621.7731 1315.0001,-2621.7731 1315,-2626.7731 1319.5001,-2621.7731 1315,-2631.7731 1315,-2631.7731\"/>\n</g>\n<!-- dense0_fwd -->\n<g id=\"node62\" class=\"node\">\n<title>dense0_fwd</title>\n<polygon fill=\"#fb8072\" stroke=\"#000000\" points=\"1369.5,-2784 1260.5,-2784 1260.5,-2726 1369.5,-2726 1369.5,-2784\"/>\n<text text-anchor=\"middle\" x=\"1315\" y=\"-2758.8\" font-family=\"Times,serif\" font-size=\"14.00\" fill=\"#000000\">FullyConnected</text>\n<text text-anchor=\"middle\" x=\"1315\" y=\"-2743.8\" font-family=\"Times,serif\" font-size=\"14.00\" fill=\"#000000\">10</text>\n</g>\n<!-- dense0_fwd&#45;&gt;pool1_fwd -->\n<g id=\"edge77\" class=\"edge\">\n<title>dense0_fwd&#45;&gt;pool1_fwd</title>\n<path fill=\"none\" stroke=\"#000000\" d=\"M1315,-2715.6321C1315,-2707.1148 1315,-2698.2539 1315,-2690.2088\"/>\n<polygon fill=\"#000000\" stroke=\"#000000\" points=\"1315,-2725.7731 1310.5001,-2715.773 1315,-2720.7731 1315.0001,-2715.7731 1315.0001,-2715.7731 1315.0001,-2715.7731 1315,-2720.7731 1319.5001,-2715.7731 1315,-2725.7731 1315,-2725.7731\"/>\n</g>\n</g>\n</svg>\n",
            "text/plain": [
              "<graphviz.dot.Digraph at 0x7f4b5b0695c0>"
            ]
          },
          "execution_count": 19,
          "metadata": {
            "tags": []
          },
          "output_type": "execute_result"
        }
      ],
      "source": [
        "plot = mx.viz.plot_network(model(mx.sym.var(name = 'data')), node_attrs={\"fixedsize\":\"false\"})\n",
        "plot"
      ]
    },
    {
      "cell_type": "code",
      "execution_count": 0,
      "metadata": {
        "colab": {},
        "colab_type": "code",
        "id": "riAfI2gDI1aV"
      },
      "outputs": [],
      "source": [
        "model.hybridize()"
      ]
    },
    {
      "cell_type": "markdown",
      "metadata": {
        "colab_type": "text",
        "id": "bFmcxFtTI5uX"
      },
      "source": [
        "## __Defining our objective loss and optimizer__"
      ]
    },
    {
      "cell_type": "code",
      "execution_count": 0,
      "metadata": {
        "colab": {},
        "colab_type": "code",
        "id": "OR_RGJRb18bd"
      },
      "outputs": [],
      "source": [
        "objective = gluon.loss.SoftmaxCrossEntropyLoss()\n",
        "trainer = gluon.Trainer(model.collect_params(), 'adam', {'learning_rate': 0.001})"
      ]
    },
    {
      "cell_type": "markdown",
      "metadata": {
        "colab_type": "text",
        "id": "GMtZRsrgI7qm"
      },
      "source": [
        "## __Training the model__"
      ]
    },
    {
      "cell_type": "code",
      "execution_count": 21,
      "metadata": {
        "colab": {
          "base_uri": "https://localhost:8080/",
          "height": 185
        },
        "colab_type": "code",
        "id": "_--4aXog18Yo",
        "outputId": "a841bd60-7945-4223-da39-2debaa9431c1"
      },
      "outputs": [
        {
          "name": "stdout",
          "output_type": "stream",
          "text": [
            "Epoch: 1 | Loss: 1.50939 | Training Accuracy: 0.45300\n",
            "Epoch: 2 | Loss: 1.14545 | Training Accuracy: 0.59538\n",
            "Epoch: 3 | Loss: 0.96951 | Training Accuracy: 0.65952\n",
            "Epoch: 4 | Loss: 0.85824 | Training Accuracy: 0.70138\n",
            "Epoch: 5 | Loss: 0.77349 | Training Accuracy: 0.73142\n",
            "Epoch: 6 | Loss: 0.69979 | Training Accuracy: 0.75850\n",
            "Epoch: 7 | Loss: 0.63920 | Training Accuracy: 0.77964\n",
            "Epoch: 8 | Loss: 0.57736 | Training Accuracy: 0.80166\n",
            "Epoch: 9 | Loss: 0.52713 | Training Accuracy: 0.81784\n",
            "Epoch: 10 | Loss: 0.48115 | Training Accuracy: 0.83326\n"
          ]
        }
      ],
      "source": [
        "epochs = 10\n",
        "batches = len(train_data)\n",
        "acc = mx.metric.Accuracy()\n",
        "\n",
        "for epoch in range(epochs):\n",
        "    acc.reset()\n",
        "    cum_loss = 0.0\n",
        "    for features, labels in train_data:\n",
        "        features = features.as_in_context(ctx)\n",
        "        labels = labels.as_in_context(ctx)\n",
        "\n",
        "        with autograd.record():\n",
        "            outputs = model(features)\n",
        "            loss = objective(outputs, labels)\n",
        "        loss.backward()\n",
        "        trainer.step(batch_size)\n",
        "\n",
        "        cum_loss += loss.mean()\n",
        "        acc.update(labels, outputs)\n",
        "    \n",
        "    print(f'Epoch: {epoch + 1} | Loss: {cum_loss.asscalar()/batches:.5f} | Training Accuracy: {acc.get()[1]:.5f}')"
      ]
    },
    {
      "cell_type": "markdown",
      "metadata": {
        "colab_type": "text",
        "id": "8pbbrT7XI9sp"
      },
      "source": [
        "## __Testing the model__"
      ]
    },
    {
      "cell_type": "code",
      "execution_count": 22,
      "metadata": {
        "colab": {
          "base_uri": "https://localhost:8080/",
          "height": 34
        },
        "colab_type": "code",
        "id": "mC2FT6we4vJ3",
        "outputId": "3e96f39c-5e9b-47a8-b960-d7e8bb79ff09"
      },
      "outputs": [
        {
          "data": {
            "text/plain": [
              "('accuracy', 0.84116)"
            ]
          },
          "execution_count": 22,
          "metadata": {
            "tags": []
          },
          "output_type": "execute_result"
        }
      ],
      "source": [
        "acc.reset()\n",
        "for features, labels in test_data:\n",
        "    features = features.as_in_context(ctx)\n",
        "    labels = labels.as_in_context(ctx)\n",
        "    outputs = model(features)\n",
        "    acc.update(labels, outputs)\n",
        "acc.get()"
      ]
    }
  ]
}