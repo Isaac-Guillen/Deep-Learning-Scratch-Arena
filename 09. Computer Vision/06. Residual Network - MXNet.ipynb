{
  "nbformat": 4,
  "nbformat_minor": 0,
  "metadata": {
    "colab": {
      "name": "Residual Network - MXNet.ipynb",
      "provenance": [],
      "collapsed_sections": []
    },
    "kernelspec": {
      "name": "python3",
      "display_name": "Python 3"
    },
    "accelerator": "GPU"
  },
  "cells": [
    {
      "cell_type": "markdown",
      "metadata": {
        "colab_type": "text",
        "id": "HO-7HJPVHXCH"
      },
      "source": [
        "# __Residual Network - MXNet__"
      ]
    },
    {
      "cell_type": "code",
      "execution_count": 0,
      "metadata": {
        "colab": {},
        "colab_type": "code",
        "id": "t0sXvPG-ytVs"
      },
      "outputs": [],
      "source": [
        "import mxnet as mx\n",
        "from mxnet import nd, autograd, gluon\n",
        "from mxnet.gluon import nn\n",
        "import matplotlib.pyplot as plt\n",
        "\n",
        "ctx = mx.gpu()"
      ]
    },
    {
      "cell_type": "markdown",
      "metadata": {
        "colab_type": "text",
        "id": "Wt-gqScHHfou"
      },
      "source": [
        "## __Getting the dataset__"
      ]
    },
    {
      "cell_type": "code",
      "execution_count": 3,
      "metadata": {
        "colab": {
          "base_uri": "https://localhost:8080/",
          "height": 34
        },
        "colab_type": "code",
        "id": "FMnHwtmKyvo0",
        "outputId": "636c0278-7524-4e3f-ec6a-5408272598c9"
      },
      "outputs": [
        {
          "name": "stdout",
          "output_type": "stream",
          "text": [
            "Downloading /root/.mxnet/datasets/cifar10/cifar-10-binary.tar.gz from https://apache-mxnet.s3-accelerate.dualstack.amazonaws.com/gluon/dataset/cifar10/cifar-10-binary.tar.gz...\n"
          ]
        }
      ],
      "source": [
        "transform = gluon.data.vision.transforms.ToTensor()\n",
        "\n",
        "train_mnist = gluon.data.vision.CIFAR10(train = True).transform_first(transform)\n",
        "test_mnist = gluon.data.vision.CIFAR10(train = False).transform_first(transform)"
      ]
    },
    {
      "cell_type": "code",
      "execution_count": 4,
      "metadata": {
        "colab": {
          "base_uri": "https://localhost:8080/",
          "height": 50
        },
        "colab_type": "code",
        "id": "fru8__gRywil",
        "outputId": "7c318462-ff57-47a3-f7c1-d05ed6b26260"
      },
      "outputs": [
        {
          "name": "stdout",
          "output_type": "stream",
          "text": [
            "(3, 32, 32)\n",
            "9\n"
          ]
        }
      ],
      "source": [
        "image, label = train_mnist[1]\n",
        "print(image.shape)\n",
        "print(label)"
      ]
    },
    {
      "cell_type": "code",
      "execution_count": 5,
      "metadata": {
        "colab": {
          "base_uri": "https://localhost:8080/",
          "height": 266
        },
        "colab_type": "code",
        "id": "GOFMgaltywsT",
        "outputId": "22f83c25-3f3a-478c-cd20-ff67c1de5feb"
      },
      "outputs": [
        {
          "data": {
            "image/png": "[encoded data removed]",
            "text/plain": [
              "<Figure size 432x288 with 1 Axes>"
            ]
          },
          "metadata": {
            "tags": []
          },
          "output_type": "display_data"
        }
      ],
      "source": [
        "plt.imshow(image.transpose((1, 2, 0)).asnumpy())\n",
        "plt.show()"
      ]
    },
    {
      "cell_type": "markdown",
      "metadata": {
        "colab_type": "text",
        "id": "rcZT9dvzHjLK"
      },
      "source": [
        "## __Defining data loaders__"
      ]
    },
    {
      "cell_type": "code",
      "execution_count": 0,
      "metadata": {
        "colab": {},
        "colab_type": "code",
        "id": "68qO-LTnywvY"
      },
      "outputs": [],
      "source": [
        "batch_size = 64\n",
        "train_data = gluon.data.DataLoader(train_mnist, batch_size = batch_size, shuffle = True)\n",
        "test_data = gluon.data.DataLoader(train_mnist, batch_size = batch_size, shuffle = False)"
      ]
    },
    {
      "cell_type": "markdown",
      "metadata": {
        "colab_type": "text",
        "id": "6PHbpC6nHmLs"
      },
      "source": [
        "## __Defining Residual Network Model Architecture__ "
      ]
    },
    {
      "cell_type": "markdown",
      "metadata": {
        "colab_type": "text",
        "id": "CDyCqHMIHq-R"
      },
      "source": [
        "### First we will define single residual connection block"
      ]
    },
    {
      "cell_type": "code",
      "execution_count": 0,
      "metadata": {
        "colab": {},
        "colab_type": "code",
        "id": "SKImYbq3ywxu"
      },
      "outputs": [],
      "source": [
        "class residualblock(nn.HybridBlock):\n",
        "    def __init__(self, channels, strides):\n",
        "        super(residualblock, self).__init__()\n",
        "        \n",
        "        self.conv1 = nn.HybridSequential()\n",
        "        self.conv1.add(nn.Conv2D(channels, kernel_size = 3, padding = 1, strides = strides))\n",
        "        self.conv1.add(nn.BatchNorm())\n",
        "        self.conv1.add(nn.Activation('relu'))\n",
        "\n",
        "        self.conv2 = nn.HybridSequential()\n",
        "        self.conv2.add(nn.Conv2D(channels, kernel_size = 3, padding = 1))\n",
        "        self.conv2.add(nn.BatchNorm())\n",
        "\n",
        "        self.residual = nn.Conv2D(channels, kernel_size = 1, strides = strides)\n",
        "        # doing network in network convolution(1X1) above for residual connection\n",
        "\n",
        "        self.activation = nn.Activation('relu')\n",
        "\n",
        "    def hybrid_forward(self, F, x):\n",
        "        layer = self.conv1(x)\n",
        "        layer = self.conv2(layer)\n",
        "        residual = self.residual(x)\n",
        "        return self.activation(layer + residual)"
      ]
    },
    {
      "cell_type": "markdown",
      "metadata": {
        "colab_type": "text",
        "id": "SYhagDrdHwoU"
      },
      "source": [
        "### Visualizing single block of residual block"
      ]
    },
    {
      "cell_type": "code",
      "execution_count": 19,
      "metadata": {
        "colab": {
          "base_uri": "https://localhost:8080/",
          "height": 986
        },
        "colab_type": "code",
        "id": "Jevnp5cKywqc",
        "outputId": "e53e3869-6ef6-40e4-e26d-55eb0a965e62"
      },
      "outputs": [
        {
          "data": {
            "image/svg+xml": "<?xml version=\"1.0\" encoding=\"UTF-8\" standalone=\"no\"?>\n<!DOCTYPE svg PUBLIC \"-//W3C//DTD SVG 1.1//EN\"\n \"http://www.w3.org/Graphics/SVG/1.1/DTD/svg11.dtd\">\n<!-- Generated by graphviz version 2.40.1 (20161225.0304)\n -->\n<!-- Title: plot Pages: 1 -->\n<svg width=\"217pt\" height=\"724pt\"\n viewBox=\"0.00 0.00 217.00 724.00\" xmlns=\"http://www.w3.org/2000/svg\" xmlns:xlink=\"http://www.w3.org/1999/xlink\">\n<g id=\"graph0\" class=\"graph\" transform=\"scale(1 1) rotate(0) translate(4 720)\">\n<title>plot</title>\n<polygon fill=\"#ffffff\" stroke=\"transparent\" points=\"-4,4 -4,-720 213,-720 213,4 -4,4\"/>\n<!-- data -->\n<g id=\"node1\" class=\"node\">\n<title>data</title>\n<ellipse fill=\"#8dd3c7\" stroke=\"#000000\" cx=\"114\" cy=\"-29\" rx=\"47\" ry=\"29\"/>\n<text text-anchor=\"middle\" x=\"114\" y=\"-25.3\" font-family=\"Times,serif\" font-size=\"14.00\" fill=\"#000000\">data</text>\n</g>\n<!-- conv15_fwd -->\n<g id=\"node2\" class=\"node\">\n<title>conv15_fwd</title>\n<polygon fill=\"#fb8072\" stroke=\"#000000\" points=\"124,-152 30,-152 30,-94 124,-94 124,-152\"/>\n<text text-anchor=\"middle\" x=\"77\" y=\"-126.8\" font-family=\"Times,serif\" font-size=\"14.00\" fill=\"#000000\">Convolution</text>\n<text text-anchor=\"middle\" x=\"77\" y=\"-111.8\" font-family=\"Times,serif\" font-size=\"14.00\" fill=\"#000000\">3x3/1x1, 32</text>\n</g>\n<!-- conv15_fwd&#45;&gt;data -->\n<g id=\"edge1\" class=\"edge\">\n<title>conv15_fwd&#45;&gt;data</title>\n<path fill=\"none\" stroke=\"#000000\" d=\"M92.2719,-84.2012C95.8273,-75.1686 99.5468,-65.719 102.8831,-57.2429\"/>\n<polygon fill=\"#000000\" stroke=\"#000000\" points=\"88.5042,-93.7731 87.9796,-82.8198 90.3356,-89.1205 92.1669,-84.468 92.1669,-84.468 92.1669,-84.468 90.3356,-89.1205 96.3542,-86.1162 88.5042,-93.7731 88.5042,-93.7731\"/>\n</g>\n<!-- batchnorm10_fwd -->\n<g id=\"node3\" class=\"node\">\n<title>batchnorm10_fwd</title>\n<polygon fill=\"#bebada\" stroke=\"#000000\" points=\"127.5,-246 4.5,-246 4.5,-188 127.5,-188 127.5,-246\"/>\n<text text-anchor=\"middle\" x=\"66\" y=\"-213.3\" font-family=\"Times,serif\" font-size=\"14.00\" fill=\"#000000\">batchnorm10_fwd</text>\n</g>\n<!-- batchnorm10_fwd&#45;&gt;conv15_fwd -->\n<g id=\"edge2\" class=\"edge\">\n<title>batchnorm10_fwd&#45;&gt;conv15_fwd</title>\n<path fill=\"none\" stroke=\"#000000\" d=\"M70.6069,-177.6321C71.6036,-169.1148 72.6405,-160.2539 73.5819,-152.2088\"/>\n<polygon fill=\"#000000\" stroke=\"#000000\" points=\"69.4202,-187.7731 66.113,-177.3178 70.0014,-182.807 70.5825,-177.8409 70.5825,-177.8409 70.5825,-177.8409 70.0014,-182.807 75.052,-178.3639 69.4202,-187.7731 69.4202,-187.7731\"/>\n</g>\n<!-- relu2_fwd -->\n<g id=\"node4\" class=\"node\">\n<title>relu2_fwd</title>\n<polygon fill=\"#ffffb3\" stroke=\"#000000\" points=\"108,-340 14,-340 14,-282 108,-282 108,-340\"/>\n<text text-anchor=\"middle\" x=\"61\" y=\"-314.8\" font-family=\"Times,serif\" font-size=\"14.00\" fill=\"#000000\">Activation</text>\n<text text-anchor=\"middle\" x=\"61\" y=\"-299.8\" font-family=\"Times,serif\" font-size=\"14.00\" fill=\"#000000\">relu</text>\n</g>\n<!-- relu2_fwd&#45;&gt;batchnorm10_fwd -->\n<g id=\"edge3\" class=\"edge\">\n<title>relu2_fwd&#45;&gt;batchnorm10_fwd</title>\n<path fill=\"none\" stroke=\"#000000\" d=\"M63.094,-271.6321C63.5471,-263.1148 64.0184,-254.2539 64.4463,-246.2088\"/>\n<polygon fill=\"#000000\" stroke=\"#000000\" points=\"62.5546,-281.7731 58.5922,-271.5481 62.8203,-276.7801 63.0859,-271.7872 63.0859,-271.7872 63.0859,-271.7872 62.8203,-276.7801 67.5795,-272.0263 62.5546,-281.7731 62.5546,-281.7731\"/>\n</g>\n<!-- conv16_fwd -->\n<g id=\"node5\" class=\"node\">\n<title>conv16_fwd</title>\n<polygon fill=\"#fb8072\" stroke=\"#000000\" points=\"97,-434 3,-434 3,-376 97,-376 97,-434\"/>\n<text text-anchor=\"middle\" x=\"50\" y=\"-408.8\" font-family=\"Times,serif\" font-size=\"14.00\" fill=\"#000000\">Convolution</text>\n<text text-anchor=\"middle\" x=\"50\" y=\"-393.8\" font-family=\"Times,serif\" font-size=\"14.00\" fill=\"#000000\">3x3/1x1, 32</text>\n</g>\n<!-- conv16_fwd&#45;&gt;relu2_fwd -->\n<g id=\"edge4\" class=\"edge\">\n<title>conv16_fwd&#45;&gt;relu2_fwd</title>\n<path fill=\"none\" stroke=\"#000000\" d=\"M54.6069,-365.6321C55.6036,-357.1148 56.6405,-348.2539 57.5819,-340.2088\"/>\n<polygon fill=\"#000000\" stroke=\"#000000\" points=\"53.4202,-375.7731 50.113,-365.3178 54.0014,-370.807 54.5825,-365.8409 54.5825,-365.8409 54.5825,-365.8409 54.0014,-370.807 59.052,-366.3639 53.4202,-375.7731 53.4202,-375.7731\"/>\n</g>\n<!-- batchnorm11_fwd -->\n<g id=\"node6\" class=\"node\">\n<title>batchnorm11_fwd</title>\n<polygon fill=\"#bebada\" stroke=\"#000000\" points=\"122,-528 0,-528 0,-470 122,-470 122,-528\"/>\n<text text-anchor=\"middle\" x=\"61\" y=\"-495.3\" font-family=\"Times,serif\" font-size=\"14.00\" fill=\"#000000\">batchnorm11_fwd</text>\n</g>\n<!-- batchnorm11_fwd&#45;&gt;conv16_fwd -->\n<g id=\"edge5\" class=\"edge\">\n<title>batchnorm11_fwd&#45;&gt;conv16_fwd</title>\n<path fill=\"none\" stroke=\"#000000\" d=\"M56.3931,-459.6321C55.3964,-451.1148 54.3595,-442.2539 53.4181,-434.2088\"/>\n<polygon fill=\"#000000\" stroke=\"#000000\" points=\"57.5798,-469.7731 51.948,-460.3639 56.9986,-464.807 56.4175,-459.8409 56.4175,-459.8409 56.4175,-459.8409 56.9986,-464.807 60.887,-459.3178 57.5798,-469.7731 57.5798,-469.7731\"/>\n</g>\n<!-- conv17_fwd -->\n<g id=\"node7\" class=\"node\">\n<title>conv17_fwd</title>\n<polygon fill=\"#fb8072\" stroke=\"#000000\" points=\"209,-434 115,-434 115,-376 209,-376 209,-434\"/>\n<text text-anchor=\"middle\" x=\"162\" y=\"-408.8\" font-family=\"Times,serif\" font-size=\"14.00\" fill=\"#000000\">Convolution</text>\n<text text-anchor=\"middle\" x=\"162\" y=\"-393.8\" font-family=\"Times,serif\" font-size=\"14.00\" fill=\"#000000\">1x1/1x1, 32</text>\n</g>\n<!-- conv17_fwd&#45;&gt;data -->\n<g id=\"edge6\" class=\"edge\">\n<title>conv17_fwd&#45;&gt;data</title>\n<path fill=\"none\" stroke=\"#000000\" d=\"M160.7366,-365.5083C158.2933,-306.1163 151.4224,-190.476 133,-94 130.6846,-81.8743 127.0722,-68.7606 123.6163,-57.5093\"/>\n<polygon fill=\"#000000\" stroke=\"#000000\" points=\"161.1303,-375.5816 156.2431,-365.765 160.935,-370.5854 160.7397,-365.5892 160.7397,-365.5892 160.7397,-365.5892 160.935,-370.5854 165.2362,-365.4134 161.1303,-375.5816 161.1303,-375.5816\"/>\n</g>\n<!-- residualblock1__plus0 -->\n<g id=\"node8\" class=\"node\">\n<title>residualblock1__plus0</title>\n<polygon fill=\"#fccde5\" stroke=\"#000000\" points=\"178.5,-622 31.5,-622 31.5,-564 178.5,-564 178.5,-622\"/>\n<text text-anchor=\"middle\" x=\"105\" y=\"-589.3\" font-family=\"Times,serif\" font-size=\"14.00\" fill=\"#000000\">residualblock1__plus0</text>\n</g>\n<!-- residualblock1__plus0&#45;&gt;batchnorm11_fwd -->\n<g id=\"edge7\" class=\"edge\">\n<title>residualblock1__plus0&#45;&gt;batchnorm11_fwd</title>\n<path fill=\"none\" stroke=\"#000000\" d=\"M86.9663,-554.4734C82.8595,-545.6999 78.5621,-536.5191 74.6722,-528.2088\"/>\n<polygon fill=\"#000000\" stroke=\"#000000\" points=\"91.3193,-563.7731 83.0042,-556.6239 89.1996,-559.2446 87.0799,-554.7162 87.0799,-554.7162 87.0799,-554.7162 89.1996,-559.2446 91.1555,-552.8084 91.3193,-563.7731 91.3193,-563.7731\"/>\n</g>\n<!-- residualblock1__plus0&#45;&gt;conv17_fwd -->\n<g id=\"edge8\" class=\"edge\">\n<title>residualblock1__plus0&#45;&gt;conv17_fwd</title>\n<path fill=\"none\" stroke=\"#000000\" d=\"M121.4167,-554.4146C124.8057,-545.7997 128.1933,-536.6517 131,-528 141.2612,-496.3697 150.2028,-459.2596 155.8114,-434.1389\"/>\n<polygon fill=\"#000000\" stroke=\"#000000\" points=\"117.6207,-563.8596 117.1745,-552.9028 119.4853,-559.2203 121.3499,-554.581 121.3499,-554.581 121.3499,-554.581 119.4853,-559.2203 125.5253,-556.2591 117.6207,-563.8596 117.6207,-563.8596\"/>\n</g>\n<!-- relu3_fwd -->\n<g id=\"node9\" class=\"node\">\n<title>relu3_fwd</title>\n<polygon fill=\"#ffffb3\" stroke=\"#000000\" points=\"152,-716 58,-716 58,-658 152,-658 152,-716\"/>\n<text text-anchor=\"middle\" x=\"105\" y=\"-690.8\" font-family=\"Times,serif\" font-size=\"14.00\" fill=\"#000000\">Activation</text>\n<text text-anchor=\"middle\" x=\"105\" y=\"-675.8\" font-family=\"Times,serif\" font-size=\"14.00\" fill=\"#000000\">relu</text>\n</g>\n<!-- relu3_fwd&#45;&gt;residualblock1__plus0 -->\n<g id=\"edge9\" class=\"edge\">\n<title>relu3_fwd&#45;&gt;residualblock1__plus0</title>\n<path fill=\"none\" stroke=\"#000000\" d=\"M105,-647.6321C105,-639.1148 105,-630.2539 105,-622.2088\"/>\n<polygon fill=\"#000000\" stroke=\"#000000\" points=\"105,-657.7731 100.5001,-647.773 105,-652.7731 105.0001,-647.7731 105.0001,-647.7731 105.0001,-647.7731 105,-652.7731 109.5001,-647.7731 105,-657.7731 105,-657.7731\"/>\n</g>\n</g>\n</svg>\n",
            "text/plain": [
              "<graphviz.dot.Digraph at 0x7f36b4196d68>"
            ]
          },
          "execution_count": 19,
          "metadata": {
            "tags": []
          },
          "output_type": "execute_result"
        }
      ],
      "source": [
        "block = residualblock(32, 1)\n",
        "block.initialize(ctx = ctx)\n",
        "mx.viz.plot_network(block(mx.sym.var(name = 'data')), node_attrs={\"fixedsize\":\"false\"})"
      ]
    },
    {
      "cell_type": "markdown",
      "metadata": {
        "colab_type": "text",
        "id": "6LOc1aY8Ihlu"
      },
      "source": [
        "## __Defining the whole model__"
      ]
    },
    {
      "cell_type": "code",
      "execution_count": 20,
      "metadata": {
        "colab": {
          "base_uri": "https://localhost:8080/",
          "height": 1000
        },
        "colab_type": "code",
        "id": "wlp_psO_ywof",
        "outputId": "8a3495a9-f24d-428f-c153-921dbb57c94a"
      },
      "outputs": [
        {
          "data": {
            "text/plain": [
              "HybridSequential(\n",
              "  (0): Conv2D(None -> 64, kernel_size=(7, 7), stride=(2, 2), padding=(3, 3))\n",
              "  (1): BatchNorm(axis=1, eps=1e-05, momentum=0.9, fix_gamma=False, use_global_stats=False, in_channels=None)\n",
              "  (2): MaxPool2D(size=(3, 3), stride=(2, 2), padding=(1, 1), ceil_mode=False, global_pool=False, pool_type=max, layout=NCHW)\n",
              "  (3): residualblock(\n",
              "    (conv1): HybridSequential(\n",
              "      (0): Conv2D(None -> 64, kernel_size=(3, 3), stride=(2, 2), padding=(1, 1))\n",
              "      (1): BatchNorm(axis=1, eps=1e-05, momentum=0.9, fix_gamma=False, use_global_stats=False, in_channels=None)\n",
              "      (2): Activation(relu)\n",
              "    )\n",
              "    (conv2): HybridSequential(\n",
              "      (0): Conv2D(None -> 64, kernel_size=(3, 3), stride=(1, 1), padding=(1, 1))\n",
              "      (1): BatchNorm(axis=1, eps=1e-05, momentum=0.9, fix_gamma=False, use_global_stats=False, in_channels=None)\n",
              "    )\n",
              "    (residual): Conv2D(None -> 64, kernel_size=(1, 1), stride=(2, 2))\n",
              "    (activation): Activation(relu)\n",
              "  )\n",
              "  (4): residualblock(\n",
              "    (conv1): HybridSequential(\n",
              "      (0): Conv2D(None -> 64, kernel_size=(3, 3), stride=(2, 2), padding=(1, 1))\n",
              "      (1): BatchNorm(axis=1, eps=1e-05, momentum=0.9, fix_gamma=False, use_global_stats=False, in_channels=None)\n",
              "      (2): Activation(relu)\n",
              "    )\n",
              "    (conv2): HybridSequential(\n",
              "      (0): Conv2D(None -> 64, kernel_size=(3, 3), stride=(1, 1), padding=(1, 1))\n",
              "      (1): BatchNorm(axis=1, eps=1e-05, momentum=0.9, fix_gamma=False, use_global_stats=False, in_channels=None)\n",
              "    )\n",
              "    (residual): Conv2D(None -> 64, kernel_size=(1, 1), stride=(2, 2))\n",
              "    (activation): Activation(relu)\n",
              "  )\n",
              "  (5): residualblock(\n",
              "    (conv1): HybridSequential(\n",
              "      (0): Conv2D(None -> 128, kernel_size=(3, 3), stride=(1, 1), padding=(1, 1))\n",
              "      (1): BatchNorm(axis=1, eps=1e-05, momentum=0.9, fix_gamma=False, use_global_stats=False, in_channels=None)\n",
              "      (2): Activation(relu)\n",
              "    )\n",
              "    (conv2): HybridSequential(\n",
              "      (0): Conv2D(None -> 128, kernel_size=(3, 3), stride=(1, 1), padding=(1, 1))\n",
              "      (1): BatchNorm(axis=1, eps=1e-05, momentum=0.9, fix_gamma=False, use_global_stats=False, in_channels=None)\n",
              "    )\n",
              "    (residual): Conv2D(None -> 128, kernel_size=(1, 1), stride=(1, 1))\n",
              "    (activation): Activation(relu)\n",
              "  )\n",
              "  (6): residualblock(\n",
              "    (conv1): HybridSequential(\n",
              "      (0): Conv2D(None -> 128, kernel_size=(3, 3), stride=(1, 1), padding=(1, 1))\n",
              "      (1): BatchNorm(axis=1, eps=1e-05, momentum=0.9, fix_gamma=False, use_global_stats=False, in_channels=None)\n",
              "      (2): Activation(relu)\n",
              "    )\n",
              "    (conv2): HybridSequential(\n",
              "      (0): Conv2D(None -> 128, kernel_size=(3, 3), stride=(1, 1), padding=(1, 1))\n",
              "      (1): BatchNorm(axis=1, eps=1e-05, momentum=0.9, fix_gamma=False, use_global_stats=False, in_channels=None)\n",
              "    )\n",
              "    (residual): Conv2D(None -> 128, kernel_size=(1, 1), stride=(1, 1))\n",
              "    (activation): Activation(relu)\n",
              "  )\n",
              "  (7): residualblock(\n",
              "    (conv1): HybridSequential(\n",
              "      (0): Conv2D(None -> 256, kernel_size=(3, 3), stride=(1, 1), padding=(1, 1))\n",
              "      (1): BatchNorm(axis=1, eps=1e-05, momentum=0.9, fix_gamma=False, use_global_stats=False, in_channels=None)\n",
              "      (2): Activation(relu)\n",
              "    )\n",
              "    (conv2): HybridSequential(\n",
              "      (0): Conv2D(None -> 256, kernel_size=(3, 3), stride=(1, 1), padding=(1, 1))\n",
              "      (1): BatchNorm(axis=1, eps=1e-05, momentum=0.9, fix_gamma=False, use_global_stats=False, in_channels=None)\n",
              "    )\n",
              "    (residual): Conv2D(None -> 256, kernel_size=(1, 1), stride=(1, 1))\n",
              "    (activation): Activation(relu)\n",
              "  )\n",
              "  (8): residualblock(\n",
              "    (conv1): HybridSequential(\n",
              "      (0): Conv2D(None -> 256, kernel_size=(3, 3), stride=(1, 1), padding=(1, 1))\n",
              "      (1): BatchNorm(axis=1, eps=1e-05, momentum=0.9, fix_gamma=False, use_global_stats=False, in_channels=None)\n",
              "      (2): Activation(relu)\n",
              "    )\n",
              "    (conv2): HybridSequential(\n",
              "      (0): Conv2D(None -> 256, kernel_size=(3, 3), stride=(1, 1), padding=(1, 1))\n",
              "      (1): BatchNorm(axis=1, eps=1e-05, momentum=0.9, fix_gamma=False, use_global_stats=False, in_channels=None)\n",
              "    )\n",
              "    (residual): Conv2D(None -> 256, kernel_size=(1, 1), stride=(1, 1))\n",
              "    (activation): Activation(relu)\n",
              "  )\n",
              "  (9): residualblock(\n",
              "    (conv1): HybridSequential(\n",
              "      (0): Conv2D(None -> 512, kernel_size=(3, 3), stride=(1, 1), padding=(1, 1))\n",
              "      (1): BatchNorm(axis=1, eps=1e-05, momentum=0.9, fix_gamma=False, use_global_stats=False, in_channels=None)\n",
              "      (2): Activation(relu)\n",
              "    )\n",
              "    (conv2): HybridSequential(\n",
              "      (0): Conv2D(None -> 512, kernel_size=(3, 3), stride=(1, 1), padding=(1, 1))\n",
              "      (1): BatchNorm(axis=1, eps=1e-05, momentum=0.9, fix_gamma=False, use_global_stats=False, in_channels=None)\n",
              "    )\n",
              "    (residual): Conv2D(None -> 512, kernel_size=(1, 1), stride=(1, 1))\n",
              "    (activation): Activation(relu)\n",
              "  )\n",
              "  (10): residualblock(\n",
              "    (conv1): HybridSequential(\n",
              "      (0): Conv2D(None -> 512, kernel_size=(3, 3), stride=(1, 1), padding=(1, 1))\n",
              "      (1): BatchNorm(axis=1, eps=1e-05, momentum=0.9, fix_gamma=False, use_global_stats=False, in_channels=None)\n",
              "      (2): Activation(relu)\n",
              "    )\n",
              "    (conv2): HybridSequential(\n",
              "      (0): Conv2D(None -> 512, kernel_size=(3, 3), stride=(1, 1), padding=(1, 1))\n",
              "      (1): BatchNorm(axis=1, eps=1e-05, momentum=0.9, fix_gamma=False, use_global_stats=False, in_channels=None)\n",
              "    )\n",
              "    (residual): Conv2D(None -> 512, kernel_size=(1, 1), stride=(1, 1))\n",
              "    (activation): Activation(relu)\n",
              "  )\n",
              "  (11): GlobalAvgPool2D(size=(1, 1), stride=(1, 1), padding=(0, 0), ceil_mode=True, global_pool=True, pool_type=avg, layout=NCHW)\n",
              "  (12): Dense(None -> 10, linear)\n",
              ")"
            ]
          },
          "execution_count": 20,
          "metadata": {
            "tags": []
          },
          "output_type": "execute_result"
        }
      ],
      "source": [
        "model = nn.HybridSequential()\n",
        "\n",
        "model.add(nn.Conv2D(64, kernel_size = 7, strides = 2, padding = 3))\n",
        "model.add(nn.BatchNorm())\n",
        "model.add(nn.MaxPool2D(pool_size = 3, strides = 2, padding = 1))\n",
        "\n",
        "model.add(residualblock(channels = 64, strides = 2))\n",
        "model.add(residualblock(channels = 64, strides = 2))\n",
        "\n",
        "model.add(residualblock(channels = 128, strides = 1))\n",
        "model.add(residualblock(channels = 128, strides = 1))\n",
        "\n",
        "model.add(residualblock(channels = 256, strides = 1))\n",
        "model.add(residualblock(channels = 256, strides = 1))\n",
        "\n",
        "model.add(residualblock(channels = 512, strides = 1))\n",
        "model.add(residualblock(channels = 512, strides = 1))\n",
        "\n",
        "model.add(nn.GlobalAvgPool2D())\n",
        "model.add(nn.Dense(10))\n",
        "\n",
        "model.initialize(mx.init.Xavier(), ctx)\n",
        "model"
      ]
    },
    {
      "cell_type": "markdown",
      "metadata": {
        "colab_type": "text",
        "id": "YGW5do2DInrM"
      },
      "source": [
        "## __Summarizing the model__"
      ]
    },
    {
      "cell_type": "code",
      "execution_count": 21,
      "metadata": {
        "colab": {
          "base_uri": "https://localhost:8080/",
          "height": 1000
        },
        "colab_type": "code",
        "id": "fWwau-Uxywmi",
        "outputId": "ff76a079-7ff4-48fd-f60c-56c2bba03b54"
      },
      "outputs": [
        {
          "name": "stdout",
          "output_type": "stream",
          "text": [
            "--------------------------------------------------------------------------------\n",
            "        Layer (type)                                Output Shape         Param #\n",
            "================================================================================\n",
            "               Input                              (1, 3, 32, 32)               0\n",
            "            Conv2D-1                             (1, 64, 16, 16)            9472\n",
            "         BatchNorm-2                             (1, 64, 16, 16)             256\n",
            "         MaxPool2D-3                               (1, 64, 8, 8)               0\n",
            "            Conv2D-4                               (1, 64, 4, 4)           36928\n",
            "         BatchNorm-5                               (1, 64, 4, 4)             256\n",
            "        Activation-6                               (1, 64, 4, 4)               0\n",
            "            Conv2D-7                               (1, 64, 4, 4)           36928\n",
            "         BatchNorm-8                               (1, 64, 4, 4)             256\n",
            "            Conv2D-9                               (1, 64, 4, 4)            4160\n",
            "       Activation-10                               (1, 64, 4, 4)               0\n",
            "    residualblock-11                               (1, 64, 4, 4)               0\n",
            "           Conv2D-12                               (1, 64, 2, 2)           36928\n",
            "        BatchNorm-13                               (1, 64, 2, 2)             256\n",
            "       Activation-14                               (1, 64, 2, 2)               0\n",
            "           Conv2D-15                               (1, 64, 2, 2)           36928\n",
            "        BatchNorm-16                               (1, 64, 2, 2)             256\n",
            "           Conv2D-17                               (1, 64, 2, 2)            4160\n",
            "       Activation-18                               (1, 64, 2, 2)               0\n",
            "    residualblock-19                               (1, 64, 2, 2)               0\n",
            "           Conv2D-20                              (1, 128, 2, 2)           73856\n",
            "        BatchNorm-21                              (1, 128, 2, 2)             512\n",
            "       Activation-22                              (1, 128, 2, 2)               0\n",
            "           Conv2D-23                              (1, 128, 2, 2)          147584\n",
            "        BatchNorm-24                              (1, 128, 2, 2)             512\n",
            "           Conv2D-25                              (1, 128, 2, 2)            8320\n",
            "       Activation-26                              (1, 128, 2, 2)               0\n",
            "    residualblock-27                              (1, 128, 2, 2)               0\n",
            "           Conv2D-28                              (1, 128, 2, 2)          147584\n",
            "        BatchNorm-29                              (1, 128, 2, 2)             512\n",
            "       Activation-30                              (1, 128, 2, 2)               0\n",
            "           Conv2D-31                              (1, 128, 2, 2)          147584\n",
            "        BatchNorm-32                              (1, 128, 2, 2)             512\n",
            "           Conv2D-33                              (1, 128, 2, 2)           16512\n",
            "       Activation-34                              (1, 128, 2, 2)               0\n",
            "    residualblock-35                              (1, 128, 2, 2)               0\n",
            "           Conv2D-36                              (1, 256, 2, 2)          295168\n",
            "        BatchNorm-37                              (1, 256, 2, 2)            1024\n",
            "       Activation-38                              (1, 256, 2, 2)               0\n",
            "           Conv2D-39                              (1, 256, 2, 2)          590080\n",
            "        BatchNorm-40                              (1, 256, 2, 2)            1024\n",
            "           Conv2D-41                              (1, 256, 2, 2)           33024\n",
            "       Activation-42                              (1, 256, 2, 2)               0\n",
            "    residualblock-43                              (1, 256, 2, 2)               0\n",
            "           Conv2D-44                              (1, 256, 2, 2)          590080\n",
            "        BatchNorm-45                              (1, 256, 2, 2)            1024\n",
            "       Activation-46                              (1, 256, 2, 2)               0\n",
            "           Conv2D-47                              (1, 256, 2, 2)          590080\n",
            "        BatchNorm-48                              (1, 256, 2, 2)            1024\n",
            "           Conv2D-49                              (1, 256, 2, 2)           65792\n",
            "       Activation-50                              (1, 256, 2, 2)               0\n",
            "    residualblock-51                              (1, 256, 2, 2)               0\n",
            "           Conv2D-52                              (1, 512, 2, 2)         1180160\n",
            "        BatchNorm-53                              (1, 512, 2, 2)            2048\n",
            "       Activation-54                              (1, 512, 2, 2)               0\n",
            "           Conv2D-55                              (1, 512, 2, 2)         2359808\n",
            "        BatchNorm-56                              (1, 512, 2, 2)            2048\n",
            "           Conv2D-57                              (1, 512, 2, 2)          131584\n",
            "       Activation-58                              (1, 512, 2, 2)               0\n",
            "    residualblock-59                              (1, 512, 2, 2)               0\n",
            "           Conv2D-60                              (1, 512, 2, 2)         2359808\n",
            "        BatchNorm-61                              (1, 512, 2, 2)            2048\n",
            "       Activation-62                              (1, 512, 2, 2)               0\n",
            "           Conv2D-63                              (1, 512, 2, 2)         2359808\n",
            "        BatchNorm-64                              (1, 512, 2, 2)            2048\n",
            "           Conv2D-65                              (1, 512, 2, 2)          262656\n",
            "       Activation-66                              (1, 512, 2, 2)               0\n",
            "    residualblock-67                              (1, 512, 2, 2)               0\n",
            "  GlobalAvgPool2D-68                              (1, 512, 1, 1)               0\n",
            "            Dense-69                                     (1, 10)            5130\n",
            "================================================================================\n",
            "Parameters in forward computation graph, duplicate included\n",
            "   Total params: 11545738\n",
            "   Trainable params: 11537930\n",
            "   Non-trainable params: 7808\n",
            "Shared params in forward computation graph: 0\n",
            "Unique parameters in model: 11545738\n",
            "--------------------------------------------------------------------------------\n"
          ]
        }
      ],
      "source": [
        "model.summary(image.expand_dims(0).as_in_context(ctx))"
      ]
    },
    {
      "cell_type": "markdown",
      "metadata": {
        "colab_type": "text",
        "id": "4KlBsabaItQc"
      },
      "source": [
        "## __Visializing model architecture__"
      ]
    },
    {
      "cell_type": "code",
      "execution_count": 22,
      "metadata": {
        "colab": {
          "base_uri": "https://localhost:8080/",
          "height": 1000
        },
        "colab_type": "code",
        "id": "_dssSLsM0thA",
        "outputId": "f0bf8b55-c77d-4a85-9311-aea6c13661ed"
      },
      "outputs": [
        {
          "data": {
            "image/svg+xml": "<?xml version=\"1.0\" encoding=\"UTF-8\" standalone=\"no\"?>\n<!DOCTYPE svg PUBLIC \"-//W3C//DTD SVG 1.1//EN\"\n \"http://www.w3.org/Graphics/SVG/1.1/DTD/svg11.dtd\">\n<!-- Generated by graphviz version 2.40.1 (20161225.0304)\n -->\n<!-- Title: plot Pages: 1 -->\n<svg width=\"280pt\" height=\"5800pt\"\n viewBox=\"0.00 0.00 279.50 5800.00\" xmlns=\"http://www.w3.org/2000/svg\" xmlns:xlink=\"http://www.w3.org/1999/xlink\">\n<g id=\"graph0\" class=\"graph\" transform=\"scale(1 1) rotate(0) translate(4 5796)\">\n<title>plot</title>\n<polygon fill=\"#ffffff\" stroke=\"transparent\" points=\"-4,4 -4,-5796 275.5,-5796 275.5,4 -4,4\"/>\n<!-- data -->\n<g id=\"node1\" class=\"node\">\n<title>data</title>\n<ellipse fill=\"#8dd3c7\" stroke=\"#000000\" cx=\"176.5\" cy=\"-29\" rx=\"47\" ry=\"29\"/>\n<text text-anchor=\"middle\" x=\"176.5\" y=\"-25.3\" font-family=\"Times,serif\" font-size=\"14.00\" fill=\"#000000\">data</text>\n</g>\n<!-- conv18_fwd -->\n<g id=\"node2\" class=\"node\">\n<title>conv18_fwd</title>\n<polygon fill=\"#fb8072\" stroke=\"#000000\" points=\"223.5,-152 129.5,-152 129.5,-94 223.5,-94 223.5,-152\"/>\n<text text-anchor=\"middle\" x=\"176.5\" y=\"-126.8\" font-family=\"Times,serif\" font-size=\"14.00\" fill=\"#000000\">Convolution</text>\n<text text-anchor=\"middle\" x=\"176.5\" y=\"-111.8\" font-family=\"Times,serif\" font-size=\"14.00\" fill=\"#000000\">7x7/2x2, 64</text>\n</g>\n<!-- conv18_fwd&#45;&gt;data -->\n<g id=\"edge1\" class=\"edge\">\n<title>conv18_fwd&#45;&gt;data</title>\n<path fill=\"none\" stroke=\"#000000\" d=\"M176.5,-83.6321C176.5,-75.1148 176.5,-66.2539 176.5,-58.2088\"/>\n<polygon fill=\"#000000\" stroke=\"#000000\" points=\"176.5,-93.7731 172.0001,-83.773 176.5,-88.7731 176.5001,-83.7731 176.5001,-83.7731 176.5001,-83.7731 176.5,-88.7731 181.0001,-83.7731 176.5,-93.7731 176.5,-93.7731\"/>\n</g>\n<!-- batchnorm12_fwd -->\n<g id=\"node3\" class=\"node\">\n<title>batchnorm12_fwd</title>\n<polygon fill=\"#bebada\" stroke=\"#000000\" points=\"238,-246 115,-246 115,-188 238,-188 238,-246\"/>\n<text text-anchor=\"middle\" x=\"176.5\" y=\"-213.3\" font-family=\"Times,serif\" font-size=\"14.00\" fill=\"#000000\">batchnorm12_fwd</text>\n</g>\n<!-- batchnorm12_fwd&#45;&gt;conv18_fwd -->\n<g id=\"edge2\" class=\"edge\">\n<title>batchnorm12_fwd&#45;&gt;conv18_fwd</title>\n<path fill=\"none\" stroke=\"#000000\" d=\"M176.5,-177.6321C176.5,-169.1148 176.5,-160.2539 176.5,-152.2088\"/>\n<polygon fill=\"#000000\" stroke=\"#000000\" points=\"176.5,-187.7731 172.0001,-177.773 176.5,-182.7731 176.5001,-177.7731 176.5001,-177.7731 176.5001,-177.7731 176.5,-182.7731 181.0001,-177.7731 176.5,-187.7731 176.5,-187.7731\"/>\n</g>\n<!-- pool0_fwd -->\n<g id=\"node4\" class=\"node\">\n<title>pool0_fwd</title>\n<polygon fill=\"#80b1d3\" stroke=\"#000000\" points=\"225.5,-340 127.5,-340 127.5,-282 225.5,-282 225.5,-340\"/>\n<text text-anchor=\"middle\" x=\"176.5\" y=\"-314.8\" font-family=\"Times,serif\" font-size=\"14.00\" fill=\"#000000\">Pooling</text>\n<text text-anchor=\"middle\" x=\"176.5\" y=\"-299.8\" font-family=\"Times,serif\" font-size=\"14.00\" fill=\"#000000\">max, 3x3/2x2</text>\n</g>\n<!-- pool0_fwd&#45;&gt;batchnorm12_fwd -->\n<g id=\"edge3\" class=\"edge\">\n<title>pool0_fwd&#45;&gt;batchnorm12_fwd</title>\n<path fill=\"none\" stroke=\"#000000\" d=\"M176.5,-271.6321C176.5,-263.1148 176.5,-254.2539 176.5,-246.2088\"/>\n<polygon fill=\"#000000\" stroke=\"#000000\" points=\"176.5,-281.7731 172.0001,-271.773 176.5,-276.7731 176.5001,-271.7731 176.5001,-271.7731 176.5001,-271.7731 176.5,-276.7731 181.0001,-271.7731 176.5,-281.7731 176.5,-281.7731\"/>\n</g>\n<!-- conv19_fwd -->\n<g id=\"node5\" class=\"node\">\n<title>conv19_fwd</title>\n<polygon fill=\"#fb8072\" stroke=\"#000000\" points=\"186.5,-434 92.5,-434 92.5,-376 186.5,-376 186.5,-434\"/>\n<text text-anchor=\"middle\" x=\"139.5\" y=\"-408.8\" font-family=\"Times,serif\" font-size=\"14.00\" fill=\"#000000\">Convolution</text>\n<text text-anchor=\"middle\" x=\"139.5\" y=\"-393.8\" font-family=\"Times,serif\" font-size=\"14.00\" fill=\"#000000\">3x3/2x2, 64</text>\n</g>\n<!-- conv19_fwd&#45;&gt;pool0_fwd -->\n<g id=\"edge4\" class=\"edge\">\n<title>conv19_fwd&#45;&gt;pool0_fwd</title>\n<path fill=\"none\" stroke=\"#000000\" d=\"M154.775,-366.1932C158.195,-357.5047 161.7666,-348.4307 165.0029,-340.2088\"/>\n<polygon fill=\"#000000\" stroke=\"#000000\" points=\"151.0042,-375.7731 150.4796,-364.8198 152.8356,-371.1205 154.6669,-366.468 154.6669,-366.468 154.6669,-366.468 152.8356,-371.1205 158.8542,-368.1162 151.0042,-375.7731 151.0042,-375.7731\"/>\n</g>\n<!-- batchnorm13_fwd -->\n<g id=\"node6\" class=\"node\">\n<title>batchnorm13_fwd</title>\n<polygon fill=\"#bebada\" stroke=\"#000000\" points=\"190,-528 67,-528 67,-470 190,-470 190,-528\"/>\n<text text-anchor=\"middle\" x=\"128.5\" y=\"-495.3\" font-family=\"Times,serif\" font-size=\"14.00\" fill=\"#000000\">batchnorm13_fwd</text>\n</g>\n<!-- batchnorm13_fwd&#45;&gt;conv19_fwd -->\n<g id=\"edge5\" class=\"edge\">\n<title>batchnorm13_fwd&#45;&gt;conv19_fwd</title>\n<path fill=\"none\" stroke=\"#000000\" d=\"M133.1069,-459.6321C134.1036,-451.1148 135.1405,-442.2539 136.0819,-434.2088\"/>\n<polygon fill=\"#000000\" stroke=\"#000000\" points=\"131.9202,-469.7731 128.613,-459.3178 132.5014,-464.807 133.0825,-459.8409 133.0825,-459.8409 133.0825,-459.8409 132.5014,-464.807 137.552,-460.3639 131.9202,-469.7731 131.9202,-469.7731\"/>\n</g>\n<!-- relu4_fwd -->\n<g id=\"node7\" class=\"node\">\n<title>relu4_fwd</title>\n<polygon fill=\"#ffffb3\" stroke=\"#000000\" points=\"170.5,-622 76.5,-622 76.5,-564 170.5,-564 170.5,-622\"/>\n<text text-anchor=\"middle\" x=\"123.5\" y=\"-596.8\" font-family=\"Times,serif\" font-size=\"14.00\" fill=\"#000000\">Activation</text>\n<text text-anchor=\"middle\" x=\"123.5\" y=\"-581.8\" font-family=\"Times,serif\" font-size=\"14.00\" fill=\"#000000\">relu</text>\n</g>\n<!-- relu4_fwd&#45;&gt;batchnorm13_fwd -->\n<g id=\"edge6\" class=\"edge\">\n<title>relu4_fwd&#45;&gt;batchnorm13_fwd</title>\n<path fill=\"none\" stroke=\"#000000\" d=\"M125.594,-553.6321C126.0471,-545.1148 126.5184,-536.2539 126.9463,-528.2088\"/>\n<polygon fill=\"#000000\" stroke=\"#000000\" points=\"125.0546,-563.7731 121.0922,-553.5481 125.3203,-558.7801 125.5859,-553.7872 125.5859,-553.7872 125.5859,-553.7872 125.3203,-558.7801 130.0795,-554.0263 125.0546,-563.7731 125.0546,-563.7731\"/>\n</g>\n<!-- conv20_fwd -->\n<g id=\"node8\" class=\"node\">\n<title>conv20_fwd</title>\n<polygon fill=\"#fb8072\" stroke=\"#000000\" points=\"159.5,-716 65.5,-716 65.5,-658 159.5,-658 159.5,-716\"/>\n<text text-anchor=\"middle\" x=\"112.5\" y=\"-690.8\" font-family=\"Times,serif\" font-size=\"14.00\" fill=\"#000000\">Convolution</text>\n<text text-anchor=\"middle\" x=\"112.5\" y=\"-675.8\" font-family=\"Times,serif\" font-size=\"14.00\" fill=\"#000000\">3x3/1x1, 64</text>\n</g>\n<!-- conv20_fwd&#45;&gt;relu4_fwd -->\n<g id=\"edge7\" class=\"edge\">\n<title>conv20_fwd&#45;&gt;relu4_fwd</title>\n<path fill=\"none\" stroke=\"#000000\" d=\"M117.1069,-647.6321C118.1036,-639.1148 119.1405,-630.2539 120.0819,-622.2088\"/>\n<polygon fill=\"#000000\" stroke=\"#000000\" points=\"115.9202,-657.7731 112.613,-647.3178 116.5014,-652.807 117.0825,-647.8409 117.0825,-647.8409 117.0825,-647.8409 116.5014,-652.807 121.552,-648.3639 115.9202,-657.7731 115.9202,-657.7731\"/>\n</g>\n<!-- batchnorm14_fwd -->\n<g id=\"node9\" class=\"node\">\n<title>batchnorm14_fwd</title>\n<polygon fill=\"#bebada\" stroke=\"#000000\" points=\"185,-810 62,-810 62,-752 185,-752 185,-810\"/>\n<text text-anchor=\"middle\" x=\"123.5\" y=\"-777.3\" font-family=\"Times,serif\" font-size=\"14.00\" fill=\"#000000\">batchnorm14_fwd</text>\n</g>\n<!-- batchnorm14_fwd&#45;&gt;conv20_fwd -->\n<g id=\"edge8\" class=\"edge\">\n<title>batchnorm14_fwd&#45;&gt;conv20_fwd</title>\n<path fill=\"none\" stroke=\"#000000\" d=\"M118.8931,-741.6321C117.8964,-733.1148 116.8595,-724.2539 115.9181,-716.2088\"/>\n<polygon fill=\"#000000\" stroke=\"#000000\" points=\"120.0798,-751.7731 114.448,-742.3639 119.4986,-746.807 118.9175,-741.8409 118.9175,-741.8409 118.9175,-741.8409 119.4986,-746.807 123.387,-741.3178 120.0798,-751.7731 120.0798,-751.7731\"/>\n</g>\n<!-- conv21_fwd -->\n<g id=\"node10\" class=\"node\">\n<title>conv21_fwd</title>\n<polygon fill=\"#fb8072\" stroke=\"#000000\" points=\"271.5,-716 177.5,-716 177.5,-658 271.5,-658 271.5,-716\"/>\n<text text-anchor=\"middle\" x=\"224.5\" y=\"-690.8\" font-family=\"Times,serif\" font-size=\"14.00\" fill=\"#000000\">Convolution</text>\n<text text-anchor=\"middle\" x=\"224.5\" y=\"-675.8\" font-family=\"Times,serif\" font-size=\"14.00\" fill=\"#000000\">1x1/2x2, 64</text>\n</g>\n<!-- conv21_fwd&#45;&gt;pool0_fwd -->\n<g id=\"edge9\" class=\"edge\">\n<title>conv21_fwd&#45;&gt;pool0_fwd</title>\n<path fill=\"none\" stroke=\"#000000\" d=\"M223.2366,-647.5083C220.7933,-588.1163 213.9224,-472.476 195.5,-376 193.2287,-364.1053 189.7093,-351.2598 186.3139,-340.1543\"/>\n<polygon fill=\"#000000\" stroke=\"#000000\" points=\"223.6303,-657.5816 218.7431,-647.765 223.435,-652.5854 223.2397,-647.5892 223.2397,-647.5892 223.2397,-647.5892 223.435,-652.5854 227.7362,-647.4134 223.6303,-657.5816 223.6303,-657.5816\"/>\n</g>\n<!-- residualblock2__plus0 -->\n<g id=\"node11\" class=\"node\">\n<title>residualblock2__plus0</title>\n<polygon fill=\"#fccde5\" stroke=\"#000000\" points=\"242,-904 95,-904 95,-846 242,-846 242,-904\"/>\n<text text-anchor=\"middle\" x=\"168.5\" y=\"-871.3\" font-family=\"Times,serif\" font-size=\"14.00\" fill=\"#000000\">residualblock2__plus0</text>\n</g>\n<!-- residualblock2__plus0&#45;&gt;batchnorm14_fwd -->\n<g id=\"edge10\" class=\"edge\">\n<title>residualblock2__plus0&#45;&gt;batchnorm14_fwd</title>\n<path fill=\"none\" stroke=\"#000000\" d=\"M150.1904,-836.7532C145.9499,-827.8954 141.5036,-818.6075 137.483,-810.2088\"/>\n<polygon fill=\"#000000\" stroke=\"#000000\" points=\"154.5084,-845.7731 146.1315,-838.6965 152.3494,-841.2632 150.1904,-836.7534 150.1904,-836.7534 150.1904,-836.7534 152.3494,-841.2632 154.2493,-834.8103 154.5084,-845.7731 154.5084,-845.7731\"/>\n</g>\n<!-- residualblock2__plus0&#45;&gt;conv21_fwd -->\n<g id=\"edge11\" class=\"edge\">\n<title>residualblock2__plus0&#45;&gt;conv21_fwd</title>\n<path fill=\"none\" stroke=\"#000000\" d=\"M184.9665,-836.4307C188.3526,-827.8149 191.7265,-818.6624 194.5,-810 204.6208,-778.3907 213.2397,-741.2769 218.6072,-716.1495\"/>\n<polygon fill=\"#000000\" stroke=\"#000000\" points=\"181.1696,-845.8754 180.7244,-834.9186 183.0346,-841.2362 184.8997,-836.5971 184.8997,-836.5971 184.8997,-836.5971 183.0346,-841.2362 189.0749,-838.2756 181.1696,-845.8754 181.1696,-845.8754\"/>\n</g>\n<!-- relu5_fwd -->\n<g id=\"node12\" class=\"node\">\n<title>relu5_fwd</title>\n<polygon fill=\"#ffffb3\" stroke=\"#000000\" points=\"215.5,-998 121.5,-998 121.5,-940 215.5,-940 215.5,-998\"/>\n<text text-anchor=\"middle\" x=\"168.5\" y=\"-972.8\" font-family=\"Times,serif\" font-size=\"14.00\" fill=\"#000000\">Activation</text>\n<text text-anchor=\"middle\" x=\"168.5\" y=\"-957.8\" font-family=\"Times,serif\" font-size=\"14.00\" fill=\"#000000\">relu</text>\n</g>\n<!-- relu5_fwd&#45;&gt;residualblock2__plus0 -->\n<g id=\"edge12\" class=\"edge\">\n<title>relu5_fwd&#45;&gt;residualblock2__plus0</title>\n<path fill=\"none\" stroke=\"#000000\" d=\"M168.5,-929.6321C168.5,-921.1148 168.5,-912.2539 168.5,-904.2088\"/>\n<polygon fill=\"#000000\" stroke=\"#000000\" points=\"168.5,-939.7731 164.0001,-929.773 168.5,-934.7731 168.5001,-929.7731 168.5001,-929.7731 168.5001,-929.7731 168.5,-934.7731 173.0001,-929.7731 168.5,-939.7731 168.5,-939.7731\"/>\n</g>\n<!-- conv22_fwd -->\n<g id=\"node13\" class=\"node\">\n<title>conv22_fwd</title>\n<polygon fill=\"#fb8072\" stroke=\"#000000\" points=\"178.5,-1092 84.5,-1092 84.5,-1034 178.5,-1034 178.5,-1092\"/>\n<text text-anchor=\"middle\" x=\"131.5\" y=\"-1066.8\" font-family=\"Times,serif\" font-size=\"14.00\" fill=\"#000000\">Convolution</text>\n<text text-anchor=\"middle\" x=\"131.5\" y=\"-1051.8\" font-family=\"Times,serif\" font-size=\"14.00\" fill=\"#000000\">3x3/2x2, 64</text>\n</g>\n<!-- conv22_fwd&#45;&gt;relu5_fwd -->\n<g id=\"edge13\" class=\"edge\">\n<title>conv22_fwd&#45;&gt;relu5_fwd</title>\n<path fill=\"none\" stroke=\"#000000\" d=\"M146.775,-1024.1932C150.195,-1015.5047 153.7666,-1006.4307 157.0029,-998.2088\"/>\n<polygon fill=\"#000000\" stroke=\"#000000\" points=\"143.0042,-1033.7731 142.4796,-1022.8198 144.8356,-1029.1205 146.6669,-1024.468 146.6669,-1024.468 146.6669,-1024.468 144.8356,-1029.1205 150.8542,-1026.1162 143.0042,-1033.7731 143.0042,-1033.7731\"/>\n</g>\n<!-- batchnorm15_fwd -->\n<g id=\"node14\" class=\"node\">\n<title>batchnorm15_fwd</title>\n<polygon fill=\"#bebada\" stroke=\"#000000\" points=\"182,-1186 59,-1186 59,-1128 182,-1128 182,-1186\"/>\n<text text-anchor=\"middle\" x=\"120.5\" y=\"-1153.3\" font-family=\"Times,serif\" font-size=\"14.00\" fill=\"#000000\">batchnorm15_fwd</text>\n</g>\n<!-- batchnorm15_fwd&#45;&gt;conv22_fwd -->\n<g id=\"edge14\" class=\"edge\">\n<title>batchnorm15_fwd&#45;&gt;conv22_fwd</title>\n<path fill=\"none\" stroke=\"#000000\" d=\"M125.1069,-1117.6321C126.1036,-1109.1148 127.1405,-1100.2539 128.0819,-1092.2088\"/>\n<polygon fill=\"#000000\" stroke=\"#000000\" points=\"123.9202,-1127.7731 120.613,-1117.3178 124.5014,-1122.807 125.0825,-1117.8409 125.0825,-1117.8409 125.0825,-1117.8409 124.5014,-1122.807 129.552,-1118.3639 123.9202,-1127.7731 123.9202,-1127.7731\"/>\n</g>\n<!-- relu6_fwd -->\n<g id=\"node15\" class=\"node\">\n<title>relu6_fwd</title>\n<polygon fill=\"#ffffb3\" stroke=\"#000000\" points=\"162.5,-1280 68.5,-1280 68.5,-1222 162.5,-1222 162.5,-1280\"/>\n<text text-anchor=\"middle\" x=\"115.5\" y=\"-1254.8\" font-family=\"Times,serif\" font-size=\"14.00\" fill=\"#000000\">Activation</text>\n<text text-anchor=\"middle\" x=\"115.5\" y=\"-1239.8\" font-family=\"Times,serif\" font-size=\"14.00\" fill=\"#000000\">relu</text>\n</g>\n<!-- relu6_fwd&#45;&gt;batchnorm15_fwd -->\n<g id=\"edge15\" class=\"edge\">\n<title>relu6_fwd&#45;&gt;batchnorm15_fwd</title>\n<path fill=\"none\" stroke=\"#000000\" d=\"M117.594,-1211.6321C118.0471,-1203.1148 118.5184,-1194.2539 118.9463,-1186.2088\"/>\n<polygon fill=\"#000000\" stroke=\"#000000\" points=\"117.0546,-1221.7731 113.0922,-1211.5481 117.3203,-1216.7801 117.5859,-1211.7872 117.5859,-1211.7872 117.5859,-1211.7872 117.3203,-1216.7801 122.0795,-1212.0263 117.0546,-1221.7731 117.0546,-1221.7731\"/>\n</g>\n<!-- conv23_fwd -->\n<g id=\"node16\" class=\"node\">\n<title>conv23_fwd</title>\n<polygon fill=\"#fb8072\" stroke=\"#000000\" points=\"151.5,-1374 57.5,-1374 57.5,-1316 151.5,-1316 151.5,-1374\"/>\n<text text-anchor=\"middle\" x=\"104.5\" y=\"-1348.8\" font-family=\"Times,serif\" font-size=\"14.00\" fill=\"#000000\">Convolution</text>\n<text text-anchor=\"middle\" x=\"104.5\" y=\"-1333.8\" font-family=\"Times,serif\" font-size=\"14.00\" fill=\"#000000\">3x3/1x1, 64</text>\n</g>\n<!-- conv23_fwd&#45;&gt;relu6_fwd -->\n<g id=\"edge16\" class=\"edge\">\n<title>conv23_fwd&#45;&gt;relu6_fwd</title>\n<path fill=\"none\" stroke=\"#000000\" d=\"M109.1069,-1305.6321C110.1036,-1297.1148 111.1405,-1288.2539 112.0819,-1280.2088\"/>\n<polygon fill=\"#000000\" stroke=\"#000000\" points=\"107.9202,-1315.7731 104.613,-1305.3178 108.5014,-1310.807 109.0825,-1305.8409 109.0825,-1305.8409 109.0825,-1305.8409 108.5014,-1310.807 113.552,-1306.3639 107.9202,-1315.7731 107.9202,-1315.7731\"/>\n</g>\n<!-- batchnorm16_fwd -->\n<g id=\"node17\" class=\"node\">\n<title>batchnorm16_fwd</title>\n<polygon fill=\"#bebada\" stroke=\"#000000\" points=\"177,-1468 54,-1468 54,-1410 177,-1410 177,-1468\"/>\n<text text-anchor=\"middle\" x=\"115.5\" y=\"-1435.3\" font-family=\"Times,serif\" font-size=\"14.00\" fill=\"#000000\">batchnorm16_fwd</text>\n</g>\n<!-- batchnorm16_fwd&#45;&gt;conv23_fwd -->\n<g id=\"edge17\" class=\"edge\">\n<title>batchnorm16_fwd&#45;&gt;conv23_fwd</title>\n<path fill=\"none\" stroke=\"#000000\" d=\"M110.8931,-1399.6321C109.8964,-1391.1148 108.8595,-1382.2539 107.9181,-1374.2088\"/>\n<polygon fill=\"#000000\" stroke=\"#000000\" points=\"112.0798,-1409.7731 106.448,-1400.3639 111.4986,-1404.807 110.9175,-1399.8409 110.9175,-1399.8409 110.9175,-1399.8409 111.4986,-1404.807 115.387,-1399.3178 112.0798,-1409.7731 112.0798,-1409.7731\"/>\n</g>\n<!-- conv24_fwd -->\n<g id=\"node18\" class=\"node\">\n<title>conv24_fwd</title>\n<polygon fill=\"#fb8072\" stroke=\"#000000\" points=\"263.5,-1374 169.5,-1374 169.5,-1316 263.5,-1316 263.5,-1374\"/>\n<text text-anchor=\"middle\" x=\"216.5\" y=\"-1348.8\" font-family=\"Times,serif\" font-size=\"14.00\" fill=\"#000000\">Convolution</text>\n<text text-anchor=\"middle\" x=\"216.5\" y=\"-1333.8\" font-family=\"Times,serif\" font-size=\"14.00\" fill=\"#000000\">1x1/2x2, 64</text>\n</g>\n<!-- conv24_fwd&#45;&gt;relu5_fwd -->\n<g id=\"edge18\" class=\"edge\">\n<title>conv24_fwd&#45;&gt;relu5_fwd</title>\n<path fill=\"none\" stroke=\"#000000\" d=\"M215.2366,-1305.5083C212.7933,-1246.1163 205.9224,-1130.476 187.5,-1034 185.2287,-1022.1053 181.7093,-1009.2598 178.3139,-998.1543\"/>\n<polygon fill=\"#000000\" stroke=\"#000000\" points=\"215.6303,-1315.5816 210.7431,-1305.765 215.435,-1310.5854 215.2397,-1305.5892 215.2397,-1305.5892 215.2397,-1305.5892 215.435,-1310.5854 219.7362,-1305.4134 215.6303,-1315.5816 215.6303,-1315.5816\"/>\n</g>\n<!-- residualblock3__plus0 -->\n<g id=\"node19\" class=\"node\">\n<title>residualblock3__plus0</title>\n<polygon fill=\"#fccde5\" stroke=\"#000000\" points=\"234,-1562 87,-1562 87,-1504 234,-1504 234,-1562\"/>\n<text text-anchor=\"middle\" x=\"160.5\" y=\"-1529.3\" font-family=\"Times,serif\" font-size=\"14.00\" fill=\"#000000\">residualblock3__plus0</text>\n</g>\n<!-- residualblock3__plus0&#45;&gt;batchnorm16_fwd -->\n<g id=\"edge19\" class=\"edge\">\n<title>residualblock3__plus0&#45;&gt;batchnorm16_fwd</title>\n<path fill=\"none\" stroke=\"#000000\" d=\"M142.1904,-1494.7532C137.9499,-1485.8954 133.5036,-1476.6075 129.483,-1468.2088\"/>\n<polygon fill=\"#000000\" stroke=\"#000000\" points=\"146.5084,-1503.7731 138.1315,-1496.6965 144.3494,-1499.2632 142.1904,-1494.7534 142.1904,-1494.7534 142.1904,-1494.7534 144.3494,-1499.2632 146.2493,-1492.8103 146.5084,-1503.7731 146.5084,-1503.7731\"/>\n</g>\n<!-- residualblock3__plus0&#45;&gt;conv24_fwd -->\n<g id=\"edge20\" class=\"edge\">\n<title>residualblock3__plus0&#45;&gt;conv24_fwd</title>\n<path fill=\"none\" stroke=\"#000000\" d=\"M176.9665,-1494.4307C180.3526,-1485.8149 183.7265,-1476.6624 186.5,-1468 196.6208,-1436.3907 205.2397,-1399.2769 210.6072,-1374.1495\"/>\n<polygon fill=\"#000000\" stroke=\"#000000\" points=\"173.1696,-1503.8754 172.7244,-1492.9186 175.0346,-1499.2362 176.8997,-1494.5971 176.8997,-1494.5971 176.8997,-1494.5971 175.0346,-1499.2362 181.0749,-1496.2756 173.1696,-1503.8754 173.1696,-1503.8754\"/>\n</g>\n<!-- relu7_fwd -->\n<g id=\"node20\" class=\"node\">\n<title>relu7_fwd</title>\n<polygon fill=\"#ffffb3\" stroke=\"#000000\" points=\"207.5,-1656 113.5,-1656 113.5,-1598 207.5,-1598 207.5,-1656\"/>\n<text text-anchor=\"middle\" x=\"160.5\" y=\"-1630.8\" font-family=\"Times,serif\" font-size=\"14.00\" fill=\"#000000\">Activation</text>\n<text text-anchor=\"middle\" x=\"160.5\" y=\"-1615.8\" font-family=\"Times,serif\" font-size=\"14.00\" fill=\"#000000\">relu</text>\n</g>\n<!-- relu7_fwd&#45;&gt;residualblock3__plus0 -->\n<g id=\"edge21\" class=\"edge\">\n<title>relu7_fwd&#45;&gt;residualblock3__plus0</title>\n<path fill=\"none\" stroke=\"#000000\" d=\"M160.5,-1587.6321C160.5,-1579.1148 160.5,-1570.2539 160.5,-1562.2088\"/>\n<polygon fill=\"#000000\" stroke=\"#000000\" points=\"160.5,-1597.7731 156.0001,-1587.773 160.5,-1592.7731 160.5001,-1587.7731 160.5001,-1587.7731 160.5001,-1587.7731 160.5,-1592.7731 165.0001,-1587.7731 160.5,-1597.7731 160.5,-1597.7731\"/>\n</g>\n<!-- conv25_fwd -->\n<g id=\"node21\" class=\"node\">\n<title>conv25_fwd</title>\n<polygon fill=\"#fb8072\" stroke=\"#000000\" points=\"170,-1750 75,-1750 75,-1692 170,-1692 170,-1750\"/>\n<text text-anchor=\"middle\" x=\"122.5\" y=\"-1724.8\" font-family=\"Times,serif\" font-size=\"14.00\" fill=\"#000000\">Convolution</text>\n<text text-anchor=\"middle\" x=\"122.5\" y=\"-1709.8\" font-family=\"Times,serif\" font-size=\"14.00\" fill=\"#000000\">3x3/1x1, 128</text>\n</g>\n<!-- conv25_fwd&#45;&gt;relu7_fwd -->\n<g id=\"edge22\" class=\"edge\">\n<title>conv25_fwd&#45;&gt;relu7_fwd</title>\n<path fill=\"none\" stroke=\"#000000\" d=\"M138.0746,-1682.4734C141.6213,-1673.6999 145.3327,-1664.5191 148.6922,-1656.2088\"/>\n<polygon fill=\"#000000\" stroke=\"#000000\" points=\"134.3151,-1691.7731 133.8911,-1680.8154 136.1891,-1687.1375 138.0631,-1682.502 138.0631,-1682.502 138.0631,-1682.502 136.1891,-1687.1375 142.2351,-1684.1886 134.3151,-1691.7731 134.3151,-1691.7731\"/>\n</g>\n<!-- batchnorm17_fwd -->\n<g id=\"node22\" class=\"node\">\n<title>batchnorm17_fwd</title>\n<polygon fill=\"#bebada\" stroke=\"#000000\" points=\"174,-1844 51,-1844 51,-1786 174,-1786 174,-1844\"/>\n<text text-anchor=\"middle\" x=\"112.5\" y=\"-1811.3\" font-family=\"Times,serif\" font-size=\"14.00\" fill=\"#000000\">batchnorm17_fwd</text>\n</g>\n<!-- batchnorm17_fwd&#45;&gt;conv25_fwd -->\n<g id=\"edge23\" class=\"edge\">\n<title>batchnorm17_fwd&#45;&gt;conv25_fwd</title>\n<path fill=\"none\" stroke=\"#000000\" d=\"M116.6881,-1775.6321C117.5942,-1767.1148 118.5368,-1758.2539 119.3927,-1750.2088\"/>\n<polygon fill=\"#000000\" stroke=\"#000000\" points=\"115.6092,-1785.7731 112.1924,-1775.3531 116.1382,-1780.8011 116.6672,-1775.8292 116.6672,-1775.8292 116.6672,-1775.8292 116.1382,-1780.8011 121.1419,-1776.3053 115.6092,-1785.7731 115.6092,-1785.7731\"/>\n</g>\n<!-- relu8_fwd -->\n<g id=\"node23\" class=\"node\">\n<title>relu8_fwd</title>\n<polygon fill=\"#ffffb3\" stroke=\"#000000\" points=\"153.5,-1938 59.5,-1938 59.5,-1880 153.5,-1880 153.5,-1938\"/>\n<text text-anchor=\"middle\" x=\"106.5\" y=\"-1912.8\" font-family=\"Times,serif\" font-size=\"14.00\" fill=\"#000000\">Activation</text>\n<text text-anchor=\"middle\" x=\"106.5\" y=\"-1897.8\" font-family=\"Times,serif\" font-size=\"14.00\" fill=\"#000000\">relu</text>\n</g>\n<!-- relu8_fwd&#45;&gt;batchnorm17_fwd -->\n<g id=\"edge24\" class=\"edge\">\n<title>relu8_fwd&#45;&gt;batchnorm17_fwd</title>\n<path fill=\"none\" stroke=\"#000000\" d=\"M109.0128,-1869.6321C109.5565,-1861.1148 110.1221,-1852.2539 110.6356,-1844.2088\"/>\n<polygon fill=\"#000000\" stroke=\"#000000\" points=\"108.3655,-1879.7731 104.5118,-1869.5067 108.6841,-1874.7832 109.0026,-1869.7934 109.0026,-1869.7934 109.0026,-1869.7934 108.6841,-1874.7832 113.4935,-1870.0801 108.3655,-1879.7731 108.3655,-1879.7731\"/>\n</g>\n<!-- conv26_fwd -->\n<g id=\"node24\" class=\"node\">\n<title>conv26_fwd</title>\n<polygon fill=\"#fb8072\" stroke=\"#000000\" points=\"143,-2032 48,-2032 48,-1974 143,-1974 143,-2032\"/>\n<text text-anchor=\"middle\" x=\"95.5\" y=\"-2006.8\" font-family=\"Times,serif\" font-size=\"14.00\" fill=\"#000000\">Convolution</text>\n<text text-anchor=\"middle\" x=\"95.5\" y=\"-1991.8\" font-family=\"Times,serif\" font-size=\"14.00\" fill=\"#000000\">3x3/1x1, 128</text>\n</g>\n<!-- conv26_fwd&#45;&gt;relu8_fwd -->\n<g id=\"edge25\" class=\"edge\">\n<title>conv26_fwd&#45;&gt;relu8_fwd</title>\n<path fill=\"none\" stroke=\"#000000\" d=\"M100.1069,-1963.6321C101.1036,-1955.1148 102.1405,-1946.2539 103.0819,-1938.2088\"/>\n<polygon fill=\"#000000\" stroke=\"#000000\" points=\"98.9202,-1973.7731 95.613,-1963.3178 99.5014,-1968.807 100.0825,-1963.8409 100.0825,-1963.8409 100.0825,-1963.8409 99.5014,-1968.807 104.552,-1964.3639 98.9202,-1973.7731 98.9202,-1973.7731\"/>\n</g>\n<!-- batchnorm18_fwd -->\n<g id=\"node25\" class=\"node\">\n<title>batchnorm18_fwd</title>\n<polygon fill=\"#bebada\" stroke=\"#000000\" points=\"168,-2126 45,-2126 45,-2068 168,-2068 168,-2126\"/>\n<text text-anchor=\"middle\" x=\"106.5\" y=\"-2093.3\" font-family=\"Times,serif\" font-size=\"14.00\" fill=\"#000000\">batchnorm18_fwd</text>\n</g>\n<!-- batchnorm18_fwd&#45;&gt;conv26_fwd -->\n<g id=\"edge26\" class=\"edge\">\n<title>batchnorm18_fwd&#45;&gt;conv26_fwd</title>\n<path fill=\"none\" stroke=\"#000000\" d=\"M101.8931,-2057.6321C100.8964,-2049.1148 99.8595,-2040.2539 98.9181,-2032.2088\"/>\n<polygon fill=\"#000000\" stroke=\"#000000\" points=\"103.0798,-2067.7731 97.448,-2058.3639 102.4986,-2062.807 101.9175,-2057.8409 101.9175,-2057.8409 101.9175,-2057.8409 102.4986,-2062.807 106.387,-2057.3178 103.0798,-2067.7731 103.0798,-2067.7731\"/>\n</g>\n<!-- conv27_fwd -->\n<g id=\"node26\" class=\"node\">\n<title>conv27_fwd</title>\n<polygon fill=\"#fb8072\" stroke=\"#000000\" points=\"256,-2032 161,-2032 161,-1974 256,-1974 256,-2032\"/>\n<text text-anchor=\"middle\" x=\"208.5\" y=\"-2006.8\" font-family=\"Times,serif\" font-size=\"14.00\" fill=\"#000000\">Convolution</text>\n<text text-anchor=\"middle\" x=\"208.5\" y=\"-1991.8\" font-family=\"Times,serif\" font-size=\"14.00\" fill=\"#000000\">1x1/1x1, 128</text>\n</g>\n<!-- conv27_fwd&#45;&gt;relu7_fwd -->\n<g id=\"edge27\" class=\"edge\">\n<title>conv27_fwd&#45;&gt;relu7_fwd</title>\n<path fill=\"none\" stroke=\"#000000\" d=\"M206.8946,-1963.5415C203.9852,-1904.192 196.3948,-1788.6055 178.5,-1692 176.3033,-1680.141 172.9604,-1667.3026 169.7493,-1656.1926\"/>\n<polygon fill=\"#000000\" stroke=\"#000000\" points=\"207.3692,-1973.6073 202.4031,-1963.8304 207.1337,-1968.6129 206.8981,-1963.6184 206.8981,-1963.6184 206.8981,-1963.6184 207.1337,-1968.6129 211.3931,-1963.4064 207.3692,-1973.6073 207.3692,-1973.6073\"/>\n</g>\n<!-- residualblock4__plus0 -->\n<g id=\"node27\" class=\"node\">\n<title>residualblock4__plus0</title>\n<polygon fill=\"#fccde5\" stroke=\"#000000\" points=\"225,-2220 78,-2220 78,-2162 225,-2162 225,-2220\"/>\n<text text-anchor=\"middle\" x=\"151.5\" y=\"-2187.3\" font-family=\"Times,serif\" font-size=\"14.00\" fill=\"#000000\">residualblock4__plus0</text>\n</g>\n<!-- residualblock4__plus0&#45;&gt;batchnorm18_fwd -->\n<g id=\"edge28\" class=\"edge\">\n<title>residualblock4__plus0&#45;&gt;batchnorm18_fwd</title>\n<path fill=\"none\" stroke=\"#000000\" d=\"M133.1904,-2152.7532C128.9499,-2143.8954 124.5036,-2134.6075 120.483,-2126.2088\"/>\n<polygon fill=\"#000000\" stroke=\"#000000\" points=\"137.5084,-2161.7731 129.1315,-2154.6965 135.3494,-2157.2632 133.1904,-2152.7534 133.1904,-2152.7534 133.1904,-2152.7534 135.3494,-2157.2632 137.2493,-2150.8103 137.5084,-2161.7731 137.5084,-2161.7731\"/>\n</g>\n<!-- residualblock4__plus0&#45;&gt;conv27_fwd -->\n<g id=\"edge29\" class=\"edge\">\n<title>residualblock4__plus0&#45;&gt;conv27_fwd</title>\n<path fill=\"none\" stroke=\"#000000\" d=\"M167.182,-2152.3587C170.4466,-2143.7471 173.7325,-2134.6145 176.5,-2126 186.6909,-2094.2786 195.993,-2057.1849 201.9093,-2032.0929\"/>\n<polygon fill=\"#000000\" stroke=\"#000000\" points=\"163.5339,-2161.8048 162.9388,-2150.855 165.3352,-2157.1405 167.1366,-2152.4763 167.1366,-2152.4763 167.1366,-2152.4763 165.3352,-2157.1405 171.3345,-2154.0975 163.5339,-2161.8048 163.5339,-2161.8048\"/>\n</g>\n<!-- relu9_fwd -->\n<g id=\"node28\" class=\"node\">\n<title>relu9_fwd</title>\n<polygon fill=\"#ffffb3\" stroke=\"#000000\" points=\"198.5,-2314 104.5,-2314 104.5,-2256 198.5,-2256 198.5,-2314\"/>\n<text text-anchor=\"middle\" x=\"151.5\" y=\"-2288.8\" font-family=\"Times,serif\" font-size=\"14.00\" fill=\"#000000\">Activation</text>\n<text text-anchor=\"middle\" x=\"151.5\" y=\"-2273.8\" font-family=\"Times,serif\" font-size=\"14.00\" fill=\"#000000\">relu</text>\n</g>\n<!-- relu9_fwd&#45;&gt;residualblock4__plus0 -->\n<g id=\"edge30\" class=\"edge\">\n<title>relu9_fwd&#45;&gt;residualblock4__plus0</title>\n<path fill=\"none\" stroke=\"#000000\" d=\"M151.5,-2245.6321C151.5,-2237.1148 151.5,-2228.2539 151.5,-2220.2088\"/>\n<polygon fill=\"#000000\" stroke=\"#000000\" points=\"151.5,-2255.7731 147.0001,-2245.773 151.5,-2250.7731 151.5001,-2245.7731 151.5001,-2245.7731 151.5001,-2245.7731 151.5,-2250.7731 156.0001,-2245.7731 151.5,-2255.7731 151.5,-2255.7731\"/>\n</g>\n<!-- conv28_fwd -->\n<g id=\"node29\" class=\"node\">\n<title>conv28_fwd</title>\n<polygon fill=\"#fb8072\" stroke=\"#000000\" points=\"161,-2408 66,-2408 66,-2350 161,-2350 161,-2408\"/>\n<text text-anchor=\"middle\" x=\"113.5\" y=\"-2382.8\" font-family=\"Times,serif\" font-size=\"14.00\" fill=\"#000000\">Convolution</text>\n<text text-anchor=\"middle\" x=\"113.5\" y=\"-2367.8\" font-family=\"Times,serif\" font-size=\"14.00\" fill=\"#000000\">3x3/1x1, 128</text>\n</g>\n<!-- conv28_fwd&#45;&gt;relu9_fwd -->\n<g id=\"edge31\" class=\"edge\">\n<title>conv28_fwd&#45;&gt;relu9_fwd</title>\n<path fill=\"none\" stroke=\"#000000\" d=\"M129.0746,-2340.4734C132.6213,-2331.6999 136.3327,-2322.5191 139.6922,-2314.2088\"/>\n<polygon fill=\"#000000\" stroke=\"#000000\" points=\"125.3151,-2349.7731 124.8911,-2338.8154 127.1891,-2345.1375 129.0631,-2340.502 129.0631,-2340.502 129.0631,-2340.502 127.1891,-2345.1375 133.2351,-2342.1886 125.3151,-2349.7731 125.3151,-2349.7731\"/>\n</g>\n<!-- batchnorm19_fwd -->\n<g id=\"node30\" class=\"node\">\n<title>batchnorm19_fwd</title>\n<polygon fill=\"#bebada\" stroke=\"#000000\" points=\"165,-2502 42,-2502 42,-2444 165,-2444 165,-2502\"/>\n<text text-anchor=\"middle\" x=\"103.5\" y=\"-2469.3\" font-family=\"Times,serif\" font-size=\"14.00\" fill=\"#000000\">batchnorm19_fwd</text>\n</g>\n<!-- batchnorm19_fwd&#45;&gt;conv28_fwd -->\n<g id=\"edge32\" class=\"edge\">\n<title>batchnorm19_fwd&#45;&gt;conv28_fwd</title>\n<path fill=\"none\" stroke=\"#000000\" d=\"M107.6881,-2433.6321C108.5942,-2425.1148 109.5368,-2416.2539 110.3927,-2408.2088\"/>\n<polygon fill=\"#000000\" stroke=\"#000000\" points=\"106.6092,-2443.7731 103.1924,-2433.3531 107.1382,-2438.8011 107.6672,-2433.8292 107.6672,-2433.8292 107.6672,-2433.8292 107.1382,-2438.8011 112.1419,-2434.3053 106.6092,-2443.7731 106.6092,-2443.7731\"/>\n</g>\n<!-- relu10_fwd -->\n<g id=\"node31\" class=\"node\">\n<title>relu10_fwd</title>\n<polygon fill=\"#ffffb3\" stroke=\"#000000\" points=\"144.5,-2596 50.5,-2596 50.5,-2538 144.5,-2538 144.5,-2596\"/>\n<text text-anchor=\"middle\" x=\"97.5\" y=\"-2570.8\" font-family=\"Times,serif\" font-size=\"14.00\" fill=\"#000000\">Activation</text>\n<text text-anchor=\"middle\" x=\"97.5\" y=\"-2555.8\" font-family=\"Times,serif\" font-size=\"14.00\" fill=\"#000000\">relu</text>\n</g>\n<!-- relu10_fwd&#45;&gt;batchnorm19_fwd -->\n<g id=\"edge33\" class=\"edge\">\n<title>relu10_fwd&#45;&gt;batchnorm19_fwd</title>\n<path fill=\"none\" stroke=\"#000000\" d=\"M100.0128,-2527.6321C100.5565,-2519.1148 101.1221,-2510.2539 101.6356,-2502.2088\"/>\n<polygon fill=\"#000000\" stroke=\"#000000\" points=\"99.3655,-2537.7731 95.5118,-2527.5067 99.6841,-2532.7832 100.0026,-2527.7934 100.0026,-2527.7934 100.0026,-2527.7934 99.6841,-2532.7832 104.4935,-2528.0801 99.3655,-2537.7731 99.3655,-2537.7731\"/>\n</g>\n<!-- conv29_fwd -->\n<g id=\"node32\" class=\"node\">\n<title>conv29_fwd</title>\n<polygon fill=\"#fb8072\" stroke=\"#000000\" points=\"134,-2690 39,-2690 39,-2632 134,-2632 134,-2690\"/>\n<text text-anchor=\"middle\" x=\"86.5\" y=\"-2664.8\" font-family=\"Times,serif\" font-size=\"14.00\" fill=\"#000000\">Convolution</text>\n<text text-anchor=\"middle\" x=\"86.5\" y=\"-2649.8\" font-family=\"Times,serif\" font-size=\"14.00\" fill=\"#000000\">3x3/1x1, 128</text>\n</g>\n<!-- conv29_fwd&#45;&gt;relu10_fwd -->\n<g id=\"edge34\" class=\"edge\">\n<title>conv29_fwd&#45;&gt;relu10_fwd</title>\n<path fill=\"none\" stroke=\"#000000\" d=\"M91.1069,-2621.6321C92.1036,-2613.1148 93.1405,-2604.2539 94.0819,-2596.2088\"/>\n<polygon fill=\"#000000\" stroke=\"#000000\" points=\"89.9202,-2631.7731 86.613,-2621.3178 90.5014,-2626.807 91.0825,-2621.8409 91.0825,-2621.8409 91.0825,-2621.8409 90.5014,-2626.807 95.552,-2622.3639 89.9202,-2631.7731 89.9202,-2631.7731\"/>\n</g>\n<!-- batchnorm20_fwd -->\n<g id=\"node33\" class=\"node\">\n<title>batchnorm20_fwd</title>\n<polygon fill=\"#bebada\" stroke=\"#000000\" points=\"159,-2784 36,-2784 36,-2726 159,-2726 159,-2784\"/>\n<text text-anchor=\"middle\" x=\"97.5\" y=\"-2751.3\" font-family=\"Times,serif\" font-size=\"14.00\" fill=\"#000000\">batchnorm20_fwd</text>\n</g>\n<!-- batchnorm20_fwd&#45;&gt;conv29_fwd -->\n<g id=\"edge35\" class=\"edge\">\n<title>batchnorm20_fwd&#45;&gt;conv29_fwd</title>\n<path fill=\"none\" stroke=\"#000000\" d=\"M92.8931,-2715.6321C91.8964,-2707.1148 90.8595,-2698.2539 89.9181,-2690.2088\"/>\n<polygon fill=\"#000000\" stroke=\"#000000\" points=\"94.0798,-2725.7731 88.448,-2716.3639 93.4986,-2720.807 92.9175,-2715.8409 92.9175,-2715.8409 92.9175,-2715.8409 93.4986,-2720.807 97.387,-2715.3178 94.0798,-2725.7731 94.0798,-2725.7731\"/>\n</g>\n<!-- conv30_fwd -->\n<g id=\"node34\" class=\"node\">\n<title>conv30_fwd</title>\n<polygon fill=\"#fb8072\" stroke=\"#000000\" points=\"247,-2690 152,-2690 152,-2632 247,-2632 247,-2690\"/>\n<text text-anchor=\"middle\" x=\"199.5\" y=\"-2664.8\" font-family=\"Times,serif\" font-size=\"14.00\" fill=\"#000000\">Convolution</text>\n<text text-anchor=\"middle\" x=\"199.5\" y=\"-2649.8\" font-family=\"Times,serif\" font-size=\"14.00\" fill=\"#000000\">1x1/1x1, 128</text>\n</g>\n<!-- conv30_fwd&#45;&gt;relu9_fwd -->\n<g id=\"edge36\" class=\"edge\">\n<title>conv30_fwd&#45;&gt;relu9_fwd</title>\n<path fill=\"none\" stroke=\"#000000\" d=\"M197.8946,-2621.5415C194.9852,-2562.192 187.3948,-2446.6055 169.5,-2350 167.3033,-2338.141 163.9604,-2325.3026 160.7493,-2314.1926\"/>\n<polygon fill=\"#000000\" stroke=\"#000000\" points=\"198.3692,-2631.6073 193.4031,-2621.8304 198.1337,-2626.6129 197.8981,-2621.6184 197.8981,-2621.6184 197.8981,-2621.6184 198.1337,-2626.6129 202.3931,-2621.4064 198.3692,-2631.6073 198.3692,-2631.6073\"/>\n</g>\n<!-- residualblock5__plus0 -->\n<g id=\"node35\" class=\"node\">\n<title>residualblock5__plus0</title>\n<polygon fill=\"#fccde5\" stroke=\"#000000\" points=\"216,-2878 69,-2878 69,-2820 216,-2820 216,-2878\"/>\n<text text-anchor=\"middle\" x=\"142.5\" y=\"-2845.3\" font-family=\"Times,serif\" font-size=\"14.00\" fill=\"#000000\">residualblock5__plus0</text>\n</g>\n<!-- residualblock5__plus0&#45;&gt;batchnorm20_fwd -->\n<g id=\"edge37\" class=\"edge\">\n<title>residualblock5__plus0&#45;&gt;batchnorm20_fwd</title>\n<path fill=\"none\" stroke=\"#000000\" d=\"M124.1904,-2810.7532C119.9499,-2801.8954 115.5036,-2792.6075 111.483,-2784.2088\"/>\n<polygon fill=\"#000000\" stroke=\"#000000\" points=\"128.5084,-2819.7731 120.1315,-2812.6965 126.3494,-2815.2632 124.1904,-2810.7534 124.1904,-2810.7534 124.1904,-2810.7534 126.3494,-2815.2632 128.2493,-2808.8103 128.5084,-2819.7731 128.5084,-2819.7731\"/>\n</g>\n<!-- residualblock5__plus0&#45;&gt;conv30_fwd -->\n<g id=\"edge38\" class=\"edge\">\n<title>residualblock5__plus0&#45;&gt;conv30_fwd</title>\n<path fill=\"none\" stroke=\"#000000\" d=\"M158.182,-2810.3587C161.4466,-2801.7471 164.7325,-2792.6145 167.5,-2784 177.6909,-2752.2786 186.993,-2715.1849 192.9093,-2690.0929\"/>\n<polygon fill=\"#000000\" stroke=\"#000000\" points=\"154.5339,-2819.8048 153.9388,-2808.855 156.3352,-2815.1405 158.1366,-2810.4763 158.1366,-2810.4763 158.1366,-2810.4763 156.3352,-2815.1405 162.3345,-2812.0975 154.5339,-2819.8048 154.5339,-2819.8048\"/>\n</g>\n<!-- relu11_fwd -->\n<g id=\"node36\" class=\"node\">\n<title>relu11_fwd</title>\n<polygon fill=\"#ffffb3\" stroke=\"#000000\" points=\"189.5,-2972 95.5,-2972 95.5,-2914 189.5,-2914 189.5,-2972\"/>\n<text text-anchor=\"middle\" x=\"142.5\" y=\"-2946.8\" font-family=\"Times,serif\" font-size=\"14.00\" fill=\"#000000\">Activation</text>\n<text text-anchor=\"middle\" x=\"142.5\" y=\"-2931.8\" font-family=\"Times,serif\" font-size=\"14.00\" fill=\"#000000\">relu</text>\n</g>\n<!-- relu11_fwd&#45;&gt;residualblock5__plus0 -->\n<g id=\"edge39\" class=\"edge\">\n<title>relu11_fwd&#45;&gt;residualblock5__plus0</title>\n<path fill=\"none\" stroke=\"#000000\" d=\"M142.5,-2903.6321C142.5,-2895.1148 142.5,-2886.2539 142.5,-2878.2088\"/>\n<polygon fill=\"#000000\" stroke=\"#000000\" points=\"142.5,-2913.7731 138.0001,-2903.773 142.5,-2908.7731 142.5001,-2903.7731 142.5001,-2903.7731 142.5001,-2903.7731 142.5,-2908.7731 147.0001,-2903.7731 142.5,-2913.7731 142.5,-2913.7731\"/>\n</g>\n<!-- conv31_fwd -->\n<g id=\"node37\" class=\"node\">\n<title>conv31_fwd</title>\n<polygon fill=\"#fb8072\" stroke=\"#000000\" points=\"152,-3066 57,-3066 57,-3008 152,-3008 152,-3066\"/>\n<text text-anchor=\"middle\" x=\"104.5\" y=\"-3040.8\" font-family=\"Times,serif\" font-size=\"14.00\" fill=\"#000000\">Convolution</text>\n<text text-anchor=\"middle\" x=\"104.5\" y=\"-3025.8\" font-family=\"Times,serif\" font-size=\"14.00\" fill=\"#000000\">3x3/1x1, 256</text>\n</g>\n<!-- conv31_fwd&#45;&gt;relu11_fwd -->\n<g id=\"edge40\" class=\"edge\">\n<title>conv31_fwd&#45;&gt;relu11_fwd</title>\n<path fill=\"none\" stroke=\"#000000\" d=\"M120.0746,-2998.4734C123.6213,-2989.6999 127.3327,-2980.5191 130.6922,-2972.2088\"/>\n<polygon fill=\"#000000\" stroke=\"#000000\" points=\"116.3151,-3007.7731 115.8911,-2996.8154 118.1891,-3003.1375 120.0631,-2998.502 120.0631,-2998.502 120.0631,-2998.502 118.1891,-3003.1375 124.2351,-3000.1886 116.3151,-3007.7731 116.3151,-3007.7731\"/>\n</g>\n<!-- batchnorm21_fwd -->\n<g id=\"node38\" class=\"node\">\n<title>batchnorm21_fwd</title>\n<polygon fill=\"#bebada\" stroke=\"#000000\" points=\"156,-3160 33,-3160 33,-3102 156,-3102 156,-3160\"/>\n<text text-anchor=\"middle\" x=\"94.5\" y=\"-3127.3\" font-family=\"Times,serif\" font-size=\"14.00\" fill=\"#000000\">batchnorm21_fwd</text>\n</g>\n<!-- batchnorm21_fwd&#45;&gt;conv31_fwd -->\n<g id=\"edge41\" class=\"edge\">\n<title>batchnorm21_fwd&#45;&gt;conv31_fwd</title>\n<path fill=\"none\" stroke=\"#000000\" d=\"M98.6881,-3091.6321C99.5942,-3083.1148 100.5368,-3074.2539 101.3927,-3066.2088\"/>\n<polygon fill=\"#000000\" stroke=\"#000000\" points=\"97.6092,-3101.7731 94.1924,-3091.3531 98.1382,-3096.8011 98.6672,-3091.8292 98.6672,-3091.8292 98.6672,-3091.8292 98.1382,-3096.8011 103.1419,-3092.3053 97.6092,-3101.7731 97.6092,-3101.7731\"/>\n</g>\n<!-- relu12_fwd -->\n<g id=\"node39\" class=\"node\">\n<title>relu12_fwd</title>\n<polygon fill=\"#ffffb3\" stroke=\"#000000\" points=\"135.5,-3254 41.5,-3254 41.5,-3196 135.5,-3196 135.5,-3254\"/>\n<text text-anchor=\"middle\" x=\"88.5\" y=\"-3228.8\" font-family=\"Times,serif\" font-size=\"14.00\" fill=\"#000000\">Activation</text>\n<text text-anchor=\"middle\" x=\"88.5\" y=\"-3213.8\" font-family=\"Times,serif\" font-size=\"14.00\" fill=\"#000000\">relu</text>\n</g>\n<!-- relu12_fwd&#45;&gt;batchnorm21_fwd -->\n<g id=\"edge42\" class=\"edge\">\n<title>relu12_fwd&#45;&gt;batchnorm21_fwd</title>\n<path fill=\"none\" stroke=\"#000000\" d=\"M91.0128,-3185.6321C91.5565,-3177.1148 92.1221,-3168.2539 92.6356,-3160.2088\"/>\n<polygon fill=\"#000000\" stroke=\"#000000\" points=\"90.3655,-3195.7731 86.5118,-3185.5067 90.6841,-3190.7832 91.0026,-3185.7934 91.0026,-3185.7934 91.0026,-3185.7934 90.6841,-3190.7832 95.4935,-3186.0801 90.3655,-3195.7731 90.3655,-3195.7731\"/>\n</g>\n<!-- conv32_fwd -->\n<g id=\"node40\" class=\"node\">\n<title>conv32_fwd</title>\n<polygon fill=\"#fb8072\" stroke=\"#000000\" points=\"125,-3348 30,-3348 30,-3290 125,-3290 125,-3348\"/>\n<text text-anchor=\"middle\" x=\"77.5\" y=\"-3322.8\" font-family=\"Times,serif\" font-size=\"14.00\" fill=\"#000000\">Convolution</text>\n<text text-anchor=\"middle\" x=\"77.5\" y=\"-3307.8\" font-family=\"Times,serif\" font-size=\"14.00\" fill=\"#000000\">3x3/1x1, 256</text>\n</g>\n<!-- conv32_fwd&#45;&gt;relu12_fwd -->\n<g id=\"edge43\" class=\"edge\">\n<title>conv32_fwd&#45;&gt;relu12_fwd</title>\n<path fill=\"none\" stroke=\"#000000\" d=\"M82.1069,-3279.6321C83.1036,-3271.1148 84.1405,-3262.2539 85.0819,-3254.2088\"/>\n<polygon fill=\"#000000\" stroke=\"#000000\" points=\"80.9202,-3289.7731 77.613,-3279.3178 81.5014,-3284.807 82.0825,-3279.8409 82.0825,-3279.8409 82.0825,-3279.8409 81.5014,-3284.807 86.552,-3280.3639 80.9202,-3289.7731 80.9202,-3289.7731\"/>\n</g>\n<!-- batchnorm22_fwd -->\n<g id=\"node41\" class=\"node\">\n<title>batchnorm22_fwd</title>\n<polygon fill=\"#bebada\" stroke=\"#000000\" points=\"150,-3442 27,-3442 27,-3384 150,-3384 150,-3442\"/>\n<text text-anchor=\"middle\" x=\"88.5\" y=\"-3409.3\" font-family=\"Times,serif\" font-size=\"14.00\" fill=\"#000000\">batchnorm22_fwd</text>\n</g>\n<!-- batchnorm22_fwd&#45;&gt;conv32_fwd -->\n<g id=\"edge44\" class=\"edge\">\n<title>batchnorm22_fwd&#45;&gt;conv32_fwd</title>\n<path fill=\"none\" stroke=\"#000000\" d=\"M83.8931,-3373.6321C82.8964,-3365.1148 81.8595,-3356.2539 80.9181,-3348.2088\"/>\n<polygon fill=\"#000000\" stroke=\"#000000\" points=\"85.0798,-3383.7731 79.448,-3374.3639 84.4986,-3378.807 83.9175,-3373.8409 83.9175,-3373.8409 83.9175,-3373.8409 84.4986,-3378.807 88.387,-3373.3178 85.0798,-3383.7731 85.0798,-3383.7731\"/>\n</g>\n<!-- conv33_fwd -->\n<g id=\"node42\" class=\"node\">\n<title>conv33_fwd</title>\n<polygon fill=\"#fb8072\" stroke=\"#000000\" points=\"238,-3348 143,-3348 143,-3290 238,-3290 238,-3348\"/>\n<text text-anchor=\"middle\" x=\"190.5\" y=\"-3322.8\" font-family=\"Times,serif\" font-size=\"14.00\" fill=\"#000000\">Convolution</text>\n<text text-anchor=\"middle\" x=\"190.5\" y=\"-3307.8\" font-family=\"Times,serif\" font-size=\"14.00\" fill=\"#000000\">1x1/1x1, 256</text>\n</g>\n<!-- conv33_fwd&#45;&gt;relu11_fwd -->\n<g id=\"edge45\" class=\"edge\">\n<title>conv33_fwd&#45;&gt;relu11_fwd</title>\n<path fill=\"none\" stroke=\"#000000\" d=\"M188.8946,-3279.5415C185.9852,-3220.192 178.3948,-3104.6055 160.5,-3008 158.3033,-2996.141 154.9604,-2983.3026 151.7493,-2972.1926\"/>\n<polygon fill=\"#000000\" stroke=\"#000000\" points=\"189.3692,-3289.6073 184.4031,-3279.8304 189.1337,-3284.6129 188.8981,-3279.6184 188.8981,-3279.6184 188.8981,-3279.6184 189.1337,-3284.6129 193.3931,-3279.4064 189.3692,-3289.6073 189.3692,-3289.6073\"/>\n</g>\n<!-- residualblock6__plus0 -->\n<g id=\"node43\" class=\"node\">\n<title>residualblock6__plus0</title>\n<polygon fill=\"#fccde5\" stroke=\"#000000\" points=\"207,-3536 60,-3536 60,-3478 207,-3478 207,-3536\"/>\n<text text-anchor=\"middle\" x=\"133.5\" y=\"-3503.3\" font-family=\"Times,serif\" font-size=\"14.00\" fill=\"#000000\">residualblock6__plus0</text>\n</g>\n<!-- residualblock6__plus0&#45;&gt;batchnorm22_fwd -->\n<g id=\"edge46\" class=\"edge\">\n<title>residualblock6__plus0&#45;&gt;batchnorm22_fwd</title>\n<path fill=\"none\" stroke=\"#000000\" d=\"M115.1904,-3468.7532C110.9499,-3459.8954 106.5036,-3450.6075 102.483,-3442.2088\"/>\n<polygon fill=\"#000000\" stroke=\"#000000\" points=\"119.5084,-3477.7731 111.1315,-3470.6965 117.3494,-3473.2632 115.1904,-3468.7534 115.1904,-3468.7534 115.1904,-3468.7534 117.3494,-3473.2632 119.2493,-3466.8103 119.5084,-3477.7731 119.5084,-3477.7731\"/>\n</g>\n<!-- residualblock6__plus0&#45;&gt;conv33_fwd -->\n<g id=\"edge47\" class=\"edge\">\n<title>residualblock6__plus0&#45;&gt;conv33_fwd</title>\n<path fill=\"none\" stroke=\"#000000\" d=\"M149.182,-3468.3587C152.4466,-3459.7471 155.7325,-3450.6145 158.5,-3442 168.6909,-3410.2786 177.993,-3373.1849 183.9093,-3348.0929\"/>\n<polygon fill=\"#000000\" stroke=\"#000000\" points=\"145.5339,-3477.8048 144.9388,-3466.855 147.3352,-3473.1405 149.1366,-3468.4763 149.1366,-3468.4763 149.1366,-3468.4763 147.3352,-3473.1405 153.3345,-3470.0975 145.5339,-3477.8048 145.5339,-3477.8048\"/>\n</g>\n<!-- relu13_fwd -->\n<g id=\"node44\" class=\"node\">\n<title>relu13_fwd</title>\n<polygon fill=\"#ffffb3\" stroke=\"#000000\" points=\"180.5,-3630 86.5,-3630 86.5,-3572 180.5,-3572 180.5,-3630\"/>\n<text text-anchor=\"middle\" x=\"133.5\" y=\"-3604.8\" font-family=\"Times,serif\" font-size=\"14.00\" fill=\"#000000\">Activation</text>\n<text text-anchor=\"middle\" x=\"133.5\" y=\"-3589.8\" font-family=\"Times,serif\" font-size=\"14.00\" fill=\"#000000\">relu</text>\n</g>\n<!-- relu13_fwd&#45;&gt;residualblock6__plus0 -->\n<g id=\"edge48\" class=\"edge\">\n<title>relu13_fwd&#45;&gt;residualblock6__plus0</title>\n<path fill=\"none\" stroke=\"#000000\" d=\"M133.5,-3561.6321C133.5,-3553.1148 133.5,-3544.2539 133.5,-3536.2088\"/>\n<polygon fill=\"#000000\" stroke=\"#000000\" points=\"133.5,-3571.7731 129.0001,-3561.773 133.5,-3566.7731 133.5001,-3561.7731 133.5001,-3561.7731 133.5001,-3561.7731 133.5,-3566.7731 138.0001,-3561.7731 133.5,-3571.7731 133.5,-3571.7731\"/>\n</g>\n<!-- conv34_fwd -->\n<g id=\"node45\" class=\"node\">\n<title>conv34_fwd</title>\n<polygon fill=\"#fb8072\" stroke=\"#000000\" points=\"143,-3724 48,-3724 48,-3666 143,-3666 143,-3724\"/>\n<text text-anchor=\"middle\" x=\"95.5\" y=\"-3698.8\" font-family=\"Times,serif\" font-size=\"14.00\" fill=\"#000000\">Convolution</text>\n<text text-anchor=\"middle\" x=\"95.5\" y=\"-3683.8\" font-family=\"Times,serif\" font-size=\"14.00\" fill=\"#000000\">3x3/1x1, 256</text>\n</g>\n<!-- conv34_fwd&#45;&gt;relu13_fwd -->\n<g id=\"edge49\" class=\"edge\">\n<title>conv34_fwd&#45;&gt;relu13_fwd</title>\n<path fill=\"none\" stroke=\"#000000\" d=\"M111.0746,-3656.4734C114.6213,-3647.6999 118.3327,-3638.5191 121.6922,-3630.2088\"/>\n<polygon fill=\"#000000\" stroke=\"#000000\" points=\"107.3151,-3665.7731 106.8911,-3654.8154 109.1891,-3661.1375 111.0631,-3656.502 111.0631,-3656.502 111.0631,-3656.502 109.1891,-3661.1375 115.2351,-3658.1886 107.3151,-3665.7731 107.3151,-3665.7731\"/>\n</g>\n<!-- batchnorm23_fwd -->\n<g id=\"node46\" class=\"node\">\n<title>batchnorm23_fwd</title>\n<polygon fill=\"#bebada\" stroke=\"#000000\" points=\"147,-3818 24,-3818 24,-3760 147,-3760 147,-3818\"/>\n<text text-anchor=\"middle\" x=\"85.5\" y=\"-3785.3\" font-family=\"Times,serif\" font-size=\"14.00\" fill=\"#000000\">batchnorm23_fwd</text>\n</g>\n<!-- batchnorm23_fwd&#45;&gt;conv34_fwd -->\n<g id=\"edge50\" class=\"edge\">\n<title>batchnorm23_fwd&#45;&gt;conv34_fwd</title>\n<path fill=\"none\" stroke=\"#000000\" d=\"M89.6881,-3749.6321C90.5942,-3741.1148 91.5368,-3732.2539 92.3927,-3724.2088\"/>\n<polygon fill=\"#000000\" stroke=\"#000000\" points=\"88.6092,-3759.7731 85.1924,-3749.3531 89.1382,-3754.8011 89.6672,-3749.8292 89.6672,-3749.8292 89.6672,-3749.8292 89.1382,-3754.8011 94.1419,-3750.3053 88.6092,-3759.7731 88.6092,-3759.7731\"/>\n</g>\n<!-- relu14_fwd -->\n<g id=\"node47\" class=\"node\">\n<title>relu14_fwd</title>\n<polygon fill=\"#ffffb3\" stroke=\"#000000\" points=\"126.5,-3912 32.5,-3912 32.5,-3854 126.5,-3854 126.5,-3912\"/>\n<text text-anchor=\"middle\" x=\"79.5\" y=\"-3886.8\" font-family=\"Times,serif\" font-size=\"14.00\" fill=\"#000000\">Activation</text>\n<text text-anchor=\"middle\" x=\"79.5\" y=\"-3871.8\" font-family=\"Times,serif\" font-size=\"14.00\" fill=\"#000000\">relu</text>\n</g>\n<!-- relu14_fwd&#45;&gt;batchnorm23_fwd -->\n<g id=\"edge51\" class=\"edge\">\n<title>relu14_fwd&#45;&gt;batchnorm23_fwd</title>\n<path fill=\"none\" stroke=\"#000000\" d=\"M82.0128,-3843.6321C82.5565,-3835.1148 83.1221,-3826.2539 83.6356,-3818.2088\"/>\n<polygon fill=\"#000000\" stroke=\"#000000\" points=\"81.3655,-3853.7731 77.5118,-3843.5067 81.6841,-3848.7832 82.0026,-3843.7934 82.0026,-3843.7934 82.0026,-3843.7934 81.6841,-3848.7832 86.4935,-3844.0801 81.3655,-3853.7731 81.3655,-3853.7731\"/>\n</g>\n<!-- conv35_fwd -->\n<g id=\"node48\" class=\"node\">\n<title>conv35_fwd</title>\n<polygon fill=\"#fb8072\" stroke=\"#000000\" points=\"116,-4006 21,-4006 21,-3948 116,-3948 116,-4006\"/>\n<text text-anchor=\"middle\" x=\"68.5\" y=\"-3980.8\" font-family=\"Times,serif\" font-size=\"14.00\" fill=\"#000000\">Convolution</text>\n<text text-anchor=\"middle\" x=\"68.5\" y=\"-3965.8\" font-family=\"Times,serif\" font-size=\"14.00\" fill=\"#000000\">3x3/1x1, 256</text>\n</g>\n<!-- conv35_fwd&#45;&gt;relu14_fwd -->\n<g id=\"edge52\" class=\"edge\">\n<title>conv35_fwd&#45;&gt;relu14_fwd</title>\n<path fill=\"none\" stroke=\"#000000\" d=\"M73.1069,-3937.6321C74.1036,-3929.1148 75.1405,-3920.2539 76.0819,-3912.2088\"/>\n<polygon fill=\"#000000\" stroke=\"#000000\" points=\"71.9202,-3947.7731 68.613,-3937.3178 72.5014,-3942.807 73.0825,-3937.8409 73.0825,-3937.8409 73.0825,-3937.8409 72.5014,-3942.807 77.552,-3938.3639 71.9202,-3947.7731 71.9202,-3947.7731\"/>\n</g>\n<!-- batchnorm24_fwd -->\n<g id=\"node49\" class=\"node\">\n<title>batchnorm24_fwd</title>\n<polygon fill=\"#bebada\" stroke=\"#000000\" points=\"141,-4100 18,-4100 18,-4042 141,-4042 141,-4100\"/>\n<text text-anchor=\"middle\" x=\"79.5\" y=\"-4067.3\" font-family=\"Times,serif\" font-size=\"14.00\" fill=\"#000000\">batchnorm24_fwd</text>\n</g>\n<!-- batchnorm24_fwd&#45;&gt;conv35_fwd -->\n<g id=\"edge53\" class=\"edge\">\n<title>batchnorm24_fwd&#45;&gt;conv35_fwd</title>\n<path fill=\"none\" stroke=\"#000000\" d=\"M74.8931,-4031.6321C73.8964,-4023.1148 72.8595,-4014.2539 71.9181,-4006.2088\"/>\n<polygon fill=\"#000000\" stroke=\"#000000\" points=\"76.0798,-4041.7731 70.448,-4032.3639 75.4986,-4036.807 74.9175,-4031.8409 74.9175,-4031.8409 74.9175,-4031.8409 75.4986,-4036.807 79.387,-4031.3178 76.0798,-4041.7731 76.0798,-4041.7731\"/>\n</g>\n<!-- conv36_fwd -->\n<g id=\"node50\" class=\"node\">\n<title>conv36_fwd</title>\n<polygon fill=\"#fb8072\" stroke=\"#000000\" points=\"229,-4006 134,-4006 134,-3948 229,-3948 229,-4006\"/>\n<text text-anchor=\"middle\" x=\"181.5\" y=\"-3980.8\" font-family=\"Times,serif\" font-size=\"14.00\" fill=\"#000000\">Convolution</text>\n<text text-anchor=\"middle\" x=\"181.5\" y=\"-3965.8\" font-family=\"Times,serif\" font-size=\"14.00\" fill=\"#000000\">1x1/1x1, 256</text>\n</g>\n<!-- conv36_fwd&#45;&gt;relu13_fwd -->\n<g id=\"edge54\" class=\"edge\">\n<title>conv36_fwd&#45;&gt;relu13_fwd</title>\n<path fill=\"none\" stroke=\"#000000\" d=\"M179.8946,-3937.5415C176.9852,-3878.192 169.3948,-3762.6055 151.5,-3666 149.3033,-3654.141 145.9604,-3641.3026 142.7493,-3630.1926\"/>\n<polygon fill=\"#000000\" stroke=\"#000000\" points=\"180.3692,-3947.6073 175.4031,-3937.8304 180.1337,-3942.6129 179.8981,-3937.6184 179.8981,-3937.6184 179.8981,-3937.6184 180.1337,-3942.6129 184.3931,-3937.4064 180.3692,-3947.6073 180.3692,-3947.6073\"/>\n</g>\n<!-- residualblock7__plus0 -->\n<g id=\"node51\" class=\"node\">\n<title>residualblock7__plus0</title>\n<polygon fill=\"#fccde5\" stroke=\"#000000\" points=\"198,-4194 51,-4194 51,-4136 198,-4136 198,-4194\"/>\n<text text-anchor=\"middle\" x=\"124.5\" y=\"-4161.3\" font-family=\"Times,serif\" font-size=\"14.00\" fill=\"#000000\">residualblock7__plus0</text>\n</g>\n<!-- residualblock7__plus0&#45;&gt;batchnorm24_fwd -->\n<g id=\"edge55\" class=\"edge\">\n<title>residualblock7__plus0&#45;&gt;batchnorm24_fwd</title>\n<path fill=\"none\" stroke=\"#000000\" d=\"M106.1904,-4126.7532C101.9499,-4117.8954 97.5036,-4108.6075 93.483,-4100.2088\"/>\n<polygon fill=\"#000000\" stroke=\"#000000\" points=\"110.5084,-4135.7731 102.1315,-4128.6965 108.3494,-4131.2632 106.1904,-4126.7534 106.1904,-4126.7534 106.1904,-4126.7534 108.3494,-4131.2632 110.2493,-4124.8103 110.5084,-4135.7731 110.5084,-4135.7731\"/>\n</g>\n<!-- residualblock7__plus0&#45;&gt;conv36_fwd -->\n<g id=\"edge56\" class=\"edge\">\n<title>residualblock7__plus0&#45;&gt;conv36_fwd</title>\n<path fill=\"none\" stroke=\"#000000\" d=\"M140.182,-4126.3587C143.4466,-4117.7471 146.7325,-4108.6145 149.5,-4100 159.6909,-4068.2786 168.993,-4031.1849 174.9093,-4006.0929\"/>\n<polygon fill=\"#000000\" stroke=\"#000000\" points=\"136.5339,-4135.8048 135.9388,-4124.855 138.3352,-4131.1405 140.1366,-4126.4763 140.1366,-4126.4763 140.1366,-4126.4763 138.3352,-4131.1405 144.3345,-4128.0975 136.5339,-4135.8048 136.5339,-4135.8048\"/>\n</g>\n<!-- relu15_fwd -->\n<g id=\"node52\" class=\"node\">\n<title>relu15_fwd</title>\n<polygon fill=\"#ffffb3\" stroke=\"#000000\" points=\"171.5,-4288 77.5,-4288 77.5,-4230 171.5,-4230 171.5,-4288\"/>\n<text text-anchor=\"middle\" x=\"124.5\" y=\"-4262.8\" font-family=\"Times,serif\" font-size=\"14.00\" fill=\"#000000\">Activation</text>\n<text text-anchor=\"middle\" x=\"124.5\" y=\"-4247.8\" font-family=\"Times,serif\" font-size=\"14.00\" fill=\"#000000\">relu</text>\n</g>\n<!-- relu15_fwd&#45;&gt;residualblock7__plus0 -->\n<g id=\"edge57\" class=\"edge\">\n<title>relu15_fwd&#45;&gt;residualblock7__plus0</title>\n<path fill=\"none\" stroke=\"#000000\" d=\"M124.5,-4219.6321C124.5,-4211.1148 124.5,-4202.2539 124.5,-4194.2088\"/>\n<polygon fill=\"#000000\" stroke=\"#000000\" points=\"124.5,-4229.7731 120.0001,-4219.773 124.5,-4224.7731 124.5001,-4219.7731 124.5001,-4219.7731 124.5001,-4219.7731 124.5,-4224.7731 129.0001,-4219.7731 124.5,-4229.7731 124.5,-4229.7731\"/>\n</g>\n<!-- conv37_fwd -->\n<g id=\"node53\" class=\"node\">\n<title>conv37_fwd</title>\n<polygon fill=\"#fb8072\" stroke=\"#000000\" points=\"131,-4382 36,-4382 36,-4324 131,-4324 131,-4382\"/>\n<text text-anchor=\"middle\" x=\"83.5\" y=\"-4356.8\" font-family=\"Times,serif\" font-size=\"14.00\" fill=\"#000000\">Convolution</text>\n<text text-anchor=\"middle\" x=\"83.5\" y=\"-4341.8\" font-family=\"Times,serif\" font-size=\"14.00\" fill=\"#000000\">3x3/1x1, 512</text>\n</g>\n<!-- conv37_fwd&#45;&gt;relu15_fwd -->\n<g id=\"edge58\" class=\"edge\">\n<title>conv37_fwd&#45;&gt;relu15_fwd</title>\n<path fill=\"none\" stroke=\"#000000\" d=\"M100.3042,-4314.4734C104.1309,-4305.6999 108.1353,-4296.5191 111.76,-4288.2088\"/>\n<polygon fill=\"#000000\" stroke=\"#000000\" points=\"96.2479,-4323.7731 96.1212,-4312.8079 98.2469,-4319.1901 100.2459,-4314.607 100.2459,-4314.607 100.2459,-4314.607 98.2469,-4319.1901 104.3706,-4316.4061 96.2479,-4323.7731 96.2479,-4323.7731\"/>\n</g>\n<!-- batchnorm25_fwd -->\n<g id=\"node54\" class=\"node\">\n<title>batchnorm25_fwd</title>\n<polygon fill=\"#bebada\" stroke=\"#000000\" points=\"138,-4476 15,-4476 15,-4418 138,-4418 138,-4476\"/>\n<text text-anchor=\"middle\" x=\"76.5\" y=\"-4443.3\" font-family=\"Times,serif\" font-size=\"14.00\" fill=\"#000000\">batchnorm25_fwd</text>\n</g>\n<!-- batchnorm25_fwd&#45;&gt;conv37_fwd -->\n<g id=\"edge59\" class=\"edge\">\n<title>batchnorm25_fwd&#45;&gt;conv37_fwd</title>\n<path fill=\"none\" stroke=\"#000000\" d=\"M79.4316,-4407.6321C80.0659,-4399.1148 80.7258,-4390.2539 81.3249,-4382.2088\"/>\n<polygon fill=\"#000000\" stroke=\"#000000\" points=\"78.6765,-4417.7731 74.9316,-4407.4665 79.0478,-4412.7869 79.4192,-4407.8007 79.4192,-4407.8007 79.4192,-4407.8007 79.0478,-4412.7869 83.9068,-4408.1349 78.6765,-4417.7731 78.6765,-4417.7731\"/>\n</g>\n<!-- relu16_fwd -->\n<g id=\"node55\" class=\"node\">\n<title>relu16_fwd</title>\n<polygon fill=\"#ffffb3\" stroke=\"#000000\" points=\"117.5,-4570 23.5,-4570 23.5,-4512 117.5,-4512 117.5,-4570\"/>\n<text text-anchor=\"middle\" x=\"70.5\" y=\"-4544.8\" font-family=\"Times,serif\" font-size=\"14.00\" fill=\"#000000\">Activation</text>\n<text text-anchor=\"middle\" x=\"70.5\" y=\"-4529.8\" font-family=\"Times,serif\" font-size=\"14.00\" fill=\"#000000\">relu</text>\n</g>\n<!-- relu16_fwd&#45;&gt;batchnorm25_fwd -->\n<g id=\"edge60\" class=\"edge\">\n<title>relu16_fwd&#45;&gt;batchnorm25_fwd</title>\n<path fill=\"none\" stroke=\"#000000\" d=\"M73.0128,-4501.6321C73.5565,-4493.1148 74.1221,-4484.2539 74.6356,-4476.2088\"/>\n<polygon fill=\"#000000\" stroke=\"#000000\" points=\"72.3655,-4511.7731 68.5118,-4501.5067 72.6841,-4506.7832 73.0026,-4501.7934 73.0026,-4501.7934 73.0026,-4501.7934 72.6841,-4506.7832 77.4935,-4502.0801 72.3655,-4511.7731 72.3655,-4511.7731\"/>\n</g>\n<!-- conv38_fwd -->\n<g id=\"node56\" class=\"node\">\n<title>conv38_fwd</title>\n<polygon fill=\"#fb8072\" stroke=\"#000000\" points=\"107,-4664 12,-4664 12,-4606 107,-4606 107,-4664\"/>\n<text text-anchor=\"middle\" x=\"59.5\" y=\"-4638.8\" font-family=\"Times,serif\" font-size=\"14.00\" fill=\"#000000\">Convolution</text>\n<text text-anchor=\"middle\" x=\"59.5\" y=\"-4623.8\" font-family=\"Times,serif\" font-size=\"14.00\" fill=\"#000000\">3x3/1x1, 512</text>\n</g>\n<!-- conv38_fwd&#45;&gt;relu16_fwd -->\n<g id=\"edge61\" class=\"edge\">\n<title>conv38_fwd&#45;&gt;relu16_fwd</title>\n<path fill=\"none\" stroke=\"#000000\" d=\"M64.1069,-4595.6321C65.1036,-4587.1148 66.1405,-4578.2539 67.0819,-4570.2088\"/>\n<polygon fill=\"#000000\" stroke=\"#000000\" points=\"62.9202,-4605.7731 59.613,-4595.3178 63.5014,-4600.807 64.0825,-4595.8409 64.0825,-4595.8409 64.0825,-4595.8409 63.5014,-4600.807 68.552,-4596.3639 62.9202,-4605.7731 62.9202,-4605.7731\"/>\n</g>\n<!-- batchnorm26_fwd -->\n<g id=\"node57\" class=\"node\">\n<title>batchnorm26_fwd</title>\n<polygon fill=\"#bebada\" stroke=\"#000000\" points=\"132,-4758 9,-4758 9,-4700 132,-4700 132,-4758\"/>\n<text text-anchor=\"middle\" x=\"70.5\" y=\"-4725.3\" font-family=\"Times,serif\" font-size=\"14.00\" fill=\"#000000\">batchnorm26_fwd</text>\n</g>\n<!-- batchnorm26_fwd&#45;&gt;conv38_fwd -->\n<g id=\"edge62\" class=\"edge\">\n<title>batchnorm26_fwd&#45;&gt;conv38_fwd</title>\n<path fill=\"none\" stroke=\"#000000\" d=\"M65.8931,-4689.6321C64.8964,-4681.1148 63.8595,-4672.2539 62.9181,-4664.2088\"/>\n<polygon fill=\"#000000\" stroke=\"#000000\" points=\"67.0798,-4699.7731 61.448,-4690.3639 66.4986,-4694.807 65.9175,-4689.8409 65.9175,-4689.8409 65.9175,-4689.8409 66.4986,-4694.807 70.387,-4689.3178 67.0798,-4699.7731 67.0798,-4699.7731\"/>\n</g>\n<!-- conv39_fwd -->\n<g id=\"node58\" class=\"node\">\n<title>conv39_fwd</title>\n<polygon fill=\"#fb8072\" stroke=\"#000000\" points=\"220,-4664 125,-4664 125,-4606 220,-4606 220,-4664\"/>\n<text text-anchor=\"middle\" x=\"172.5\" y=\"-4638.8\" font-family=\"Times,serif\" font-size=\"14.00\" fill=\"#000000\">Convolution</text>\n<text text-anchor=\"middle\" x=\"172.5\" y=\"-4623.8\" font-family=\"Times,serif\" font-size=\"14.00\" fill=\"#000000\">1x1/1x1, 512</text>\n</g>\n<!-- conv39_fwd&#45;&gt;relu15_fwd -->\n<g id=\"edge63\" class=\"edge\">\n<title>conv39_fwd&#45;&gt;relu15_fwd</title>\n<path fill=\"none\" stroke=\"#000000\" d=\"M169.8591,-4595.6397C165.5396,-4536.4157 155.7751,-4420.9879 139.5,-4324 137.5259,-4312.2357 134.7121,-4299.4158 132.0539,-4288.2941\"/>\n<polygon fill=\"#000000\" stroke=\"#000000\" points=\"170.5785,-4605.6833 165.3755,-4596.0304 170.2213,-4600.6961 169.864,-4595.7089 169.864,-4595.7089 169.864,-4595.7089 170.2213,-4600.6961 174.3525,-4595.3874 170.5785,-4605.6833 170.5785,-4605.6833\"/>\n</g>\n<!-- residualblock8__plus0 -->\n<g id=\"node59\" class=\"node\">\n<title>residualblock8__plus0</title>\n<polygon fill=\"#fccde5\" stroke=\"#000000\" points=\"189,-4852 42,-4852 42,-4794 189,-4794 189,-4852\"/>\n<text text-anchor=\"middle\" x=\"115.5\" y=\"-4819.3\" font-family=\"Times,serif\" font-size=\"14.00\" fill=\"#000000\">residualblock8__plus0</text>\n</g>\n<!-- residualblock8__plus0&#45;&gt;batchnorm26_fwd -->\n<g id=\"edge64\" class=\"edge\">\n<title>residualblock8__plus0&#45;&gt;batchnorm26_fwd</title>\n<path fill=\"none\" stroke=\"#000000\" d=\"M97.1904,-4784.7532C92.9499,-4775.8954 88.5036,-4766.6075 84.483,-4758.2088\"/>\n<polygon fill=\"#000000\" stroke=\"#000000\" points=\"101.5084,-4793.7731 93.1315,-4786.6965 99.3494,-4789.2632 97.1904,-4784.7534 97.1904,-4784.7534 97.1904,-4784.7534 99.3494,-4789.2632 101.2493,-4782.8103 101.5084,-4793.7731 101.5084,-4793.7731\"/>\n</g>\n<!-- residualblock8__plus0&#45;&gt;conv39_fwd -->\n<g id=\"edge65\" class=\"edge\">\n<title>residualblock8__plus0&#45;&gt;conv39_fwd</title>\n<path fill=\"none\" stroke=\"#000000\" d=\"M131.182,-4784.3587C134.4466,-4775.7471 137.7325,-4766.6145 140.5,-4758 150.6909,-4726.2786 159.993,-4689.1849 165.9093,-4664.0929\"/>\n<polygon fill=\"#000000\" stroke=\"#000000\" points=\"127.5339,-4793.8048 126.9388,-4782.855 129.3352,-4789.1405 131.1366,-4784.4763 131.1366,-4784.4763 131.1366,-4784.4763 129.3352,-4789.1405 135.3345,-4786.0975 127.5339,-4793.8048 127.5339,-4793.8048\"/>\n</g>\n<!-- relu17_fwd -->\n<g id=\"node60\" class=\"node\">\n<title>relu17_fwd</title>\n<polygon fill=\"#ffffb3\" stroke=\"#000000\" points=\"162.5,-4946 68.5,-4946 68.5,-4888 162.5,-4888 162.5,-4946\"/>\n<text text-anchor=\"middle\" x=\"115.5\" y=\"-4920.8\" font-family=\"Times,serif\" font-size=\"14.00\" fill=\"#000000\">Activation</text>\n<text text-anchor=\"middle\" x=\"115.5\" y=\"-4905.8\" font-family=\"Times,serif\" font-size=\"14.00\" fill=\"#000000\">relu</text>\n</g>\n<!-- relu17_fwd&#45;&gt;residualblock8__plus0 -->\n<g id=\"edge66\" class=\"edge\">\n<title>relu17_fwd&#45;&gt;residualblock8__plus0</title>\n<path fill=\"none\" stroke=\"#000000\" d=\"M115.5,-4877.6321C115.5,-4869.1148 115.5,-4860.2539 115.5,-4852.2088\"/>\n<polygon fill=\"#000000\" stroke=\"#000000\" points=\"115.5,-4887.7731 111.0001,-4877.773 115.5,-4882.7731 115.5001,-4877.7731 115.5001,-4877.7731 115.5001,-4877.7731 115.5,-4882.7731 120.0001,-4877.7731 115.5,-4887.7731 115.5,-4887.7731\"/>\n</g>\n<!-- conv40_fwd -->\n<g id=\"node61\" class=\"node\">\n<title>conv40_fwd</title>\n<polygon fill=\"#fb8072\" stroke=\"#000000\" points=\"122,-5040 27,-5040 27,-4982 122,-4982 122,-5040\"/>\n<text text-anchor=\"middle\" x=\"74.5\" y=\"-5014.8\" font-family=\"Times,serif\" font-size=\"14.00\" fill=\"#000000\">Convolution</text>\n<text text-anchor=\"middle\" x=\"74.5\" y=\"-4999.8\" font-family=\"Times,serif\" font-size=\"14.00\" fill=\"#000000\">3x3/1x1, 512</text>\n</g>\n<!-- conv40_fwd&#45;&gt;relu17_fwd -->\n<g id=\"edge67\" class=\"edge\">\n<title>conv40_fwd&#45;&gt;relu17_fwd</title>\n<path fill=\"none\" stroke=\"#000000\" d=\"M91.3042,-4972.4734C95.1309,-4963.6999 99.1353,-4954.5191 102.76,-4946.2088\"/>\n<polygon fill=\"#000000\" stroke=\"#000000\" points=\"87.2479,-4981.7731 87.1212,-4970.8079 89.2469,-4977.1901 91.2459,-4972.607 91.2459,-4972.607 91.2459,-4972.607 89.2469,-4977.1901 95.3706,-4974.4061 87.2479,-4981.7731 87.2479,-4981.7731\"/>\n</g>\n<!-- batchnorm27_fwd -->\n<g id=\"node62\" class=\"node\">\n<title>batchnorm27_fwd</title>\n<polygon fill=\"#bebada\" stroke=\"#000000\" points=\"129,-5134 6,-5134 6,-5076 129,-5076 129,-5134\"/>\n<text text-anchor=\"middle\" x=\"67.5\" y=\"-5101.3\" font-family=\"Times,serif\" font-size=\"14.00\" fill=\"#000000\">batchnorm27_fwd</text>\n</g>\n<!-- batchnorm27_fwd&#45;&gt;conv40_fwd -->\n<g id=\"edge68\" class=\"edge\">\n<title>batchnorm27_fwd&#45;&gt;conv40_fwd</title>\n<path fill=\"none\" stroke=\"#000000\" d=\"M70.4316,-5065.6321C71.0659,-5057.1148 71.7258,-5048.2539 72.3249,-5040.2088\"/>\n<polygon fill=\"#000000\" stroke=\"#000000\" points=\"69.6765,-5075.7731 65.9316,-5065.4665 70.0478,-5070.7869 70.4192,-5065.8007 70.4192,-5065.8007 70.4192,-5065.8007 70.0478,-5070.7869 74.9068,-5066.1349 69.6765,-5075.7731 69.6765,-5075.7731\"/>\n</g>\n<!-- relu18_fwd -->\n<g id=\"node63\" class=\"node\">\n<title>relu18_fwd</title>\n<polygon fill=\"#ffffb3\" stroke=\"#000000\" points=\"108.5,-5228 14.5,-5228 14.5,-5170 108.5,-5170 108.5,-5228\"/>\n<text text-anchor=\"middle\" x=\"61.5\" y=\"-5202.8\" font-family=\"Times,serif\" font-size=\"14.00\" fill=\"#000000\">Activation</text>\n<text text-anchor=\"middle\" x=\"61.5\" y=\"-5187.8\" font-family=\"Times,serif\" font-size=\"14.00\" fill=\"#000000\">relu</text>\n</g>\n<!-- relu18_fwd&#45;&gt;batchnorm27_fwd -->\n<g id=\"edge69\" class=\"edge\">\n<title>relu18_fwd&#45;&gt;batchnorm27_fwd</title>\n<path fill=\"none\" stroke=\"#000000\" d=\"M64.0128,-5159.6321C64.5565,-5151.1148 65.1221,-5142.2539 65.6356,-5134.2088\"/>\n<polygon fill=\"#000000\" stroke=\"#000000\" points=\"63.3655,-5169.7731 59.5118,-5159.5067 63.6841,-5164.7832 64.0026,-5159.7934 64.0026,-5159.7934 64.0026,-5159.7934 63.6841,-5164.7832 68.4935,-5160.0801 63.3655,-5169.7731 63.3655,-5169.7731\"/>\n</g>\n<!-- conv41_fwd -->\n<g id=\"node64\" class=\"node\">\n<title>conv41_fwd</title>\n<polygon fill=\"#fb8072\" stroke=\"#000000\" points=\"98,-5322 3,-5322 3,-5264 98,-5264 98,-5322\"/>\n<text text-anchor=\"middle\" x=\"50.5\" y=\"-5296.8\" font-family=\"Times,serif\" font-size=\"14.00\" fill=\"#000000\">Convolution</text>\n<text text-anchor=\"middle\" x=\"50.5\" y=\"-5281.8\" font-family=\"Times,serif\" font-size=\"14.00\" fill=\"#000000\">3x3/1x1, 512</text>\n</g>\n<!-- conv41_fwd&#45;&gt;relu18_fwd -->\n<g id=\"edge70\" class=\"edge\">\n<title>conv41_fwd&#45;&gt;relu18_fwd</title>\n<path fill=\"none\" stroke=\"#000000\" d=\"M55.1069,-5253.6321C56.1036,-5245.1148 57.1405,-5236.2539 58.0819,-5228.2088\"/>\n<polygon fill=\"#000000\" stroke=\"#000000\" points=\"53.9202,-5263.7731 50.613,-5253.3178 54.5014,-5258.807 55.0825,-5253.8409 55.0825,-5253.8409 55.0825,-5253.8409 54.5014,-5258.807 59.552,-5254.3639 53.9202,-5263.7731 53.9202,-5263.7731\"/>\n</g>\n<!-- batchnorm28_fwd -->\n<g id=\"node65\" class=\"node\">\n<title>batchnorm28_fwd</title>\n<polygon fill=\"#bebada\" stroke=\"#000000\" points=\"123,-5416 0,-5416 0,-5358 123,-5358 123,-5416\"/>\n<text text-anchor=\"middle\" x=\"61.5\" y=\"-5383.3\" font-family=\"Times,serif\" font-size=\"14.00\" fill=\"#000000\">batchnorm28_fwd</text>\n</g>\n<!-- batchnorm28_fwd&#45;&gt;conv41_fwd -->\n<g id=\"edge71\" class=\"edge\">\n<title>batchnorm28_fwd&#45;&gt;conv41_fwd</title>\n<path fill=\"none\" stroke=\"#000000\" d=\"M56.8931,-5347.6321C55.8964,-5339.1148 54.8595,-5330.2539 53.9181,-5322.2088\"/>\n<polygon fill=\"#000000\" stroke=\"#000000\" points=\"58.0798,-5357.7731 52.448,-5348.3639 57.4986,-5352.807 56.9175,-5347.8409 56.9175,-5347.8409 56.9175,-5347.8409 57.4986,-5352.807 61.387,-5347.3178 58.0798,-5357.7731 58.0798,-5357.7731\"/>\n</g>\n<!-- conv42_fwd -->\n<g id=\"node66\" class=\"node\">\n<title>conv42_fwd</title>\n<polygon fill=\"#fb8072\" stroke=\"#000000\" points=\"211,-5322 116,-5322 116,-5264 211,-5264 211,-5322\"/>\n<text text-anchor=\"middle\" x=\"163.5\" y=\"-5296.8\" font-family=\"Times,serif\" font-size=\"14.00\" fill=\"#000000\">Convolution</text>\n<text text-anchor=\"middle\" x=\"163.5\" y=\"-5281.8\" font-family=\"Times,serif\" font-size=\"14.00\" fill=\"#000000\">1x1/1x1, 512</text>\n</g>\n<!-- conv42_fwd&#45;&gt;relu17_fwd -->\n<g id=\"edge72\" class=\"edge\">\n<title>conv42_fwd&#45;&gt;relu17_fwd</title>\n<path fill=\"none\" stroke=\"#000000\" d=\"M160.8591,-5253.6397C156.5396,-5194.4157 146.7751,-5078.9879 130.5,-4982 128.5259,-4970.2357 125.7121,-4957.4158 123.0539,-4946.2941\"/>\n<polygon fill=\"#000000\" stroke=\"#000000\" points=\"161.5785,-5263.6833 156.3755,-5254.0304 161.2213,-5258.6961 160.864,-5253.7089 160.864,-5253.7089 160.864,-5253.7089 161.2213,-5258.6961 165.3525,-5253.3874 161.5785,-5263.6833 161.5785,-5263.6833\"/>\n</g>\n<!-- residualblock9__plus0 -->\n<g id=\"node67\" class=\"node\">\n<title>residualblock9__plus0</title>\n<polygon fill=\"#fccde5\" stroke=\"#000000\" points=\"180,-5510 33,-5510 33,-5452 180,-5452 180,-5510\"/>\n<text text-anchor=\"middle\" x=\"106.5\" y=\"-5477.3\" font-family=\"Times,serif\" font-size=\"14.00\" fill=\"#000000\">residualblock9__plus0</text>\n</g>\n<!-- residualblock9__plus0&#45;&gt;batchnorm28_fwd -->\n<g id=\"edge73\" class=\"edge\">\n<title>residualblock9__plus0&#45;&gt;batchnorm28_fwd</title>\n<path fill=\"none\" stroke=\"#000000\" d=\"M88.1904,-5442.7532C83.9499,-5433.8954 79.5036,-5424.6075 75.483,-5416.2088\"/>\n<polygon fill=\"#000000\" stroke=\"#000000\" points=\"92.5084,-5451.7731 84.1315,-5444.6965 90.3494,-5447.2632 88.1904,-5442.7534 88.1904,-5442.7534 88.1904,-5442.7534 90.3494,-5447.2632 92.2493,-5440.8103 92.5084,-5451.7731 92.5084,-5451.7731\"/>\n</g>\n<!-- residualblock9__plus0&#45;&gt;conv42_fwd -->\n<g id=\"edge74\" class=\"edge\">\n<title>residualblock9__plus0&#45;&gt;conv42_fwd</title>\n<path fill=\"none\" stroke=\"#000000\" d=\"M122.182,-5442.3587C125.4466,-5433.7471 128.7325,-5424.6145 131.5,-5416 141.6909,-5384.2786 150.993,-5347.1849 156.9093,-5322.0929\"/>\n<polygon fill=\"#000000\" stroke=\"#000000\" points=\"118.5339,-5451.8048 117.9388,-5440.855 120.3352,-5447.1405 122.1366,-5442.4763 122.1366,-5442.4763 122.1366,-5442.4763 120.3352,-5447.1405 126.3345,-5444.0975 118.5339,-5451.8048 118.5339,-5451.8048\"/>\n</g>\n<!-- relu19_fwd -->\n<g id=\"node68\" class=\"node\">\n<title>relu19_fwd</title>\n<polygon fill=\"#ffffb3\" stroke=\"#000000\" points=\"153.5,-5604 59.5,-5604 59.5,-5546 153.5,-5546 153.5,-5604\"/>\n<text text-anchor=\"middle\" x=\"106.5\" y=\"-5578.8\" font-family=\"Times,serif\" font-size=\"14.00\" fill=\"#000000\">Activation</text>\n<text text-anchor=\"middle\" x=\"106.5\" y=\"-5563.8\" font-family=\"Times,serif\" font-size=\"14.00\" fill=\"#000000\">relu</text>\n</g>\n<!-- relu19_fwd&#45;&gt;residualblock9__plus0 -->\n<g id=\"edge75\" class=\"edge\">\n<title>relu19_fwd&#45;&gt;residualblock9__plus0</title>\n<path fill=\"none\" stroke=\"#000000\" d=\"M106.5,-5535.6321C106.5,-5527.1148 106.5,-5518.2539 106.5,-5510.2088\"/>\n<polygon fill=\"#000000\" stroke=\"#000000\" points=\"106.5,-5545.7731 102.0001,-5535.773 106.5,-5540.7731 106.5001,-5535.7731 106.5001,-5535.7731 106.5001,-5535.7731 106.5,-5540.7731 111.0001,-5535.7731 106.5,-5545.7731 106.5,-5545.7731\"/>\n</g>\n<!-- pool1_fwd -->\n<g id=\"node69\" class=\"node\">\n<title>pool1_fwd</title>\n<polygon fill=\"#80b1d3\" stroke=\"#000000\" points=\"153.5,-5698 59.5,-5698 59.5,-5640 153.5,-5640 153.5,-5698\"/>\n<text text-anchor=\"middle\" x=\"106.5\" y=\"-5672.8\" font-family=\"Times,serif\" font-size=\"14.00\" fill=\"#000000\">Pooling</text>\n<text text-anchor=\"middle\" x=\"106.5\" y=\"-5657.8\" font-family=\"Times,serif\" font-size=\"14.00\" fill=\"#000000\">avg, 1x1/1x1</text>\n</g>\n<!-- pool1_fwd&#45;&gt;relu19_fwd -->\n<g id=\"edge76\" class=\"edge\">\n<title>pool1_fwd&#45;&gt;relu19_fwd</title>\n<path fill=\"none\" stroke=\"#000000\" d=\"M106.5,-5629.6321C106.5,-5621.1148 106.5,-5612.2539 106.5,-5604.2088\"/>\n<polygon fill=\"#000000\" stroke=\"#000000\" points=\"106.5,-5639.7731 102.0001,-5629.773 106.5,-5634.7731 106.5001,-5629.7731 106.5001,-5629.7731 106.5001,-5629.7731 106.5,-5634.7731 111.0001,-5629.7731 106.5,-5639.7731 106.5,-5639.7731\"/>\n</g>\n<!-- dense0_fwd -->\n<g id=\"node70\" class=\"node\">\n<title>dense0_fwd</title>\n<polygon fill=\"#fb8072\" stroke=\"#000000\" points=\"161,-5792 52,-5792 52,-5734 161,-5734 161,-5792\"/>\n<text text-anchor=\"middle\" x=\"106.5\" y=\"-5766.8\" font-family=\"Times,serif\" font-size=\"14.00\" fill=\"#000000\">FullyConnected</text>\n<text text-anchor=\"middle\" x=\"106.5\" y=\"-5751.8\" font-family=\"Times,serif\" font-size=\"14.00\" fill=\"#000000\">10</text>\n</g>\n<!-- dense0_fwd&#45;&gt;pool1_fwd -->\n<g id=\"edge77\" class=\"edge\">\n<title>dense0_fwd&#45;&gt;pool1_fwd</title>\n<path fill=\"none\" stroke=\"#000000\" d=\"M106.5,-5723.6321C106.5,-5715.1148 106.5,-5706.2539 106.5,-5698.2088\"/>\n<polygon fill=\"#000000\" stroke=\"#000000\" points=\"106.5,-5733.7731 102.0001,-5723.773 106.5,-5728.7731 106.5001,-5723.7731 106.5001,-5723.7731 106.5001,-5723.7731 106.5,-5728.7731 111.0001,-5723.7731 106.5,-5733.7731 106.5,-5733.7731\"/>\n</g>\n</g>\n</svg>\n",
            "text/plain": [
              "<graphviz.dot.Digraph at 0x7f36b4122c18>"
            ]
          },
          "execution_count": 22,
          "metadata": {
            "tags": []
          },
          "output_type": "execute_result"
        }
      ],
      "source": [
        "plot = mx.viz.plot_network(model(mx.sym.var(name = 'data')), node_attrs={\"fixedsize\":\"false\"})\n",
        "plot"
      ]
    },
    {
      "cell_type": "code",
      "execution_count": 0,
      "metadata": {
        "colab": {},
        "colab_type": "code",
        "id": "riAfI2gDI1aV"
      },
      "outputs": [],
      "source": [
        "model.hybridize()"
      ]
    },
    {
      "cell_type": "markdown",
      "metadata": {
        "colab_type": "text",
        "id": "bFmcxFtTI5uX"
      },
      "source": [
        "## __Defining our objective loss and optimizer__"
      ]
    },
    {
      "cell_type": "code",
      "execution_count": 0,
      "metadata": {
        "colab": {},
        "colab_type": "code",
        "id": "OR_RGJRb18bd"
      },
      "outputs": [],
      "source": [
        "objective = gluon.loss.SoftmaxCrossEntropyLoss()\n",
        "trainer = gluon.Trainer(model.collect_params(), 'adam', {'learning_rate': 0.001})"
      ]
    },
    {
      "cell_type": "markdown",
      "metadata": {
        "colab_type": "text",
        "id": "GMtZRsrgI7qm"
      },
      "source": [
        "## __Training the model__"
      ]
    },
    {
      "cell_type": "code",
      "execution_count": 25,
      "metadata": {
        "colab": {
          "base_uri": "https://localhost:8080/",
          "height": 185
        },
        "colab_type": "code",
        "id": "_--4aXog18Yo",
        "outputId": "c62ad0fe-9c1e-4a0e-8423-2c40c68139bd"
      },
      "outputs": [
        {
          "name": "stdout",
          "output_type": "stream",
          "text": [
            "Epoch: 1 | Loss: 1.51742 | Training Accuracy: 0.44686\n",
            "Epoch: 2 | Loss: 1.15200 | Training Accuracy: 0.59308\n",
            "Epoch: 3 | Loss: 0.97572 | Training Accuracy: 0.65704\n",
            "Epoch: 4 | Loss: 0.86427 | Training Accuracy: 0.69810\n",
            "Epoch: 5 | Loss: 0.77756 | Training Accuracy: 0.72822\n",
            "Epoch: 6 | Loss: 0.70661 | Training Accuracy: 0.75324\n",
            "Epoch: 7 | Loss: 0.64107 | Training Accuracy: 0.77824\n",
            "Epoch: 8 | Loss: 0.58440 | Training Accuracy: 0.79530\n",
            "Epoch: 9 | Loss: 0.53230 | Training Accuracy: 0.81536\n",
            "Epoch: 10 | Loss: 0.48557 | Training Accuracy: 0.83184\n"
          ]
        }
      ],
      "source": [
        "epochs = 10\n",
        "batches = len(train_data)\n",
        "acc = mx.metric.Accuracy()\n",
        "\n",
        "for epoch in range(epochs):\n",
        "    acc.reset()\n",
        "    cum_loss = 0.0\n",
        "    for features, labels in train_data:\n",
        "        features = features.as_in_context(ctx)\n",
        "        labels = labels.as_in_context(ctx)\n",
        "\n",
        "        with autograd.record():\n",
        "            outputs = model(features)\n",
        "            loss = objective(outputs, labels)\n",
        "        loss.backward()\n",
        "        trainer.step(batch_size)\n",
        "\n",
        "        cum_loss += loss.mean()\n",
        "        acc.update(labels, outputs)\n",
        "    \n",
        "    print(f'Epoch: {epoch + 1} | Loss: {cum_loss.asscalar()/batches:.5f} | Training Accuracy: {acc.get()[1]:.5f}')"
      ]
    },
    {
      "cell_type": "markdown",
      "metadata": {
        "colab_type": "text",
        "id": "8pbbrT7XI9sp"
      },
      "source": [
        "## __Testing the model__"
      ]
    },
    {
      "cell_type": "code",
      "execution_count": 26,
      "metadata": {
        "colab": {
          "base_uri": "https://localhost:8080/",
          "height": 34
        },
        "colab_type": "code",
        "id": "mC2FT6we4vJ3",
        "outputId": "2fdc4b3c-248f-45be-d986-4353d1a1b471"
      },
      "outputs": [
        {
          "data": {
            "text/plain": [
              "('accuracy', 0.82788)"
            ]
          },
          "execution_count": 26,
          "metadata": {
            "tags": []
          },
          "output_type": "execute_result"
        }
      ],
      "source": [
        "acc.reset()\n",
        "for features, labels in test_data:\n",
        "    features = features.as_in_context(ctx)\n",
        "    labels = labels.as_in_context(ctx)\n",
        "    outputs = model(features)\n",
        "    acc.update(labels, outputs)\n",
        "acc.get()"
      ]
    },
    {
      "cell_type": "code",
      "execution_count": 0,
      "metadata": {
        "colab": {},
        "colab_type": "code",
        "id": "ZR95IT9RVkpb"
      },
      "outputs": [],
      "source": [
        ""
      ]
    }
  ]
}