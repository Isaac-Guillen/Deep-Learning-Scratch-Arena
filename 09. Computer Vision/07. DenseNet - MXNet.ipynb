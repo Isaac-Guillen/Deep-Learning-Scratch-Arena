{
  "nbformat": 4,
  "nbformat_minor": 0,
  "metadata": {
    "colab": {
      "name": "DenseNet - MXNet.ipynb",
      "provenance": [],
      "collapsed_sections": []
    },
    "kernelspec": {
      "name": "python3",
      "display_name": "Python 3"
    },
    "accelerator": "GPU"
  },
  "cells": [
    {
      "cell_type": "code",
      "metadata": {
        "id": "zb-lMwbdBxEf",
        "colab_type": "code",
        "outputId": "01f116b1-e6f7-49dc-9dec-24ea738dc55a",
        "colab": {
          "base_uri": "https://localhost:8080/",
          "height": 171
        }
      },
      "source": [
        "!pip install mxnet-cu100mkl"
      ],
      "execution_count": 33,
      "outputs": [
        {
          "output_type": "stream",
          "text": [
            "Requirement already satisfied: mxnet-cu100mkl in /usr/local/lib/python3.6/dist-packages (1.5.1.post0)\n",
            "Requirement already satisfied: numpy<2.0.0,>1.16.0 in /usr/local/lib/python3.6/dist-packages (from mxnet-cu100mkl) (1.17.5)\n",
            "Requirement already satisfied: graphviz<0.9.0,>=0.8.1 in /usr/local/lib/python3.6/dist-packages (from mxnet-cu100mkl) (0.8.4)\n",
            "Requirement already satisfied: requests<3,>=2.20.0 in /usr/local/lib/python3.6/dist-packages (from mxnet-cu100mkl) (2.21.0)\n",
            "Requirement already satisfied: urllib3<1.25,>=1.21.1 in /usr/local/lib/python3.6/dist-packages (from requests<3,>=2.20.0->mxnet-cu100mkl) (1.24.3)\n",
            "Requirement already satisfied: idna<2.9,>=2.5 in /usr/local/lib/python3.6/dist-packages (from requests<3,>=2.20.0->mxnet-cu100mkl) (2.8)\n",
            "Requirement already satisfied: certifi>=2017.4.17 in /usr/local/lib/python3.6/dist-packages (from requests<3,>=2.20.0->mxnet-cu100mkl) (2019.11.28)\n",
            "Requirement already satisfied: chardet<3.1.0,>=3.0.2 in /usr/local/lib/python3.6/dist-packages (from requests<3,>=2.20.0->mxnet-cu100mkl) (3.0.4)\n"
          ],
          "name": "stdout"
        }
      ]
    },
    {
      "cell_type": "markdown",
      "metadata": {
        "id": "HO-7HJPVHXCH",
        "colab_type": "text"
      },
      "source": [
        "# __DenseNet - MXNet__"
      ]
    },
    {
      "cell_type": "code",
      "metadata": {
        "id": "t0sXvPG-ytVs",
        "colab_type": "code",
        "colab": {}
      },
      "source": [
        "import mxnet as mx\n",
        "from mxnet import nd, autograd, gluon\n",
        "from mxnet.gluon import nn\n",
        "import matplotlib.pyplot as plt\n",
        "\n",
        "ctx = mx.gpu()"
      ],
      "execution_count": 0,
      "outputs": []
    },
    {
      "cell_type": "markdown",
      "metadata": {
        "id": "Wt-gqScHHfou",
        "colab_type": "text"
      },
      "source": [
        "## __Getting the dataset__"
      ]
    },
    {
      "cell_type": "code",
      "metadata": {
        "id": "FMnHwtmKyvo0",
        "colab_type": "code",
        "colab": {}
      },
      "source": [
        "transform = gluon.data.vision.transforms.ToTensor()\n",
        "\n",
        "train_mnist = gluon.data.vision.CIFAR10(train = True).transform_first(transform)\n",
        "test_mnist = gluon.data.vision.CIFAR10(train = False).transform_first(transform)"
      ],
      "execution_count": 0,
      "outputs": []
    },
    {
      "cell_type": "code",
      "metadata": {
        "id": "fru8__gRywil",
        "colab_type": "code",
        "outputId": "07fa08af-56dc-4ff6-8447-dfc9f47aba52",
        "colab": {
          "base_uri": "https://localhost:8080/",
          "height": 50
        }
      },
      "source": [
        "image, label = train_mnist[1]\n",
        "print(image.shape)\n",
        "print(label)"
      ],
      "execution_count": 3,
      "outputs": [
        {
          "output_type": "stream",
          "text": [
            "(3, 32, 32)\n",
            "9\n"
          ],
          "name": "stdout"
        }
      ]
    },
    {
      "cell_type": "code",
      "metadata": {
        "id": "GOFMgaltywsT",
        "colab_type": "code",
        "outputId": "44bc94af-a54f-4acf-9d7b-fe4968e1bb6e",
        "colab": {
          "base_uri": "https://localhost:8080/",
          "height": 266
        }
      },
      "source": [
        "plt.imshow(image.transpose((1, 2, 0)).asnumpy())\n",
        "plt.show()"
      ],
      "execution_count": 4,
      "outputs": [
        {
          "output_type": "display_data",
          "data": {
            "image/png": "[encoded data removed]",
            "text/plain": [
              "<Figure size 432x288 with 1 Axes>"
            ]
          },
          "metadata": {
            "tags": []
          }
        }
      ]
    },
    {
      "cell_type": "markdown",
      "metadata": {
        "id": "rcZT9dvzHjLK",
        "colab_type": "text"
      },
      "source": [
        "## __Defining data loaders__"
      ]
    },
    {
      "cell_type": "code",
      "metadata": {
        "id": "68qO-LTnywvY",
        "colab_type": "code",
        "colab": {}
      },
      "source": [
        "batch_size = 64\n",
        "train_data = gluon.data.DataLoader(train_mnist, batch_size = batch_size, shuffle = True)\n",
        "test_data = gluon.data.DataLoader(train_mnist, batch_size = batch_size, shuffle = False)"
      ],
      "execution_count": 0,
      "outputs": []
    },
    {
      "cell_type": "markdown",
      "metadata": {
        "id": "6PHbpC6nHmLs",
        "colab_type": "text"
      },
      "source": [
        "## __Defining DenseNet Model Architecture__ "
      ]
    },
    {
      "cell_type": "markdown",
      "metadata": {
        "id": "CDyCqHMIHq-R",
        "colab_type": "text"
      },
      "source": [
        "### First we will define single densenet block and transition layer"
      ]
    },
    {
      "cell_type": "code",
      "metadata": {
        "id": "SKImYbq3ywxu",
        "colab_type": "code",
        "colab": {}
      },
      "source": [
        "class DenseBlock(nn.HybridBlock):\n",
        "    def __init__(self, convs, channels):\n",
        "        super(DenseBlock, self).__init__()\n",
        "\n",
        "        self.model = nn.HybridSequential()\n",
        "        for _ in range(convs):\n",
        "            conv = nn.HybridSequential()\n",
        "            conv.add(nn.BatchNorm())\n",
        "            conv.add(nn.Activation('relu'))\n",
        "            conv.add(nn.Conv2D(channels, kernel_size = 3, padding = 1))\n",
        "            self.model.add(conv)\n",
        "\n",
        "    def hybrid_forward(self, F, x):\n",
        "        for layer in self.model:\n",
        "            output = layer(x)\n",
        "            x = F.concat(x, output, dim = 1)\n",
        "        return x\n",
        "\n",
        "class TransitionBlock(nn.HybridBlock):\n",
        "    def __init__(self, channels):\n",
        "        super(TransitionBlock, self).__init__()\n",
        "\n",
        "        self.model = nn.HybridSequential()\n",
        "        self.model.add(nn.BatchNorm())\n",
        "        self.model.add(nn.Conv2D(channels, kernel_size = 1))\n",
        "        self.model.add(nn.AvgPool2D(pool_size = 1, strides = 2))\n",
        "\n",
        "    def hybrid_forward(self, F, x):\n",
        "        return self.model(x)"
      ],
      "execution_count": 0,
      "outputs": []
    },
    {
      "cell_type": "markdown",
      "metadata": {
        "id": "SYhagDrdHwoU",
        "colab_type": "text"
      },
      "source": [
        "### Visualizing single densenet block"
      ]
    },
    {
      "cell_type": "code",
      "metadata": {
        "id": "Jevnp5cKywqc",
        "colab_type": "code",
        "outputId": "e31c106a-e3f7-418d-8c76-db9e27a03ef4",
        "colab": {
          "base_uri": "https://localhost:8080/",
          "height": 1000
        }
      },
      "source": [
        "block = DenseBlock(2, 16)\n",
        "block.initialize(ctx = ctx)\n",
        "mx.viz.plot_network(block(mx.sym.var(name = 'data')), node_attrs={\"fixedsize\":\"false\"})"
      ],
      "execution_count": 7,
      "outputs": [
        {
          "output_type": "execute_result",
          "data": {
            "text/plain": [
              "<graphviz.dot.Digraph at 0x7f52fa7e4c50>"
            ],
            "image/svg+xml": "<?xml version=\"1.0\" encoding=\"UTF-8\" standalone=\"no\"?>\n<!DOCTYPE svg PUBLIC \"-//W3C//DTD SVG 1.1//EN\"\n \"http://www.w3.org/Graphics/SVG/1.1/DTD/svg11.dtd\">\n<!-- Generated by graphviz version 2.40.1 (20161225.0304)\n -->\n<!-- Title: plot Pages: 1 -->\n<svg width=\"191pt\" height=\"818pt\"\n viewBox=\"0.00 0.00 191.00 818.00\" xmlns=\"http://www.w3.org/2000/svg\" xmlns:xlink=\"http://www.w3.org/1999/xlink\">\n<g id=\"graph0\" class=\"graph\" transform=\"scale(1 1) rotate(0) translate(4 814)\">\n<title>plot</title>\n<polygon fill=\"#ffffff\" stroke=\"transparent\" points=\"-4,4 -4,-814 187,-814 187,4 -4,4\"/>\n<!-- data -->\n<g id=\"node1\" class=\"node\">\n<title>data</title>\n<ellipse fill=\"#8dd3c7\" stroke=\"#000000\" cx=\"82\" cy=\"-29\" rx=\"47\" ry=\"29\"/>\n<text text-anchor=\"middle\" x=\"82\" y=\"-25.3\" font-family=\"Times,serif\" font-size=\"14.00\" fill=\"#000000\">data</text>\n</g>\n<!-- batchnorm0_fwd -->\n<g id=\"node2\" class=\"node\">\n<title>batchnorm0_fwd</title>\n<polygon fill=\"#bebada\" stroke=\"#000000\" points=\"183,-152 67,-152 67,-94 183,-94 183,-152\"/>\n<text text-anchor=\"middle\" x=\"125\" y=\"-119.3\" font-family=\"Times,serif\" font-size=\"14.00\" fill=\"#000000\">batchnorm0_fwd</text>\n</g>\n<!-- batchnorm0_fwd&#45;&gt;data -->\n<g id=\"edge1\" class=\"edge\">\n<title>batchnorm0_fwd&#45;&gt;data</title>\n<path fill=\"none\" stroke=\"#000000\" d=\"M107.3432,-84.4013C103.1315,-75.1945 98.7165,-65.543 94.7732,-56.9228\"/>\n<polygon fill=\"#000000\" stroke=\"#000000\" points=\"111.6302,-93.7731 103.3781,-86.5513 109.5503,-89.2262 107.4703,-84.6794 107.4703,-84.6794 107.4703,-84.6794 109.5503,-89.2262 111.5625,-82.8074 111.6302,-93.7731 111.6302,-93.7731\"/>\n</g>\n<!-- relu0_fwd -->\n<g id=\"node3\" class=\"node\">\n<title>relu0_fwd</title>\n<polygon fill=\"#ffffb3\" stroke=\"#000000\" points=\"166,-246 72,-246 72,-188 166,-188 166,-246\"/>\n<text text-anchor=\"middle\" x=\"119\" y=\"-220.8\" font-family=\"Times,serif\" font-size=\"14.00\" fill=\"#000000\">Activation</text>\n<text text-anchor=\"middle\" x=\"119\" y=\"-205.8\" font-family=\"Times,serif\" font-size=\"14.00\" fill=\"#000000\">relu</text>\n</g>\n<!-- relu0_fwd&#45;&gt;batchnorm0_fwd -->\n<g id=\"edge2\" class=\"edge\">\n<title>relu0_fwd&#45;&gt;batchnorm0_fwd</title>\n<path fill=\"none\" stroke=\"#000000\" d=\"M121.5128,-177.6321C122.0565,-169.1148 122.6221,-160.2539 123.1356,-152.2088\"/>\n<polygon fill=\"#000000\" stroke=\"#000000\" points=\"120.8655,-187.7731 117.0118,-177.5067 121.1841,-182.7832 121.5026,-177.7934 121.5026,-177.7934 121.5026,-177.7934 121.1841,-182.7832 125.9935,-178.0801 120.8655,-187.7731 120.8655,-187.7731\"/>\n</g>\n<!-- conv0_fwd -->\n<g id=\"node4\" class=\"node\">\n<title>conv0_fwd</title>\n<polygon fill=\"#fb8072\" stroke=\"#000000\" points=\"164,-340 70,-340 70,-282 164,-282 164,-340\"/>\n<text text-anchor=\"middle\" x=\"117\" y=\"-314.8\" font-family=\"Times,serif\" font-size=\"14.00\" fill=\"#000000\">Convolution</text>\n<text text-anchor=\"middle\" x=\"117\" y=\"-299.8\" font-family=\"Times,serif\" font-size=\"14.00\" fill=\"#000000\">3x3/1x1, 16</text>\n</g>\n<!-- conv0_fwd&#45;&gt;relu0_fwd -->\n<g id=\"edge3\" class=\"edge\">\n<title>conv0_fwd&#45;&gt;relu0_fwd</title>\n<path fill=\"none\" stroke=\"#000000\" d=\"M117.8376,-271.6321C118.0188,-263.1148 118.2074,-254.2539 118.3785,-246.2088\"/>\n<polygon fill=\"#000000\" stroke=\"#000000\" points=\"117.6218,-281.7731 113.3357,-271.6796 117.7283,-276.7742 117.8347,-271.7753 117.8347,-271.7753 117.8347,-271.7753 117.7283,-276.7742 122.3336,-271.8711 117.6218,-281.7731 117.6218,-281.7731\"/>\n</g>\n<!-- denseblock0_concat0 -->\n<g id=\"node5\" class=\"node\">\n<title>denseblock0_concat0</title>\n<polygon fill=\"#fdb462\" stroke=\"#000000\" points=\"146,-434 6,-434 6,-376 146,-376 146,-434\"/>\n<text text-anchor=\"middle\" x=\"76\" y=\"-401.3\" font-family=\"Times,serif\" font-size=\"14.00\" fill=\"#000000\">denseblock0_concat0</text>\n</g>\n<!-- denseblock0_concat0&#45;&gt;data -->\n<g id=\"edge4\" class=\"edge\">\n<title>denseblock0_concat0&#45;&gt;data</title>\n<path fill=\"none\" stroke=\"#000000\" d=\"M65.55,-365.7855C63.6935,-357.3388 62.0268,-348.4182 61,-340 47.761,-231.463 38.7634,-201.636 58,-94 60.2222,-81.5662 64.6589,-68.3971 69.1198,-57.1877\"/>\n<polygon fill=\"#000000\" stroke=\"#000000\" points=\"67.8784,-375.7881 61.2283,-367.0688 66.7448,-370.9183 65.6111,-366.0485 65.6111,-366.0485 65.6111,-366.0485 66.7448,-370.9183 69.994,-365.0283 67.8784,-375.7881 67.8784,-375.7881\"/>\n</g>\n<!-- denseblock0_concat0&#45;&gt;conv0_fwd -->\n<g id=\"edge5\" class=\"edge\">\n<title>denseblock0_concat0&#45;&gt;conv0_fwd</title>\n<path fill=\"none\" stroke=\"#000000\" d=\"M92.8042,-366.4734C96.6309,-357.6999 100.6353,-348.5191 104.26,-340.2088\"/>\n<polygon fill=\"#000000\" stroke=\"#000000\" points=\"88.7479,-375.7731 88.6212,-364.8079 90.7469,-371.1901 92.7459,-366.607 92.7459,-366.607 92.7459,-366.607 90.7469,-371.1901 96.8706,-368.4061 88.7479,-375.7731 88.7479,-375.7731\"/>\n</g>\n<!-- batchnorm1_fwd -->\n<g id=\"node6\" class=\"node\">\n<title>batchnorm1_fwd</title>\n<polygon fill=\"#bebada\" stroke=\"#000000\" points=\"177,-528 61,-528 61,-470 177,-470 177,-528\"/>\n<text text-anchor=\"middle\" x=\"119\" y=\"-495.3\" font-family=\"Times,serif\" font-size=\"14.00\" fill=\"#000000\">batchnorm1_fwd</text>\n</g>\n<!-- batchnorm1_fwd&#45;&gt;denseblock0_concat0 -->\n<g id=\"edge6\" class=\"edge\">\n<title>batchnorm1_fwd&#45;&gt;denseblock0_concat0</title>\n<path fill=\"none\" stroke=\"#000000\" d=\"M101.3761,-460.4734C97.3627,-451.6999 93.163,-442.5191 89.3615,-434.2088\"/>\n<polygon fill=\"#000000\" stroke=\"#000000\" points=\"105.6302,-469.7731 97.3781,-462.5513 103.5503,-465.2262 101.4703,-460.6794 101.4703,-460.6794 101.4703,-460.6794 103.5503,-465.2262 105.5625,-458.8074 105.6302,-469.7731 105.6302,-469.7731\"/>\n</g>\n<!-- relu1_fwd -->\n<g id=\"node7\" class=\"node\">\n<title>relu1_fwd</title>\n<polygon fill=\"#ffffb3\" stroke=\"#000000\" points=\"163,-622 69,-622 69,-564 163,-564 163,-622\"/>\n<text text-anchor=\"middle\" x=\"116\" y=\"-596.8\" font-family=\"Times,serif\" font-size=\"14.00\" fill=\"#000000\">Activation</text>\n<text text-anchor=\"middle\" x=\"116\" y=\"-581.8\" font-family=\"Times,serif\" font-size=\"14.00\" fill=\"#000000\">relu</text>\n</g>\n<!-- relu1_fwd&#45;&gt;batchnorm1_fwd -->\n<g id=\"edge7\" class=\"edge\">\n<title>relu1_fwd&#45;&gt;batchnorm1_fwd</title>\n<path fill=\"none\" stroke=\"#000000\" d=\"M117.2564,-553.6321C117.5283,-545.1148 117.811,-536.2539 118.0678,-528.2088\"/>\n<polygon fill=\"#000000\" stroke=\"#000000\" points=\"116.9328,-563.7731 112.7541,-553.6346 117.0923,-558.7756 117.2519,-553.7782 117.2519,-553.7782 117.2519,-553.7782 117.0923,-558.7756 121.7496,-553.9218 116.9328,-563.7731 116.9328,-563.7731\"/>\n</g>\n<!-- conv1_fwd -->\n<g id=\"node8\" class=\"node\">\n<title>conv1_fwd</title>\n<polygon fill=\"#fb8072\" stroke=\"#000000\" points=\"160,-716 66,-716 66,-658 160,-658 160,-716\"/>\n<text text-anchor=\"middle\" x=\"113\" y=\"-690.8\" font-family=\"Times,serif\" font-size=\"14.00\" fill=\"#000000\">Convolution</text>\n<text text-anchor=\"middle\" x=\"113\" y=\"-675.8\" font-family=\"Times,serif\" font-size=\"14.00\" fill=\"#000000\">3x3/1x1, 16</text>\n</g>\n<!-- conv1_fwd&#45;&gt;relu1_fwd -->\n<g id=\"edge8\" class=\"edge\">\n<title>conv1_fwd&#45;&gt;relu1_fwd</title>\n<path fill=\"none\" stroke=\"#000000\" d=\"M114.2564,-647.6321C114.5283,-639.1148 114.811,-630.2539 115.0678,-622.2088\"/>\n<polygon fill=\"#000000\" stroke=\"#000000\" points=\"113.9328,-657.7731 109.7541,-647.6346 114.0923,-652.7756 114.2519,-647.7782 114.2519,-647.7782 114.2519,-647.7782 114.0923,-652.7756 118.7496,-647.9218 113.9328,-657.7731 113.9328,-657.7731\"/>\n</g>\n<!-- denseblock0_concat1 -->\n<g id=\"node9\" class=\"node\">\n<title>denseblock0_concat1</title>\n<polygon fill=\"#fdb462\" stroke=\"#000000\" points=\"140,-810 0,-810 0,-752 140,-752 140,-810\"/>\n<text text-anchor=\"middle\" x=\"70\" y=\"-777.3\" font-family=\"Times,serif\" font-size=\"14.00\" fill=\"#000000\">denseblock0_concat1</text>\n</g>\n<!-- denseblock0_concat1&#45;&gt;denseblock0_concat0 -->\n<g id=\"edge9\" class=\"edge\">\n<title>denseblock0_concat1&#45;&gt;denseblock0_concat0</title>\n<path fill=\"none\" stroke=\"#000000\" d=\"M61.0227,-741.7184C59.4085,-733.276 57.9418,-724.3743 57,-716 44.7785,-607.3292 32.7609,-577.6502 52,-470 54.1587,-457.9214 58.4072,-445.149 62.7376,-434.1532\"/>\n<polygon fill=\"#000000\" stroke=\"#000000\" points=\"63.0395,-751.7219 56.6518,-742.8085 62.0513,-746.8205 61.0631,-741.9192 61.0631,-741.9192 61.0631,-741.9192 62.0513,-746.8205 65.4743,-741.0298 63.0395,-751.7219 63.0395,-751.7219\"/>\n</g>\n<!-- denseblock0_concat1&#45;&gt;conv1_fwd -->\n<g id=\"edge10\" class=\"edge\">\n<title>denseblock0_concat1&#45;&gt;conv1_fwd</title>\n<path fill=\"none\" stroke=\"#000000\" d=\"M87.6239,-742.4734C91.6373,-733.6999 95.837,-724.5191 99.6385,-716.2088\"/>\n<polygon fill=\"#000000\" stroke=\"#000000\" points=\"83.3698,-751.7731 83.4375,-740.8074 85.4497,-747.2262 87.5297,-742.6794 87.5297,-742.6794 87.5297,-742.6794 85.4497,-747.2262 91.6219,-744.5513 83.3698,-751.7731 83.3698,-751.7731\"/>\n</g>\n</g>\n</svg>\n"
          },
          "metadata": {
            "tags": []
          },
          "execution_count": 7
        }
      ]
    },
    {
      "cell_type": "markdown",
      "metadata": {
        "id": "HfK2vNYU6_Ba",
        "colab_type": "text"
      },
      "source": [
        "### Visualizing single transition block"
      ]
    },
    {
      "cell_type": "code",
      "metadata": {
        "id": "rS3W8wx8xyrt",
        "colab_type": "code",
        "colab": {
          "base_uri": "https://localhost:8080/",
          "height": 485
        },
        "outputId": "92a9d28e-c22c-4060-dc8b-8094a6b07583"
      },
      "source": [
        "block = TransitionBlock(16)\n",
        "block.initialize(ctx = ctx)\n",
        "mx.viz.plot_network(block(mx.sym.var(name = 'data')), node_attrs={\"fixedsize\":\"false\"})"
      ],
      "execution_count": 8,
      "outputs": [
        {
          "output_type": "execute_result",
          "data": {
            "text/plain": [
              "<graphviz.dot.Digraph at 0x7f52fa7f2080>"
            ],
            "image/svg+xml": "<?xml version=\"1.0\" encoding=\"UTF-8\" standalone=\"no\"?>\n<!DOCTYPE svg PUBLIC \"-//W3C//DTD SVG 1.1//EN\"\n \"http://www.w3.org/Graphics/SVG/1.1/DTD/svg11.dtd\">\n<!-- Generated by graphviz version 2.40.1 (20161225.0304)\n -->\n<!-- Title: plot Pages: 1 -->\n<svg width=\"124pt\" height=\"348pt\"\n viewBox=\"0.00 0.00 124.00 348.00\" xmlns=\"http://www.w3.org/2000/svg\" xmlns:xlink=\"http://www.w3.org/1999/xlink\">\n<g id=\"graph0\" class=\"graph\" transform=\"scale(1 1) rotate(0) translate(4 344)\">\n<title>plot</title>\n<polygon fill=\"#ffffff\" stroke=\"transparent\" points=\"-4,4 -4,-344 120,-344 120,4 -4,4\"/>\n<!-- data -->\n<g id=\"node1\" class=\"node\">\n<title>data</title>\n<ellipse fill=\"#8dd3c7\" stroke=\"#000000\" cx=\"58\" cy=\"-29\" rx=\"47\" ry=\"29\"/>\n<text text-anchor=\"middle\" x=\"58\" y=\"-25.3\" font-family=\"Times,serif\" font-size=\"14.00\" fill=\"#000000\">data</text>\n</g>\n<!-- batchnorm2_fwd -->\n<g id=\"node2\" class=\"node\">\n<title>batchnorm2_fwd</title>\n<polygon fill=\"#bebada\" stroke=\"#000000\" points=\"116,-152 0,-152 0,-94 116,-94 116,-152\"/>\n<text text-anchor=\"middle\" x=\"58\" y=\"-119.3\" font-family=\"Times,serif\" font-size=\"14.00\" fill=\"#000000\">batchnorm2_fwd</text>\n</g>\n<!-- batchnorm2_fwd&#45;&gt;data -->\n<g id=\"edge1\" class=\"edge\">\n<title>batchnorm2_fwd&#45;&gt;data</title>\n<path fill=\"none\" stroke=\"#000000\" d=\"M58,-83.6321C58,-75.1148 58,-66.2539 58,-58.2088\"/>\n<polygon fill=\"#000000\" stroke=\"#000000\" points=\"58,-93.7731 53.5001,-83.773 58,-88.7731 58.0001,-83.7731 58.0001,-83.7731 58.0001,-83.7731 58,-88.7731 62.5001,-83.7731 58,-93.7731 58,-93.7731\"/>\n</g>\n<!-- conv2_fwd -->\n<g id=\"node3\" class=\"node\">\n<title>conv2_fwd</title>\n<polygon fill=\"#fb8072\" stroke=\"#000000\" points=\"105,-246 11,-246 11,-188 105,-188 105,-246\"/>\n<text text-anchor=\"middle\" x=\"58\" y=\"-220.8\" font-family=\"Times,serif\" font-size=\"14.00\" fill=\"#000000\">Convolution</text>\n<text text-anchor=\"middle\" x=\"58\" y=\"-205.8\" font-family=\"Times,serif\" font-size=\"14.00\" fill=\"#000000\">1x1/1x1, 16</text>\n</g>\n<!-- conv2_fwd&#45;&gt;batchnorm2_fwd -->\n<g id=\"edge2\" class=\"edge\">\n<title>conv2_fwd&#45;&gt;batchnorm2_fwd</title>\n<path fill=\"none\" stroke=\"#000000\" d=\"M58,-177.6321C58,-169.1148 58,-160.2539 58,-152.2088\"/>\n<polygon fill=\"#000000\" stroke=\"#000000\" points=\"58,-187.7731 53.5001,-177.773 58,-182.7731 58.0001,-177.7731 58.0001,-177.7731 58.0001,-177.7731 58,-182.7731 62.5001,-177.7731 58,-187.7731 58,-187.7731\"/>\n</g>\n<!-- pool0_fwd -->\n<g id=\"node4\" class=\"node\">\n<title>pool0_fwd</title>\n<polygon fill=\"#80b1d3\" stroke=\"#000000\" points=\"105,-340 11,-340 11,-282 105,-282 105,-340\"/>\n<text text-anchor=\"middle\" x=\"58\" y=\"-314.8\" font-family=\"Times,serif\" font-size=\"14.00\" fill=\"#000000\">Pooling</text>\n<text text-anchor=\"middle\" x=\"58\" y=\"-299.8\" font-family=\"Times,serif\" font-size=\"14.00\" fill=\"#000000\">avg, 1x1/2x2</text>\n</g>\n<!-- pool0_fwd&#45;&gt;conv2_fwd -->\n<g id=\"edge3\" class=\"edge\">\n<title>pool0_fwd&#45;&gt;conv2_fwd</title>\n<path fill=\"none\" stroke=\"#000000\" d=\"M58,-271.6321C58,-263.1148 58,-254.2539 58,-246.2088\"/>\n<polygon fill=\"#000000\" stroke=\"#000000\" points=\"58,-281.7731 53.5001,-271.773 58,-276.7731 58.0001,-271.7731 58.0001,-271.7731 58.0001,-271.7731 58,-276.7731 62.5001,-271.7731 58,-281.7731 58,-281.7731\"/>\n</g>\n</g>\n</svg>\n"
          },
          "metadata": {
            "tags": []
          },
          "execution_count": 8
        }
      ]
    },
    {
      "cell_type": "markdown",
      "metadata": {
        "id": "6LOc1aY8Ihlu",
        "colab_type": "text"
      },
      "source": [
        "## __Defining the whole model__"
      ]
    },
    {
      "cell_type": "code",
      "metadata": {
        "id": "wlp_psO_ywof",
        "colab_type": "code",
        "outputId": "4c75998f-0b07-4140-c737-cd4c4996786d",
        "colab": {
          "base_uri": "https://localhost:8080/",
          "height": 1000
        }
      },
      "source": [
        "model = nn.HybridSequential()\n",
        "\n",
        "model.add(nn.Conv2D(64, kernel_size = 7, strides = 2, padding = 3))\n",
        "model.add(nn.BatchNorm())\n",
        "model.add(nn.Activation('relu'))\n",
        "model.add(nn.MaxPool2D(pool_size = 3, strides = 2, padding = 1))\n",
        "\n",
        "model.add(nn.Conv2D(channels = 64, kernel_size = 3, padding = 1))\n",
        "model.add(nn.BatchNorm())\n",
        "model.add(nn.Activation('relu'))\n",
        "\n",
        "channels, growth = 64, 32\n",
        "convs = [4, 4, 4, 4] # only 4 dense block wich 4 conv layers\n",
        "\n",
        "for i, num_convs in enumerate(convs):\n",
        "    model.add(DenseBlock(num_convs, growth))\n",
        "    channels += num_convs * growth\n",
        "    if i != len(convs) - 1:\n",
        "        channels //= 2\n",
        "        model.add(TransitionBlock(channels))\n",
        "\n",
        "model.add(nn.BatchNorm())\n",
        "model.add(nn.Activation('relu'))\n",
        "model.add(nn.GlobalAvgPool2D())\n",
        "model.add(nn.Dense(10))\n",
        "\n",
        "model.initialize(mx.init.Xavier(), ctx)\n",
        "model"
      ],
      "execution_count": 9,
      "outputs": [
        {
          "output_type": "execute_result",
          "data": {
            "text/plain": [
              "HybridSequential(\n",
              "  (0): Conv2D(None -> 64, kernel_size=(7, 7), stride=(2, 2), padding=(3, 3))\n",
              "  (1): BatchNorm(axis=1, eps=1e-05, momentum=0.9, fix_gamma=False, use_global_stats=False, in_channels=None)\n",
              "  (2): Activation(relu)\n",
              "  (3): MaxPool2D(size=(3, 3), stride=(2, 2), padding=(1, 1), ceil_mode=False, global_pool=False, pool_type=max, layout=NCHW)\n",
              "  (4): Conv2D(None -> 64, kernel_size=(3, 3), stride=(1, 1), padding=(1, 1))\n",
              "  (5): BatchNorm(axis=1, eps=1e-05, momentum=0.9, fix_gamma=False, use_global_stats=False, in_channels=None)\n",
              "  (6): Activation(relu)\n",
              "  (7): DenseBlock(\n",
              "    (model): HybridSequential(\n",
              "      (0): HybridSequential(\n",
              "        (0): BatchNorm(axis=1, eps=1e-05, momentum=0.9, fix_gamma=False, use_global_stats=False, in_channels=None)\n",
              "        (1): Activation(relu)\n",
              "        (2): Conv2D(None -> 32, kernel_size=(3, 3), stride=(1, 1), padding=(1, 1))\n",
              "      )\n",
              "      (1): HybridSequential(\n",
              "        (0): BatchNorm(axis=1, eps=1e-05, momentum=0.9, fix_gamma=False, use_global_stats=False, in_channels=None)\n",
              "        (1): Activation(relu)\n",
              "        (2): Conv2D(None -> 32, kernel_size=(3, 3), stride=(1, 1), padding=(1, 1))\n",
              "      )\n",
              "      (2): HybridSequential(\n",
              "        (0): BatchNorm(axis=1, eps=1e-05, momentum=0.9, fix_gamma=False, use_global_stats=False, in_channels=None)\n",
              "        (1): Activation(relu)\n",
              "        (2): Conv2D(None -> 32, kernel_size=(3, 3), stride=(1, 1), padding=(1, 1))\n",
              "      )\n",
              "      (3): HybridSequential(\n",
              "        (0): BatchNorm(axis=1, eps=1e-05, momentum=0.9, fix_gamma=False, use_global_stats=False, in_channels=None)\n",
              "        (1): Activation(relu)\n",
              "        (2): Conv2D(None -> 32, kernel_size=(3, 3), stride=(1, 1), padding=(1, 1))\n",
              "      )\n",
              "    )\n",
              "  )\n",
              "  (8): TransitionBlock(\n",
              "    (model): HybridSequential(\n",
              "      (0): BatchNorm(axis=1, eps=1e-05, momentum=0.9, fix_gamma=False, use_global_stats=False, in_channels=None)\n",
              "      (1): Conv2D(None -> 96, kernel_size=(1, 1), stride=(1, 1))\n",
              "      (2): AvgPool2D(size=(1, 1), stride=(2, 2), padding=(0, 0), ceil_mode=False, global_pool=False, pool_type=avg, layout=NCHW)\n",
              "    )\n",
              "  )\n",
              "  (9): DenseBlock(\n",
              "    (model): HybridSequential(\n",
              "      (0): HybridSequential(\n",
              "        (0): BatchNorm(axis=1, eps=1e-05, momentum=0.9, fix_gamma=False, use_global_stats=False, in_channels=None)\n",
              "        (1): Activation(relu)\n",
              "        (2): Conv2D(None -> 32, kernel_size=(3, 3), stride=(1, 1), padding=(1, 1))\n",
              "      )\n",
              "      (1): HybridSequential(\n",
              "        (0): BatchNorm(axis=1, eps=1e-05, momentum=0.9, fix_gamma=False, use_global_stats=False, in_channels=None)\n",
              "        (1): Activation(relu)\n",
              "        (2): Conv2D(None -> 32, kernel_size=(3, 3), stride=(1, 1), padding=(1, 1))\n",
              "      )\n",
              "      (2): HybridSequential(\n",
              "        (0): BatchNorm(axis=1, eps=1e-05, momentum=0.9, fix_gamma=False, use_global_stats=False, in_channels=None)\n",
              "        (1): Activation(relu)\n",
              "        (2): Conv2D(None -> 32, kernel_size=(3, 3), stride=(1, 1), padding=(1, 1))\n",
              "      )\n",
              "      (3): HybridSequential(\n",
              "        (0): BatchNorm(axis=1, eps=1e-05, momentum=0.9, fix_gamma=False, use_global_stats=False, in_channels=None)\n",
              "        (1): Activation(relu)\n",
              "        (2): Conv2D(None -> 32, kernel_size=(3, 3), stride=(1, 1), padding=(1, 1))\n",
              "      )\n",
              "    )\n",
              "  )\n",
              "  (10): TransitionBlock(\n",
              "    (model): HybridSequential(\n",
              "      (0): BatchNorm(axis=1, eps=1e-05, momentum=0.9, fix_gamma=False, use_global_stats=False, in_channels=None)\n",
              "      (1): Conv2D(None -> 112, kernel_size=(1, 1), stride=(1, 1))\n",
              "      (2): AvgPool2D(size=(1, 1), stride=(2, 2), padding=(0, 0), ceil_mode=False, global_pool=False, pool_type=avg, layout=NCHW)\n",
              "    )\n",
              "  )\n",
              "  (11): DenseBlock(\n",
              "    (model): HybridSequential(\n",
              "      (0): HybridSequential(\n",
              "        (0): BatchNorm(axis=1, eps=1e-05, momentum=0.9, fix_gamma=False, use_global_stats=False, in_channels=None)\n",
              "        (1): Activation(relu)\n",
              "        (2): Conv2D(None -> 32, kernel_size=(3, 3), stride=(1, 1), padding=(1, 1))\n",
              "      )\n",
              "      (1): HybridSequential(\n",
              "        (0): BatchNorm(axis=1, eps=1e-05, momentum=0.9, fix_gamma=False, use_global_stats=False, in_channels=None)\n",
              "        (1): Activation(relu)\n",
              "        (2): Conv2D(None -> 32, kernel_size=(3, 3), stride=(1, 1), padding=(1, 1))\n",
              "      )\n",
              "      (2): HybridSequential(\n",
              "        (0): BatchNorm(axis=1, eps=1e-05, momentum=0.9, fix_gamma=False, use_global_stats=False, in_channels=None)\n",
              "        (1): Activation(relu)\n",
              "        (2): Conv2D(None -> 32, kernel_size=(3, 3), stride=(1, 1), padding=(1, 1))\n",
              "      )\n",
              "      (3): HybridSequential(\n",
              "        (0): BatchNorm(axis=1, eps=1e-05, momentum=0.9, fix_gamma=False, use_global_stats=False, in_channels=None)\n",
              "        (1): Activation(relu)\n",
              "        (2): Conv2D(None -> 32, kernel_size=(3, 3), stride=(1, 1), padding=(1, 1))\n",
              "      )\n",
              "    )\n",
              "  )\n",
              "  (12): TransitionBlock(\n",
              "    (model): HybridSequential(\n",
              "      (0): BatchNorm(axis=1, eps=1e-05, momentum=0.9, fix_gamma=False, use_global_stats=False, in_channels=None)\n",
              "      (1): Conv2D(None -> 120, kernel_size=(1, 1), stride=(1, 1))\n",
              "      (2): AvgPool2D(size=(1, 1), stride=(2, 2), padding=(0, 0), ceil_mode=False, global_pool=False, pool_type=avg, layout=NCHW)\n",
              "    )\n",
              "  )\n",
              "  (13): DenseBlock(\n",
              "    (model): HybridSequential(\n",
              "      (0): HybridSequential(\n",
              "        (0): BatchNorm(axis=1, eps=1e-05, momentum=0.9, fix_gamma=False, use_global_stats=False, in_channels=None)\n",
              "        (1): Activation(relu)\n",
              "        (2): Conv2D(None -> 32, kernel_size=(3, 3), stride=(1, 1), padding=(1, 1))\n",
              "      )\n",
              "      (1): HybridSequential(\n",
              "        (0): BatchNorm(axis=1, eps=1e-05, momentum=0.9, fix_gamma=False, use_global_stats=False, in_channels=None)\n",
              "        (1): Activation(relu)\n",
              "        (2): Conv2D(None -> 32, kernel_size=(3, 3), stride=(1, 1), padding=(1, 1))\n",
              "      )\n",
              "      (2): HybridSequential(\n",
              "        (0): BatchNorm(axis=1, eps=1e-05, momentum=0.9, fix_gamma=False, use_global_stats=False, in_channels=None)\n",
              "        (1): Activation(relu)\n",
              "        (2): Conv2D(None -> 32, kernel_size=(3, 3), stride=(1, 1), padding=(1, 1))\n",
              "      )\n",
              "      (3): HybridSequential(\n",
              "        (0): BatchNorm(axis=1, eps=1e-05, momentum=0.9, fix_gamma=False, use_global_stats=False, in_channels=None)\n",
              "        (1): Activation(relu)\n",
              "        (2): Conv2D(None -> 32, kernel_size=(3, 3), stride=(1, 1), padding=(1, 1))\n",
              "      )\n",
              "    )\n",
              "  )\n",
              "  (14): BatchNorm(axis=1, eps=1e-05, momentum=0.9, fix_gamma=False, use_global_stats=False, in_channels=None)\n",
              "  (15): Activation(relu)\n",
              "  (16): GlobalAvgPool2D(size=(1, 1), stride=(1, 1), padding=(0, 0), ceil_mode=True, global_pool=True, pool_type=avg, layout=NCHW)\n",
              "  (17): Dense(None -> 10, linear)\n",
              ")"
            ]
          },
          "metadata": {
            "tags": []
          },
          "execution_count": 9
        }
      ]
    },
    {
      "cell_type": "markdown",
      "metadata": {
        "id": "YGW5do2DInrM",
        "colab_type": "text"
      },
      "source": [
        "## __Summarizing the model__"
      ]
    },
    {
      "cell_type": "code",
      "metadata": {
        "id": "fWwau-Uxywmi",
        "colab_type": "code",
        "outputId": "7966746c-4f59-464e-e49c-71fc15274777",
        "colab": {
          "base_uri": "https://localhost:8080/",
          "height": 1000
        }
      },
      "source": [
        "model.summary(image.expand_dims(0).as_in_context(ctx))"
      ],
      "execution_count": 10,
      "outputs": [
        {
          "output_type": "stream",
          "text": [
            "--------------------------------------------------------------------------------\n",
            "        Layer (type)                                Output Shape         Param #\n",
            "================================================================================\n",
            "               Input                              (1, 3, 32, 32)               0\n",
            "            Conv2D-1                             (1, 64, 16, 16)            9472\n",
            "         BatchNorm-2                             (1, 64, 16, 16)             256\n",
            "        Activation-3                             (1, 64, 16, 16)               0\n",
            "         MaxPool2D-4                               (1, 64, 8, 8)               0\n",
            "            Conv2D-5                               (1, 64, 8, 8)           36928\n",
            "         BatchNorm-6                               (1, 64, 8, 8)             256\n",
            "        Activation-7                               (1, 64, 8, 8)               0\n",
            "         BatchNorm-8                               (1, 64, 8, 8)             256\n",
            "        Activation-9                               (1, 64, 8, 8)               0\n",
            "           Conv2D-10                               (1, 32, 8, 8)           18464\n",
            "        BatchNorm-11                               (1, 96, 8, 8)             384\n",
            "       Activation-12                               (1, 96, 8, 8)               0\n",
            "           Conv2D-13                               (1, 32, 8, 8)           27680\n",
            "        BatchNorm-14                              (1, 128, 8, 8)             512\n",
            "       Activation-15                              (1, 128, 8, 8)               0\n",
            "           Conv2D-16                               (1, 32, 8, 8)           36896\n",
            "        BatchNorm-17                              (1, 160, 8, 8)             640\n",
            "       Activation-18                              (1, 160, 8, 8)               0\n",
            "           Conv2D-19                               (1, 32, 8, 8)           46112\n",
            "       DenseBlock-20                              (1, 192, 8, 8)               0\n",
            "        BatchNorm-21                              (1, 192, 8, 8)             768\n",
            "           Conv2D-22                               (1, 96, 8, 8)           18528\n",
            "        AvgPool2D-23                               (1, 96, 4, 4)               0\n",
            "  TransitionBlock-24                               (1, 96, 4, 4)               0\n",
            "        BatchNorm-25                               (1, 96, 4, 4)             384\n",
            "       Activation-26                               (1, 96, 4, 4)               0\n",
            "           Conv2D-27                               (1, 32, 4, 4)           27680\n",
            "        BatchNorm-28                              (1, 128, 4, 4)             512\n",
            "       Activation-29                              (1, 128, 4, 4)               0\n",
            "           Conv2D-30                               (1, 32, 4, 4)           36896\n",
            "        BatchNorm-31                              (1, 160, 4, 4)             640\n",
            "       Activation-32                              (1, 160, 4, 4)               0\n",
            "           Conv2D-33                               (1, 32, 4, 4)           46112\n",
            "        BatchNorm-34                              (1, 192, 4, 4)             768\n",
            "       Activation-35                              (1, 192, 4, 4)               0\n",
            "           Conv2D-36                               (1, 32, 4, 4)           55328\n",
            "       DenseBlock-37                              (1, 224, 4, 4)               0\n",
            "        BatchNorm-38                              (1, 224, 4, 4)             896\n",
            "           Conv2D-39                              (1, 112, 4, 4)           25200\n",
            "        AvgPool2D-40                              (1, 112, 2, 2)               0\n",
            "  TransitionBlock-41                              (1, 112, 2, 2)               0\n",
            "        BatchNorm-42                              (1, 112, 2, 2)             448\n",
            "       Activation-43                              (1, 112, 2, 2)               0\n",
            "           Conv2D-44                               (1, 32, 2, 2)           32288\n",
            "        BatchNorm-45                              (1, 144, 2, 2)             576\n",
            "       Activation-46                              (1, 144, 2, 2)               0\n",
            "           Conv2D-47                               (1, 32, 2, 2)           41504\n",
            "        BatchNorm-48                              (1, 176, 2, 2)             704\n",
            "       Activation-49                              (1, 176, 2, 2)               0\n",
            "           Conv2D-50                               (1, 32, 2, 2)           50720\n",
            "        BatchNorm-51                              (1, 208, 2, 2)             832\n",
            "       Activation-52                              (1, 208, 2, 2)               0\n",
            "           Conv2D-53                               (1, 32, 2, 2)           59936\n",
            "       DenseBlock-54                              (1, 240, 2, 2)               0\n",
            "        BatchNorm-55                              (1, 240, 2, 2)             960\n",
            "           Conv2D-56                              (1, 120, 2, 2)           28920\n",
            "        AvgPool2D-57                              (1, 120, 1, 1)               0\n",
            "  TransitionBlock-58                              (1, 120, 1, 1)               0\n",
            "        BatchNorm-59                              (1, 120, 1, 1)             480\n",
            "       Activation-60                              (1, 120, 1, 1)               0\n",
            "           Conv2D-61                               (1, 32, 1, 1)           34592\n",
            "        BatchNorm-62                              (1, 152, 1, 1)             608\n",
            "       Activation-63                              (1, 152, 1, 1)               0\n",
            "           Conv2D-64                               (1, 32, 1, 1)           43808\n",
            "        BatchNorm-65                              (1, 184, 1, 1)             736\n",
            "       Activation-66                              (1, 184, 1, 1)               0\n",
            "           Conv2D-67                               (1, 32, 1, 1)           53024\n",
            "        BatchNorm-68                              (1, 216, 1, 1)             864\n",
            "       Activation-69                              (1, 216, 1, 1)               0\n",
            "           Conv2D-70                               (1, 32, 1, 1)           62240\n",
            "       DenseBlock-71                              (1, 248, 1, 1)               0\n",
            "        BatchNorm-72                              (1, 248, 1, 1)             992\n",
            "       Activation-73                              (1, 248, 1, 1)               0\n",
            "  GlobalAvgPool2D-74                              (1, 248, 1, 1)               0\n",
            "            Dense-75                                     (1, 10)            2490\n",
            "================================================================================\n",
            "Parameters in forward computation graph, duplicate included\n",
            "   Total params: 808290\n",
            "   Trainable params: 801554\n",
            "   Non-trainable params: 6736\n",
            "Shared params in forward computation graph: 0\n",
            "Unique parameters in model: 808290\n",
            "--------------------------------------------------------------------------------\n"
          ],
          "name": "stdout"
        }
      ]
    },
    {
      "cell_type": "markdown",
      "metadata": {
        "id": "4KlBsabaItQc",
        "colab_type": "text"
      },
      "source": [
        "## __Visializing model architecture__"
      ]
    },
    {
      "cell_type": "code",
      "metadata": {
        "id": "_dssSLsM0thA",
        "colab_type": "code",
        "outputId": "819621e4-9b91-4158-d31d-6d3d2cdaa179",
        "colab": {
          "base_uri": "https://localhost:8080/",
          "height": 1000
        }
      },
      "source": [
        "mx.viz.plot_network(model(mx.sym.var(name = 'data')), node_attrs={\"fixedsize\":\"false\"})"
      ],
      "execution_count": 11,
      "outputs": [
        {
          "output_type": "execute_result",
          "data": {
            "text/plain": [
              "<graphviz.dot.Digraph at 0x7f52fb4502e8>"
            ],
            "image/svg+xml": "<?xml version=\"1.0\" encoding=\"UTF-8\" standalone=\"no\"?>\n<!DOCTYPE svg PUBLIC \"-//W3C//DTD SVG 1.1//EN\"\n \"http://www.w3.org/Graphics/SVG/1.1/DTD/svg11.dtd\">\n<!-- Generated by graphviz version 2.40.1 (20161225.0304)\n -->\n<!-- Title: plot Pages: 1 -->\n<svg width=\"298pt\" height=\"7962pt\"\n viewBox=\"0.00 0.00 298.00 7962.00\" xmlns=\"http://www.w3.org/2000/svg\" xmlns:xlink=\"http://www.w3.org/1999/xlink\">\n<g id=\"graph0\" class=\"graph\" transform=\"scale(1 1) rotate(0) translate(4 7958)\">\n<title>plot</title>\n<polygon fill=\"#ffffff\" stroke=\"transparent\" points=\"-4,4 -4,-7958 294,-7958 294,4 -4,4\"/>\n<!-- data -->\n<g id=\"node1\" class=\"node\">\n<title>data</title>\n<ellipse fill=\"#8dd3c7\" stroke=\"#000000\" cx=\"189\" cy=\"-29\" rx=\"47\" ry=\"29\"/>\n<text text-anchor=\"middle\" x=\"189\" y=\"-25.3\" font-family=\"Times,serif\" font-size=\"14.00\" fill=\"#000000\">data</text>\n</g>\n<!-- conv3_fwd -->\n<g id=\"node2\" class=\"node\">\n<title>conv3_fwd</title>\n<polygon fill=\"#fb8072\" stroke=\"#000000\" points=\"236,-152 142,-152 142,-94 236,-94 236,-152\"/>\n<text text-anchor=\"middle\" x=\"189\" y=\"-126.8\" font-family=\"Times,serif\" font-size=\"14.00\" fill=\"#000000\">Convolution</text>\n<text text-anchor=\"middle\" x=\"189\" y=\"-111.8\" font-family=\"Times,serif\" font-size=\"14.00\" fill=\"#000000\">7x7/2x2, 64</text>\n</g>\n<!-- conv3_fwd&#45;&gt;data -->\n<g id=\"edge1\" class=\"edge\">\n<title>conv3_fwd&#45;&gt;data</title>\n<path fill=\"none\" stroke=\"#000000\" d=\"M189,-83.6321C189,-75.1148 189,-66.2539 189,-58.2088\"/>\n<polygon fill=\"#000000\" stroke=\"#000000\" points=\"189,-93.7731 184.5001,-83.773 189,-88.7731 189.0001,-83.7731 189.0001,-83.7731 189.0001,-83.7731 189,-88.7731 193.5001,-83.7731 189,-93.7731 189,-93.7731\"/>\n</g>\n<!-- batchnorm3_fwd -->\n<g id=\"node3\" class=\"node\">\n<title>batchnorm3_fwd</title>\n<polygon fill=\"#bebada\" stroke=\"#000000\" points=\"247,-246 131,-246 131,-188 247,-188 247,-246\"/>\n<text text-anchor=\"middle\" x=\"189\" y=\"-213.3\" font-family=\"Times,serif\" font-size=\"14.00\" fill=\"#000000\">batchnorm3_fwd</text>\n</g>\n<!-- batchnorm3_fwd&#45;&gt;conv3_fwd -->\n<g id=\"edge2\" class=\"edge\">\n<title>batchnorm3_fwd&#45;&gt;conv3_fwd</title>\n<path fill=\"none\" stroke=\"#000000\" d=\"M189,-177.6321C189,-169.1148 189,-160.2539 189,-152.2088\"/>\n<polygon fill=\"#000000\" stroke=\"#000000\" points=\"189,-187.7731 184.5001,-177.773 189,-182.7731 189.0001,-177.7731 189.0001,-177.7731 189.0001,-177.7731 189,-182.7731 193.5001,-177.7731 189,-187.7731 189,-187.7731\"/>\n</g>\n<!-- relu2_fwd -->\n<g id=\"node4\" class=\"node\">\n<title>relu2_fwd</title>\n<polygon fill=\"#ffffb3\" stroke=\"#000000\" points=\"236,-340 142,-340 142,-282 236,-282 236,-340\"/>\n<text text-anchor=\"middle\" x=\"189\" y=\"-314.8\" font-family=\"Times,serif\" font-size=\"14.00\" fill=\"#000000\">Activation</text>\n<text text-anchor=\"middle\" x=\"189\" y=\"-299.8\" font-family=\"Times,serif\" font-size=\"14.00\" fill=\"#000000\">relu</text>\n</g>\n<!-- relu2_fwd&#45;&gt;batchnorm3_fwd -->\n<g id=\"edge3\" class=\"edge\">\n<title>relu2_fwd&#45;&gt;batchnorm3_fwd</title>\n<path fill=\"none\" stroke=\"#000000\" d=\"M189,-271.6321C189,-263.1148 189,-254.2539 189,-246.2088\"/>\n<polygon fill=\"#000000\" stroke=\"#000000\" points=\"189,-281.7731 184.5001,-271.773 189,-276.7731 189.0001,-271.7731 189.0001,-271.7731 189.0001,-271.7731 189,-276.7731 193.5001,-271.7731 189,-281.7731 189,-281.7731\"/>\n</g>\n<!-- pool1_fwd -->\n<g id=\"node5\" class=\"node\">\n<title>pool1_fwd</title>\n<polygon fill=\"#80b1d3\" stroke=\"#000000\" points=\"238,-434 140,-434 140,-376 238,-376 238,-434\"/>\n<text text-anchor=\"middle\" x=\"189\" y=\"-408.8\" font-family=\"Times,serif\" font-size=\"14.00\" fill=\"#000000\">Pooling</text>\n<text text-anchor=\"middle\" x=\"189\" y=\"-393.8\" font-family=\"Times,serif\" font-size=\"14.00\" fill=\"#000000\">max, 3x3/2x2</text>\n</g>\n<!-- pool1_fwd&#45;&gt;relu2_fwd -->\n<g id=\"edge4\" class=\"edge\">\n<title>pool1_fwd&#45;&gt;relu2_fwd</title>\n<path fill=\"none\" stroke=\"#000000\" d=\"M189,-365.6321C189,-357.1148 189,-348.2539 189,-340.2088\"/>\n<polygon fill=\"#000000\" stroke=\"#000000\" points=\"189,-375.7731 184.5001,-365.773 189,-370.7731 189.0001,-365.7731 189.0001,-365.7731 189.0001,-365.7731 189,-370.7731 193.5001,-365.7731 189,-375.7731 189,-375.7731\"/>\n</g>\n<!-- conv4_fwd -->\n<g id=\"node6\" class=\"node\">\n<title>conv4_fwd</title>\n<polygon fill=\"#fb8072\" stroke=\"#000000\" points=\"236,-528 142,-528 142,-470 236,-470 236,-528\"/>\n<text text-anchor=\"middle\" x=\"189\" y=\"-502.8\" font-family=\"Times,serif\" font-size=\"14.00\" fill=\"#000000\">Convolution</text>\n<text text-anchor=\"middle\" x=\"189\" y=\"-487.8\" font-family=\"Times,serif\" font-size=\"14.00\" fill=\"#000000\">3x3/1x1, 64</text>\n</g>\n<!-- conv4_fwd&#45;&gt;pool1_fwd -->\n<g id=\"edge5\" class=\"edge\">\n<title>conv4_fwd&#45;&gt;pool1_fwd</title>\n<path fill=\"none\" stroke=\"#000000\" d=\"M189,-459.6321C189,-451.1148 189,-442.2539 189,-434.2088\"/>\n<polygon fill=\"#000000\" stroke=\"#000000\" points=\"189,-469.7731 184.5001,-459.773 189,-464.7731 189.0001,-459.7731 189.0001,-459.7731 189.0001,-459.7731 189,-464.7731 193.5001,-459.7731 189,-469.7731 189,-469.7731\"/>\n</g>\n<!-- batchnorm4_fwd -->\n<g id=\"node7\" class=\"node\">\n<title>batchnorm4_fwd</title>\n<polygon fill=\"#bebada\" stroke=\"#000000\" points=\"247,-622 131,-622 131,-564 247,-564 247,-622\"/>\n<text text-anchor=\"middle\" x=\"189\" y=\"-589.3\" font-family=\"Times,serif\" font-size=\"14.00\" fill=\"#000000\">batchnorm4_fwd</text>\n</g>\n<!-- batchnorm4_fwd&#45;&gt;conv4_fwd -->\n<g id=\"edge6\" class=\"edge\">\n<title>batchnorm4_fwd&#45;&gt;conv4_fwd</title>\n<path fill=\"none\" stroke=\"#000000\" d=\"M189,-553.6321C189,-545.1148 189,-536.2539 189,-528.2088\"/>\n<polygon fill=\"#000000\" stroke=\"#000000\" points=\"189,-563.7731 184.5001,-553.773 189,-558.7731 189.0001,-553.7731 189.0001,-553.7731 189.0001,-553.7731 189,-558.7731 193.5001,-553.7731 189,-563.7731 189,-563.7731\"/>\n</g>\n<!-- relu3_fwd -->\n<g id=\"node8\" class=\"node\">\n<title>relu3_fwd</title>\n<polygon fill=\"#ffffb3\" stroke=\"#000000\" points=\"236,-716 142,-716 142,-658 236,-658 236,-716\"/>\n<text text-anchor=\"middle\" x=\"189\" y=\"-690.8\" font-family=\"Times,serif\" font-size=\"14.00\" fill=\"#000000\">Activation</text>\n<text text-anchor=\"middle\" x=\"189\" y=\"-675.8\" font-family=\"Times,serif\" font-size=\"14.00\" fill=\"#000000\">relu</text>\n</g>\n<!-- relu3_fwd&#45;&gt;batchnorm4_fwd -->\n<g id=\"edge7\" class=\"edge\">\n<title>relu3_fwd&#45;&gt;batchnorm4_fwd</title>\n<path fill=\"none\" stroke=\"#000000\" d=\"M189,-647.6321C189,-639.1148 189,-630.2539 189,-622.2088\"/>\n<polygon fill=\"#000000\" stroke=\"#000000\" points=\"189,-657.7731 184.5001,-647.773 189,-652.7731 189.0001,-647.7731 189.0001,-647.7731 189.0001,-647.7731 189,-652.7731 193.5001,-647.7731 189,-657.7731 189,-657.7731\"/>\n</g>\n<!-- batchnorm5_fwd -->\n<g id=\"node9\" class=\"node\">\n<title>batchnorm5_fwd</title>\n<polygon fill=\"#bebada\" stroke=\"#000000\" points=\"290,-810 174,-810 174,-752 290,-752 290,-810\"/>\n<text text-anchor=\"middle\" x=\"232\" y=\"-777.3\" font-family=\"Times,serif\" font-size=\"14.00\" fill=\"#000000\">batchnorm5_fwd</text>\n</g>\n<!-- batchnorm5_fwd&#45;&gt;relu3_fwd -->\n<g id=\"edge8\" class=\"edge\">\n<title>batchnorm5_fwd&#45;&gt;relu3_fwd</title>\n<path fill=\"none\" stroke=\"#000000\" d=\"M214.3761,-742.4734C210.3627,-733.6999 206.163,-724.5191 202.3615,-716.2088\"/>\n<polygon fill=\"#000000\" stroke=\"#000000\" points=\"218.6302,-751.7731 210.3781,-744.5513 216.5503,-747.2262 214.4703,-742.6794 214.4703,-742.6794 214.4703,-742.6794 216.5503,-747.2262 218.5625,-740.8074 218.6302,-751.7731 218.6302,-751.7731\"/>\n</g>\n<!-- relu4_fwd -->\n<g id=\"node10\" class=\"node\">\n<title>relu4_fwd</title>\n<polygon fill=\"#ffffb3\" stroke=\"#000000\" points=\"273,-904 179,-904 179,-846 273,-846 273,-904\"/>\n<text text-anchor=\"middle\" x=\"226\" y=\"-878.8\" font-family=\"Times,serif\" font-size=\"14.00\" fill=\"#000000\">Activation</text>\n<text text-anchor=\"middle\" x=\"226\" y=\"-863.8\" font-family=\"Times,serif\" font-size=\"14.00\" fill=\"#000000\">relu</text>\n</g>\n<!-- relu4_fwd&#45;&gt;batchnorm5_fwd -->\n<g id=\"edge9\" class=\"edge\">\n<title>relu4_fwd&#45;&gt;batchnorm5_fwd</title>\n<path fill=\"none\" stroke=\"#000000\" d=\"M228.5128,-835.6321C229.0565,-827.1148 229.6221,-818.2539 230.1356,-810.2088\"/>\n<polygon fill=\"#000000\" stroke=\"#000000\" points=\"227.8655,-845.7731 224.0118,-835.5067 228.1841,-840.7832 228.5026,-835.7934 228.5026,-835.7934 228.5026,-835.7934 228.1841,-840.7832 232.9935,-836.0801 227.8655,-845.7731 227.8655,-845.7731\"/>\n</g>\n<!-- conv5_fwd -->\n<g id=\"node11\" class=\"node\">\n<title>conv5_fwd</title>\n<polygon fill=\"#fb8072\" stroke=\"#000000\" points=\"270,-998 176,-998 176,-940 270,-940 270,-998\"/>\n<text text-anchor=\"middle\" x=\"223\" y=\"-972.8\" font-family=\"Times,serif\" font-size=\"14.00\" fill=\"#000000\">Convolution</text>\n<text text-anchor=\"middle\" x=\"223\" y=\"-957.8\" font-family=\"Times,serif\" font-size=\"14.00\" fill=\"#000000\">3x3/1x1, 32</text>\n</g>\n<!-- conv5_fwd&#45;&gt;relu4_fwd -->\n<g id=\"edge10\" class=\"edge\">\n<title>conv5_fwd&#45;&gt;relu4_fwd</title>\n<path fill=\"none\" stroke=\"#000000\" d=\"M224.2564,-929.6321C224.5283,-921.1148 224.811,-912.2539 225.0678,-904.2088\"/>\n<polygon fill=\"#000000\" stroke=\"#000000\" points=\"223.9328,-939.7731 219.7541,-929.6346 224.0923,-934.7756 224.2519,-929.7782 224.2519,-929.7782 224.2519,-929.7782 224.0923,-934.7756 228.7496,-929.9218 223.9328,-939.7731 223.9328,-939.7731\"/>\n</g>\n<!-- denseblock1_concat0 -->\n<g id=\"node12\" class=\"node\">\n<title>denseblock1_concat0</title>\n<polygon fill=\"#fdb462\" stroke=\"#000000\" points=\"253,-1092 113,-1092 113,-1034 253,-1034 253,-1092\"/>\n<text text-anchor=\"middle\" x=\"183\" y=\"-1059.3\" font-family=\"Times,serif\" font-size=\"14.00\" fill=\"#000000\">denseblock1_concat0</text>\n</g>\n<!-- denseblock1_concat0&#45;&gt;relu3_fwd -->\n<g id=\"edge11\" class=\"edge\">\n<title>denseblock1_concat0&#45;&gt;relu3_fwd</title>\n<path fill=\"none\" stroke=\"#000000\" d=\"M171.879,-1024.1013C169.8751,-1015.57 168.0812,-1006.5354 167,-998 153.2603,-889.5298 145.7642,-859.6316 165,-752 167.1587,-739.9214 171.4072,-727.149 175.7376,-716.1532\"/>\n<polygon fill=\"#000000\" stroke=\"#000000\" points=\"174.2979,-1033.8249 167.5169,-1025.2071 173.0909,-1028.9728 171.8838,-1024.1207 171.8838,-1024.1207 171.8838,-1024.1207 173.0909,-1028.9728 176.2507,-1023.0343 174.2979,-1033.8249 174.2979,-1033.8249\"/>\n</g>\n<!-- denseblock1_concat0&#45;&gt;conv5_fwd -->\n<g id=\"edge12\" class=\"edge\">\n<title>denseblock1_concat0&#45;&gt;conv5_fwd</title>\n<path fill=\"none\" stroke=\"#000000\" d=\"M199.3943,-1024.4734C203.1277,-1015.6999 207.0344,-1006.5191 210.5707,-998.2088\"/>\n<polygon fill=\"#000000\" stroke=\"#000000\" points=\"195.437,-1033.7731 195.2119,-1022.8095 197.3948,-1029.1723 199.3526,-1024.5715 199.3526,-1024.5715 199.3526,-1024.5715 197.3948,-1029.1723 203.4933,-1026.3336 195.437,-1033.7731 195.437,-1033.7731\"/>\n</g>\n<!-- batchnorm6_fwd -->\n<g id=\"node13\" class=\"node\">\n<title>batchnorm6_fwd</title>\n<polygon fill=\"#bebada\" stroke=\"#000000\" points=\"284,-1186 168,-1186 168,-1128 284,-1128 284,-1186\"/>\n<text text-anchor=\"middle\" x=\"226\" y=\"-1153.3\" font-family=\"Times,serif\" font-size=\"14.00\" fill=\"#000000\">batchnorm6_fwd</text>\n</g>\n<!-- batchnorm6_fwd&#45;&gt;denseblock1_concat0 -->\n<g id=\"edge13\" class=\"edge\">\n<title>batchnorm6_fwd&#45;&gt;denseblock1_concat0</title>\n<path fill=\"none\" stroke=\"#000000\" d=\"M208.3761,-1118.4734C204.3627,-1109.6999 200.163,-1100.5191 196.3615,-1092.2088\"/>\n<polygon fill=\"#000000\" stroke=\"#000000\" points=\"212.6302,-1127.7731 204.3781,-1120.5513 210.5503,-1123.2262 208.4703,-1118.6794 208.4703,-1118.6794 208.4703,-1118.6794 210.5503,-1123.2262 212.5625,-1116.8074 212.6302,-1127.7731 212.6302,-1127.7731\"/>\n</g>\n<!-- relu5_fwd -->\n<g id=\"node14\" class=\"node\">\n<title>relu5_fwd</title>\n<polygon fill=\"#ffffb3\" stroke=\"#000000\" points=\"267,-1280 173,-1280 173,-1222 267,-1222 267,-1280\"/>\n<text text-anchor=\"middle\" x=\"220\" y=\"-1254.8\" font-family=\"Times,serif\" font-size=\"14.00\" fill=\"#000000\">Activation</text>\n<text text-anchor=\"middle\" x=\"220\" y=\"-1239.8\" font-family=\"Times,serif\" font-size=\"14.00\" fill=\"#000000\">relu</text>\n</g>\n<!-- relu5_fwd&#45;&gt;batchnorm6_fwd -->\n<g id=\"edge14\" class=\"edge\">\n<title>relu5_fwd&#45;&gt;batchnorm6_fwd</title>\n<path fill=\"none\" stroke=\"#000000\" d=\"M222.5128,-1211.6321C223.0565,-1203.1148 223.6221,-1194.2539 224.1356,-1186.2088\"/>\n<polygon fill=\"#000000\" stroke=\"#000000\" points=\"221.8655,-1221.7731 218.0118,-1211.5067 222.1841,-1216.7832 222.5026,-1211.7934 222.5026,-1211.7934 222.5026,-1211.7934 222.1841,-1216.7832 226.9935,-1212.0801 221.8655,-1221.7731 221.8655,-1221.7731\"/>\n</g>\n<!-- conv6_fwd -->\n<g id=\"node15\" class=\"node\">\n<title>conv6_fwd</title>\n<polygon fill=\"#fb8072\" stroke=\"#000000\" points=\"264,-1374 170,-1374 170,-1316 264,-1316 264,-1374\"/>\n<text text-anchor=\"middle\" x=\"217\" y=\"-1348.8\" font-family=\"Times,serif\" font-size=\"14.00\" fill=\"#000000\">Convolution</text>\n<text text-anchor=\"middle\" x=\"217\" y=\"-1333.8\" font-family=\"Times,serif\" font-size=\"14.00\" fill=\"#000000\">3x3/1x1, 32</text>\n</g>\n<!-- conv6_fwd&#45;&gt;relu5_fwd -->\n<g id=\"edge15\" class=\"edge\">\n<title>conv6_fwd&#45;&gt;relu5_fwd</title>\n<path fill=\"none\" stroke=\"#000000\" d=\"M218.2564,-1305.6321C218.5283,-1297.1148 218.811,-1288.2539 219.0678,-1280.2088\"/>\n<polygon fill=\"#000000\" stroke=\"#000000\" points=\"217.9328,-1315.7731 213.7541,-1305.6346 218.0923,-1310.7756 218.2519,-1305.7782 218.2519,-1305.7782 218.2519,-1305.7782 218.0923,-1310.7756 222.7496,-1305.9218 217.9328,-1315.7731 217.9328,-1315.7731\"/>\n</g>\n<!-- denseblock1_concat1 -->\n<g id=\"node16\" class=\"node\">\n<title>denseblock1_concat1</title>\n<polygon fill=\"#fdb462\" stroke=\"#000000\" points=\"247,-1468 107,-1468 107,-1410 247,-1410 247,-1468\"/>\n<text text-anchor=\"middle\" x=\"177\" y=\"-1435.3\" font-family=\"Times,serif\" font-size=\"14.00\" fill=\"#000000\">denseblock1_concat1</text>\n</g>\n<!-- denseblock1_concat1&#45;&gt;denseblock1_concat0 -->\n<g id=\"edge16\" class=\"edge\">\n<title>denseblock1_concat1&#45;&gt;denseblock1_concat0</title>\n<path fill=\"none\" stroke=\"#000000\" d=\"M165.879,-1400.1013C163.8751,-1391.57 162.0812,-1382.5354 161,-1374 147.2603,-1265.5298 139.7642,-1235.6316 159,-1128 161.1587,-1115.9214 165.4072,-1103.149 169.7376,-1092.1532\"/>\n<polygon fill=\"#000000\" stroke=\"#000000\" points=\"168.2979,-1409.8249 161.5169,-1401.2071 167.0909,-1404.9728 165.8838,-1400.1207 165.8838,-1400.1207 165.8838,-1400.1207 167.0909,-1404.9728 170.2507,-1399.0343 168.2979,-1409.8249 168.2979,-1409.8249\"/>\n</g>\n<!-- denseblock1_concat1&#45;&gt;conv6_fwd -->\n<g id=\"edge17\" class=\"edge\">\n<title>denseblock1_concat1&#45;&gt;conv6_fwd</title>\n<path fill=\"none\" stroke=\"#000000\" d=\"M193.3943,-1400.4734C197.1277,-1391.6999 201.0344,-1382.5191 204.5707,-1374.2088\"/>\n<polygon fill=\"#000000\" stroke=\"#000000\" points=\"189.437,-1409.7731 189.2119,-1398.8095 191.3948,-1405.1723 193.3526,-1400.5715 193.3526,-1400.5715 193.3526,-1400.5715 191.3948,-1405.1723 197.4933,-1402.3336 189.437,-1409.7731 189.437,-1409.7731\"/>\n</g>\n<!-- batchnorm7_fwd -->\n<g id=\"node17\" class=\"node\">\n<title>batchnorm7_fwd</title>\n<polygon fill=\"#bebada\" stroke=\"#000000\" points=\"278,-1562 162,-1562 162,-1504 278,-1504 278,-1562\"/>\n<text text-anchor=\"middle\" x=\"220\" y=\"-1529.3\" font-family=\"Times,serif\" font-size=\"14.00\" fill=\"#000000\">batchnorm7_fwd</text>\n</g>\n<!-- batchnorm7_fwd&#45;&gt;denseblock1_concat1 -->\n<g id=\"edge18\" class=\"edge\">\n<title>batchnorm7_fwd&#45;&gt;denseblock1_concat1</title>\n<path fill=\"none\" stroke=\"#000000\" d=\"M202.3761,-1494.4734C198.3627,-1485.6999 194.163,-1476.5191 190.3615,-1468.2088\"/>\n<polygon fill=\"#000000\" stroke=\"#000000\" points=\"206.6302,-1503.7731 198.3781,-1496.5513 204.5503,-1499.2262 202.4703,-1494.6794 202.4703,-1494.6794 202.4703,-1494.6794 204.5503,-1499.2262 206.5625,-1492.8074 206.6302,-1503.7731 206.6302,-1503.7731\"/>\n</g>\n<!-- relu6_fwd -->\n<g id=\"node18\" class=\"node\">\n<title>relu6_fwd</title>\n<polygon fill=\"#ffffb3\" stroke=\"#000000\" points=\"261,-1656 167,-1656 167,-1598 261,-1598 261,-1656\"/>\n<text text-anchor=\"middle\" x=\"214\" y=\"-1630.8\" font-family=\"Times,serif\" font-size=\"14.00\" fill=\"#000000\">Activation</text>\n<text text-anchor=\"middle\" x=\"214\" y=\"-1615.8\" font-family=\"Times,serif\" font-size=\"14.00\" fill=\"#000000\">relu</text>\n</g>\n<!-- relu6_fwd&#45;&gt;batchnorm7_fwd -->\n<g id=\"edge19\" class=\"edge\">\n<title>relu6_fwd&#45;&gt;batchnorm7_fwd</title>\n<path fill=\"none\" stroke=\"#000000\" d=\"M216.5128,-1587.6321C217.0565,-1579.1148 217.6221,-1570.2539 218.1356,-1562.2088\"/>\n<polygon fill=\"#000000\" stroke=\"#000000\" points=\"215.8655,-1597.7731 212.0118,-1587.5067 216.1841,-1592.7832 216.5026,-1587.7934 216.5026,-1587.7934 216.5026,-1587.7934 216.1841,-1592.7832 220.9935,-1588.0801 215.8655,-1597.7731 215.8655,-1597.7731\"/>\n</g>\n<!-- conv7_fwd -->\n<g id=\"node19\" class=\"node\">\n<title>conv7_fwd</title>\n<polygon fill=\"#fb8072\" stroke=\"#000000\" points=\"258,-1750 164,-1750 164,-1692 258,-1692 258,-1750\"/>\n<text text-anchor=\"middle\" x=\"211\" y=\"-1724.8\" font-family=\"Times,serif\" font-size=\"14.00\" fill=\"#000000\">Convolution</text>\n<text text-anchor=\"middle\" x=\"211\" y=\"-1709.8\" font-family=\"Times,serif\" font-size=\"14.00\" fill=\"#000000\">3x3/1x1, 32</text>\n</g>\n<!-- conv7_fwd&#45;&gt;relu6_fwd -->\n<g id=\"edge20\" class=\"edge\">\n<title>conv7_fwd&#45;&gt;relu6_fwd</title>\n<path fill=\"none\" stroke=\"#000000\" d=\"M212.2564,-1681.6321C212.5283,-1673.1148 212.811,-1664.2539 213.0678,-1656.2088\"/>\n<polygon fill=\"#000000\" stroke=\"#000000\" points=\"211.9328,-1691.7731 207.7541,-1681.6346 212.0923,-1686.7756 212.2519,-1681.7782 212.2519,-1681.7782 212.2519,-1681.7782 212.0923,-1686.7756 216.7496,-1681.9218 211.9328,-1691.7731 211.9328,-1691.7731\"/>\n</g>\n<!-- denseblock1_concat2 -->\n<g id=\"node20\" class=\"node\">\n<title>denseblock1_concat2</title>\n<polygon fill=\"#fdb462\" stroke=\"#000000\" points=\"241,-1844 101,-1844 101,-1786 241,-1786 241,-1844\"/>\n<text text-anchor=\"middle\" x=\"171\" y=\"-1811.3\" font-family=\"Times,serif\" font-size=\"14.00\" fill=\"#000000\">denseblock1_concat2</text>\n</g>\n<!-- denseblock1_concat2&#45;&gt;denseblock1_concat1 -->\n<g id=\"edge21\" class=\"edge\">\n<title>denseblock1_concat2&#45;&gt;denseblock1_concat1</title>\n<path fill=\"none\" stroke=\"#000000\" d=\"M159.879,-1776.1013C157.8751,-1767.57 156.0812,-1758.5354 155,-1750 141.2603,-1641.5298 133.7642,-1611.6316 153,-1504 155.1587,-1491.9214 159.4072,-1479.149 163.7376,-1468.1532\"/>\n<polygon fill=\"#000000\" stroke=\"#000000\" points=\"162.2979,-1785.8249 155.5169,-1777.2071 161.0909,-1780.9728 159.8838,-1776.1207 159.8838,-1776.1207 159.8838,-1776.1207 161.0909,-1780.9728 164.2507,-1775.0343 162.2979,-1785.8249 162.2979,-1785.8249\"/>\n</g>\n<!-- denseblock1_concat2&#45;&gt;conv7_fwd -->\n<g id=\"edge22\" class=\"edge\">\n<title>denseblock1_concat2&#45;&gt;conv7_fwd</title>\n<path fill=\"none\" stroke=\"#000000\" d=\"M187.3943,-1776.4734C191.1277,-1767.6999 195.0344,-1758.5191 198.5707,-1750.2088\"/>\n<polygon fill=\"#000000\" stroke=\"#000000\" points=\"183.437,-1785.7731 183.2119,-1774.8095 185.3948,-1781.1723 187.3526,-1776.5715 187.3526,-1776.5715 187.3526,-1776.5715 185.3948,-1781.1723 191.4933,-1778.3336 183.437,-1785.7731 183.437,-1785.7731\"/>\n</g>\n<!-- batchnorm8_fwd -->\n<g id=\"node21\" class=\"node\">\n<title>batchnorm8_fwd</title>\n<polygon fill=\"#bebada\" stroke=\"#000000\" points=\"272,-1938 156,-1938 156,-1880 272,-1880 272,-1938\"/>\n<text text-anchor=\"middle\" x=\"214\" y=\"-1905.3\" font-family=\"Times,serif\" font-size=\"14.00\" fill=\"#000000\">batchnorm8_fwd</text>\n</g>\n<!-- batchnorm8_fwd&#45;&gt;denseblock1_concat2 -->\n<g id=\"edge23\" class=\"edge\">\n<title>batchnorm8_fwd&#45;&gt;denseblock1_concat2</title>\n<path fill=\"none\" stroke=\"#000000\" d=\"M196.3761,-1870.4734C192.3627,-1861.6999 188.163,-1852.5191 184.3615,-1844.2088\"/>\n<polygon fill=\"#000000\" stroke=\"#000000\" points=\"200.6302,-1879.7731 192.3781,-1872.5513 198.5503,-1875.2262 196.4703,-1870.6794 196.4703,-1870.6794 196.4703,-1870.6794 198.5503,-1875.2262 200.5625,-1868.8074 200.6302,-1879.7731 200.6302,-1879.7731\"/>\n</g>\n<!-- relu7_fwd -->\n<g id=\"node22\" class=\"node\">\n<title>relu7_fwd</title>\n<polygon fill=\"#ffffb3\" stroke=\"#000000\" points=\"255,-2032 161,-2032 161,-1974 255,-1974 255,-2032\"/>\n<text text-anchor=\"middle\" x=\"208\" y=\"-2006.8\" font-family=\"Times,serif\" font-size=\"14.00\" fill=\"#000000\">Activation</text>\n<text text-anchor=\"middle\" x=\"208\" y=\"-1991.8\" font-family=\"Times,serif\" font-size=\"14.00\" fill=\"#000000\">relu</text>\n</g>\n<!-- relu7_fwd&#45;&gt;batchnorm8_fwd -->\n<g id=\"edge24\" class=\"edge\">\n<title>relu7_fwd&#45;&gt;batchnorm8_fwd</title>\n<path fill=\"none\" stroke=\"#000000\" d=\"M210.5128,-1963.6321C211.0565,-1955.1148 211.6221,-1946.2539 212.1356,-1938.2088\"/>\n<polygon fill=\"#000000\" stroke=\"#000000\" points=\"209.8655,-1973.7731 206.0118,-1963.5067 210.1841,-1968.7832 210.5026,-1963.7934 210.5026,-1963.7934 210.5026,-1963.7934 210.1841,-1968.7832 214.9935,-1964.0801 209.8655,-1973.7731 209.8655,-1973.7731\"/>\n</g>\n<!-- conv8_fwd -->\n<g id=\"node23\" class=\"node\">\n<title>conv8_fwd</title>\n<polygon fill=\"#fb8072\" stroke=\"#000000\" points=\"252,-2126 158,-2126 158,-2068 252,-2068 252,-2126\"/>\n<text text-anchor=\"middle\" x=\"205\" y=\"-2100.8\" font-family=\"Times,serif\" font-size=\"14.00\" fill=\"#000000\">Convolution</text>\n<text text-anchor=\"middle\" x=\"205\" y=\"-2085.8\" font-family=\"Times,serif\" font-size=\"14.00\" fill=\"#000000\">3x3/1x1, 32</text>\n</g>\n<!-- conv8_fwd&#45;&gt;relu7_fwd -->\n<g id=\"edge25\" class=\"edge\">\n<title>conv8_fwd&#45;&gt;relu7_fwd</title>\n<path fill=\"none\" stroke=\"#000000\" d=\"M206.2564,-2057.6321C206.5283,-2049.1148 206.811,-2040.2539 207.0678,-2032.2088\"/>\n<polygon fill=\"#000000\" stroke=\"#000000\" points=\"205.9328,-2067.7731 201.7541,-2057.6346 206.0923,-2062.7756 206.2519,-2057.7782 206.2519,-2057.7782 206.2519,-2057.7782 206.0923,-2062.7756 210.7496,-2057.9218 205.9328,-2067.7731 205.9328,-2067.7731\"/>\n</g>\n<!-- denseblock1_concat3 -->\n<g id=\"node24\" class=\"node\">\n<title>denseblock1_concat3</title>\n<polygon fill=\"#fdb462\" stroke=\"#000000\" points=\"235,-2220 95,-2220 95,-2162 235,-2162 235,-2220\"/>\n<text text-anchor=\"middle\" x=\"165\" y=\"-2187.3\" font-family=\"Times,serif\" font-size=\"14.00\" fill=\"#000000\">denseblock1_concat3</text>\n</g>\n<!-- denseblock1_concat3&#45;&gt;denseblock1_concat2 -->\n<g id=\"edge26\" class=\"edge\">\n<title>denseblock1_concat3&#45;&gt;denseblock1_concat2</title>\n<path fill=\"none\" stroke=\"#000000\" d=\"M153.879,-2152.1013C151.8751,-2143.57 150.0812,-2134.5354 149,-2126 135.2603,-2017.5298 127.7642,-1987.6316 147,-1880 149.1587,-1867.9214 153.4072,-1855.149 157.7376,-1844.1532\"/>\n<polygon fill=\"#000000\" stroke=\"#000000\" points=\"156.2979,-2161.8249 149.5169,-2153.2071 155.0909,-2156.9728 153.8838,-2152.1207 153.8838,-2152.1207 153.8838,-2152.1207 155.0909,-2156.9728 158.2507,-2151.0343 156.2979,-2161.8249 156.2979,-2161.8249\"/>\n</g>\n<!-- denseblock1_concat3&#45;&gt;conv8_fwd -->\n<g id=\"edge27\" class=\"edge\">\n<title>denseblock1_concat3&#45;&gt;conv8_fwd</title>\n<path fill=\"none\" stroke=\"#000000\" d=\"M181.3943,-2152.4734C185.1277,-2143.6999 189.0344,-2134.5191 192.5707,-2126.2088\"/>\n<polygon fill=\"#000000\" stroke=\"#000000\" points=\"177.437,-2161.7731 177.2119,-2150.8095 179.3948,-2157.1723 181.3526,-2152.5715 181.3526,-2152.5715 181.3526,-2152.5715 179.3948,-2157.1723 185.4933,-2154.3336 177.437,-2161.7731 177.437,-2161.7731\"/>\n</g>\n<!-- batchnorm9_fwd -->\n<g id=\"node25\" class=\"node\">\n<title>batchnorm9_fwd</title>\n<polygon fill=\"#bebada\" stroke=\"#000000\" points=\"223,-2314 107,-2314 107,-2256 223,-2256 223,-2314\"/>\n<text text-anchor=\"middle\" x=\"165\" y=\"-2281.3\" font-family=\"Times,serif\" font-size=\"14.00\" fill=\"#000000\">batchnorm9_fwd</text>\n</g>\n<!-- batchnorm9_fwd&#45;&gt;denseblock1_concat3 -->\n<g id=\"edge28\" class=\"edge\">\n<title>batchnorm9_fwd&#45;&gt;denseblock1_concat3</title>\n<path fill=\"none\" stroke=\"#000000\" d=\"M165,-2245.6321C165,-2237.1148 165,-2228.2539 165,-2220.2088\"/>\n<polygon fill=\"#000000\" stroke=\"#000000\" points=\"165,-2255.7731 160.5001,-2245.773 165,-2250.7731 165.0001,-2245.7731 165.0001,-2245.7731 165.0001,-2245.7731 165,-2250.7731 169.5001,-2245.7731 165,-2255.7731 165,-2255.7731\"/>\n</g>\n<!-- conv9_fwd -->\n<g id=\"node26\" class=\"node\">\n<title>conv9_fwd</title>\n<polygon fill=\"#fb8072\" stroke=\"#000000\" points=\"212,-2408 118,-2408 118,-2350 212,-2350 212,-2408\"/>\n<text text-anchor=\"middle\" x=\"165\" y=\"-2382.8\" font-family=\"Times,serif\" font-size=\"14.00\" fill=\"#000000\">Convolution</text>\n<text text-anchor=\"middle\" x=\"165\" y=\"-2367.8\" font-family=\"Times,serif\" font-size=\"14.00\" fill=\"#000000\">1x1/1x1, 96</text>\n</g>\n<!-- conv9_fwd&#45;&gt;batchnorm9_fwd -->\n<g id=\"edge29\" class=\"edge\">\n<title>conv9_fwd&#45;&gt;batchnorm9_fwd</title>\n<path fill=\"none\" stroke=\"#000000\" d=\"M165,-2339.6321C165,-2331.1148 165,-2322.2539 165,-2314.2088\"/>\n<polygon fill=\"#000000\" stroke=\"#000000\" points=\"165,-2349.7731 160.5001,-2339.773 165,-2344.7731 165.0001,-2339.7731 165.0001,-2339.7731 165.0001,-2339.7731 165,-2344.7731 169.5001,-2339.7731 165,-2349.7731 165,-2349.7731\"/>\n</g>\n<!-- pool2_fwd -->\n<g id=\"node27\" class=\"node\">\n<title>pool2_fwd</title>\n<polygon fill=\"#80b1d3\" stroke=\"#000000\" points=\"212,-2502 118,-2502 118,-2444 212,-2444 212,-2502\"/>\n<text text-anchor=\"middle\" x=\"165\" y=\"-2476.8\" font-family=\"Times,serif\" font-size=\"14.00\" fill=\"#000000\">Pooling</text>\n<text text-anchor=\"middle\" x=\"165\" y=\"-2461.8\" font-family=\"Times,serif\" font-size=\"14.00\" fill=\"#000000\">avg, 1x1/2x2</text>\n</g>\n<!-- pool2_fwd&#45;&gt;conv9_fwd -->\n<g id=\"edge30\" class=\"edge\">\n<title>pool2_fwd&#45;&gt;conv9_fwd</title>\n<path fill=\"none\" stroke=\"#000000\" d=\"M165,-2433.6321C165,-2425.1148 165,-2416.2539 165,-2408.2088\"/>\n<polygon fill=\"#000000\" stroke=\"#000000\" points=\"165,-2443.7731 160.5001,-2433.773 165,-2438.7731 165.0001,-2433.7731 165.0001,-2433.7731 165.0001,-2433.7731 165,-2438.7731 169.5001,-2433.7731 165,-2443.7731 165,-2443.7731\"/>\n</g>\n<!-- batchnorm10_fwd -->\n<g id=\"node28\" class=\"node\">\n<title>batchnorm10_fwd</title>\n<polygon fill=\"#bebada\" stroke=\"#000000\" points=\"271.5,-2596 148.5,-2596 148.5,-2538 271.5,-2538 271.5,-2596\"/>\n<text text-anchor=\"middle\" x=\"210\" y=\"-2563.3\" font-family=\"Times,serif\" font-size=\"14.00\" fill=\"#000000\">batchnorm10_fwd</text>\n</g>\n<!-- batchnorm10_fwd&#45;&gt;pool2_fwd -->\n<g id=\"edge31\" class=\"edge\">\n<title>batchnorm10_fwd&#45;&gt;pool2_fwd</title>\n<path fill=\"none\" stroke=\"#000000\" d=\"M191.6904,-2528.7532C187.4499,-2519.8954 183.0036,-2510.6075 178.983,-2502.2088\"/>\n<polygon fill=\"#000000\" stroke=\"#000000\" points=\"196.0084,-2537.7731 187.6315,-2530.6965 193.8494,-2533.2632 191.6904,-2528.7534 191.6904,-2528.7534 191.6904,-2528.7534 193.8494,-2533.2632 195.7493,-2526.8103 196.0084,-2537.7731 196.0084,-2537.7731\"/>\n</g>\n<!-- relu8_fwd -->\n<g id=\"node29\" class=\"node\">\n<title>relu8_fwd</title>\n<polygon fill=\"#ffffb3\" stroke=\"#000000\" points=\"249,-2690 155,-2690 155,-2632 249,-2632 249,-2690\"/>\n<text text-anchor=\"middle\" x=\"202\" y=\"-2664.8\" font-family=\"Times,serif\" font-size=\"14.00\" fill=\"#000000\">Activation</text>\n<text text-anchor=\"middle\" x=\"202\" y=\"-2649.8\" font-family=\"Times,serif\" font-size=\"14.00\" fill=\"#000000\">relu</text>\n</g>\n<!-- relu8_fwd&#45;&gt;batchnorm10_fwd -->\n<g id=\"edge32\" class=\"edge\">\n<title>relu8_fwd&#45;&gt;batchnorm10_fwd</title>\n<path fill=\"none\" stroke=\"#000000\" d=\"M205.3505,-2621.6321C206.0753,-2613.1148 206.8295,-2604.2539 207.5141,-2596.2088\"/>\n<polygon fill=\"#000000\" stroke=\"#000000\" points=\"204.4874,-2631.7731 200.8517,-2621.4275 204.9114,-2626.7911 205.3355,-2621.8091 205.3355,-2621.8091 205.3355,-2621.8091 204.9114,-2626.7911 209.8193,-2622.1907 204.4874,-2631.7731 204.4874,-2631.7731\"/>\n</g>\n<!-- conv10_fwd -->\n<g id=\"node30\" class=\"node\">\n<title>conv10_fwd</title>\n<polygon fill=\"#fb8072\" stroke=\"#000000\" points=\"245,-2784 151,-2784 151,-2726 245,-2726 245,-2784\"/>\n<text text-anchor=\"middle\" x=\"198\" y=\"-2758.8\" font-family=\"Times,serif\" font-size=\"14.00\" fill=\"#000000\">Convolution</text>\n<text text-anchor=\"middle\" x=\"198\" y=\"-2743.8\" font-family=\"Times,serif\" font-size=\"14.00\" fill=\"#000000\">3x3/1x1, 32</text>\n</g>\n<!-- conv10_fwd&#45;&gt;relu8_fwd -->\n<g id=\"edge33\" class=\"edge\">\n<title>conv10_fwd&#45;&gt;relu8_fwd</title>\n<path fill=\"none\" stroke=\"#000000\" d=\"M199.6752,-2715.6321C200.0377,-2707.1148 200.4147,-2698.2539 200.7571,-2690.2088\"/>\n<polygon fill=\"#000000\" stroke=\"#000000\" points=\"199.2437,-2725.7731 195.173,-2715.5908 199.4563,-2720.7776 199.6689,-2715.7821 199.6689,-2715.7821 199.6689,-2715.7821 199.4563,-2720.7776 204.1649,-2715.9735 199.2437,-2725.7731 199.2437,-2725.7731\"/>\n</g>\n<!-- denseblock2_concat0 -->\n<g id=\"node31\" class=\"node\">\n<title>denseblock2_concat0</title>\n<polygon fill=\"#fdb462\" stroke=\"#000000\" points=\"227,-2878 87,-2878 87,-2820 227,-2820 227,-2878\"/>\n<text text-anchor=\"middle\" x=\"157\" y=\"-2845.3\" font-family=\"Times,serif\" font-size=\"14.00\" fill=\"#000000\">denseblock2_concat0</text>\n</g>\n<!-- denseblock2_concat0&#45;&gt;pool2_fwd -->\n<g id=\"edge34\" class=\"edge\">\n<title>denseblock2_concat0&#45;&gt;pool2_fwd</title>\n<path fill=\"none\" stroke=\"#000000\" d=\"M146.55,-2809.7855C144.6935,-2801.3388 143.0268,-2792.4182 142,-2784 128.761,-2675.463 118.3227,-2645.3685 139,-2538 141.3444,-2525.8266 145.9482,-2513.035 150.6387,-2502.0503\"/>\n<polygon fill=\"#000000\" stroke=\"#000000\" points=\"148.8784,-2819.7881 142.2283,-2811.0688 147.7448,-2814.9183 146.6111,-2810.0485 146.6111,-2810.0485 146.6111,-2810.0485 147.7448,-2814.9183 150.994,-2809.0283 148.8784,-2819.7881 148.8784,-2819.7881\"/>\n</g>\n<!-- denseblock2_concat0&#45;&gt;conv10_fwd -->\n<g id=\"edge35\" class=\"edge\">\n<title>denseblock2_concat0&#45;&gt;conv10_fwd</title>\n<path fill=\"none\" stroke=\"#000000\" d=\"M173.8042,-2810.4734C177.6309,-2801.6999 181.6353,-2792.5191 185.26,-2784.2088\"/>\n<polygon fill=\"#000000\" stroke=\"#000000\" points=\"169.7479,-2819.7731 169.6212,-2808.8079 171.7469,-2815.1901 173.7459,-2810.607 173.7459,-2810.607 173.7459,-2810.607 171.7469,-2815.1901 177.8706,-2812.4061 169.7479,-2819.7731 169.7479,-2819.7731\"/>\n</g>\n<!-- batchnorm11_fwd -->\n<g id=\"node32\" class=\"node\">\n<title>batchnorm11_fwd</title>\n<polygon fill=\"#bebada\" stroke=\"#000000\" points=\"263,-2972 141,-2972 141,-2914 263,-2914 263,-2972\"/>\n<text text-anchor=\"middle\" x=\"202\" y=\"-2939.3\" font-family=\"Times,serif\" font-size=\"14.00\" fill=\"#000000\">batchnorm11_fwd</text>\n</g>\n<!-- batchnorm11_fwd&#45;&gt;denseblock2_concat0 -->\n<g id=\"edge36\" class=\"edge\">\n<title>batchnorm11_fwd&#45;&gt;denseblock2_concat0</title>\n<path fill=\"none\" stroke=\"#000000\" d=\"M183.6904,-2904.7532C179.4499,-2895.8954 175.0036,-2886.6075 170.983,-2878.2088\"/>\n<polygon fill=\"#000000\" stroke=\"#000000\" points=\"188.0084,-2913.7731 179.6315,-2906.6965 185.8494,-2909.2632 183.6904,-2904.7534 183.6904,-2904.7534 183.6904,-2904.7534 185.8494,-2909.2632 187.7493,-2902.8103 188.0084,-2913.7731 188.0084,-2913.7731\"/>\n</g>\n<!-- relu9_fwd -->\n<g id=\"node33\" class=\"node\">\n<title>relu9_fwd</title>\n<polygon fill=\"#ffffb3\" stroke=\"#000000\" points=\"242,-3066 148,-3066 148,-3008 242,-3008 242,-3066\"/>\n<text text-anchor=\"middle\" x=\"195\" y=\"-3040.8\" font-family=\"Times,serif\" font-size=\"14.00\" fill=\"#000000\">Activation</text>\n<text text-anchor=\"middle\" x=\"195\" y=\"-3025.8\" font-family=\"Times,serif\" font-size=\"14.00\" fill=\"#000000\">relu</text>\n</g>\n<!-- relu9_fwd&#45;&gt;batchnorm11_fwd -->\n<g id=\"edge37\" class=\"edge\">\n<title>relu9_fwd&#45;&gt;batchnorm11_fwd</title>\n<path fill=\"none\" stroke=\"#000000\" d=\"M197.9316,-2997.6321C198.5659,-2989.1148 199.2258,-2980.2539 199.8249,-2972.2088\"/>\n<polygon fill=\"#000000\" stroke=\"#000000\" points=\"197.1765,-3007.7731 193.4316,-2997.4665 197.5478,-3002.7869 197.9192,-2997.8007 197.9192,-2997.8007 197.9192,-2997.8007 197.5478,-3002.7869 202.4068,-2998.1349 197.1765,-3007.7731 197.1765,-3007.7731\"/>\n</g>\n<!-- conv11_fwd -->\n<g id=\"node34\" class=\"node\">\n<title>conv11_fwd</title>\n<polygon fill=\"#fb8072\" stroke=\"#000000\" points=\"238,-3160 144,-3160 144,-3102 238,-3102 238,-3160\"/>\n<text text-anchor=\"middle\" x=\"191\" y=\"-3134.8\" font-family=\"Times,serif\" font-size=\"14.00\" fill=\"#000000\">Convolution</text>\n<text text-anchor=\"middle\" x=\"191\" y=\"-3119.8\" font-family=\"Times,serif\" font-size=\"14.00\" fill=\"#000000\">3x3/1x1, 32</text>\n</g>\n<!-- conv11_fwd&#45;&gt;relu9_fwd -->\n<g id=\"edge38\" class=\"edge\">\n<title>conv11_fwd&#45;&gt;relu9_fwd</title>\n<path fill=\"none\" stroke=\"#000000\" d=\"M192.6752,-3091.6321C193.0377,-3083.1148 193.4147,-3074.2539 193.7571,-3066.2088\"/>\n<polygon fill=\"#000000\" stroke=\"#000000\" points=\"192.2437,-3101.7731 188.173,-3091.5908 192.4563,-3096.7776 192.6689,-3091.7821 192.6689,-3091.7821 192.6689,-3091.7821 192.4563,-3096.7776 197.1649,-3091.9735 192.2437,-3101.7731 192.2437,-3101.7731\"/>\n</g>\n<!-- denseblock2_concat1 -->\n<g id=\"node35\" class=\"node\">\n<title>denseblock2_concat1</title>\n<polygon fill=\"#fdb462\" stroke=\"#000000\" points=\"220,-3254 80,-3254 80,-3196 220,-3196 220,-3254\"/>\n<text text-anchor=\"middle\" x=\"150\" y=\"-3221.3\" font-family=\"Times,serif\" font-size=\"14.00\" fill=\"#000000\">denseblock2_concat1</text>\n</g>\n<!-- denseblock2_concat1&#45;&gt;denseblock2_concat0 -->\n<g id=\"edge39\" class=\"edge\">\n<title>denseblock2_concat1&#45;&gt;denseblock2_concat0</title>\n<path fill=\"none\" stroke=\"#000000\" d=\"M139.55,-3185.7855C137.6935,-3177.3388 136.0268,-3168.4182 135,-3160 121.761,-3051.463 112.0389,-3021.504 132,-2914 134.2514,-2901.8748 138.6775,-2889.093 143.188,-2878.1027\"/>\n<polygon fill=\"#000000\" stroke=\"#000000\" points=\"141.8784,-3195.7881 135.2283,-3187.0688 140.7448,-3190.9183 139.6111,-3186.0485 139.6111,-3186.0485 139.6111,-3186.0485 140.7448,-3190.9183 143.994,-3185.0283 141.8784,-3195.7881 141.8784,-3195.7881\"/>\n</g>\n<!-- denseblock2_concat1&#45;&gt;conv11_fwd -->\n<g id=\"edge40\" class=\"edge\">\n<title>denseblock2_concat1&#45;&gt;conv11_fwd</title>\n<path fill=\"none\" stroke=\"#000000\" d=\"M166.8042,-3186.4734C170.6309,-3177.6999 174.6353,-3168.5191 178.26,-3160.2088\"/>\n<polygon fill=\"#000000\" stroke=\"#000000\" points=\"162.7479,-3195.7731 162.6212,-3184.8079 164.7469,-3191.1901 166.7459,-3186.607 166.7459,-3186.607 166.7459,-3186.607 164.7469,-3191.1901 170.8706,-3188.4061 162.7479,-3195.7731 162.7479,-3195.7731\"/>\n</g>\n<!-- batchnorm12_fwd -->\n<g id=\"node36\" class=\"node\">\n<title>batchnorm12_fwd</title>\n<polygon fill=\"#bebada\" stroke=\"#000000\" points=\"256.5,-3348 133.5,-3348 133.5,-3290 256.5,-3290 256.5,-3348\"/>\n<text text-anchor=\"middle\" x=\"195\" y=\"-3315.3\" font-family=\"Times,serif\" font-size=\"14.00\" fill=\"#000000\">batchnorm12_fwd</text>\n</g>\n<!-- batchnorm12_fwd&#45;&gt;denseblock2_concat1 -->\n<g id=\"edge41\" class=\"edge\">\n<title>batchnorm12_fwd&#45;&gt;denseblock2_concat1</title>\n<path fill=\"none\" stroke=\"#000000\" d=\"M176.6904,-3280.7532C172.4499,-3271.8954 168.0036,-3262.6075 163.983,-3254.2088\"/>\n<polygon fill=\"#000000\" stroke=\"#000000\" points=\"181.0084,-3289.7731 172.6315,-3282.6965 178.8494,-3285.2632 176.6904,-3280.7534 176.6904,-3280.7534 176.6904,-3280.7534 178.8494,-3285.2632 180.7493,-3278.8103 181.0084,-3289.7731 181.0084,-3289.7731\"/>\n</g>\n<!-- relu10_fwd -->\n<g id=\"node37\" class=\"node\">\n<title>relu10_fwd</title>\n<polygon fill=\"#ffffb3\" stroke=\"#000000\" points=\"234,-3442 140,-3442 140,-3384 234,-3384 234,-3442\"/>\n<text text-anchor=\"middle\" x=\"187\" y=\"-3416.8\" font-family=\"Times,serif\" font-size=\"14.00\" fill=\"#000000\">Activation</text>\n<text text-anchor=\"middle\" x=\"187\" y=\"-3401.8\" font-family=\"Times,serif\" font-size=\"14.00\" fill=\"#000000\">relu</text>\n</g>\n<!-- relu10_fwd&#45;&gt;batchnorm12_fwd -->\n<g id=\"edge42\" class=\"edge\">\n<title>relu10_fwd&#45;&gt;batchnorm12_fwd</title>\n<path fill=\"none\" stroke=\"#000000\" d=\"M190.3505,-3373.6321C191.0753,-3365.1148 191.8295,-3356.2539 192.5141,-3348.2088\"/>\n<polygon fill=\"#000000\" stroke=\"#000000\" points=\"189.4874,-3383.7731 185.8517,-3373.4275 189.9114,-3378.7911 190.3355,-3373.8091 190.3355,-3373.8091 190.3355,-3373.8091 189.9114,-3378.7911 194.8193,-3374.1907 189.4874,-3383.7731 189.4874,-3383.7731\"/>\n</g>\n<!-- conv12_fwd -->\n<g id=\"node38\" class=\"node\">\n<title>conv12_fwd</title>\n<polygon fill=\"#fb8072\" stroke=\"#000000\" points=\"230,-3536 136,-3536 136,-3478 230,-3478 230,-3536\"/>\n<text text-anchor=\"middle\" x=\"183\" y=\"-3510.8\" font-family=\"Times,serif\" font-size=\"14.00\" fill=\"#000000\">Convolution</text>\n<text text-anchor=\"middle\" x=\"183\" y=\"-3495.8\" font-family=\"Times,serif\" font-size=\"14.00\" fill=\"#000000\">3x3/1x1, 32</text>\n</g>\n<!-- conv12_fwd&#45;&gt;relu10_fwd -->\n<g id=\"edge43\" class=\"edge\">\n<title>conv12_fwd&#45;&gt;relu10_fwd</title>\n<path fill=\"none\" stroke=\"#000000\" d=\"M184.6752,-3467.6321C185.0377,-3459.1148 185.4147,-3450.2539 185.7571,-3442.2088\"/>\n<polygon fill=\"#000000\" stroke=\"#000000\" points=\"184.2437,-3477.7731 180.173,-3467.5908 184.4563,-3472.7776 184.6689,-3467.7821 184.6689,-3467.7821 184.6689,-3467.7821 184.4563,-3472.7776 189.1649,-3467.9735 184.2437,-3477.7731 184.2437,-3477.7731\"/>\n</g>\n<!-- denseblock2_concat2 -->\n<g id=\"node39\" class=\"node\">\n<title>denseblock2_concat2</title>\n<polygon fill=\"#fdb462\" stroke=\"#000000\" points=\"212,-3630 72,-3630 72,-3572 212,-3572 212,-3630\"/>\n<text text-anchor=\"middle\" x=\"142\" y=\"-3597.3\" font-family=\"Times,serif\" font-size=\"14.00\" fill=\"#000000\">denseblock2_concat2</text>\n</g>\n<!-- denseblock2_concat2&#45;&gt;denseblock2_concat1 -->\n<g id=\"edge44\" class=\"edge\">\n<title>denseblock2_concat2&#45;&gt;denseblock2_concat1</title>\n<path fill=\"none\" stroke=\"#000000\" d=\"M131.55,-3561.7855C129.6935,-3553.3388 128.0268,-3544.4182 127,-3536 113.761,-3427.463 103.3227,-3397.3685 124,-3290 126.3444,-3277.8266 130.9482,-3265.035 135.6387,-3254.0503\"/>\n<polygon fill=\"#000000\" stroke=\"#000000\" points=\"133.8784,-3571.7881 127.2283,-3563.0688 132.7448,-3566.9183 131.6111,-3562.0485 131.6111,-3562.0485 131.6111,-3562.0485 132.7448,-3566.9183 135.994,-3561.0283 133.8784,-3571.7881 133.8784,-3571.7881\"/>\n</g>\n<!-- denseblock2_concat2&#45;&gt;conv12_fwd -->\n<g id=\"edge45\" class=\"edge\">\n<title>denseblock2_concat2&#45;&gt;conv12_fwd</title>\n<path fill=\"none\" stroke=\"#000000\" d=\"M158.8042,-3562.4734C162.6309,-3553.6999 166.6353,-3544.5191 170.26,-3536.2088\"/>\n<polygon fill=\"#000000\" stroke=\"#000000\" points=\"154.7479,-3571.7731 154.6212,-3560.8079 156.7469,-3567.1901 158.7459,-3562.607 158.7459,-3562.607 158.7459,-3562.607 156.7469,-3567.1901 162.8706,-3564.4061 154.7479,-3571.7731 154.7479,-3571.7731\"/>\n</g>\n<!-- batchnorm13_fwd -->\n<g id=\"node40\" class=\"node\">\n<title>batchnorm13_fwd</title>\n<polygon fill=\"#bebada\" stroke=\"#000000\" points=\"248.5,-3724 125.5,-3724 125.5,-3666 248.5,-3666 248.5,-3724\"/>\n<text text-anchor=\"middle\" x=\"187\" y=\"-3691.3\" font-family=\"Times,serif\" font-size=\"14.00\" fill=\"#000000\">batchnorm13_fwd</text>\n</g>\n<!-- batchnorm13_fwd&#45;&gt;denseblock2_concat2 -->\n<g id=\"edge46\" class=\"edge\">\n<title>batchnorm13_fwd&#45;&gt;denseblock2_concat2</title>\n<path fill=\"none\" stroke=\"#000000\" d=\"M168.6904,-3656.7532C164.4499,-3647.8954 160.0036,-3638.6075 155.983,-3630.2088\"/>\n<polygon fill=\"#000000\" stroke=\"#000000\" points=\"173.0084,-3665.7731 164.6315,-3658.6965 170.8494,-3661.2632 168.6904,-3656.7534 168.6904,-3656.7534 168.6904,-3656.7534 170.8494,-3661.2632 172.7493,-3654.8103 173.0084,-3665.7731 173.0084,-3665.7731\"/>\n</g>\n<!-- relu11_fwd -->\n<g id=\"node41\" class=\"node\">\n<title>relu11_fwd</title>\n<polygon fill=\"#ffffb3\" stroke=\"#000000\" points=\"226,-3818 132,-3818 132,-3760 226,-3760 226,-3818\"/>\n<text text-anchor=\"middle\" x=\"179\" y=\"-3792.8\" font-family=\"Times,serif\" font-size=\"14.00\" fill=\"#000000\">Activation</text>\n<text text-anchor=\"middle\" x=\"179\" y=\"-3777.8\" font-family=\"Times,serif\" font-size=\"14.00\" fill=\"#000000\">relu</text>\n</g>\n<!-- relu11_fwd&#45;&gt;batchnorm13_fwd -->\n<g id=\"edge47\" class=\"edge\">\n<title>relu11_fwd&#45;&gt;batchnorm13_fwd</title>\n<path fill=\"none\" stroke=\"#000000\" d=\"M182.3505,-3749.6321C183.0753,-3741.1148 183.8295,-3732.2539 184.5141,-3724.2088\"/>\n<polygon fill=\"#000000\" stroke=\"#000000\" points=\"181.4874,-3759.7731 177.8517,-3749.4275 181.9114,-3754.7911 182.3355,-3749.8091 182.3355,-3749.8091 182.3355,-3749.8091 181.9114,-3754.7911 186.8193,-3750.1907 181.4874,-3759.7731 181.4874,-3759.7731\"/>\n</g>\n<!-- conv13_fwd -->\n<g id=\"node42\" class=\"node\">\n<title>conv13_fwd</title>\n<polygon fill=\"#fb8072\" stroke=\"#000000\" points=\"222,-3912 128,-3912 128,-3854 222,-3854 222,-3912\"/>\n<text text-anchor=\"middle\" x=\"175\" y=\"-3886.8\" font-family=\"Times,serif\" font-size=\"14.00\" fill=\"#000000\">Convolution</text>\n<text text-anchor=\"middle\" x=\"175\" y=\"-3871.8\" font-family=\"Times,serif\" font-size=\"14.00\" fill=\"#000000\">3x3/1x1, 32</text>\n</g>\n<!-- conv13_fwd&#45;&gt;relu11_fwd -->\n<g id=\"edge48\" class=\"edge\">\n<title>conv13_fwd&#45;&gt;relu11_fwd</title>\n<path fill=\"none\" stroke=\"#000000\" d=\"M176.6752,-3843.6321C177.0377,-3835.1148 177.4147,-3826.2539 177.7571,-3818.2088\"/>\n<polygon fill=\"#000000\" stroke=\"#000000\" points=\"176.2437,-3853.7731 172.173,-3843.5908 176.4563,-3848.7776 176.6689,-3843.7821 176.6689,-3843.7821 176.6689,-3843.7821 176.4563,-3848.7776 181.1649,-3843.9735 176.2437,-3853.7731 176.2437,-3853.7731\"/>\n</g>\n<!-- denseblock2_concat3 -->\n<g id=\"node43\" class=\"node\">\n<title>denseblock2_concat3</title>\n<polygon fill=\"#fdb462\" stroke=\"#000000\" points=\"204,-4006 64,-4006 64,-3948 204,-3948 204,-4006\"/>\n<text text-anchor=\"middle\" x=\"134\" y=\"-3973.3\" font-family=\"Times,serif\" font-size=\"14.00\" fill=\"#000000\">denseblock2_concat3</text>\n</g>\n<!-- denseblock2_concat3&#45;&gt;denseblock2_concat2 -->\n<g id=\"edge49\" class=\"edge\">\n<title>denseblock2_concat3&#45;&gt;denseblock2_concat2</title>\n<path fill=\"none\" stroke=\"#000000\" d=\"M123.55,-3937.7855C121.6935,-3929.3388 120.0268,-3920.4182 119,-3912 105.761,-3803.463 95.3227,-3773.3685 116,-3666 118.3444,-3653.8266 122.9482,-3641.035 127.6387,-3630.0503\"/>\n<polygon fill=\"#000000\" stroke=\"#000000\" points=\"125.8784,-3947.7881 119.2283,-3939.0688 124.7448,-3942.9183 123.6111,-3938.0485 123.6111,-3938.0485 123.6111,-3938.0485 124.7448,-3942.9183 127.994,-3937.0283 125.8784,-3947.7881 125.8784,-3947.7881\"/>\n</g>\n<!-- denseblock2_concat3&#45;&gt;conv13_fwd -->\n<g id=\"edge50\" class=\"edge\">\n<title>denseblock2_concat3&#45;&gt;conv13_fwd</title>\n<path fill=\"none\" stroke=\"#000000\" d=\"M150.8042,-3938.4734C154.6309,-3929.6999 158.6353,-3920.5191 162.26,-3912.2088\"/>\n<polygon fill=\"#000000\" stroke=\"#000000\" points=\"146.7479,-3947.7731 146.6212,-3936.8079 148.7469,-3943.1901 150.7459,-3938.607 150.7459,-3938.607 150.7459,-3938.607 148.7469,-3943.1901 154.8706,-3940.4061 146.7479,-3947.7731 146.7479,-3947.7731\"/>\n</g>\n<!-- batchnorm14_fwd -->\n<g id=\"node44\" class=\"node\">\n<title>batchnorm14_fwd</title>\n<polygon fill=\"#bebada\" stroke=\"#000000\" points=\"195.5,-4100 72.5,-4100 72.5,-4042 195.5,-4042 195.5,-4100\"/>\n<text text-anchor=\"middle\" x=\"134\" y=\"-4067.3\" font-family=\"Times,serif\" font-size=\"14.00\" fill=\"#000000\">batchnorm14_fwd</text>\n</g>\n<!-- batchnorm14_fwd&#45;&gt;denseblock2_concat3 -->\n<g id=\"edge51\" class=\"edge\">\n<title>batchnorm14_fwd&#45;&gt;denseblock2_concat3</title>\n<path fill=\"none\" stroke=\"#000000\" d=\"M134,-4031.6321C134,-4023.1148 134,-4014.2539 134,-4006.2088\"/>\n<polygon fill=\"#000000\" stroke=\"#000000\" points=\"134,-4041.7731 129.5001,-4031.773 134,-4036.7731 134.0001,-4031.7731 134.0001,-4031.7731 134.0001,-4031.7731 134,-4036.7731 138.5001,-4031.7731 134,-4041.7731 134,-4041.7731\"/>\n</g>\n<!-- conv14_fwd -->\n<g id=\"node45\" class=\"node\">\n<title>conv14_fwd</title>\n<polygon fill=\"#fb8072\" stroke=\"#000000\" points=\"181.5,-4194 86.5,-4194 86.5,-4136 181.5,-4136 181.5,-4194\"/>\n<text text-anchor=\"middle\" x=\"134\" y=\"-4168.8\" font-family=\"Times,serif\" font-size=\"14.00\" fill=\"#000000\">Convolution</text>\n<text text-anchor=\"middle\" x=\"134\" y=\"-4153.8\" font-family=\"Times,serif\" font-size=\"14.00\" fill=\"#000000\">1x1/1x1, 112</text>\n</g>\n<!-- conv14_fwd&#45;&gt;batchnorm14_fwd -->\n<g id=\"edge52\" class=\"edge\">\n<title>conv14_fwd&#45;&gt;batchnorm14_fwd</title>\n<path fill=\"none\" stroke=\"#000000\" d=\"M134,-4125.6321C134,-4117.1148 134,-4108.2539 134,-4100.2088\"/>\n<polygon fill=\"#000000\" stroke=\"#000000\" points=\"134,-4135.7731 129.5001,-4125.773 134,-4130.7731 134.0001,-4125.7731 134.0001,-4125.7731 134.0001,-4125.7731 134,-4130.7731 138.5001,-4125.7731 134,-4135.7731 134,-4135.7731\"/>\n</g>\n<!-- pool3_fwd -->\n<g id=\"node46\" class=\"node\">\n<title>pool3_fwd</title>\n<polygon fill=\"#80b1d3\" stroke=\"#000000\" points=\"181,-4288 87,-4288 87,-4230 181,-4230 181,-4288\"/>\n<text text-anchor=\"middle\" x=\"134\" y=\"-4262.8\" font-family=\"Times,serif\" font-size=\"14.00\" fill=\"#000000\">Pooling</text>\n<text text-anchor=\"middle\" x=\"134\" y=\"-4247.8\" font-family=\"Times,serif\" font-size=\"14.00\" fill=\"#000000\">avg, 1x1/2x2</text>\n</g>\n<!-- pool3_fwd&#45;&gt;conv14_fwd -->\n<g id=\"edge53\" class=\"edge\">\n<title>pool3_fwd&#45;&gt;conv14_fwd</title>\n<path fill=\"none\" stroke=\"#000000\" d=\"M134,-4219.6321C134,-4211.1148 134,-4202.2539 134,-4194.2088\"/>\n<polygon fill=\"#000000\" stroke=\"#000000\" points=\"134,-4229.7731 129.5001,-4219.773 134,-4224.7731 134.0001,-4219.7731 134.0001,-4219.7731 134.0001,-4219.7731 134,-4224.7731 138.5001,-4219.7731 134,-4229.7731 134,-4229.7731\"/>\n</g>\n<!-- batchnorm15_fwd -->\n<g id=\"node47\" class=\"node\">\n<title>batchnorm15_fwd</title>\n<polygon fill=\"#bebada\" stroke=\"#000000\" points=\"240.5,-4382 117.5,-4382 117.5,-4324 240.5,-4324 240.5,-4382\"/>\n<text text-anchor=\"middle\" x=\"179\" y=\"-4349.3\" font-family=\"Times,serif\" font-size=\"14.00\" fill=\"#000000\">batchnorm15_fwd</text>\n</g>\n<!-- batchnorm15_fwd&#45;&gt;pool3_fwd -->\n<g id=\"edge54\" class=\"edge\">\n<title>batchnorm15_fwd&#45;&gt;pool3_fwd</title>\n<path fill=\"none\" stroke=\"#000000\" d=\"M160.6904,-4314.7532C156.4499,-4305.8954 152.0036,-4296.6075 147.983,-4288.2088\"/>\n<polygon fill=\"#000000\" stroke=\"#000000\" points=\"165.0084,-4323.7731 156.6315,-4316.6965 162.8494,-4319.2632 160.6904,-4314.7534 160.6904,-4314.7534 160.6904,-4314.7534 162.8494,-4319.2632 164.7493,-4312.8103 165.0084,-4323.7731 165.0084,-4323.7731\"/>\n</g>\n<!-- relu12_fwd -->\n<g id=\"node48\" class=\"node\">\n<title>relu12_fwd</title>\n<polygon fill=\"#ffffb3\" stroke=\"#000000\" points=\"218,-4476 124,-4476 124,-4418 218,-4418 218,-4476\"/>\n<text text-anchor=\"middle\" x=\"171\" y=\"-4450.8\" font-family=\"Times,serif\" font-size=\"14.00\" fill=\"#000000\">Activation</text>\n<text text-anchor=\"middle\" x=\"171\" y=\"-4435.8\" font-family=\"Times,serif\" font-size=\"14.00\" fill=\"#000000\">relu</text>\n</g>\n<!-- relu12_fwd&#45;&gt;batchnorm15_fwd -->\n<g id=\"edge55\" class=\"edge\">\n<title>relu12_fwd&#45;&gt;batchnorm15_fwd</title>\n<path fill=\"none\" stroke=\"#000000\" d=\"M174.3505,-4407.6321C175.0753,-4399.1148 175.8295,-4390.2539 176.5141,-4382.2088\"/>\n<polygon fill=\"#000000\" stroke=\"#000000\" points=\"173.4874,-4417.7731 169.8517,-4407.4275 173.9114,-4412.7911 174.3355,-4407.8091 174.3355,-4407.8091 174.3355,-4407.8091 173.9114,-4412.7911 178.8193,-4408.1907 173.4874,-4417.7731 173.4874,-4417.7731\"/>\n</g>\n<!-- conv15_fwd -->\n<g id=\"node49\" class=\"node\">\n<title>conv15_fwd</title>\n<polygon fill=\"#fb8072\" stroke=\"#000000\" points=\"214,-4570 120,-4570 120,-4512 214,-4512 214,-4570\"/>\n<text text-anchor=\"middle\" x=\"167\" y=\"-4544.8\" font-family=\"Times,serif\" font-size=\"14.00\" fill=\"#000000\">Convolution</text>\n<text text-anchor=\"middle\" x=\"167\" y=\"-4529.8\" font-family=\"Times,serif\" font-size=\"14.00\" fill=\"#000000\">3x3/1x1, 32</text>\n</g>\n<!-- conv15_fwd&#45;&gt;relu12_fwd -->\n<g id=\"edge56\" class=\"edge\">\n<title>conv15_fwd&#45;&gt;relu12_fwd</title>\n<path fill=\"none\" stroke=\"#000000\" d=\"M168.6752,-4501.6321C169.0377,-4493.1148 169.4147,-4484.2539 169.7571,-4476.2088\"/>\n<polygon fill=\"#000000\" stroke=\"#000000\" points=\"168.2437,-4511.7731 164.173,-4501.5908 168.4563,-4506.7776 168.6689,-4501.7821 168.6689,-4501.7821 168.6689,-4501.7821 168.4563,-4506.7776 173.1649,-4501.9735 168.2437,-4511.7731 168.2437,-4511.7731\"/>\n</g>\n<!-- denseblock3_concat0 -->\n<g id=\"node50\" class=\"node\">\n<title>denseblock3_concat0</title>\n<polygon fill=\"#fdb462\" stroke=\"#000000\" points=\"196,-4664 56,-4664 56,-4606 196,-4606 196,-4664\"/>\n<text text-anchor=\"middle\" x=\"126\" y=\"-4631.3\" font-family=\"Times,serif\" font-size=\"14.00\" fill=\"#000000\">denseblock3_concat0</text>\n</g>\n<!-- denseblock3_concat0&#45;&gt;pool3_fwd -->\n<g id=\"edge57\" class=\"edge\">\n<title>denseblock3_concat0&#45;&gt;pool3_fwd</title>\n<path fill=\"none\" stroke=\"#000000\" d=\"M115.55,-4595.7855C113.6935,-4587.3388 112.0268,-4578.4182 111,-4570 97.761,-4461.463 87.3227,-4431.3685 108,-4324 110.3444,-4311.8266 114.9482,-4299.035 119.6387,-4288.0503\"/>\n<polygon fill=\"#000000\" stroke=\"#000000\" points=\"117.8784,-4605.7881 111.2283,-4597.0688 116.7448,-4600.9183 115.6111,-4596.0485 115.6111,-4596.0485 115.6111,-4596.0485 116.7448,-4600.9183 119.994,-4595.0283 117.8784,-4605.7881 117.8784,-4605.7881\"/>\n</g>\n<!-- denseblock3_concat0&#45;&gt;conv15_fwd -->\n<g id=\"edge58\" class=\"edge\">\n<title>denseblock3_concat0&#45;&gt;conv15_fwd</title>\n<path fill=\"none\" stroke=\"#000000\" d=\"M142.8042,-4596.4734C146.6309,-4587.6999 150.6353,-4578.5191 154.26,-4570.2088\"/>\n<polygon fill=\"#000000\" stroke=\"#000000\" points=\"138.7479,-4605.7731 138.6212,-4594.8079 140.7469,-4601.1901 142.7459,-4596.607 142.7459,-4596.607 142.7459,-4596.607 140.7469,-4601.1901 146.8706,-4598.4061 138.7479,-4605.7731 138.7479,-4605.7731\"/>\n</g>\n<!-- batchnorm16_fwd -->\n<g id=\"node51\" class=\"node\">\n<title>batchnorm16_fwd</title>\n<polygon fill=\"#bebada\" stroke=\"#000000\" points=\"232.5,-4758 109.5,-4758 109.5,-4700 232.5,-4700 232.5,-4758\"/>\n<text text-anchor=\"middle\" x=\"171\" y=\"-4725.3\" font-family=\"Times,serif\" font-size=\"14.00\" fill=\"#000000\">batchnorm16_fwd</text>\n</g>\n<!-- batchnorm16_fwd&#45;&gt;denseblock3_concat0 -->\n<g id=\"edge59\" class=\"edge\">\n<title>batchnorm16_fwd&#45;&gt;denseblock3_concat0</title>\n<path fill=\"none\" stroke=\"#000000\" d=\"M152.6904,-4690.7532C148.4499,-4681.8954 144.0036,-4672.6075 139.983,-4664.2088\"/>\n<polygon fill=\"#000000\" stroke=\"#000000\" points=\"157.0084,-4699.7731 148.6315,-4692.6965 154.8494,-4695.2632 152.6904,-4690.7534 152.6904,-4690.7534 152.6904,-4690.7534 154.8494,-4695.2632 156.7493,-4688.8103 157.0084,-4699.7731 157.0084,-4699.7731\"/>\n</g>\n<!-- relu13_fwd -->\n<g id=\"node52\" class=\"node\">\n<title>relu13_fwd</title>\n<polygon fill=\"#ffffb3\" stroke=\"#000000\" points=\"210,-4852 116,-4852 116,-4794 210,-4794 210,-4852\"/>\n<text text-anchor=\"middle\" x=\"163\" y=\"-4826.8\" font-family=\"Times,serif\" font-size=\"14.00\" fill=\"#000000\">Activation</text>\n<text text-anchor=\"middle\" x=\"163\" y=\"-4811.8\" font-family=\"Times,serif\" font-size=\"14.00\" fill=\"#000000\">relu</text>\n</g>\n<!-- relu13_fwd&#45;&gt;batchnorm16_fwd -->\n<g id=\"edge60\" class=\"edge\">\n<title>relu13_fwd&#45;&gt;batchnorm16_fwd</title>\n<path fill=\"none\" stroke=\"#000000\" d=\"M166.3505,-4783.6321C167.0753,-4775.1148 167.8295,-4766.2539 168.5141,-4758.2088\"/>\n<polygon fill=\"#000000\" stroke=\"#000000\" points=\"165.4874,-4793.7731 161.8517,-4783.4275 165.9114,-4788.7911 166.3355,-4783.8091 166.3355,-4783.8091 166.3355,-4783.8091 165.9114,-4788.7911 170.8193,-4784.1907 165.4874,-4793.7731 165.4874,-4793.7731\"/>\n</g>\n<!-- conv16_fwd -->\n<g id=\"node53\" class=\"node\">\n<title>conv16_fwd</title>\n<polygon fill=\"#fb8072\" stroke=\"#000000\" points=\"206,-4946 112,-4946 112,-4888 206,-4888 206,-4946\"/>\n<text text-anchor=\"middle\" x=\"159\" y=\"-4920.8\" font-family=\"Times,serif\" font-size=\"14.00\" fill=\"#000000\">Convolution</text>\n<text text-anchor=\"middle\" x=\"159\" y=\"-4905.8\" font-family=\"Times,serif\" font-size=\"14.00\" fill=\"#000000\">3x3/1x1, 32</text>\n</g>\n<!-- conv16_fwd&#45;&gt;relu13_fwd -->\n<g id=\"edge61\" class=\"edge\">\n<title>conv16_fwd&#45;&gt;relu13_fwd</title>\n<path fill=\"none\" stroke=\"#000000\" d=\"M160.6752,-4877.6321C161.0377,-4869.1148 161.4147,-4860.2539 161.7571,-4852.2088\"/>\n<polygon fill=\"#000000\" stroke=\"#000000\" points=\"160.2437,-4887.7731 156.173,-4877.5908 160.4563,-4882.7776 160.6689,-4877.7821 160.6689,-4877.7821 160.6689,-4877.7821 160.4563,-4882.7776 165.1649,-4877.9735 160.2437,-4887.7731 160.2437,-4887.7731\"/>\n</g>\n<!-- denseblock3_concat1 -->\n<g id=\"node54\" class=\"node\">\n<title>denseblock3_concat1</title>\n<polygon fill=\"#fdb462\" stroke=\"#000000\" points=\"188,-5040 48,-5040 48,-4982 188,-4982 188,-5040\"/>\n<text text-anchor=\"middle\" x=\"118\" y=\"-5007.3\" font-family=\"Times,serif\" font-size=\"14.00\" fill=\"#000000\">denseblock3_concat1</text>\n</g>\n<!-- denseblock3_concat1&#45;&gt;denseblock3_concat0 -->\n<g id=\"edge62\" class=\"edge\">\n<title>denseblock3_concat1&#45;&gt;denseblock3_concat0</title>\n<path fill=\"none\" stroke=\"#000000\" d=\"M107.55,-4971.7855C105.6935,-4963.3388 104.0268,-4954.4182 103,-4946 89.761,-4837.463 79.3227,-4807.3685 100,-4700 102.3444,-4687.8266 106.9482,-4675.035 111.6387,-4664.0503\"/>\n<polygon fill=\"#000000\" stroke=\"#000000\" points=\"109.8784,-4981.7881 103.2283,-4973.0688 108.7448,-4976.9183 107.6111,-4972.0485 107.6111,-4972.0485 107.6111,-4972.0485 108.7448,-4976.9183 111.994,-4971.0283 109.8784,-4981.7881 109.8784,-4981.7881\"/>\n</g>\n<!-- denseblock3_concat1&#45;&gt;conv16_fwd -->\n<g id=\"edge63\" class=\"edge\">\n<title>denseblock3_concat1&#45;&gt;conv16_fwd</title>\n<path fill=\"none\" stroke=\"#000000\" d=\"M134.8042,-4972.4734C138.6309,-4963.6999 142.6353,-4954.5191 146.26,-4946.2088\"/>\n<polygon fill=\"#000000\" stroke=\"#000000\" points=\"130.7479,-4981.7731 130.6212,-4970.8079 132.7469,-4977.1901 134.7459,-4972.607 134.7459,-4972.607 134.7459,-4972.607 132.7469,-4977.1901 138.8706,-4974.4061 130.7479,-4981.7731 130.7479,-4981.7731\"/>\n</g>\n<!-- batchnorm17_fwd -->\n<g id=\"node55\" class=\"node\">\n<title>batchnorm17_fwd</title>\n<polygon fill=\"#bebada\" stroke=\"#000000\" points=\"224.5,-5134 101.5,-5134 101.5,-5076 224.5,-5076 224.5,-5134\"/>\n<text text-anchor=\"middle\" x=\"163\" y=\"-5101.3\" font-family=\"Times,serif\" font-size=\"14.00\" fill=\"#000000\">batchnorm17_fwd</text>\n</g>\n<!-- batchnorm17_fwd&#45;&gt;denseblock3_concat1 -->\n<g id=\"edge64\" class=\"edge\">\n<title>batchnorm17_fwd&#45;&gt;denseblock3_concat1</title>\n<path fill=\"none\" stroke=\"#000000\" d=\"M144.6904,-5066.7532C140.4499,-5057.8954 136.0036,-5048.6075 131.983,-5040.2088\"/>\n<polygon fill=\"#000000\" stroke=\"#000000\" points=\"149.0084,-5075.7731 140.6315,-5068.6965 146.8494,-5071.2632 144.6904,-5066.7534 144.6904,-5066.7534 144.6904,-5066.7534 146.8494,-5071.2632 148.7493,-5064.8103 149.0084,-5075.7731 149.0084,-5075.7731\"/>\n</g>\n<!-- relu14_fwd -->\n<g id=\"node56\" class=\"node\">\n<title>relu14_fwd</title>\n<polygon fill=\"#ffffb3\" stroke=\"#000000\" points=\"202,-5228 108,-5228 108,-5170 202,-5170 202,-5228\"/>\n<text text-anchor=\"middle\" x=\"155\" y=\"-5202.8\" font-family=\"Times,serif\" font-size=\"14.00\" fill=\"#000000\">Activation</text>\n<text text-anchor=\"middle\" x=\"155\" y=\"-5187.8\" font-family=\"Times,serif\" font-size=\"14.00\" fill=\"#000000\">relu</text>\n</g>\n<!-- relu14_fwd&#45;&gt;batchnorm17_fwd -->\n<g id=\"edge65\" class=\"edge\">\n<title>relu14_fwd&#45;&gt;batchnorm17_fwd</title>\n<path fill=\"none\" stroke=\"#000000\" d=\"M158.3505,-5159.6321C159.0753,-5151.1148 159.8295,-5142.2539 160.5141,-5134.2088\"/>\n<polygon fill=\"#000000\" stroke=\"#000000\" points=\"157.4874,-5169.7731 153.8517,-5159.4275 157.9114,-5164.7911 158.3355,-5159.8091 158.3355,-5159.8091 158.3355,-5159.8091 157.9114,-5164.7911 162.8193,-5160.1907 157.4874,-5169.7731 157.4874,-5169.7731\"/>\n</g>\n<!-- conv17_fwd -->\n<g id=\"node57\" class=\"node\">\n<title>conv17_fwd</title>\n<polygon fill=\"#fb8072\" stroke=\"#000000\" points=\"198,-5322 104,-5322 104,-5264 198,-5264 198,-5322\"/>\n<text text-anchor=\"middle\" x=\"151\" y=\"-5296.8\" font-family=\"Times,serif\" font-size=\"14.00\" fill=\"#000000\">Convolution</text>\n<text text-anchor=\"middle\" x=\"151\" y=\"-5281.8\" font-family=\"Times,serif\" font-size=\"14.00\" fill=\"#000000\">3x3/1x1, 32</text>\n</g>\n<!-- conv17_fwd&#45;&gt;relu14_fwd -->\n<g id=\"edge66\" class=\"edge\">\n<title>conv17_fwd&#45;&gt;relu14_fwd</title>\n<path fill=\"none\" stroke=\"#000000\" d=\"M152.6752,-5253.6321C153.0377,-5245.1148 153.4147,-5236.2539 153.7571,-5228.2088\"/>\n<polygon fill=\"#000000\" stroke=\"#000000\" points=\"152.2437,-5263.7731 148.173,-5253.5908 152.4563,-5258.7776 152.6689,-5253.7821 152.6689,-5253.7821 152.6689,-5253.7821 152.4563,-5258.7776 157.1649,-5253.9735 152.2437,-5263.7731 152.2437,-5263.7731\"/>\n</g>\n<!-- denseblock3_concat2 -->\n<g id=\"node58\" class=\"node\">\n<title>denseblock3_concat2</title>\n<polygon fill=\"#fdb462\" stroke=\"#000000\" points=\"180,-5416 40,-5416 40,-5358 180,-5358 180,-5416\"/>\n<text text-anchor=\"middle\" x=\"110\" y=\"-5383.3\" font-family=\"Times,serif\" font-size=\"14.00\" fill=\"#000000\">denseblock3_concat2</text>\n</g>\n<!-- denseblock3_concat2&#45;&gt;denseblock3_concat1 -->\n<g id=\"edge67\" class=\"edge\">\n<title>denseblock3_concat2&#45;&gt;denseblock3_concat1</title>\n<path fill=\"none\" stroke=\"#000000\" d=\"M99.55,-5347.7855C97.6935,-5339.3388 96.0268,-5330.4182 95,-5322 81.761,-5213.463 71.3227,-5183.3685 92,-5076 94.3444,-5063.8266 98.9482,-5051.035 103.6387,-5040.0503\"/>\n<polygon fill=\"#000000\" stroke=\"#000000\" points=\"101.8784,-5357.7881 95.2283,-5349.0688 100.7448,-5352.9183 99.6111,-5348.0485 99.6111,-5348.0485 99.6111,-5348.0485 100.7448,-5352.9183 103.994,-5347.0283 101.8784,-5357.7881 101.8784,-5357.7881\"/>\n</g>\n<!-- denseblock3_concat2&#45;&gt;conv17_fwd -->\n<g id=\"edge68\" class=\"edge\">\n<title>denseblock3_concat2&#45;&gt;conv17_fwd</title>\n<path fill=\"none\" stroke=\"#000000\" d=\"M126.8042,-5348.4734C130.6309,-5339.6999 134.6353,-5330.5191 138.26,-5322.2088\"/>\n<polygon fill=\"#000000\" stroke=\"#000000\" points=\"122.7479,-5357.7731 122.6212,-5346.8079 124.7469,-5353.1901 126.7459,-5348.607 126.7459,-5348.607 126.7459,-5348.607 124.7469,-5353.1901 130.8706,-5350.4061 122.7479,-5357.7731 122.7479,-5357.7731\"/>\n</g>\n<!-- batchnorm18_fwd -->\n<g id=\"node59\" class=\"node\">\n<title>batchnorm18_fwd</title>\n<polygon fill=\"#bebada\" stroke=\"#000000\" points=\"216.5,-5510 93.5,-5510 93.5,-5452 216.5,-5452 216.5,-5510\"/>\n<text text-anchor=\"middle\" x=\"155\" y=\"-5477.3\" font-family=\"Times,serif\" font-size=\"14.00\" fill=\"#000000\">batchnorm18_fwd</text>\n</g>\n<!-- batchnorm18_fwd&#45;&gt;denseblock3_concat2 -->\n<g id=\"edge69\" class=\"edge\">\n<title>batchnorm18_fwd&#45;&gt;denseblock3_concat2</title>\n<path fill=\"none\" stroke=\"#000000\" d=\"M136.6904,-5442.7532C132.4499,-5433.8954 128.0036,-5424.6075 123.983,-5416.2088\"/>\n<polygon fill=\"#000000\" stroke=\"#000000\" points=\"141.0084,-5451.7731 132.6315,-5444.6965 138.8494,-5447.2632 136.6904,-5442.7534 136.6904,-5442.7534 136.6904,-5442.7534 138.8494,-5447.2632 140.7493,-5440.8103 141.0084,-5451.7731 141.0084,-5451.7731\"/>\n</g>\n<!-- relu15_fwd -->\n<g id=\"node60\" class=\"node\">\n<title>relu15_fwd</title>\n<polygon fill=\"#ffffb3\" stroke=\"#000000\" points=\"194,-5604 100,-5604 100,-5546 194,-5546 194,-5604\"/>\n<text text-anchor=\"middle\" x=\"147\" y=\"-5578.8\" font-family=\"Times,serif\" font-size=\"14.00\" fill=\"#000000\">Activation</text>\n<text text-anchor=\"middle\" x=\"147\" y=\"-5563.8\" font-family=\"Times,serif\" font-size=\"14.00\" fill=\"#000000\">relu</text>\n</g>\n<!-- relu15_fwd&#45;&gt;batchnorm18_fwd -->\n<g id=\"edge70\" class=\"edge\">\n<title>relu15_fwd&#45;&gt;batchnorm18_fwd</title>\n<path fill=\"none\" stroke=\"#000000\" d=\"M150.3505,-5535.6321C151.0753,-5527.1148 151.8295,-5518.2539 152.5141,-5510.2088\"/>\n<polygon fill=\"#000000\" stroke=\"#000000\" points=\"149.4874,-5545.7731 145.8517,-5535.4275 149.9114,-5540.7911 150.3355,-5535.8091 150.3355,-5535.8091 150.3355,-5535.8091 149.9114,-5540.7911 154.8193,-5536.1907 149.4874,-5545.7731 149.4874,-5545.7731\"/>\n</g>\n<!-- conv18_fwd -->\n<g id=\"node61\" class=\"node\">\n<title>conv18_fwd</title>\n<polygon fill=\"#fb8072\" stroke=\"#000000\" points=\"190,-5698 96,-5698 96,-5640 190,-5640 190,-5698\"/>\n<text text-anchor=\"middle\" x=\"143\" y=\"-5672.8\" font-family=\"Times,serif\" font-size=\"14.00\" fill=\"#000000\">Convolution</text>\n<text text-anchor=\"middle\" x=\"143\" y=\"-5657.8\" font-family=\"Times,serif\" font-size=\"14.00\" fill=\"#000000\">3x3/1x1, 32</text>\n</g>\n<!-- conv18_fwd&#45;&gt;relu15_fwd -->\n<g id=\"edge71\" class=\"edge\">\n<title>conv18_fwd&#45;&gt;relu15_fwd</title>\n<path fill=\"none\" stroke=\"#000000\" d=\"M144.6752,-5629.6321C145.0377,-5621.1148 145.4147,-5612.2539 145.7571,-5604.2088\"/>\n<polygon fill=\"#000000\" stroke=\"#000000\" points=\"144.2437,-5639.7731 140.173,-5629.5908 144.4563,-5634.7776 144.6689,-5629.7821 144.6689,-5629.7821 144.6689,-5629.7821 144.4563,-5634.7776 149.1649,-5629.9735 144.2437,-5639.7731 144.2437,-5639.7731\"/>\n</g>\n<!-- denseblock3_concat3 -->\n<g id=\"node62\" class=\"node\">\n<title>denseblock3_concat3</title>\n<polygon fill=\"#fdb462\" stroke=\"#000000\" points=\"172,-5792 32,-5792 32,-5734 172,-5734 172,-5792\"/>\n<text text-anchor=\"middle\" x=\"102\" y=\"-5759.3\" font-family=\"Times,serif\" font-size=\"14.00\" fill=\"#000000\">denseblock3_concat3</text>\n</g>\n<!-- denseblock3_concat3&#45;&gt;denseblock3_concat2 -->\n<g id=\"edge72\" class=\"edge\">\n<title>denseblock3_concat3&#45;&gt;denseblock3_concat2</title>\n<path fill=\"none\" stroke=\"#000000\" d=\"M91.55,-5723.7855C89.6935,-5715.3388 88.0268,-5706.4182 87,-5698 73.761,-5589.463 63.3227,-5559.3685 84,-5452 86.3444,-5439.8266 90.9482,-5427.035 95.6387,-5416.0503\"/>\n<polygon fill=\"#000000\" stroke=\"#000000\" points=\"93.8784,-5733.7881 87.2283,-5725.0688 92.7448,-5728.9183 91.6111,-5724.0485 91.6111,-5724.0485 91.6111,-5724.0485 92.7448,-5728.9183 95.994,-5723.0283 93.8784,-5733.7881 93.8784,-5733.7881\"/>\n</g>\n<!-- denseblock3_concat3&#45;&gt;conv18_fwd -->\n<g id=\"edge73\" class=\"edge\">\n<title>denseblock3_concat3&#45;&gt;conv18_fwd</title>\n<path fill=\"none\" stroke=\"#000000\" d=\"M118.8042,-5724.4734C122.6309,-5715.6999 126.6353,-5706.5191 130.26,-5698.2088\"/>\n<polygon fill=\"#000000\" stroke=\"#000000\" points=\"114.7479,-5733.7731 114.6212,-5722.8079 116.7469,-5729.1901 118.7459,-5724.607 118.7459,-5724.607 118.7459,-5724.607 116.7469,-5729.1901 122.8706,-5726.4061 114.7479,-5733.7731 114.7479,-5733.7731\"/>\n</g>\n<!-- batchnorm19_fwd -->\n<g id=\"node63\" class=\"node\">\n<title>batchnorm19_fwd</title>\n<polygon fill=\"#bebada\" stroke=\"#000000\" points=\"163.5,-5886 40.5,-5886 40.5,-5828 163.5,-5828 163.5,-5886\"/>\n<text text-anchor=\"middle\" x=\"102\" y=\"-5853.3\" font-family=\"Times,serif\" font-size=\"14.00\" fill=\"#000000\">batchnorm19_fwd</text>\n</g>\n<!-- batchnorm19_fwd&#45;&gt;denseblock3_concat3 -->\n<g id=\"edge74\" class=\"edge\">\n<title>batchnorm19_fwd&#45;&gt;denseblock3_concat3</title>\n<path fill=\"none\" stroke=\"#000000\" d=\"M102,-5817.6321C102,-5809.1148 102,-5800.2539 102,-5792.2088\"/>\n<polygon fill=\"#000000\" stroke=\"#000000\" points=\"102,-5827.7731 97.5001,-5817.773 102,-5822.7731 102.0001,-5817.7731 102.0001,-5817.7731 102.0001,-5817.7731 102,-5822.7731 106.5001,-5817.7731 102,-5827.7731 102,-5827.7731\"/>\n</g>\n<!-- conv19_fwd -->\n<g id=\"node64\" class=\"node\">\n<title>conv19_fwd</title>\n<polygon fill=\"#fb8072\" stroke=\"#000000\" points=\"149.5,-5980 54.5,-5980 54.5,-5922 149.5,-5922 149.5,-5980\"/>\n<text text-anchor=\"middle\" x=\"102\" y=\"-5954.8\" font-family=\"Times,serif\" font-size=\"14.00\" fill=\"#000000\">Convolution</text>\n<text text-anchor=\"middle\" x=\"102\" y=\"-5939.8\" font-family=\"Times,serif\" font-size=\"14.00\" fill=\"#000000\">1x1/1x1, 120</text>\n</g>\n<!-- conv19_fwd&#45;&gt;batchnorm19_fwd -->\n<g id=\"edge75\" class=\"edge\">\n<title>conv19_fwd&#45;&gt;batchnorm19_fwd</title>\n<path fill=\"none\" stroke=\"#000000\" d=\"M102,-5911.6321C102,-5903.1148 102,-5894.2539 102,-5886.2088\"/>\n<polygon fill=\"#000000\" stroke=\"#000000\" points=\"102,-5921.7731 97.5001,-5911.773 102,-5916.7731 102.0001,-5911.7731 102.0001,-5911.7731 102.0001,-5911.7731 102,-5916.7731 106.5001,-5911.7731 102,-5921.7731 102,-5921.7731\"/>\n</g>\n<!-- pool4_fwd -->\n<g id=\"node65\" class=\"node\">\n<title>pool4_fwd</title>\n<polygon fill=\"#80b1d3\" stroke=\"#000000\" points=\"149,-6074 55,-6074 55,-6016 149,-6016 149,-6074\"/>\n<text text-anchor=\"middle\" x=\"102\" y=\"-6048.8\" font-family=\"Times,serif\" font-size=\"14.00\" fill=\"#000000\">Pooling</text>\n<text text-anchor=\"middle\" x=\"102\" y=\"-6033.8\" font-family=\"Times,serif\" font-size=\"14.00\" fill=\"#000000\">avg, 1x1/2x2</text>\n</g>\n<!-- pool4_fwd&#45;&gt;conv19_fwd -->\n<g id=\"edge76\" class=\"edge\">\n<title>pool4_fwd&#45;&gt;conv19_fwd</title>\n<path fill=\"none\" stroke=\"#000000\" d=\"M102,-6005.6321C102,-5997.1148 102,-5988.2539 102,-5980.2088\"/>\n<polygon fill=\"#000000\" stroke=\"#000000\" points=\"102,-6015.7731 97.5001,-6005.773 102,-6010.7731 102.0001,-6005.7731 102.0001,-6005.7731 102.0001,-6005.7731 102,-6010.7731 106.5001,-6005.7731 102,-6015.7731 102,-6015.7731\"/>\n</g>\n<!-- batchnorm20_fwd -->\n<g id=\"node66\" class=\"node\">\n<title>batchnorm20_fwd</title>\n<polygon fill=\"#bebada\" stroke=\"#000000\" points=\"208.5,-6168 85.5,-6168 85.5,-6110 208.5,-6110 208.5,-6168\"/>\n<text text-anchor=\"middle\" x=\"147\" y=\"-6135.3\" font-family=\"Times,serif\" font-size=\"14.00\" fill=\"#000000\">batchnorm20_fwd</text>\n</g>\n<!-- batchnorm20_fwd&#45;&gt;pool4_fwd -->\n<g id=\"edge77\" class=\"edge\">\n<title>batchnorm20_fwd&#45;&gt;pool4_fwd</title>\n<path fill=\"none\" stroke=\"#000000\" d=\"M128.6904,-6100.7532C124.4499,-6091.8954 120.0036,-6082.6075 115.983,-6074.2088\"/>\n<polygon fill=\"#000000\" stroke=\"#000000\" points=\"133.0084,-6109.7731 124.6315,-6102.6965 130.8494,-6105.2632 128.6904,-6100.7534 128.6904,-6100.7534 128.6904,-6100.7534 130.8494,-6105.2632 132.7493,-6098.8103 133.0084,-6109.7731 133.0084,-6109.7731\"/>\n</g>\n<!-- relu16_fwd -->\n<g id=\"node67\" class=\"node\">\n<title>relu16_fwd</title>\n<polygon fill=\"#ffffb3\" stroke=\"#000000\" points=\"186,-6262 92,-6262 92,-6204 186,-6204 186,-6262\"/>\n<text text-anchor=\"middle\" x=\"139\" y=\"-6236.8\" font-family=\"Times,serif\" font-size=\"14.00\" fill=\"#000000\">Activation</text>\n<text text-anchor=\"middle\" x=\"139\" y=\"-6221.8\" font-family=\"Times,serif\" font-size=\"14.00\" fill=\"#000000\">relu</text>\n</g>\n<!-- relu16_fwd&#45;&gt;batchnorm20_fwd -->\n<g id=\"edge78\" class=\"edge\">\n<title>relu16_fwd&#45;&gt;batchnorm20_fwd</title>\n<path fill=\"none\" stroke=\"#000000\" d=\"M142.3505,-6193.6321C143.0753,-6185.1148 143.8295,-6176.2539 144.5141,-6168.2088\"/>\n<polygon fill=\"#000000\" stroke=\"#000000\" points=\"141.4874,-6203.7731 137.8517,-6193.4275 141.9114,-6198.7911 142.3355,-6193.8091 142.3355,-6193.8091 142.3355,-6193.8091 141.9114,-6198.7911 146.8193,-6194.1907 141.4874,-6203.7731 141.4874,-6203.7731\"/>\n</g>\n<!-- conv20_fwd -->\n<g id=\"node68\" class=\"node\">\n<title>conv20_fwd</title>\n<polygon fill=\"#fb8072\" stroke=\"#000000\" points=\"182,-6356 88,-6356 88,-6298 182,-6298 182,-6356\"/>\n<text text-anchor=\"middle\" x=\"135\" y=\"-6330.8\" font-family=\"Times,serif\" font-size=\"14.00\" fill=\"#000000\">Convolution</text>\n<text text-anchor=\"middle\" x=\"135\" y=\"-6315.8\" font-family=\"Times,serif\" font-size=\"14.00\" fill=\"#000000\">3x3/1x1, 32</text>\n</g>\n<!-- conv20_fwd&#45;&gt;relu16_fwd -->\n<g id=\"edge79\" class=\"edge\">\n<title>conv20_fwd&#45;&gt;relu16_fwd</title>\n<path fill=\"none\" stroke=\"#000000\" d=\"M136.6752,-6287.6321C137.0377,-6279.1148 137.4147,-6270.2539 137.7571,-6262.2088\"/>\n<polygon fill=\"#000000\" stroke=\"#000000\" points=\"136.2437,-6297.7731 132.173,-6287.5908 136.4563,-6292.7776 136.6689,-6287.7821 136.6689,-6287.7821 136.6689,-6287.7821 136.4563,-6292.7776 141.1649,-6287.9735 136.2437,-6297.7731 136.2437,-6297.7731\"/>\n</g>\n<!-- denseblock4_concat0 -->\n<g id=\"node69\" class=\"node\">\n<title>denseblock4_concat0</title>\n<polygon fill=\"#fdb462\" stroke=\"#000000\" points=\"164,-6450 24,-6450 24,-6392 164,-6392 164,-6450\"/>\n<text text-anchor=\"middle\" x=\"94\" y=\"-6417.3\" font-family=\"Times,serif\" font-size=\"14.00\" fill=\"#000000\">denseblock4_concat0</text>\n</g>\n<!-- denseblock4_concat0&#45;&gt;pool4_fwd -->\n<g id=\"edge80\" class=\"edge\">\n<title>denseblock4_concat0&#45;&gt;pool4_fwd</title>\n<path fill=\"none\" stroke=\"#000000\" d=\"M83.55,-6381.7855C81.6935,-6373.3388 80.0268,-6364.4182 79,-6356 65.761,-6247.463 55.3227,-6217.3685 76,-6110 78.3444,-6097.8266 82.9482,-6085.035 87.6387,-6074.0503\"/>\n<polygon fill=\"#000000\" stroke=\"#000000\" points=\"85.8784,-6391.7881 79.2283,-6383.0688 84.7448,-6386.9183 83.6111,-6382.0485 83.6111,-6382.0485 83.6111,-6382.0485 84.7448,-6386.9183 87.994,-6381.0283 85.8784,-6391.7881 85.8784,-6391.7881\"/>\n</g>\n<!-- denseblock4_concat0&#45;&gt;conv20_fwd -->\n<g id=\"edge81\" class=\"edge\">\n<title>denseblock4_concat0&#45;&gt;conv20_fwd</title>\n<path fill=\"none\" stroke=\"#000000\" d=\"M110.8042,-6382.4734C114.6309,-6373.6999 118.6353,-6364.5191 122.26,-6356.2088\"/>\n<polygon fill=\"#000000\" stroke=\"#000000\" points=\"106.7479,-6391.7731 106.6212,-6380.8079 108.7469,-6387.1901 110.7459,-6382.607 110.7459,-6382.607 110.7459,-6382.607 108.7469,-6387.1901 114.8706,-6384.4061 106.7479,-6391.7731 106.7479,-6391.7731\"/>\n</g>\n<!-- batchnorm21_fwd -->\n<g id=\"node70\" class=\"node\">\n<title>batchnorm21_fwd</title>\n<polygon fill=\"#bebada\" stroke=\"#000000\" points=\"200.5,-6544 77.5,-6544 77.5,-6486 200.5,-6486 200.5,-6544\"/>\n<text text-anchor=\"middle\" x=\"139\" y=\"-6511.3\" font-family=\"Times,serif\" font-size=\"14.00\" fill=\"#000000\">batchnorm21_fwd</text>\n</g>\n<!-- batchnorm21_fwd&#45;&gt;denseblock4_concat0 -->\n<g id=\"edge82\" class=\"edge\">\n<title>batchnorm21_fwd&#45;&gt;denseblock4_concat0</title>\n<path fill=\"none\" stroke=\"#000000\" d=\"M120.6904,-6476.7532C116.4499,-6467.8954 112.0036,-6458.6075 107.983,-6450.2088\"/>\n<polygon fill=\"#000000\" stroke=\"#000000\" points=\"125.0084,-6485.7731 116.6315,-6478.6965 122.8494,-6481.2632 120.6904,-6476.7534 120.6904,-6476.7534 120.6904,-6476.7534 122.8494,-6481.2632 124.7493,-6474.8103 125.0084,-6485.7731 125.0084,-6485.7731\"/>\n</g>\n<!-- relu17_fwd -->\n<g id=\"node71\" class=\"node\">\n<title>relu17_fwd</title>\n<polygon fill=\"#ffffb3\" stroke=\"#000000\" points=\"178,-6638 84,-6638 84,-6580 178,-6580 178,-6638\"/>\n<text text-anchor=\"middle\" x=\"131\" y=\"-6612.8\" font-family=\"Times,serif\" font-size=\"14.00\" fill=\"#000000\">Activation</text>\n<text text-anchor=\"middle\" x=\"131\" y=\"-6597.8\" font-family=\"Times,serif\" font-size=\"14.00\" fill=\"#000000\">relu</text>\n</g>\n<!-- relu17_fwd&#45;&gt;batchnorm21_fwd -->\n<g id=\"edge83\" class=\"edge\">\n<title>relu17_fwd&#45;&gt;batchnorm21_fwd</title>\n<path fill=\"none\" stroke=\"#000000\" d=\"M134.3505,-6569.6321C135.0753,-6561.1148 135.8295,-6552.2539 136.5141,-6544.2088\"/>\n<polygon fill=\"#000000\" stroke=\"#000000\" points=\"133.4874,-6579.7731 129.8517,-6569.4275 133.9114,-6574.7911 134.3355,-6569.8091 134.3355,-6569.8091 134.3355,-6569.8091 133.9114,-6574.7911 138.8193,-6570.1907 133.4874,-6579.7731 133.4874,-6579.7731\"/>\n</g>\n<!-- conv21_fwd -->\n<g id=\"node72\" class=\"node\">\n<title>conv21_fwd</title>\n<polygon fill=\"#fb8072\" stroke=\"#000000\" points=\"174,-6732 80,-6732 80,-6674 174,-6674 174,-6732\"/>\n<text text-anchor=\"middle\" x=\"127\" y=\"-6706.8\" font-family=\"Times,serif\" font-size=\"14.00\" fill=\"#000000\">Convolution</text>\n<text text-anchor=\"middle\" x=\"127\" y=\"-6691.8\" font-family=\"Times,serif\" font-size=\"14.00\" fill=\"#000000\">3x3/1x1, 32</text>\n</g>\n<!-- conv21_fwd&#45;&gt;relu17_fwd -->\n<g id=\"edge84\" class=\"edge\">\n<title>conv21_fwd&#45;&gt;relu17_fwd</title>\n<path fill=\"none\" stroke=\"#000000\" d=\"M128.6752,-6663.6321C129.0377,-6655.1148 129.4147,-6646.2539 129.7571,-6638.2088\"/>\n<polygon fill=\"#000000\" stroke=\"#000000\" points=\"128.2437,-6673.7731 124.173,-6663.5908 128.4563,-6668.7776 128.6689,-6663.7821 128.6689,-6663.7821 128.6689,-6663.7821 128.4563,-6668.7776 133.1649,-6663.9735 128.2437,-6673.7731 128.2437,-6673.7731\"/>\n</g>\n<!-- denseblock4_concat1 -->\n<g id=\"node73\" class=\"node\">\n<title>denseblock4_concat1</title>\n<polygon fill=\"#fdb462\" stroke=\"#000000\" points=\"156,-6826 16,-6826 16,-6768 156,-6768 156,-6826\"/>\n<text text-anchor=\"middle\" x=\"86\" y=\"-6793.3\" font-family=\"Times,serif\" font-size=\"14.00\" fill=\"#000000\">denseblock4_concat1</text>\n</g>\n<!-- denseblock4_concat1&#45;&gt;denseblock4_concat0 -->\n<g id=\"edge85\" class=\"edge\">\n<title>denseblock4_concat1&#45;&gt;denseblock4_concat0</title>\n<path fill=\"none\" stroke=\"#000000\" d=\"M75.55,-6757.7855C73.6935,-6749.3388 72.0268,-6740.4182 71,-6732 57.761,-6623.463 47.3227,-6593.3685 68,-6486 70.3444,-6473.8266 74.9482,-6461.035 79.6387,-6450.0503\"/>\n<polygon fill=\"#000000\" stroke=\"#000000\" points=\"77.8784,-6767.7881 71.2283,-6759.0688 76.7448,-6762.9183 75.6111,-6758.0485 75.6111,-6758.0485 75.6111,-6758.0485 76.7448,-6762.9183 79.994,-6757.0283 77.8784,-6767.7881 77.8784,-6767.7881\"/>\n</g>\n<!-- denseblock4_concat1&#45;&gt;conv21_fwd -->\n<g id=\"edge86\" class=\"edge\">\n<title>denseblock4_concat1&#45;&gt;conv21_fwd</title>\n<path fill=\"none\" stroke=\"#000000\" d=\"M102.8042,-6758.4734C106.6309,-6749.6999 110.6353,-6740.5191 114.26,-6732.2088\"/>\n<polygon fill=\"#000000\" stroke=\"#000000\" points=\"98.7479,-6767.7731 98.6212,-6756.8079 100.7469,-6763.1901 102.7459,-6758.607 102.7459,-6758.607 102.7459,-6758.607 100.7469,-6763.1901 106.8706,-6760.4061 98.7479,-6767.7731 98.7479,-6767.7731\"/>\n</g>\n<!-- batchnorm22_fwd -->\n<g id=\"node74\" class=\"node\">\n<title>batchnorm22_fwd</title>\n<polygon fill=\"#bebada\" stroke=\"#000000\" points=\"192.5,-6920 69.5,-6920 69.5,-6862 192.5,-6862 192.5,-6920\"/>\n<text text-anchor=\"middle\" x=\"131\" y=\"-6887.3\" font-family=\"Times,serif\" font-size=\"14.00\" fill=\"#000000\">batchnorm22_fwd</text>\n</g>\n<!-- batchnorm22_fwd&#45;&gt;denseblock4_concat1 -->\n<g id=\"edge87\" class=\"edge\">\n<title>batchnorm22_fwd&#45;&gt;denseblock4_concat1</title>\n<path fill=\"none\" stroke=\"#000000\" d=\"M112.6904,-6852.7532C108.4499,-6843.8954 104.0036,-6834.6075 99.983,-6826.2088\"/>\n<polygon fill=\"#000000\" stroke=\"#000000\" points=\"117.0084,-6861.7731 108.6315,-6854.6965 114.8494,-6857.2632 112.6904,-6852.7534 112.6904,-6852.7534 112.6904,-6852.7534 114.8494,-6857.2632 116.7493,-6850.8103 117.0084,-6861.7731 117.0084,-6861.7731\"/>\n</g>\n<!-- relu18_fwd -->\n<g id=\"node75\" class=\"node\">\n<title>relu18_fwd</title>\n<polygon fill=\"#ffffb3\" stroke=\"#000000\" points=\"170,-7014 76,-7014 76,-6956 170,-6956 170,-7014\"/>\n<text text-anchor=\"middle\" x=\"123\" y=\"-6988.8\" font-family=\"Times,serif\" font-size=\"14.00\" fill=\"#000000\">Activation</text>\n<text text-anchor=\"middle\" x=\"123\" y=\"-6973.8\" font-family=\"Times,serif\" font-size=\"14.00\" fill=\"#000000\">relu</text>\n</g>\n<!-- relu18_fwd&#45;&gt;batchnorm22_fwd -->\n<g id=\"edge88\" class=\"edge\">\n<title>relu18_fwd&#45;&gt;batchnorm22_fwd</title>\n<path fill=\"none\" stroke=\"#000000\" d=\"M126.3505,-6945.6321C127.0753,-6937.1148 127.8295,-6928.2539 128.5141,-6920.2088\"/>\n<polygon fill=\"#000000\" stroke=\"#000000\" points=\"125.4874,-6955.7731 121.8517,-6945.4275 125.9114,-6950.7911 126.3355,-6945.8091 126.3355,-6945.8091 126.3355,-6945.8091 125.9114,-6950.7911 130.8193,-6946.1907 125.4874,-6955.7731 125.4874,-6955.7731\"/>\n</g>\n<!-- conv22_fwd -->\n<g id=\"node76\" class=\"node\">\n<title>conv22_fwd</title>\n<polygon fill=\"#fb8072\" stroke=\"#000000\" points=\"166,-7108 72,-7108 72,-7050 166,-7050 166,-7108\"/>\n<text text-anchor=\"middle\" x=\"119\" y=\"-7082.8\" font-family=\"Times,serif\" font-size=\"14.00\" fill=\"#000000\">Convolution</text>\n<text text-anchor=\"middle\" x=\"119\" y=\"-7067.8\" font-family=\"Times,serif\" font-size=\"14.00\" fill=\"#000000\">3x3/1x1, 32</text>\n</g>\n<!-- conv22_fwd&#45;&gt;relu18_fwd -->\n<g id=\"edge89\" class=\"edge\">\n<title>conv22_fwd&#45;&gt;relu18_fwd</title>\n<path fill=\"none\" stroke=\"#000000\" d=\"M120.6752,-7039.6321C121.0377,-7031.1148 121.4147,-7022.2539 121.7571,-7014.2088\"/>\n<polygon fill=\"#000000\" stroke=\"#000000\" points=\"120.2437,-7049.7731 116.173,-7039.5908 120.4563,-7044.7776 120.6689,-7039.7821 120.6689,-7039.7821 120.6689,-7039.7821 120.4563,-7044.7776 125.1649,-7039.9735 120.2437,-7049.7731 120.2437,-7049.7731\"/>\n</g>\n<!-- denseblock4_concat2 -->\n<g id=\"node77\" class=\"node\">\n<title>denseblock4_concat2</title>\n<polygon fill=\"#fdb462\" stroke=\"#000000\" points=\"148,-7202 8,-7202 8,-7144 148,-7144 148,-7202\"/>\n<text text-anchor=\"middle\" x=\"78\" y=\"-7169.3\" font-family=\"Times,serif\" font-size=\"14.00\" fill=\"#000000\">denseblock4_concat2</text>\n</g>\n<!-- denseblock4_concat2&#45;&gt;denseblock4_concat1 -->\n<g id=\"edge90\" class=\"edge\">\n<title>denseblock4_concat2&#45;&gt;denseblock4_concat1</title>\n<path fill=\"none\" stroke=\"#000000\" d=\"M67.55,-7133.7855C65.6935,-7125.3388 64.0268,-7116.4182 63,-7108 49.761,-6999.463 39.3227,-6969.3685 60,-6862 62.3444,-6849.8266 66.9482,-6837.035 71.6387,-6826.0503\"/>\n<polygon fill=\"#000000\" stroke=\"#000000\" points=\"69.8784,-7143.7881 63.2283,-7135.0688 68.7448,-7138.9183 67.6111,-7134.0485 67.6111,-7134.0485 67.6111,-7134.0485 68.7448,-7138.9183 71.994,-7133.0283 69.8784,-7143.7881 69.8784,-7143.7881\"/>\n</g>\n<!-- denseblock4_concat2&#45;&gt;conv22_fwd -->\n<g id=\"edge91\" class=\"edge\">\n<title>denseblock4_concat2&#45;&gt;conv22_fwd</title>\n<path fill=\"none\" stroke=\"#000000\" d=\"M94.8042,-7134.4734C98.6309,-7125.6999 102.6353,-7116.5191 106.26,-7108.2088\"/>\n<polygon fill=\"#000000\" stroke=\"#000000\" points=\"90.7479,-7143.7731 90.6212,-7132.8079 92.7469,-7139.1901 94.7459,-7134.607 94.7459,-7134.607 94.7459,-7134.607 92.7469,-7139.1901 98.8706,-7136.4061 90.7479,-7143.7731 90.7479,-7143.7731\"/>\n</g>\n<!-- batchnorm23_fwd -->\n<g id=\"node78\" class=\"node\">\n<title>batchnorm23_fwd</title>\n<polygon fill=\"#bebada\" stroke=\"#000000\" points=\"184.5,-7296 61.5,-7296 61.5,-7238 184.5,-7238 184.5,-7296\"/>\n<text text-anchor=\"middle\" x=\"123\" y=\"-7263.3\" font-family=\"Times,serif\" font-size=\"14.00\" fill=\"#000000\">batchnorm23_fwd</text>\n</g>\n<!-- batchnorm23_fwd&#45;&gt;denseblock4_concat2 -->\n<g id=\"edge92\" class=\"edge\">\n<title>batchnorm23_fwd&#45;&gt;denseblock4_concat2</title>\n<path fill=\"none\" stroke=\"#000000\" d=\"M104.6904,-7228.7532C100.4499,-7219.8954 96.0036,-7210.6075 91.983,-7202.2088\"/>\n<polygon fill=\"#000000\" stroke=\"#000000\" points=\"109.0084,-7237.7731 100.6315,-7230.6965 106.8494,-7233.2632 104.6904,-7228.7534 104.6904,-7228.7534 104.6904,-7228.7534 106.8494,-7233.2632 108.7493,-7226.8103 109.0084,-7237.7731 109.0084,-7237.7731\"/>\n</g>\n<!-- relu19_fwd -->\n<g id=\"node79\" class=\"node\">\n<title>relu19_fwd</title>\n<polygon fill=\"#ffffb3\" stroke=\"#000000\" points=\"162,-7390 68,-7390 68,-7332 162,-7332 162,-7390\"/>\n<text text-anchor=\"middle\" x=\"115\" y=\"-7364.8\" font-family=\"Times,serif\" font-size=\"14.00\" fill=\"#000000\">Activation</text>\n<text text-anchor=\"middle\" x=\"115\" y=\"-7349.8\" font-family=\"Times,serif\" font-size=\"14.00\" fill=\"#000000\">relu</text>\n</g>\n<!-- relu19_fwd&#45;&gt;batchnorm23_fwd -->\n<g id=\"edge93\" class=\"edge\">\n<title>relu19_fwd&#45;&gt;batchnorm23_fwd</title>\n<path fill=\"none\" stroke=\"#000000\" d=\"M118.3505,-7321.6321C119.0753,-7313.1148 119.8295,-7304.2539 120.5141,-7296.2088\"/>\n<polygon fill=\"#000000\" stroke=\"#000000\" points=\"117.4874,-7331.7731 113.8517,-7321.4275 117.9114,-7326.7911 118.3355,-7321.8091 118.3355,-7321.8091 118.3355,-7321.8091 117.9114,-7326.7911 122.8193,-7322.1907 117.4874,-7331.7731 117.4874,-7331.7731\"/>\n</g>\n<!-- conv23_fwd -->\n<g id=\"node80\" class=\"node\">\n<title>conv23_fwd</title>\n<polygon fill=\"#fb8072\" stroke=\"#000000\" points=\"158,-7484 64,-7484 64,-7426 158,-7426 158,-7484\"/>\n<text text-anchor=\"middle\" x=\"111\" y=\"-7458.8\" font-family=\"Times,serif\" font-size=\"14.00\" fill=\"#000000\">Convolution</text>\n<text text-anchor=\"middle\" x=\"111\" y=\"-7443.8\" font-family=\"Times,serif\" font-size=\"14.00\" fill=\"#000000\">3x3/1x1, 32</text>\n</g>\n<!-- conv23_fwd&#45;&gt;relu19_fwd -->\n<g id=\"edge94\" class=\"edge\">\n<title>conv23_fwd&#45;&gt;relu19_fwd</title>\n<path fill=\"none\" stroke=\"#000000\" d=\"M112.6752,-7415.6321C113.0377,-7407.1148 113.4147,-7398.2539 113.7571,-7390.2088\"/>\n<polygon fill=\"#000000\" stroke=\"#000000\" points=\"112.2437,-7425.7731 108.173,-7415.5908 112.4563,-7420.7776 112.6689,-7415.7821 112.6689,-7415.7821 112.6689,-7415.7821 112.4563,-7420.7776 117.1649,-7415.9735 112.2437,-7425.7731 112.2437,-7425.7731\"/>\n</g>\n<!-- denseblock4_concat3 -->\n<g id=\"node81\" class=\"node\">\n<title>denseblock4_concat3</title>\n<polygon fill=\"#fdb462\" stroke=\"#000000\" points=\"140,-7578 0,-7578 0,-7520 140,-7520 140,-7578\"/>\n<text text-anchor=\"middle\" x=\"70\" y=\"-7545.3\" font-family=\"Times,serif\" font-size=\"14.00\" fill=\"#000000\">denseblock4_concat3</text>\n</g>\n<!-- denseblock4_concat3&#45;&gt;denseblock4_concat2 -->\n<g id=\"edge95\" class=\"edge\">\n<title>denseblock4_concat3&#45;&gt;denseblock4_concat2</title>\n<path fill=\"none\" stroke=\"#000000\" d=\"M59.55,-7509.7855C57.6935,-7501.3388 56.0268,-7492.4182 55,-7484 41.761,-7375.463 31.3227,-7345.3685 52,-7238 54.3444,-7225.8266 58.9482,-7213.035 63.6387,-7202.0503\"/>\n<polygon fill=\"#000000\" stroke=\"#000000\" points=\"61.8784,-7519.7881 55.2283,-7511.0688 60.7448,-7514.9183 59.6111,-7510.0485 59.6111,-7510.0485 59.6111,-7510.0485 60.7448,-7514.9183 63.994,-7509.0283 61.8784,-7519.7881 61.8784,-7519.7881\"/>\n</g>\n<!-- denseblock4_concat3&#45;&gt;conv23_fwd -->\n<g id=\"edge96\" class=\"edge\">\n<title>denseblock4_concat3&#45;&gt;conv23_fwd</title>\n<path fill=\"none\" stroke=\"#000000\" d=\"M86.8042,-7510.4734C90.6309,-7501.6999 94.6353,-7492.5191 98.26,-7484.2088\"/>\n<polygon fill=\"#000000\" stroke=\"#000000\" points=\"82.7479,-7519.7731 82.6212,-7508.8079 84.7469,-7515.1901 86.7459,-7510.607 86.7459,-7510.607 86.7459,-7510.607 84.7469,-7515.1901 90.8706,-7512.4061 82.7479,-7519.7731 82.7479,-7519.7731\"/>\n</g>\n<!-- batchnorm24_fwd -->\n<g id=\"node82\" class=\"node\">\n<title>batchnorm24_fwd</title>\n<polygon fill=\"#bebada\" stroke=\"#000000\" points=\"131.5,-7672 8.5,-7672 8.5,-7614 131.5,-7614 131.5,-7672\"/>\n<text text-anchor=\"middle\" x=\"70\" y=\"-7639.3\" font-family=\"Times,serif\" font-size=\"14.00\" fill=\"#000000\">batchnorm24_fwd</text>\n</g>\n<!-- batchnorm24_fwd&#45;&gt;denseblock4_concat3 -->\n<g id=\"edge97\" class=\"edge\">\n<title>batchnorm24_fwd&#45;&gt;denseblock4_concat3</title>\n<path fill=\"none\" stroke=\"#000000\" d=\"M70,-7603.6321C70,-7595.1148 70,-7586.2539 70,-7578.2088\"/>\n<polygon fill=\"#000000\" stroke=\"#000000\" points=\"70,-7613.7731 65.5001,-7603.773 70,-7608.7731 70.0001,-7603.7731 70.0001,-7603.7731 70.0001,-7603.7731 70,-7608.7731 74.5001,-7603.7731 70,-7613.7731 70,-7613.7731\"/>\n</g>\n<!-- relu20_fwd -->\n<g id=\"node83\" class=\"node\">\n<title>relu20_fwd</title>\n<polygon fill=\"#ffffb3\" stroke=\"#000000\" points=\"117,-7766 23,-7766 23,-7708 117,-7708 117,-7766\"/>\n<text text-anchor=\"middle\" x=\"70\" y=\"-7740.8\" font-family=\"Times,serif\" font-size=\"14.00\" fill=\"#000000\">Activation</text>\n<text text-anchor=\"middle\" x=\"70\" y=\"-7725.8\" font-family=\"Times,serif\" font-size=\"14.00\" fill=\"#000000\">relu</text>\n</g>\n<!-- relu20_fwd&#45;&gt;batchnorm24_fwd -->\n<g id=\"edge98\" class=\"edge\">\n<title>relu20_fwd&#45;&gt;batchnorm24_fwd</title>\n<path fill=\"none\" stroke=\"#000000\" d=\"M70,-7697.6321C70,-7689.1148 70,-7680.2539 70,-7672.2088\"/>\n<polygon fill=\"#000000\" stroke=\"#000000\" points=\"70,-7707.7731 65.5001,-7697.773 70,-7702.7731 70.0001,-7697.7731 70.0001,-7697.7731 70.0001,-7697.7731 70,-7702.7731 74.5001,-7697.7731 70,-7707.7731 70,-7707.7731\"/>\n</g>\n<!-- pool5_fwd -->\n<g id=\"node84\" class=\"node\">\n<title>pool5_fwd</title>\n<polygon fill=\"#80b1d3\" stroke=\"#000000\" points=\"117,-7860 23,-7860 23,-7802 117,-7802 117,-7860\"/>\n<text text-anchor=\"middle\" x=\"70\" y=\"-7834.8\" font-family=\"Times,serif\" font-size=\"14.00\" fill=\"#000000\">Pooling</text>\n<text text-anchor=\"middle\" x=\"70\" y=\"-7819.8\" font-family=\"Times,serif\" font-size=\"14.00\" fill=\"#000000\">avg, 1x1/1x1</text>\n</g>\n<!-- pool5_fwd&#45;&gt;relu20_fwd -->\n<g id=\"edge99\" class=\"edge\">\n<title>pool5_fwd&#45;&gt;relu20_fwd</title>\n<path fill=\"none\" stroke=\"#000000\" d=\"M70,-7791.6321C70,-7783.1148 70,-7774.2539 70,-7766.2088\"/>\n<polygon fill=\"#000000\" stroke=\"#000000\" points=\"70,-7801.7731 65.5001,-7791.773 70,-7796.7731 70.0001,-7791.7731 70.0001,-7791.7731 70.0001,-7791.7731 70,-7796.7731 74.5001,-7791.7731 70,-7801.7731 70,-7801.7731\"/>\n</g>\n<!-- dense0_fwd -->\n<g id=\"node85\" class=\"node\">\n<title>dense0_fwd</title>\n<polygon fill=\"#fb8072\" stroke=\"#000000\" points=\"124.5,-7954 15.5,-7954 15.5,-7896 124.5,-7896 124.5,-7954\"/>\n<text text-anchor=\"middle\" x=\"70\" y=\"-7928.8\" font-family=\"Times,serif\" font-size=\"14.00\" fill=\"#000000\">FullyConnected</text>\n<text text-anchor=\"middle\" x=\"70\" y=\"-7913.8\" font-family=\"Times,serif\" font-size=\"14.00\" fill=\"#000000\">10</text>\n</g>\n<!-- dense0_fwd&#45;&gt;pool5_fwd -->\n<g id=\"edge100\" class=\"edge\">\n<title>dense0_fwd&#45;&gt;pool5_fwd</title>\n<path fill=\"none\" stroke=\"#000000\" d=\"M70,-7885.6321C70,-7877.1148 70,-7868.2539 70,-7860.2088\"/>\n<polygon fill=\"#000000\" stroke=\"#000000\" points=\"70,-7895.7731 65.5001,-7885.773 70,-7890.7731 70.0001,-7885.7731 70.0001,-7885.7731 70.0001,-7885.7731 70,-7890.7731 74.5001,-7885.7731 70,-7895.7731 70,-7895.7731\"/>\n</g>\n</g>\n</svg>\n"
          },
          "metadata": {
            "tags": []
          },
          "execution_count": 11
        }
      ]
    },
    {
      "cell_type": "code",
      "metadata": {
        "id": "riAfI2gDI1aV",
        "colab_type": "code",
        "colab": {}
      },
      "source": [
        "model.hybridize()"
      ],
      "execution_count": 0,
      "outputs": []
    },
    {
      "cell_type": "markdown",
      "metadata": {
        "id": "bFmcxFtTI5uX",
        "colab_type": "text"
      },
      "source": [
        "## __Defining our objective loss and optimizer__"
      ]
    },
    {
      "cell_type": "code",
      "metadata": {
        "id": "OR_RGJRb18bd",
        "colab_type": "code",
        "colab": {}
      },
      "source": [
        "objective = gluon.loss.SoftmaxCrossEntropyLoss()\n",
        "trainer = gluon.Trainer(model.collect_params(), 'adam', {'learning_rate': 0.001})"
      ],
      "execution_count": 0,
      "outputs": []
    },
    {
      "cell_type": "markdown",
      "metadata": {
        "id": "GMtZRsrgI7qm",
        "colab_type": "text"
      },
      "source": [
        "## __Training the model__"
      ]
    },
    {
      "cell_type": "code",
      "metadata": {
        "id": "_--4aXog18Yo",
        "colab_type": "code",
        "outputId": "02c8e84c-6910-401f-a385-ed9797684d3f",
        "colab": {
          "base_uri": "https://localhost:8080/",
          "height": 185
        }
      },
      "source": [
        "epochs = 10\n",
        "batches = len(train_data)\n",
        "acc = mx.metric.Accuracy()\n",
        "\n",
        "for epoch in range(epochs):\n",
        "    acc.reset()\n",
        "    cum_loss = 0.0\n",
        "    for features, labels in train_data:\n",
        "        features = features.as_in_context(ctx)\n",
        "        labels = labels.as_in_context(ctx)\n",
        "\n",
        "        with autograd.record():\n",
        "            outputs = model(features)\n",
        "            loss = objective(outputs, labels)\n",
        "        loss.backward()\n",
        "        trainer.step(batch_size)\n",
        "\n",
        "        cum_loss += loss.mean()\n",
        "        acc.update(labels, outputs)\n",
        "    \n",
        "    print(f'Epoch: {epoch + 1} | Loss: {cum_loss.asscalar()/batches:.5f} | Training Accuracy: {acc.get()[1]:.5f}')"
      ],
      "execution_count": 14,
      "outputs": [
        {
          "output_type": "stream",
          "text": [
            "Epoch: 1 | Loss: 1.33812 | Training Accuracy: 0.52020\n",
            "Epoch: 2 | Loss: 0.98833 | Training Accuracy: 0.64990\n",
            "Epoch: 3 | Loss: 0.84358 | Training Accuracy: 0.70448\n",
            "Epoch: 4 | Loss: 0.75304 | Training Accuracy: 0.73344\n",
            "Epoch: 5 | Loss: 0.66846 | Training Accuracy: 0.76564\n",
            "Epoch: 6 | Loss: 0.59882 | Training Accuracy: 0.78892\n",
            "Epoch: 7 | Loss: 0.53135 | Training Accuracy: 0.81416\n",
            "Epoch: 8 | Loss: 0.47111 | Training Accuracy: 0.83370\n",
            "Epoch: 9 | Loss: 0.42550 | Training Accuracy: 0.84996\n",
            "Epoch: 10 | Loss: 0.36797 | Training Accuracy: 0.86986\n"
          ],
          "name": "stdout"
        }
      ]
    },
    {
      "cell_type": "markdown",
      "metadata": {
        "id": "8pbbrT7XI9sp",
        "colab_type": "text"
      },
      "source": [
        "## __Testing the model__"
      ]
    },
    {
      "cell_type": "code",
      "metadata": {
        "id": "mC2FT6we4vJ3",
        "colab_type": "code",
        "outputId": "4b01febd-639c-4e13-c4a9-5909bfa57ccb",
        "colab": {
          "base_uri": "https://localhost:8080/",
          "height": 34
        }
      },
      "source": [
        "acc.reset()\n",
        "for features, labels in test_data:\n",
        "    features = features.as_in_context(ctx)\n",
        "    labels = labels.as_in_context(ctx)\n",
        "    outputs = model(features)\n",
        "    acc.update(labels, outputs)\n",
        "acc.get()"
      ],
      "execution_count": 15,
      "outputs": [
        {
          "output_type": "execute_result",
          "data": {
            "text/plain": [
              "('accuracy', 0.8795)"
            ]
          },
          "metadata": {
            "tags": []
          },
          "execution_count": 15
        }
      ]
    }
  ]
}