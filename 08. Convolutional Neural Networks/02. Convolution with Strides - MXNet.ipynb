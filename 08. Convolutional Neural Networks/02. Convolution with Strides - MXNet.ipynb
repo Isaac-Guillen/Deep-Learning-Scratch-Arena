{
  "nbformat": 4,
  "nbformat_minor": 0,
  "metadata": {
    "colab": {
      "name": "Convolutional with Strides - MXNet(From Scratch).ipynb",
      "version": "0.3.2",
      "provenance": [],
      "collapsed_sections": []
    },
    "kernelspec": {
      "name": "python3",
      "display_name": "Python 3"
    },
    "accelerator": "GPU"
  },
  "cells": [
    {
      "cell_type": "markdown",
      "metadata": {
        "id": "1YN4PT_Idstj",
        "colab_type": "text"
      },
      "source": [
        "#MXNet (From Scratch)"
      ]
    },
    {
      "cell_type": "code",
      "metadata": {
        "id": "CLGHa8i6WEaA",
        "colab_type": "code",
        "colab": {}
      },
      "source": [
        "import mxnet as mx\n",
        "from mxnet import nd\n",
        "import matplotlib.pyplot as plt\n",
        "\n",
        "ctx = mx.gpu()"
      ],
      "execution_count": 0,
      "outputs": []
    },
    {
      "cell_type": "markdown",
      "metadata": {
        "id": "u5Lekr1xNl3o",
        "colab_type": "text"
      },
      "source": [
        "##Getting the data"
      ]
    },
    {
      "cell_type": "code",
      "metadata": {
        "id": "SOMvJE7t2j-E",
        "colab_type": "code",
        "colab": {}
      },
      "source": [
        "mnist = mx.gluon.data.vision.MNIST()"
      ],
      "execution_count": 0,
      "outputs": []
    },
    {
      "cell_type": "code",
      "metadata": {
        "id": "z_t0Blm529jz",
        "colab_type": "code",
        "outputId": "41127546-42a1-4ffe-b541-ebf612e534b8",
        "colab": {
          "base_uri": "https://localhost:8080/",
          "height": 286
        }
      },
      "source": [
        "image, _ = mnist[2]\n",
        "\n",
        "image = image.flatten().astype('float32').as_in_context(ctx)\n",
        "\n",
        "print(image.shape)\n",
        "\n",
        "plt.imshow(image.asnumpy(), cmap = 'gray')\n",
        "plt.show()"
      ],
      "execution_count": 3,
      "outputs": [
        {
          "output_type": "stream",
          "text": [
            "(28, 28)\n"
          ],
          "name": "stdout"
        },
        {
          "output_type": "display_data",
          "data": {
            "image/png": "[encoded data removed]",
            "text/plain": [
              "<Figure size 432x288 with 1 Axes>"
            ]
          },
          "metadata": {
            "tags": []
          }
        }
      ]
    },
    {
      "cell_type": "code",
      "metadata": {
        "colab_type": "code",
        "id": "L2cs16xWIuKK",
        "colab": {}
      },
      "source": [
        "def convolution_with_strides(inputs, kernal, strides):\n",
        "    filter_hight, filter_width = kernal.shape\n",
        "    hight, width = ((inputs.shape[0] - filter_hight)/strides[0]) + 1, ((inputs.shape[1] - filter_width)/strides[1]) + 1\n",
        "    \n",
        "    layer = nd.zeros((int(hight), int(width)))\n",
        "    \n",
        "    row = 0\n",
        "    for i in range(0, inputs.shape[0], strides[0]):\n",
        "        col = 0\n",
        "        for j in range(0, inputs.shape[1], strides[1]):\n",
        "            if (i + filter_hight <= inputs.shape[0]) and (j + filter_width <= inputs.shape[1]):\n",
        "                layer[row, col] = (inputs[i:i + filter_hight, j:j + filter_width] * kernal).sum()\n",
        "            col += 1\n",
        "        row += 1\n",
        "    return layer"
      ],
      "execution_count": 0,
      "outputs": []
    },
    {
      "cell_type": "code",
      "metadata": {
        "colab_type": "code",
        "outputId": "55f4887f-65e9-4e0f-f259-13195baacabf",
        "id": "bAPxZNzwIuKQ",
        "colab": {
          "base_uri": "https://localhost:8080/",
          "height": 286
        }
      },
      "source": [
        "kernal = nd.random.normal(0, 1, (3, 3)).as_in_context(ctx)\n",
        "\n",
        "output = convolution_with_strides(image, kernal, strides = (1, 1))\n",
        "\n",
        "plt.imshow(output.asnumpy(), cmap = 'gray')\n",
        "plt.show()\n",
        "\n",
        "output.shape"
      ],
      "execution_count": 5,
      "outputs": [
        {
          "output_type": "display_data",
          "data": {
            "image/png": "[encoded data removed]",
            "text/plain": [
              "<Figure size 432x288 with 1 Axes>"
            ]
          },
          "metadata": {
            "tags": []
          }
        },
        {
          "output_type": "execute_result",
          "data": {
            "text/plain": [
              "(26, 26)"
            ]
          },
          "metadata": {
            "tags": []
          },
          "execution_count": 5
        }
      ]
    },
    {
      "cell_type": "code",
      "metadata": {
        "id": "DaZdXucpJQrQ",
        "colab_type": "code",
        "colab": {
          "base_uri": "https://localhost:8080/",
          "height": 286
        },
        "outputId": "af51633a-3cf7-4a5b-b0c6-abd4a2b8b7b3"
      },
      "source": [
        "kernal = nd.random.normal(0, 1, (4, 4)).as_in_context(ctx)\n",
        "\n",
        "output = convolution_with_strides(image, kernal, strides = (2, 2))\n",
        "\n",
        "plt.imshow(output.asnumpy(), cmap = 'gray')\n",
        "plt.show()\n",
        "\n",
        "output.shape"
      ],
      "execution_count": 6,
      "outputs": [
        {
          "output_type": "display_data",
          "data": {
            "image/png": "[encoded data removed]",
            "text/plain": [
              "<Figure size 432x288 with 1 Axes>"
            ]
          },
          "metadata": {
            "tags": []
          }
        },
        {
          "output_type": "execute_result",
          "data": {
            "text/plain": [
              "(13, 13)"
            ]
          },
          "metadata": {
            "tags": []
          },
          "execution_count": 6
        }
      ]
    },
    {
      "cell_type": "code",
      "metadata": {
        "id": "HSU98mKgJwW5",
        "colab_type": "code",
        "colab": {
          "base_uri": "https://localhost:8080/",
          "height": 286
        },
        "outputId": "4fc9d012-f8a3-4237-e904-b182d7bb4c3d"
      },
      "source": [
        "kernal = nd.random.normal(0, 1, (7, 7)).as_in_context(ctx)\n",
        "\n",
        "output = convolution_with_strides(image, kernal, strides = (2, 2))\n",
        "\n",
        "plt.imshow(output.asnumpy(), cmap = 'gray')\n",
        "plt.show()\n",
        "\n",
        "output.shape"
      ],
      "execution_count": 7,
      "outputs": [
        {
          "output_type": "display_data",
          "data": {
            "image/png": "[encoded data removed]",
            "text/plain": [
              "<Figure size 432x288 with 1 Axes>"
            ]
          },
          "metadata": {
            "tags": []
          }
        },
        {
          "output_type": "execute_result",
          "data": {
            "text/plain": [
              "(11, 11)"
            ]
          },
          "metadata": {
            "tags": []
          },
          "execution_count": 7
        }
      ]
    }
  ]
}