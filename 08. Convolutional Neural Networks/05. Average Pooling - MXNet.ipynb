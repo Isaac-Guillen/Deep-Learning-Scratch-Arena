{
  "nbformat": 4,
  "nbformat_minor": 0,
  "metadata": {
    "colab": {
      "name": "Average Pooling - MXNet.ipynb",
      "version": "0.3.2",
      "provenance": [],
      "collapsed_sections": []
    },
    "kernelspec": {
      "name": "python3",
      "display_name": "Python 3"
    },
    "accelerator": "GPU"
  },
  "cells": [
    {
      "cell_type": "markdown",
      "metadata": {
        "id": "1YN4PT_Idstj",
        "colab_type": "text"
      },
      "source": [
        "#MXNet (From Scratch)"
      ]
    },
    {
      "cell_type": "code",
      "metadata": {
        "id": "CLGHa8i6WEaA",
        "colab_type": "code",
        "colab": {}
      },
      "source": [
        "import mxnet as mx\n",
        "from mxnet import nd\n",
        "import matplotlib.pyplot as plt\n",
        "\n",
        "ctx = mx.gpu()"
      ],
      "execution_count": 0,
      "outputs": []
    },
    {
      "cell_type": "markdown",
      "metadata": {
        "id": "u5Lekr1xNl3o",
        "colab_type": "text"
      },
      "source": [
        "##Getting the data"
      ]
    },
    {
      "cell_type": "code",
      "metadata": {
        "id": "SOMvJE7t2j-E",
        "colab_type": "code",
        "colab": {}
      },
      "source": [
        "mnist = mx.gluon.data.vision.MNIST()"
      ],
      "execution_count": 0,
      "outputs": []
    },
    {
      "cell_type": "code",
      "metadata": {
        "id": "z_t0Blm529jz",
        "colab_type": "code",
        "outputId": "6fb3d430-1b2a-4cf1-91ac-5ffb1352ceb0",
        "colab": {
          "base_uri": "https://localhost:8080/",
          "height": 286
        }
      },
      "source": [
        "image, _ = mnist[2]\n",
        "\n",
        "image = image.flatten().astype('float32').as_in_context(ctx)\n",
        "\n",
        "print(image.shape)\n",
        "\n",
        "plt.imshow(image.asnumpy(), cmap = 'gray')\n",
        "plt.show()"
      ],
      "execution_count": 3,
      "outputs": [
        {
          "output_type": "stream",
          "text": [
            "(28, 28)\n"
          ],
          "name": "stdout"
        },
        {
          "output_type": "display_data",
          "data": {
            "image/png": "[encoded data removed]",
            "text/plain": [
              "<Figure size 432x288 with 1 Axes>"
            ]
          },
          "metadata": {
            "tags": []
          }
        }
      ]
    },
    {
      "cell_type": "markdown",
      "metadata": {
        "id": "KokyQp0Knlgh",
        "colab_type": "text"
      },
      "source": [
        "## Defining Average Pooling Layer"
      ]
    },
    {
      "cell_type": "code",
      "metadata": {
        "id": "m9ilgzaTnolW",
        "colab_type": "code",
        "colab": {}
      },
      "source": [
        "def avgpool(inputs, pooling = (3, 3)):\n",
        "    pool_hight, pool_width = pooling\n",
        "    hight, width = inputs.shape[0] - pool_hight + 1, inputs.shape[1] - pool_width + 1\n",
        "    layer = nd.zeros((int(hight), int(width)))\n",
        "            \n",
        "    row = 0\n",
        "    for i in range(0, inputs.shape[0]):\n",
        "        col = 0\n",
        "        for j in range(0, inputs.shape[1]):\n",
        "            if (i + pool_hight <= inputs.shape[0]) and (j + pool_width <= inputs.shape[1]):\n",
        "                layer[row, col] = inputs[i:i + pool_hight, j:j + pool_width].mean()\n",
        "            col += 1\n",
        "        row += 1\n",
        "        \n",
        "    return layer"
      ],
      "execution_count": 0,
      "outputs": []
    },
    {
      "cell_type": "markdown",
      "metadata": {
        "id": "O9dcXdeVuF9o",
        "colab_type": "text"
      },
      "source": [
        "##Pooling with shape (3, 3)"
      ]
    },
    {
      "cell_type": "code",
      "metadata": {
        "id": "9mc3IJcStMdS",
        "colab_type": "code",
        "outputId": "36accd9c-8713-4b12-de4e-652f541368b7",
        "colab": {
          "base_uri": "https://localhost:8080/",
          "height": 545
        }
      },
      "source": [
        "output = avgpool(image, pooling = (3, 3))\n",
        "\n",
        "plt.imshow(image.asnumpy(), cmap = 'gray')\n",
        "plt.title(f'Before Max pooling, shape:{image.shape}')\n",
        "plt.show()\n",
        "\n",
        "plt.imshow(output.asnumpy(), cmap = 'gray')\n",
        "plt.title(f'After Max pooling, shape:{output.shape}')\n",
        "plt.show()"
      ],
      "execution_count": 5,
      "outputs": [
        {
          "output_type": "display_data",
          "data": {
            "image/png": "[encoded data removed]",
            "text/plain": [
              "<Figure size 432x288 with 1 Axes>"
            ]
          },
          "metadata": {
            "tags": []
          }
        },
        {
          "output_type": "display_data",
          "data": {
            "image/png": "[encoded data removed]",
            "text/plain": [
              "<Figure size 432x288 with 1 Axes>"
            ]
          },
          "metadata": {
            "tags": []
          }
        }
      ]
    },
    {
      "cell_type": "markdown",
      "metadata": {
        "id": "xb0TilsjuJux",
        "colab_type": "text"
      },
      "source": [
        "##Pooling with shape (5, 5)"
      ]
    },
    {
      "cell_type": "code",
      "metadata": {
        "id": "eGmrLTjUtMgU",
        "colab_type": "code",
        "outputId": "e43faf62-c81f-4aef-bf99-ad497e179203",
        "colab": {
          "base_uri": "https://localhost:8080/",
          "height": 545
        }
      },
      "source": [
        "output = avgpool(image, pooling = (5, 5))\n",
        "\n",
        "plt.imshow(image.asnumpy(), cmap = 'gray')\n",
        "plt.title(f'Before Max pooling, shape:{image.shape}')\n",
        "plt.show()\n",
        "\n",
        "plt.imshow(output.asnumpy(), cmap = 'gray')\n",
        "plt.title(f'After Max pooling, shape:{output.shape}')\n",
        "plt.show()"
      ],
      "execution_count": 6,
      "outputs": [
        {
          "output_type": "display_data",
          "data": {
            "image/png": "[encoded data removed]",
            "text/plain": [
              "<Figure size 432x288 with 1 Axes>"
            ]
          },
          "metadata": {
            "tags": []
          }
        },
        {
          "output_type": "display_data",
          "data": {
            "image/png": "[encoded data removed]",
            "text/plain": [
              "<Figure size 432x288 with 1 Axes>"
            ]
          },
          "metadata": {
            "tags": []
          }
        }
      ]
    },
    {
      "cell_type": "markdown",
      "metadata": {
        "colab_type": "text",
        "id": "QSvWjcqKuOV_"
      },
      "source": [
        "##Pooling with shape (7, 7)"
      ]
    },
    {
      "cell_type": "code",
      "metadata": {
        "id": "1VUql9zetMpw",
        "colab_type": "code",
        "outputId": "d0cedad7-6ee0-48e3-c009-16cef86c0edb",
        "colab": {
          "base_uri": "https://localhost:8080/",
          "height": 545
        }
      },
      "source": [
        "output = avgpool(image, pooling = (7, 7))\n",
        "\n",
        "plt.imshow(image.asnumpy(), cmap = 'gray')\n",
        "plt.title(f'Before Max pooling, shape:{image.shape}')\n",
        "plt.show()\n",
        "\n",
        "plt.imshow(output.asnumpy(), cmap = 'gray')\n",
        "plt.title(f'After Max pooling, shape:{output.shape}')\n",
        "plt.show()"
      ],
      "execution_count": 7,
      "outputs": [
        {
          "output_type": "display_data",
          "data": {
            "image/png": "[encoded data removed]",
            "text/plain": [
              "<Figure size 432x288 with 1 Axes>"
            ]
          },
          "metadata": {
            "tags": []
          }
        },
        {
          "output_type": "display_data",
          "data": {
            "image/png": "[encoded data removed]",
            "text/plain": [
              "<Figure size 432x288 with 1 Axes>"
            ]
          },
          "metadata": {
            "tags": []
          }
        }
      ]
    }
  ]
}