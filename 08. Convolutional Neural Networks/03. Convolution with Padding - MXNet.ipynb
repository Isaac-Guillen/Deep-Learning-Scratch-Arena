{
  "nbformat": 4,
  "nbformat_minor": 0,
  "metadata": {
    "colab": {
      "name": "Convolution with Padding - MXNet.ipynb",
      "version": "0.3.2",
      "provenance": [],
      "collapsed_sections": []
    },
    "kernelspec": {
      "name": "python3",
      "display_name": "Python 3"
    },
    "accelerator": "GPU"
  },
  "cells": [
    {
      "cell_type": "markdown",
      "metadata": {
        "id": "1YN4PT_Idstj",
        "colab_type": "text"
      },
      "source": [
        "#MXNet (From Scratch)"
      ]
    },
    {
      "cell_type": "code",
      "metadata": {
        "id": "CLGHa8i6WEaA",
        "colab_type": "code",
        "colab": {}
      },
      "source": [
        "import mxnet as mx\n",
        "from mxnet import nd\n",
        "import matplotlib.pyplot as plt\n",
        "\n",
        "ctx = mx.gpu()"
      ],
      "execution_count": 0,
      "outputs": []
    },
    {
      "cell_type": "markdown",
      "metadata": {
        "id": "u5Lekr1xNl3o",
        "colab_type": "text"
      },
      "source": [
        "##Getting the data"
      ]
    },
    {
      "cell_type": "code",
      "metadata": {
        "id": "SOMvJE7t2j-E",
        "colab_type": "code",
        "colab": {}
      },
      "source": [
        "mnist = mx.gluon.data.vision.MNIST()"
      ],
      "execution_count": 0,
      "outputs": []
    },
    {
      "cell_type": "code",
      "metadata": {
        "id": "z_t0Blm529jz",
        "colab_type": "code",
        "outputId": "a6d0c055-db0a-460f-cdd0-a4ef81039278",
        "colab": {
          "base_uri": "https://localhost:8080/",
          "height": 286
        }
      },
      "source": [
        "image, _ = mnist[2]\n",
        "\n",
        "image = image.flatten().astype('float32').as_in_context(ctx)\n",
        "\n",
        "print(image.shape)\n",
        "\n",
        "plt.imshow(image.asnumpy(), cmap = 'gray')\n",
        "plt.show()"
      ],
      "execution_count": 3,
      "outputs": [
        {
          "output_type": "stream",
          "text": [
            "(28, 28)\n"
          ],
          "name": "stdout"
        },
        {
          "output_type": "display_data",
          "data": {
            "image/png": "[encoded data removed]",
            "text/plain": [
              "<Figure size 432x288 with 1 Axes>"
            ]
          },
          "metadata": {
            "tags": []
          }
        }
      ]
    },
    {
      "cell_type": "markdown",
      "metadata": {
        "id": "9b90a1cOfK_9",
        "colab_type": "text"
      },
      "source": [
        "##Understanding how to pad tensors"
      ]
    },
    {
      "cell_type": "code",
      "metadata": {
        "id": "PtN8tpXFcq1b",
        "colab_type": "code",
        "outputId": "517a22f8-7213-48b1-b808-b166f6810dd5",
        "colab": {
          "base_uri": "https://localhost:8080/",
          "height": 1000
        }
      },
      "source": [
        "x = nd.ones((5, 5))\n",
        "print(x)\n",
        "plt.imshow(x.asnumpy(), cmap = 'gray')\n",
        "plt.show()\n",
        "\n",
        "ht, hb, vl, vr, = nd.zeros((1, 7)), nd.zeros((1, 7)), nd.zeros((5, 1)), nd.zeros((5, 1))\n",
        "# (1, 7) because after adding 2 columns at left and right we are gonna have total 5 + 1 + 1 columns \n",
        "\n",
        "y = nd.concat(vl, x, vr, dim = 1)\n",
        "print(y)\n",
        "plt.imshow(y.asnumpy(), cmap = 'gray')\n",
        "plt.show()\n",
        "\n",
        "y = nd.concat(ht, y, hb, dim = 0)\n",
        "print(y)\n",
        "plt.imshow(y.asnumpy(), cmap = 'gray')\n",
        "plt.show()"
      ],
      "execution_count": 4,
      "outputs": [
        {
          "output_type": "stream",
          "text": [
            "\n",
            "[[1. 1. 1. 1. 1.]\n",
            " [1. 1. 1. 1. 1.]\n",
            " [1. 1. 1. 1. 1.]\n",
            " [1. 1. 1. 1. 1.]\n",
            " [1. 1. 1. 1. 1.]]\n",
            "<NDArray 5x5 @cpu(0)>\n"
          ],
          "name": "stdout"
        },
        {
          "output_type": "display_data",
          "data": {
            "image/png": "[encoded data removed]",
            "text/plain": [
              "<Figure size 432x288 with 1 Axes>"
            ]
          },
          "metadata": {
            "tags": []
          }
        },
        {
          "output_type": "stream",
          "text": [
            "\n",
            "[[0. 1. 1. 1. 1. 1. 0.]\n",
            " [0. 1. 1. 1. 1. 1. 0.]\n",
            " [0. 1. 1. 1. 1. 1. 0.]\n",
            " [0. 1. 1. 1. 1. 1. 0.]\n",
            " [0. 1. 1. 1. 1. 1. 0.]]\n",
            "<NDArray 5x7 @cpu(0)>\n"
          ],
          "name": "stdout"
        },
        {
          "output_type": "display_data",
          "data": {
            "image/png": "[encoded data removed]",
            "text/plain": [
              "<Figure size 432x288 with 1 Axes>"
            ]
          },
          "metadata": {
            "tags": []
          }
        },
        {
          "output_type": "stream",
          "text": [
            "\n",
            "[[0. 0. 0. 0. 0. 0. 0.]\n",
            " [0. 1. 1. 1. 1. 1. 0.]\n",
            " [0. 1. 1. 1. 1. 1. 0.]\n",
            " [0. 1. 1. 1. 1. 1. 0.]\n",
            " [0. 1. 1. 1. 1. 1. 0.]\n",
            " [0. 1. 1. 1. 1. 1. 0.]\n",
            " [0. 0. 0. 0. 0. 0. 0.]]\n",
            "<NDArray 7x7 @cpu(0)>\n"
          ],
          "name": "stdout"
        },
        {
          "output_type": "display_data",
          "data": {
            "image/png": "[encoded data removed]",
            "text/plain": [
              "<Figure size 432x288 with 1 Axes>"
            ]
          },
          "metadata": {
            "tags": []
          }
        }
      ]
    },
    {
      "cell_type": "code",
      "metadata": {
        "id": "hRcvH1t93GwG",
        "colab_type": "code",
        "colab": {}
      },
      "source": [
        "def convolution_with_padding(inputs, kernal, padding = (1, 1)):\n",
        "    filter_hight, filter_width = kernal.shape\n",
        "    horizental_pad, vertical_pad = padding\n",
        "    hight, width = (inputs.shape[0]  + (2 * vertical_pad) - filter_hight) + 1, (inputs.shape[1] + (2 * horizental_pad) - filter_width) + 1\n",
        "    \n",
        "    horizental_paddings = nd.zeros((horizental_pad, inputs.shape[1])).as_in_context(ctx)\n",
        "    vertical_paddings = nd.zeros((inputs.shape[0] + 2 * horizental_pad, vertical_pad)).as_in_context(ctx)\n",
        "    \n",
        "    # + (2 * horizental_pad) because we are gonna add of 2 horizontal paddings \n",
        "    \n",
        "    plt.imshow(inputs.asnumpy(), cmap = 'gray')\n",
        "    plt.title(f'shape: {inputs.shape}')\n",
        "    plt.show()\n",
        "    \n",
        "    inputs = nd.concat(horizental_paddings, inputs, horizental_paddings, dim = 0) # dim = 0 for concat alng rows\n",
        "    inputs = nd.concat(vertical_paddings, inputs, vertical_paddings, dim = 1) # dim = 0 for concat alng columns\n",
        "    \n",
        "    plt.imshow(inputs.asnumpy(), cmap = 'gray')\n",
        "    plt.title(f'shape: {inputs.shape}')\n",
        "    plt.show()\n",
        "    \n",
        "    layer = nd.zeros((int(hight), int(width)))\n",
        "    \n",
        "    row = 0\n",
        "    for i in range(0, inputs.shape[0]):\n",
        "        col = 0\n",
        "        for j in range(0, inputs.shape[1]):\n",
        "            if (i + filter_hight <= inputs.shape[0]) and (j + filter_width <= inputs.shape[1]):\n",
        "                layer[row, col] = (inputs[i:i + filter_hight, j:j + filter_width] * kernal).sum()\n",
        "            col += 1\n",
        "        row += 1\n",
        "        \n",
        "    return layer"
      ],
      "execution_count": 0,
      "outputs": []
    },
    {
      "cell_type": "markdown",
      "metadata": {
        "id": "SGlxVqpXucgd",
        "colab_type": "text"
      },
      "source": [
        "##Padding with shape (2, 2)"
      ]
    },
    {
      "cell_type": "code",
      "metadata": {
        "id": "SgESxOJ_sSsB",
        "colab_type": "code",
        "colab": {
          "base_uri": "https://localhost:8080/",
          "height": 826
        },
        "outputId": "fdada3d0-380c-42f5-eb6d-08f60aa0b7ad"
      },
      "source": [
        "kernal = nd.random.normal(0, 1, (3, 3)).as_in_context(ctx)\n",
        "\n",
        "output = convolution_with_padding(image, kernal, padding = (2, 2))\n",
        "\n",
        "plt.imshow(output.asnumpy(), cmap = 'gray')\n",
        "plt.title('After convolution')\n",
        "plt.show()\n",
        "\n",
        "output.shape"
      ],
      "execution_count": 6,
      "outputs": [
        {
          "output_type": "display_data",
          "data": {
            "image/png": "[encoded data removed]",
            "text/plain": [
              "<Figure size 432x288 with 1 Axes>"
            ]
          },
          "metadata": {
            "tags": []
          }
        },
        {
          "output_type": "display_data",
          "data": {
            "image/png": "[encoded data removed]",
            "text/plain": [
              "<Figure size 432x288 with 1 Axes>"
            ]
          },
          "metadata": {
            "tags": []
          }
        },
        {
          "output_type": "display_data",
          "data": {
            "image/png": "[encoded data removed]",
            "text/plain": [
              "<Figure size 432x288 with 1 Axes>"
            ]
          },
          "metadata": {
            "tags": []
          }
        },
        {
          "output_type": "execute_result",
          "data": {
            "text/plain": [
              "(30, 30)"
            ]
          },
          "metadata": {
            "tags": []
          },
          "execution_count": 6
        }
      ]
    },
    {
      "cell_type": "markdown",
      "metadata": {
        "colab_type": "text",
        "id": "OyF1pJzGuhAm"
      },
      "source": [
        "##Padding with shape (3, 3)"
      ]
    },
    {
      "cell_type": "code",
      "metadata": {
        "id": "a19A2OEghVtZ",
        "colab_type": "code",
        "outputId": "90df89a2-0951-4e78-b697-005edab9da5d",
        "colab": {
          "base_uri": "https://localhost:8080/",
          "height": 826
        }
      },
      "source": [
        "kernal = nd.random.normal(0, 1, (5, 5)).as_in_context(ctx)\n",
        "\n",
        "output = convolution_with_padding(image, kernal, padding = (3, 3))\n",
        "\n",
        "plt.imshow(output.asnumpy(), cmap = 'gray')\n",
        "plt.title('After convolution')\n",
        "plt.show()\n",
        "\n",
        "output.shape"
      ],
      "execution_count": 7,
      "outputs": [
        {
          "output_type": "display_data",
          "data": {
            "image/png": "[encoded data removed]",
            "text/plain": [
              "<Figure size 432x288 with 1 Axes>"
            ]
          },
          "metadata": {
            "tags": []
          }
        },
        {
          "output_type": "display_data",
          "data": {
            "image/png": "[encoded data removed]",
            "text/plain": [
              "<Figure size 432x288 with 1 Axes>"
            ]
          },
          "metadata": {
            "tags": []
          }
        },
        {
          "output_type": "display_data",
          "data": {
            "image/png": "[encoded data removed]",
            "text/plain": [
              "<Figure size 432x288 with 1 Axes>"
            ]
          },
          "metadata": {
            "tags": []
          }
        },
        {
          "output_type": "execute_result",
          "data": {
            "text/plain": [
              "(30, 30)"
            ]
          },
          "metadata": {
            "tags": []
          },
          "execution_count": 7
        }
      ]
    }
  ]
}