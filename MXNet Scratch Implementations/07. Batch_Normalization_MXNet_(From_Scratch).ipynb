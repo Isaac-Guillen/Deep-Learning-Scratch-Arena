{
  "nbformat": 4,
  "nbformat_minor": 0,
  "metadata": {
    "colab": {
      "name": "Batch Normalization - MXNet (From Scratch).ipynb",
      "version": "0.3.2",
      "provenance": [],
      "collapsed_sections": []
    },
    "kernelspec": {
      "name": "python3",
      "display_name": "Python 3"
    },
    "accelerator": "GPU"
  },
  "cells": [
    {
      "cell_type": "code",
      "metadata": {
        "id": "PRwW2a0itwE-",
        "colab_type": "code",
        "outputId": "fa46cc45-78cd-43c9-a84b-8486013bab4a",
        "colab": {
          "base_uri": "https://localhost:8080/",
          "height": 151
        }
      },
      "source": [
        "!pip install mxnet-cu100"
      ],
      "execution_count": 0,
      "outputs": [
        {
          "output_type": "stream",
          "text": [
            "Requirement already satisfied: mxnet-cu100 in /usr/local/lib/python3.6/dist-packages (1.4.1)\n",
            "Requirement already satisfied: requests>=2.20.0 in /usr/local/lib/python3.6/dist-packages (from mxnet-cu100) (2.21.0)\n",
            "Requirement already satisfied: numpy<1.15.0,>=1.8.2 in /usr/local/lib/python3.6/dist-packages (from mxnet-cu100) (1.14.6)\n",
            "Requirement already satisfied: graphviz<0.9.0,>=0.8.1 in /usr/local/lib/python3.6/dist-packages (from mxnet-cu100) (0.8.4)\n",
            "Requirement already satisfied: idna<2.9,>=2.5 in /usr/local/lib/python3.6/dist-packages (from requests>=2.20.0->mxnet-cu100) (2.8)\n",
            "Requirement already satisfied: chardet<3.1.0,>=3.0.2 in /usr/local/lib/python3.6/dist-packages (from requests>=2.20.0->mxnet-cu100) (3.0.4)\n",
            "Requirement already satisfied: urllib3<1.25,>=1.21.1 in /usr/local/lib/python3.6/dist-packages (from requests>=2.20.0->mxnet-cu100) (1.24.3)\n",
            "Requirement already satisfied: certifi>=2017.4.17 in /usr/local/lib/python3.6/dist-packages (from requests>=2.20.0->mxnet-cu100) (2019.3.9)\n"
          ],
          "name": "stdout"
        }
      ]
    },
    {
      "cell_type": "code",
      "metadata": {
        "id": "yD7crq8C2Gof",
        "colab_type": "code",
        "colab": {}
      },
      "source": [
        "import mxnet as mx\n",
        "from mxnet import nd, autograd, gluon\n",
        "import matplotlib.pyplot as plt\n",
        "\n",
        "ctx = mx.gpu()"
      ],
      "execution_count": 0,
      "outputs": []
    },
    {
      "cell_type": "markdown",
      "metadata": {
        "id": "e9V_k_6s2xhX",
        "colab_type": "text"
      },
      "source": [
        "#Getting MNIST dataset"
      ]
    },
    {
      "cell_type": "code",
      "metadata": {
        "id": "ZLDyQYZo2wxw",
        "colab_type": "code",
        "colab": {}
      },
      "source": [
        "def transform(data, label):\n",
        "    return nd.moveaxis(data.astype('float32'), 2, 0)/255.0, label.astype('float32')\n",
        "\n",
        "train_mnist = gluon.data.vision.datasets.MNIST(train = True, transform = transform)\n",
        "test_mnist = gluon.data.vision.datasets.MNIST(train = False, transform = transform)"
      ],
      "execution_count": 0,
      "outputs": []
    },
    {
      "cell_type": "code",
      "metadata": {
        "id": "H81sRUEQuNTw",
        "colab_type": "code",
        "outputId": "4b1466da-0bec-4e39-f469-9665e2d48246",
        "colab": {
          "base_uri": "https://localhost:8080/",
          "height": 34
        }
      },
      "source": [
        "image, label = train_mnist[5]\n",
        "image.shape, label.shape"
      ],
      "execution_count": 0,
      "outputs": [
        {
          "output_type": "execute_result",
          "data": {
            "text/plain": [
              "((1, 28, 28), ())"
            ]
          },
          "metadata": {
            "tags": []
          },
          "execution_count": 9
        }
      ]
    },
    {
      "cell_type": "code",
      "metadata": {
        "id": "dWwYBdfFuerm",
        "colab_type": "code",
        "outputId": "e9b3129d-1ec9-4117-a11c-bb08710fbdf1",
        "colab": {
          "base_uri": "https://localhost:8080/",
          "height": 281
        }
      },
      "source": [
        "plt.imshow(image[0].asnumpy(), cmap = 'gray')\n",
        "plt.title(label)\n",
        "plt.show()"
      ],
      "execution_count": 0,
      "outputs": [
        {
          "output_type": "display_data",
          "data": {
            "image/png": "[encoded data removed]",
            "text/plain": [
              "<Figure size 432x288 with 1 Axes>"
            ]
          },
          "metadata": {
            "tags": []
          }
        }
      ]
    },
    {
      "cell_type": "code",
      "metadata": {
        "id": "x_eoQ8Cx2w0x",
        "colab_type": "code",
        "colab": {}
      },
      "source": [
        "batch_size = 64\n",
        "train_data = gluon.data.DataLoader(train_mnist, batch_size, True)\n",
        "test_data = gluon.data.DataLoader(test_mnist, batch_size, False)"
      ],
      "execution_count": 0,
      "outputs": []
    },
    {
      "cell_type": "markdown",
      "metadata": {
        "id": "uc2JVOAX4zsR",
        "colab_type": "text"
      },
      "source": [
        "##Defining Batch Norm Layer"
      ]
    },
    {
      "cell_type": "code",
      "metadata": {
        "id": "60aSuiux4DR9",
        "colab_type": "code",
        "colab": {}
      },
      "source": [
        "def batch_norm(x, gamma, beta, momentum = 0.8, eps = 1e-5, name = '', training = True):\n",
        "    global moving_means, moving_vars\n",
        "\n",
        "    if len(x.shape) not in (2, 4):\n",
        "        raise ValueError('Only dense and cnn layers are suppported.')\n",
        "\n",
        "    if len(x.shape) == 2:\n",
        "        mean = nd.mean(x, axis=0)\n",
        "        variance = nd.mean((x - mean) ** 2, axis=0)\n",
        "        if training:\n",
        "            x_hat = (x - mean) * 1.0 / nd.sqrt(variance + eps)\n",
        "        else:\n",
        "            x_hat = (x - moving_means[name]) * 1.0 / nd.sqrt(moving_vars[name] + eps)\n",
        "        out = gamma * x_hat + beta\n",
        "\n",
        "    elif len(x.shape) == 4:\n",
        "        N, C, H, W = x.shape\n",
        "        mean = nd.mean(x, axis=(0,2,3))\n",
        "        variance = nd.mean((x - mean.reshape((1, C, 1, 1))) ** 2, axis=(0, 2, 3))\n",
        "        x_hat = (x - mean.reshape((1, C, 1, 1))) * 1.0 / nd.sqrt(variance.reshape((1, C, 1, 1)) + eps)\n",
        "        if training:\n",
        "            x_hat = (x - mean.reshape((1, C, 1, 1))) * 1.0 / nd.sqrt(variance.reshape((1, C, 1, 1)) + eps)\n",
        "        else:\n",
        "            x_hat = (x - moving_means[name].reshape((1, C, 1, 1))) * 1.0 \\\n",
        "                / nd.sqrt(moving_vars[name].reshape((1, C, 1, 1)) + eps)\n",
        "        out = gamma.reshape((1, C, 1, 1)) * x_hat + beta.reshape((1, C, 1, 1))\n",
        "\n",
        "    try:\n",
        "        moving_means, moving_vars\n",
        "    except:\n",
        "        moving_means, moving_vars = {}, {}\n",
        "\n",
        "    if name not in moving_means:\n",
        "        moving_means[name] = mean\n",
        "    else:\n",
        "        moving_means[name] = moving_means[name] * momentum + mean * (1.0 - momentum)\n",
        "    if name not in moving_vars:\n",
        "        moving_vars[name] = variance\n",
        "    else:\n",
        "        moving_vars[name] = moving_vars[name] * momentum + variance * (1.0 - momentum)\n",
        "    return out"
      ],
      "execution_count": 0,
      "outputs": []
    },
    {
      "cell_type": "markdown",
      "metadata": {
        "id": "FqqqOgfG0P7f",
        "colab_type": "text"
      },
      "source": [
        "##Initializing model parameters and batch normal parameters"
      ]
    },
    {
      "cell_type": "code",
      "metadata": {
        "id": "M8bduuD24DOT",
        "colab_type": "code",
        "colab": {}
      },
      "source": [
        "weight_scale = .01\n",
        "\n",
        "W1 = nd.random_normal(shape=(20, 1, 3,3), scale=weight_scale, ctx=ctx)\n",
        "b1 = nd.random_normal(shape=20, scale=weight_scale, ctx=ctx)\n",
        "\n",
        "gamma1 = nd.random_normal(shape=20, loc=1, scale=weight_scale, ctx=ctx)\n",
        "beta1 = nd.random_normal(shape=20, scale=weight_scale, ctx=ctx)\n",
        "\n",
        "W2 = nd.random_normal(shape=(50, 20, 5, 5), scale=weight_scale, ctx=ctx)\n",
        "b2 = nd.random_normal(shape=50, scale=weight_scale, ctx=ctx)\n",
        "\n",
        "gamma2 = nd.random_normal(shape=50, loc=1, scale=weight_scale, ctx=ctx)\n",
        "beta2 = nd.random_normal(shape=50, scale=weight_scale, ctx=ctx)\n",
        "\n",
        "W3 = nd.random_normal(shape=(800, 128), scale=weight_scale, ctx=ctx)\n",
        "b3 = nd.random_normal(shape=128, scale=weight_scale, ctx=ctx)\n",
        "\n",
        "gamma3 = nd.random_normal(shape=128, loc=1, scale=weight_scale, ctx=ctx)\n",
        "beta3 = nd.random_normal(shape=128, scale=weight_scale, ctx=ctx)\n",
        "\n",
        "W4 = nd.random_normal(shape=(128, 10), scale=weight_scale, ctx=ctx)\n",
        "b4 = nd.random_normal(shape=10, scale=weight_scale, ctx=ctx)\n",
        "\n",
        "params = [W1, b1, gamma1, beta1, W2, b2, gamma2, beta2, W3, b3, gamma3, beta3, W4, b4]\n",
        "\n",
        "for param in params:\n",
        "    param.attach_grad()"
      ],
      "execution_count": 0,
      "outputs": []
    },
    {
      "cell_type": "code",
      "metadata": {
        "id": "uB9EJyuu4DM0",
        "colab_type": "code",
        "colab": {}
      },
      "source": [
        "def relu(x):\n",
        "    return nd.maximum(x, 0)"
      ],
      "execution_count": 0,
      "outputs": []
    },
    {
      "cell_type": "code",
      "metadata": {
        "id": "GwO0Qwmy5fyn",
        "colab_type": "code",
        "colab": {}
      },
      "source": [
        "def softmax(linear):\n",
        "    exp = nd.exp(linear - nd.max(linear))\n",
        "    partition = nd.sum(exp).reshape((-1, 1))\n",
        "    return exp / partition"
      ],
      "execution_count": 0,
      "outputs": []
    },
    {
      "cell_type": "markdown",
      "metadata": {
        "id": "yvQc2ogE0WeL",
        "colab_type": "text"
      },
      "source": [
        "##Building the model"
      ]
    },
    {
      "cell_type": "code",
      "metadata": {
        "id": "3FdYyCb65fvS",
        "colab_type": "code",
        "colab": {}
      },
      "source": [
        "def model(x, training = True):\n",
        "    h1_conv = nd.Convolution(data=x, weight=W1, bias=b1, kernel=(3,3), num_filter=20)\n",
        "    h1_normed = batch_norm(h1_conv, gamma1, beta1, name='bn1', training=training)\n",
        "    h1_activation = relu(h1_normed)\n",
        "    h1 = nd.Pooling(data=h1_activation, pool_type=\"avg\", kernel=(2,2), stride=(2,2))\n",
        "\n",
        "    h2_conv = nd.Convolution(data=h1, weight=W2, bias=b2, kernel=(5,5), num_filter=50)\n",
        "    h2_normed = batch_norm(h2_conv, gamma2, beta2, name='bn2', training=training)\n",
        "    h2_activation = relu(h2_normed)\n",
        "    h2 = nd.Pooling(data=h2_activation, pool_type=\"avg\", kernel=(2,2), stride=(2,2))\n",
        "\n",
        "    h2 = nd.flatten(h2)\n",
        "    \n",
        "    h3_linear = nd.dot(h2, W3) + b3\n",
        "    h3_normed = batch_norm(h3_linear, gamma3, beta3, name='bn3', training=training)\n",
        "    h3 = relu(h3_normed)\n",
        "    \n",
        "    yhat_linear = nd.dot(h3, W4) + b4\n",
        "    \n",
        "    return softmax(yhat_linear)"
      ],
      "execution_count": 0,
      "outputs": []
    },
    {
      "cell_type": "code",
      "metadata": {
        "id": "UQtVGnWv8zcN",
        "colab_type": "code",
        "outputId": "a7f0d91a-7fd2-467d-d082-2476004e5cfd",
        "colab": {
          "base_uri": "https://localhost:8080/",
          "height": 50
        }
      },
      "source": [
        "for data, _ in train_data:\n",
        "    data = data.as_in_context(ctx)\n",
        "    break\n",
        "    \n",
        "output = model(data, training = True)\n",
        "\n",
        "print(data.shape)\n",
        "print(output.shape)"
      ],
      "execution_count": 0,
      "outputs": [
        {
          "output_type": "stream",
          "text": [
            "(64, 1, 28, 28)\n",
            "(64, 10)\n"
          ],
          "name": "stdout"
        }
      ]
    },
    {
      "cell_type": "code",
      "metadata": {
        "id": "HjbezA0S5fwQ",
        "colab_type": "code",
        "colab": {}
      },
      "source": [
        "def categoricalcrossentropy(pred, label):\n",
        "    return -nd.sum(label * nd.log(pred))"
      ],
      "execution_count": 0,
      "outputs": []
    },
    {
      "cell_type": "code",
      "metadata": {
        "id": "AzdO_SXx5fuG",
        "colab_type": "code",
        "colab": {}
      },
      "source": [
        "def sgd(params, lr):\n",
        "    for param in params:\n",
        "        param[:] = param - lr * param.grad"
      ],
      "execution_count": 0,
      "outputs": []
    },
    {
      "cell_type": "code",
      "metadata": {
        "id": "Ff2oB_yFWR9O",
        "colab_type": "code",
        "colab": {}
      },
      "source": [
        "def accuracy(predictions, labels):\n",
        "    return nd.mean(predictions.argmax(1) == labels.argmax(1))"
      ],
      "execution_count": 0,
      "outputs": []
    },
    {
      "cell_type": "markdown",
      "metadata": {
        "id": "eGXnJ59P0bKz",
        "colab_type": "text"
      },
      "source": [
        "##Training the model"
      ]
    },
    {
      "cell_type": "code",
      "metadata": {
        "id": "toHHcCNo6AMC",
        "colab_type": "code",
        "outputId": "de103c63-40c5-4901-c089-e9e587243a2a",
        "colab": {
          "base_uri": "https://localhost:8080/",
          "height": 185
        }
      },
      "source": [
        "epochs = 10\n",
        "num_batches = 60000/batch_size\n",
        "learning_rate = .001\n",
        "losses = []\n",
        "accs = []\n",
        "\n",
        "for epoch in range(epochs):\n",
        "    cumulative_loss = 0\n",
        "    cumulative_acc = 0\n",
        "    for features, labels in train_data:\n",
        "        features = features.as_in_context(ctx)\n",
        "        labels = labels.as_in_context(ctx).one_hot(10)\n",
        "        with autograd.record():\n",
        "            output = model(features, training = True)\n",
        "            loss = categoricalcrossentropy(output, labels)\n",
        "        loss.backward()\n",
        "        sgd(params, learning_rate)\n",
        "        cumulative_loss += loss\n",
        "        cumulative_acc += accuracy(output, labels)\n",
        "    print(f'Epoch: {epoch} | Loss: {cumulative_loss.asscalar()/num_batches:.5f} | Accuracy: {cumulative_acc.asscalar()/num_batches:.5f}')\n",
        "    losses.append(cumulative_loss.asscalar()/num_batches)\n",
        "    accs.append(cumulative_acc.asscalar()/num_batches)"
      ],
      "execution_count": 0,
      "outputs": [
        {
          "output_type": "stream",
          "text": [
            "Epoch: 0 | Loss: 285.27793 | Accuracy: 0.96815\n",
            "Epoch: 1 | Loss: 271.67513 | Accuracy: 0.98985\n",
            "Epoch: 2 | Loss: 269.75657 | Accuracy: 0.99202\n",
            "Epoch: 3 | Loss: 268.92355 | Accuracy: 0.99375\n",
            "Epoch: 4 | Loss: 268.42775 | Accuracy: 0.99487\n",
            "Epoch: 5 | Loss: 268.13422 | Accuracy: 0.99568\n",
            "Epoch: 6 | Loss: 267.89692 | Accuracy: 0.99640\n",
            "Epoch: 7 | Loss: 267.64055 | Accuracy: 0.99730\n",
            "Epoch: 8 | Loss: 267.53333 | Accuracy: 0.99738\n",
            "Epoch: 9 | Loss: 267.39447 | Accuracy: 0.99783\n"
          ],
          "name": "stdout"
        }
      ]
    },
    {
      "cell_type": "code",
      "metadata": {
        "id": "dJcq8cBl6AP_",
        "colab_type": "code",
        "outputId": "2d71b712-3363-415e-e08a-b60edb6ada35",
        "colab": {
          "base_uri": "https://localhost:8080/",
          "height": 545
        }
      },
      "source": [
        "plt.plot(losses, c = 'r')\n",
        "plt.title('Training Loss')\n",
        "plt.show()\n",
        "plt.plot(accs, c = 'g')\n",
        "plt.title('Training Accuracy')\n",
        "plt.show()"
      ],
      "execution_count": 0,
      "outputs": [
        {
          "output_type": "display_data",
          "data": {
            "image/png": "[encoded data removed]",
            "text/plain": [
              "<Figure size 432x288 with 1 Axes>"
            ]
          },
          "metadata": {
            "tags": []
          }
        },
        {
          "output_type": "display_data",
          "data": {
            "image/png": "[encoded data removed]",
            "text/plain": [
              "<Figure size 432x288 with 1 Axes>"
            ]
          },
          "metadata": {
            "tags": []
          }
        }
      ]
    },
    {
      "cell_type": "markdown",
      "metadata": {
        "id": "X4WYxO2_0gbq",
        "colab_type": "text"
      },
      "source": [
        "##Testing the model"
      ]
    },
    {
      "cell_type": "code",
      "metadata": {
        "id": "4om_ZyHT6ALB",
        "colab_type": "code",
        "outputId": "79a9b5d5-29ac-452c-fced-0cd7fab0f9b2",
        "colab": {
          "base_uri": "https://localhost:8080/",
          "height": 34
        }
      },
      "source": [
        "acc = 0.0\n",
        "batches = 0\n",
        "for features, labels in test_data:\n",
        "    features = features.as_in_context(ctx)\n",
        "    labels = labels.as_in_context(ctx).one_hot(10)\n",
        "    predictions = model(features, training = False)\n",
        "    acc += accuracy(predictions, labels)\n",
        "    batches += 1\n",
        "print(f'Test Accuracy: {acc.asscalar()/batches}')"
      ],
      "execution_count": 0,
      "outputs": [
        {
          "output_type": "stream",
          "text": [
            "Test Accuracy: 0.9939291401273885\n"
          ],
          "name": "stdout"
        }
      ]
    }
  ]
}