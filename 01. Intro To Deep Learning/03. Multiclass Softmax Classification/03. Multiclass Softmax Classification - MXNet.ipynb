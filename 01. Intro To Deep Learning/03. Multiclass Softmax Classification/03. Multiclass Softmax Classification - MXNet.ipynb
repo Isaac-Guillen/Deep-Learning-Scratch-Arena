{
 "cells": [
  {
   "cell_type": "markdown",
   "metadata": {
    "colab_type": "text",
    "id": "LCa6wPFvWFBp"
   },
   "source": [
    "# Multiclass Softmax Classification - MXNet (From Scratch)"
   ]
  },
  {
   "cell_type": "code",
   "execution_count": 1,
   "metadata": {
    "colab": {
     "base_uri": "https://localhost:8080/",
     "height": 50
    },
    "colab_type": "code",
    "id": "CLGHa8i6WEaA",
    "outputId": "0294b208-b64b-48ce-b38e-a1f612ab2326"
   },
   "outputs": [
    {
     "name": "stdout",
     "output_type": "stream",
     "text": [
      "No of GPUs available on your system: 1\n",
      "Chosen device as your ctx: gpu(0)\n"
     ]
    }
   ],
   "source": [
    "import mxnet as mx\n",
    "from mxnet import nd, autograd, gluon\n",
    "import matplotlib.pyplot as plt\n",
    "\n",
    "ctx = mx.gpu() if mx.context.num_gpus() > 0 else mx.cpu()\n",
    "print('No of GPUs available on your system:', mx.context.num_gpus())\n",
    "print('Chosen device as your ctx:', ctx)"
   ]
  },
  {
   "cell_type": "markdown",
   "metadata": {
    "colab_type": "text",
    "id": "Cah5pMdxhOUK"
   },
   "source": [
    "## Getting our dataset"
   ]
  },
  {
   "cell_type": "code",
   "execution_count": null,
   "metadata": {
    "colab": {},
    "colab_type": "code",
    "id": "huuK9vLaWEcO"
   },
   "outputs": [],
   "source": [
    "def transform(data, label):\n",
    "    return data.astype('float32')/255.0, label.astype('float32')\n",
    "    # diving by 255 so that min and max of our data is 0 and 1 respectively.\n",
    "\n",
    "train_mnist = gluon.data.vision.MNIST(train = True, transform = transform)\n",
    "test_mnist = gluon.data.vision.MNIST(train = False, transform = transform)"
   ]
  },
  {
   "cell_type": "code",
   "execution_count": 3,
   "metadata": {
    "colab": {
     "base_uri": "https://localhost:8080/",
     "height": 34
    },
    "colab_type": "code",
    "id": "sAXcT8nSWEYo",
    "outputId": "25081bf8-af52-458d-bb30-897b51799c8d"
   },
   "outputs": [
    {
     "name": "stdout",
     "output_type": "stream",
     "text": [
      "(28, 28, 1) ()\n"
     ]
    }
   ],
   "source": [
    "image, label = train_mnist[0]\n",
    "print(image.shape, label.shape)"
   ]
  },
  {
   "cell_type": "code",
   "execution_count": 4,
   "metadata": {
    "colab": {
     "base_uri": "https://localhost:8080/",
     "height": 281
    },
    "colab_type": "code",
    "id": "SIQSLxiFWEXg",
    "outputId": "e8b2763a-1d9c-4263-f664-1cdbb88b4c11"
   },
   "outputs": [
    {
     "data": {
      "image/png": "[encoded data removed]",
      "text/plain": [
       "<Figure size 432x288 with 1 Axes>"
      ]
     },
     "metadata": {
      "tags": []
     },
     "output_type": "display_data"
    }
   ],
   "source": [
    "plt.imshow(image.reshape((28, 28)).asnumpy(), cmap = 'gray')\n",
    "plt.title(label)\n",
    "plt.show()\n"
   ]
  },
  {
   "cell_type": "markdown",
   "metadata": {
    "colab_type": "text",
    "id": "oF-WKS-xX73T"
   },
   "source": [
    "## Creating data loader for training and testing"
   ]
  },
  {
   "cell_type": "code",
   "execution_count": 5,
   "metadata": {
    "colab": {
     "base_uri": "https://localhost:8080/",
     "height": 34
    },
    "colab_type": "code",
    "id": "IVmMwE94WEWY",
    "outputId": "daf8cefa-3bd3-4045-f476-572d16eb1ae0"
   },
   "outputs": [
    {
     "name": "stdout",
     "output_type": "stream",
     "text": [
      "No of batches for batch size 64 is 938\n"
     ]
    }
   ],
   "source": [
    "batch_size = 64\n",
    "train_data = gluon.data.DataLoader(train_mnist, batch_size = batch_size, shuffle = True)\n",
    "test_data = gluon.data.DataLoader(test_mnist, batch_size = batch_size, shuffle = False)\n",
    "\n",
    "print('No of batches for batch size {} is {}'.format(batch_size, len(train_data)))"
   ]
  },
  {
   "cell_type": "markdown",
   "metadata": {
    "colab_type": "text",
    "id": "MmmmFd14hn1O"
   },
   "source": [
    "## Softmax funtion"
   ]
  },
  {
   "cell_type": "markdown",
   "metadata": {
    "colab": {
     "base_uri": "https://localhost:8080/",
     "height": 147
    },
    "colab_type": "code",
    "id": "wbOfJ0COh3Fn",
    "outputId": "2438bfb7-dd99-4e29-9118-a1dc2f4d1ea5"
   },
   "source": [
    "$\\text{softmax}\\left(x\\right) = \\large\\frac{x^{e}}{\\sum{x^{e}}}$"
   ]
  },
  {
   "cell_type": "code",
   "execution_count": 1,
   "metadata": {
    "colab": {},
    "colab_type": "code",
    "id": "FEXaPVOnhqsv"
   },
   "outputs": [],
   "source": [
    "def softmax(linear):\n",
    "    exp = nd.exp(linear - nd.max(linear, axis = 1).reshape((-1, 1)))\n",
    "    norms = nd.sum(exp, axis = 1).reshape((-1, 1))\n",
    "    return exp / norms"
   ]
  },
  {
   "cell_type": "markdown",
   "metadata": {},
   "source": [
    "## Building the model"
   ]
  },
  {
   "cell_type": "code",
   "execution_count": null,
   "metadata": {
    "colab": {},
    "colab_type": "code",
    "id": "u7Vdh54QWESq"
   },
   "outputs": [],
   "source": [
    "weight = nd.random.normal(shape = (784, 10), ctx = ctx)\n",
    "bias = nd.random.normal(shape = 10, ctx = ctx)\n",
    "params = [weight, bias]\n",
    "\n",
    "for param in params:\n",
    "    param.attach_grad()\n",
    "\n",
    "def softmaxclassification(inputs):\n",
    "    return softmax(nd.dot(inputs, weight) + bias)"
   ]
  },
  {
   "cell_type": "markdown",
   "metadata": {
    "colab_type": "text",
    "id": "HW4Jzb46EyyD"
   },
   "source": [
    "## Defining our objective function"
   ]
  },
  {
   "cell_type": "markdown",
   "metadata": {
    "colab_type": "text",
    "id": "Go_BO9nKh_qC"
   },
   "source": [
    "### Categorical cross entropy $\\left(x\\right) = \\sum{y_{i} * \\log{\\hat{y}_{i}}}$"
   ]
  },
  {
   "cell_type": "code",
   "execution_count": null,
   "metadata": {
    "colab": {},
    "colab_type": "code",
    "id": "avO1uf5fItMV"
   },
   "outputs": [],
   "source": [
    "def categoricalcrossentropy(predictions, labels):\n",
    "    return -nd.sum(labels * nd.log(predictions))"
   ]
  },
  {
   "cell_type": "markdown",
   "metadata": {
    "colab_type": "text",
    "id": "aKSx43yShlhM"
   },
   "source": [
    "## Defining our parameters optimizer(Gradient Decent)"
   ]
  },
  {
   "cell_type": "code",
   "execution_count": null,
   "metadata": {
    "colab": {},
    "colab_type": "code",
    "id": "hvFKa4WuI9c-"
   },
   "outputs": [],
   "source": [
    "def sgd(params, lr):\n",
    "    for param in params:\n",
    "        param[:] = param - lr * param.grad"
   ]
  },
  {
   "cell_type": "markdown",
   "metadata": {
    "colab_type": "text",
    "id": "lbHoiGM3ZrQY"
   },
   "source": [
    "## Defining our accuracy function"
   ]
  },
  {
   "cell_type": "code",
   "execution_count": null,
   "metadata": {
    "colab": {},
    "colab_type": "code",
    "id": "-3osTW97ZuHR"
   },
   "outputs": [],
   "source": [
    "def accuracy(predictions, labels):\n",
    "    return nd.mean(predictions.argmax(1) == labels.argmax(1))"
   ]
  },
  {
   "cell_type": "markdown",
   "metadata": {
    "colab_type": "text",
    "id": "UlkEn5XxFPkd"
   },
   "source": [
    "## Training the model"
   ]
  },
  {
   "cell_type": "markdown",
   "metadata": {
    "colab_type": "text",
    "id": "pBBurQL2janW"
   },
   "source": [
    "## Understanding one hot representation\n",
    "\n",
    "- If the label is 0 then it's one hot vector is [1, 0, 0, 0, 0, 0, 0, 0, 0, 0]\n",
    "\n",
    "- If the label is 1 then it's one hot vector is [0, 1, 0, 0, 0, 0, 0, 0, 0, 0]\n",
    "\n",
    "- If the label is 2 then it's one hot vector is [0, 0, 1, 0, 0, 0, 0, 0, 0, 0]"
   ]
  },
  {
   "cell_type": "code",
   "execution_count": 14,
   "metadata": {
    "colab": {
     "base_uri": "https://localhost:8080/",
     "height": 353
    },
    "colab_type": "code",
    "id": "kVao6lbWCizF",
    "outputId": "7bbc8832-ed59-47bb-94ab-8bde705e129e"
   },
   "outputs": [
    {
     "name": "stdout",
     "output_type": "stream",
     "text": [
      "Epoch: 0 Loss: 166.87108542110875 Accuracy: 0.6077258795309168\n",
      "Epoch: 1 Loss: 69.74727645255864 Accuracy: 0.7869469616204691\n",
      "Epoch: 2 Loss: 55.523624900053306 Accuracy: 0.8232276119402985\n",
      "Epoch: 3 Loss: 48.41943463486141 Accuracy: 0.8405350479744137\n",
      "Epoch: 4 Loss: 43.90106942963752 Accuracy: 0.8513459488272921\n",
      "Epoch: 5 Loss: 40.73669459621535 Accuracy: 0.859358342217484\n",
      "Epoch: 6 Loss: 38.32090385127932 Accuracy: 0.8653884594882729\n",
      "Epoch: 7 Loss: 36.39406066764392 Accuracy: 0.8696695095948828\n",
      "Epoch: 8 Loss: 34.838059285047976 Accuracy: 0.8740338486140725\n",
      "Epoch: 9 Loss: 33.51272654584222 Accuracy: 0.8773820628997868\n",
      "Epoch: 10 Loss: 32.35088994203092 Accuracy: 0.8799806769722814\n",
      "Epoch: 11 Loss: 31.425745852212152 Accuracy: 0.8827292110874201\n",
      "Epoch: 12 Loss: 30.512122701226012 Accuracy: 0.8856609808102346\n",
      "Epoch: 13 Loss: 29.773439582222814 Accuracy: 0.8876265991471215\n",
      "Epoch: 14 Loss: 29.096825443097014 Accuracy: 0.8897754530916845\n",
      "Epoch: 15 Loss: 28.446257829157783 Accuracy: 0.8907915778251599\n",
      "Epoch: 16 Loss: 27.893371451892325 Accuracy: 0.8928404850746269\n",
      "Epoch: 17 Loss: 27.363150069962686 Accuracy: 0.8935900852878464\n",
      "Epoch: 18 Loss: 26.889294459621535 Accuracy: 0.8953058368869936\n",
      "Epoch: 19 Loss: 26.44102728544776 Accuracy: 0.8962386727078892\n"
     ]
    }
   ],
   "source": [
    "epochs = 20\n",
    "num_batches = len(train_data)\n",
    "learning_rate = .001 # you can change it to 0.01 for faster training\n",
    "losses = []\n",
    "accs = []\n",
    "\n",
    "for epoch in range(epochs):\n",
    "    cumulative_loss = 0\n",
    "    cumulative_acc = 0\n",
    "    for features, labels in train_data:\n",
    "        features = features.as_in_context(ctx).reshape((-1, 784))\n",
    "        labels = labels.as_in_context(ctx).one_hot(10)\n",
    "        \n",
    "        with autograd.record():\n",
    "            output = softmaxclassification(features)\n",
    "            loss = categoricalcrossentropy(output, labels)\n",
    "        loss.backward()\n",
    "        sgd(params, learning_rate)\n",
    "        \n",
    "        cumulative_loss += loss\n",
    "        cumulative_acc += accuracy(output, labels)\n",
    "        \n",
    "    print(f'Epoch: {epoch} Loss: {cumulative_loss.asscalar()/num_batches} Accuracy: {cumulative_acc.asscalar()/num_batches}')\n",
    "    losses.append(cumulative_loss.asscalar()/num_batches)\n",
    "    accs.append(cumulative_acc.asscalar()/num_batches)"
   ]
  },
  {
   "cell_type": "markdown",
   "metadata": {
    "colab_type": "text",
    "id": "JJOc7DOepwEE"
   },
   "source": [
    "## Lets see test accuracy"
   ]
  },
  {
   "cell_type": "code",
   "execution_count": 16,
   "metadata": {
    "colab": {
     "base_uri": "https://localhost:8080/",
     "height": 34
    },
    "colab_type": "code",
    "id": "dvvQC3oQYu5A",
    "outputId": "86f2d1c0-38e7-423b-e15e-ae3b15773081"
   },
   "outputs": [
    {
     "name": "stdout",
     "output_type": "stream",
     "text": [
      "Test Accuracy: 0.8939092356687898\n"
     ]
    }
   ],
   "source": [
    "acc = 0.0\n",
    "test_batches = len(test_data)\n",
    "for features, labels in test_data:\n",
    "    features = features.as_in_context(ctx).reshape((-1, 784))\n",
    "    labels = labels.as_in_context(ctx).one_hot(10)\n",
    "    predictions = softmaxclassification(features)\n",
    "    acc += accuracy(predictions, labels)\n",
    "    \n",
    "print(f'Test Accuracy: {acc.asscalar()/test_batches}')"
   ]
  },
  {
   "cell_type": "code",
   "execution_count": null,
   "metadata": {
    "colab": {},
    "colab_type": "code",
    "id": "hIBgjWVBYu3t"
   },
   "outputs": [],
   "source": [
    "def plot(losses = losses, accs = accs, model = softmaxclassification):\n",
    "    samples = 16\n",
    "    plt.plot(losses, 'r')\n",
    "    plt.title('Loss during Training')\n",
    "    plt.xlabel('Epoch')\n",
    "    plt.ylabel('Loss')\n",
    "    plt.show()\n",
    "    \n",
    "    plt.plot(accs, 'g')\n",
    "    plt.title('Accuracy during Training')\n",
    "    plt.xlabel('Epoch')\n",
    "    plt.ylabel('Accuracy')\n",
    "    plt.show()\n",
    "    \n",
    "    plt.figure(figsize = (15, 15))\n",
    "\n",
    "    for i, example in enumerate(test_mnist, 1):\n",
    "        features = example[0].as_in_context(ctx).reshape((1, 784))\n",
    "        labels = example[1]\n",
    "        predictions = softmaxclassification(features).argmax(1).asscalar()\n",
    "        plt.subplot(4, 4, i)\n",
    "        plt.imshow(features.reshape((28, 28)).asnumpy(), cmap = 'gray')\n",
    "        plt.axis('off')\n",
    "        plt.title(f'Predicted: {predictions}, Target: {labels}')\n",
    "        if i == samples:\n",
    "            break\n",
    "    plt.show()"
   ]
  },
  {
   "cell_type": "code",
   "execution_count": 43,
   "metadata": {
    "colab": {
     "base_uri": "https://localhost:8080/",
     "height": 1000
    },
    "colab_type": "code",
    "id": "mkorWu1EYu2b",
    "outputId": "0836fd04-bc92-4836-8447-ff42da40eeaa"
   },
   "outputs": [
    {
     "data": {
      "image/png": "[encoded data removed]",
      "text/plain": [
       "<Figure size 432x288 with 1 Axes>"
      ]
     },
     "metadata": {
      "tags": []
     },
     "output_type": "display_data"
    },
    {
     "data": {
      "image/png": "[encoded data removed]",
      "text/plain": [
       "<Figure size 432x288 with 1 Axes>"
      ]
     },
     "metadata": {
      "tags": []
     },
     "output_type": "display_data"
    },
    {
     "data": {
      "image/png": "[encoded data removed]",
      "text/plain": [
       "<Figure size 1080x1080 with 16 Axes>"
      ]
     },
     "metadata": {
      "tags": []
     },
     "output_type": "display_data"
    }
   ],
   "source": [
    "plot()"
   ]
  },
  {
   "cell_type": "code",
   "execution_count": null,
   "metadata": {
    "colab": {},
    "colab_type": "code",
    "id": "UjHMSfJ6Yu1G"
   },
   "outputs": [],
   "source": []
  },
  {
   "cell_type": "code",
   "execution_count": null,
   "metadata": {
    "colab": {},
    "colab_type": "code",
    "id": "aziPBGReYuzI"
   },
   "outputs": [],
   "source": []
  }
 ],
 "metadata": {
  "accelerator": "GPU",
  "colab": {
   "collapsed_sections": [],
   "name": "Multiclass Softmax Classification - MXNet (From Scratch).ipynb",
   "provenance": [],
   "version": "0.3.2"
  },
  "kernelspec": {
   "display_name": "Python 3",
   "language": "python",
   "name": "python3"
  },
  "language_info": {
   "codemirror_mode": {
    "name": "ipython",
    "version": 3
   },
   "file_extension": ".py",
   "mimetype": "text/x-python",
   "name": "python",
   "nbconvert_exporter": "python",
   "pygments_lexer": "ipython3",
   "version": "3.7.7"
  }
 },
 "nbformat": 4,
 "nbformat_minor": 4
}
