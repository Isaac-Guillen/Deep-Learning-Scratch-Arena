{
 "cells": [
  {
   "cell_type": "markdown",
   "metadata": {},
   "source": [
    "# Multiclass Softmax Classification - Pytorch (From Scratch)"
   ]
  },
  {
   "cell_type": "code",
   "execution_count": 1,
   "metadata": {},
   "outputs": [
    {
     "name": "stdout",
     "output_type": "stream",
     "text": [
      "Chosen device: cuda\n"
     ]
    }
   ],
   "source": [
    "import torch\n",
    "from torch import nn\n",
    "from torchvision import datasets\n",
    "import matplotlib.pyplot as plt\n",
    "\n",
    "device = 'cuda' if torch.cuda.is_available() else 'cpu' # will select 'cuda' is gpu is available otherwise 'cpu'\n",
    "print('Chosen device:', device)"
   ]
  },
  {
   "cell_type": "markdown",
   "metadata": {},
   "source": [
    "## Getting our dataset"
   ]
  },
  {
   "cell_type": "code",
   "execution_count": 2,
   "metadata": {},
   "outputs": [],
   "source": [
    "# transform = lambda image: torch.FloatTensor(image.getdata())/255.0\n",
    "# or \n",
    "def transform(image):\n",
    "    return torch.FloatTensor(image.getdata())/255.0\n",
    "\n",
    "train_mnist = datasets.FashionMNIST(root = '~/data', train = True, transform = transform, download = True)\n",
    "test_mnist = datasets.FashionMNIST(root = '~/data', train = False, transform = transform, download = True)"
   ]
  },
  {
   "cell_type": "code",
   "execution_count": 3,
   "metadata": {},
   "outputs": [
    {
     "name": "stdout",
     "output_type": "stream",
     "text": [
      "torch.Size([784]) 9\n"
     ]
    }
   ],
   "source": [
    "image, label = train_mnist[0]\n",
    "print(image.shape, label)"
   ]
  },
  {
   "cell_type": "code",
   "execution_count": 4,
   "metadata": {},
   "outputs": [
    {
     "data": {
      "image/png": "[encoded data removed]",
      "text/plain": [
       "<Figure size 432x288 with 1 Axes>"
      ]
     },
     "metadata": {
      "needs_background": "light"
     },
     "output_type": "display_data"
    }
   ],
   "source": [
    "plt.imshow(image.reshape(28, 28), cmap = 'gray')\n",
    "plt.title(label)\n",
    "plt.show()"
   ]
  },
  {
   "cell_type": "markdown",
   "metadata": {},
   "source": [
    "## Creating data loader for training and testing"
   ]
  },
  {
   "cell_type": "code",
   "execution_count": 5,
   "metadata": {},
   "outputs": [
    {
     "name": "stdout",
     "output_type": "stream",
     "text": [
      "No of batches for batch size 64 is 938\n"
     ]
    }
   ],
   "source": [
    "batch_size = 64\n",
    "train_data = torch.utils.data.DataLoader(train_mnist, batch_size = batch_size, shuffle = True)\n",
    "test_data = torch.utils.data.DataLoader(test_mnist, batch_size = batch_size, shuffle = False)\n",
    "\n",
    "print('No of batches for batch size {} is {}'.format(batch_size, len(train_data)))"
   ]
  },
  {
   "cell_type": "markdown",
   "metadata": {},
   "source": [
    "## Softmax function"
   ]
  },
  {
   "cell_type": "markdown",
   "metadata": {},
   "source": [
    "$\\text{softmax}\\left(x\\right) = \\Large\\frac{x_{i}^{e}}{\\sum{x_{i}^{e}}}$"
   ]
  },
  {
   "cell_type": "code",
   "execution_count": 6,
   "metadata": {},
   "outputs": [],
   "source": [
    "def softmax(linear):\n",
    "    exp = torch.exp(linear - torch.max(linear, axis = 1)[0].reshape(-1, 1))\n",
    "    # subtracting max for numerical statbility... (it does not affect the outputs)\n",
    "    norms = torch.sum(exp, axis = 1).reshape(-1, 1)\n",
    "    return exp / norms"
   ]
  },
  {
   "cell_type": "markdown",
   "metadata": {},
   "source": [
    "## Building Softmax Classification Model\n",
    "\n",
    "In pytorch, parameters can be declared using `torch.nn.Parameter`."
   ]
  },
  {
   "cell_type": "code",
   "execution_count": 7,
   "metadata": {},
   "outputs": [
    {
     "name": "stdout",
     "output_type": "stream",
     "text": [
      "Parameter containing:\n",
      "tensor([[-1.1620, -0.4008,  0.2235,  ..., -0.2882, -1.4073,  0.8142],\n",
      "        [ 0.3057, -0.0340, -0.4744,  ...,  0.1168, -0.8009, -0.0691],\n",
      "        [ 0.0181, -0.1860,  0.1091,  ...,  0.0448,  1.4778,  0.0845],\n",
      "        ...,\n",
      "        [ 1.2704, -0.5624,  0.9293,  ...,  1.2590,  0.6020,  2.1873],\n",
      "        [-1.3132,  2.0698,  1.3379,  ..., -1.4376, -0.7294,  0.5738],\n",
      "        [-1.2770,  1.1492,  0.5689,  ..., -2.9579,  0.1672, -0.8377]],\n",
      "       device='cuda:0', requires_grad=True)\n",
      "Parameter containing:\n",
      "tensor([-0.1625,  0.8590,  0.1021, -2.2032,  1.3266, -0.7909,  0.2376, -0.2251,\n",
      "         1.6639,  0.4337], device='cuda:0', requires_grad=True)\n"
     ]
    }
   ],
   "source": [
    "weights = nn.Parameter(torch.randn(784, 10, device = device))\n",
    "bias = nn.Parameter(torch.randn(10, device = device))\n",
    "params = [weights, bias]\n",
    "\n",
    "print(weights)\n",
    "print(bias)\n",
    "\n",
    "def softmaxclassification(inputs):\n",
    "    return softmax(torch.mm(inputs, weights) + bias) # mm stands for matrix multiplication"
   ]
  },
  {
   "cell_type": "markdown",
   "metadata": {},
   "source": [
    "## Defining our objective function"
   ]
  },
  {
   "cell_type": "markdown",
   "metadata": {},
   "source": [
    "### Categorical cross entropy $\\left(x\\right) = \\sum{y_{i} * \\log{\\hat{y}_{i}}}$"
   ]
  },
  {
   "cell_type": "code",
   "execution_count": 8,
   "metadata": {},
   "outputs": [],
   "source": [
    "def categoricalcrossentropy(predictions, labels):\n",
    "    return -torch.sum(labels * torch.log(predictions))"
   ]
  },
  {
   "cell_type": "markdown",
   "metadata": {},
   "source": [
    "## Defining our parameters optimizer(Gradient Decent)"
   ]
  },
  {
   "cell_type": "code",
   "execution_count": 9,
   "metadata": {},
   "outputs": [],
   "source": [
    "def sgd(params, lr):\n",
    "    with torch.no_grad():\n",
    "        # doing all the parameter updated inside torch.no_grad, because we don't want to record any computation of sgd for backward pass....\n",
    "        for param in params:\n",
    "            param -= lr * param.grad\n",
    "            param.grad.zero_() # zeroing the gradient of after each update so that it would't affect the gradients of for the next update"
   ]
  },
  {
   "cell_type": "markdown",
   "metadata": {},
   "source": [
    "## Defining our accuracy function"
   ]
  },
  {
   "cell_type": "code",
   "execution_count": 10,
   "metadata": {},
   "outputs": [],
   "source": [
    "def accuracy(predictions, labels):\n",
    "    return (predictions.argmax(1) == labels.argmax(1)).float().mean()"
   ]
  },
  {
   "cell_type": "markdown",
   "metadata": {},
   "source": [
    "## Understanding one hot representation\n",
    "\n",
    "- If the label is 0 then it's one hot vector is [1, 0, 0, 0, 0, 0, 0, 0, 0, 0]\n",
    "\n",
    "- If the label is 1 then it's one hot vector is [0, 1, 0, 0, 0, 0, 0, 0, 0, 0]\n",
    "\n",
    "- If the label is 2 then it's one hot vector is [0, 0, 1, 0, 0, 0, 0, 0, 0, 0]"
   ]
  },
  {
   "cell_type": "code",
   "execution_count": 11,
   "metadata": {},
   "outputs": [],
   "source": [
    "import torch.nn.functional as F\n",
    "\n",
    "def onehot(label):\n",
    "    return F.one_hot(label, 10).float()"
   ]
  },
  {
   "cell_type": "code",
   "execution_count": 12,
   "metadata": {},
   "outputs": [
    {
     "name": "stdout",
     "output_type": "stream",
     "text": [
      "Epoch: 0 Loss: 161.68690490722656 Accuracy: 0.582939088344574\n",
      "Epoch: 1 Loss: 87.1893539428711 Accuracy: 0.7091384530067444\n",
      "Epoch: 2 Loss: 73.98818969726562 Accuracy: 0.7405384182929993\n",
      "Epoch: 3 Loss: 66.62698364257812 Accuracy: 0.7581290006637573\n",
      "Epoch: 4 Loss: 61.616127014160156 Accuracy: 0.7681736350059509\n",
      "Epoch: 5 Loss: 57.935890197753906 Accuracy: 0.7771188616752625\n",
      "Epoch: 6 Loss: 55.00849533081055 Accuracy: 0.7838652729988098\n",
      "Epoch: 7 Loss: 52.60319900512695 Accuracy: 0.7891291379928589\n",
      "Epoch: 8 Loss: 50.6026725769043 Accuracy: 0.7945262789726257\n",
      "Epoch: 9 Loss: 48.81060791015625 Accuracy: 0.7976246476173401\n",
      "Epoch: 10 Loss: 47.330238342285156 Accuracy: 0.801039457321167\n",
      "Epoch: 11 Loss: 46.025367736816406 Accuracy: 0.8050540089607239\n",
      "Epoch: 12 Loss: 44.84469985961914 Accuracy: 0.8069030046463013\n",
      "Epoch: 13 Loss: 43.834373474121094 Accuracy: 0.8089352250099182\n",
      "Epoch: 14 Loss: 42.887935638427734 Accuracy: 0.8115005493164062\n",
      "Epoch: 15 Loss: 41.95487976074219 Accuracy: 0.8132496476173401\n",
      "Epoch: 16 Loss: 41.16059875488281 Accuracy: 0.8158981800079346\n",
      "Epoch: 17 Loss: 40.421722412109375 Accuracy: 0.8181136846542358\n",
      "Epoch: 18 Loss: 39.78371047973633 Accuracy: 0.8181969523429871\n",
      "Epoch: 19 Loss: 39.18998336791992 Accuracy: 0.8213785886764526\n"
     ]
    }
   ],
   "source": [
    "epochs = 20\n",
    "num_batches = len(train_data)\n",
    "learning_rate = .001 # you can change it to 0.01 for faster training\n",
    "losses = []\n",
    "accs = []\n",
    "\n",
    "for epoch in range(epochs):\n",
    "    cumulative_loss = 0\n",
    "    cumulative_acc = 0\n",
    "    for features, labels in train_data:\n",
    "        features = features.to(device) # .to(device) put features stored in cpu to device(which we have initialized above)\n",
    "        labels = onehot(labels.to(device)) # .to(device) put labels stored in cpu to device(which we have initialized above)\n",
    "        \n",
    "        outputs = softmaxclassification(features)\n",
    "        loss = categoricalcrossentropy(outputs, labels)\n",
    "        loss.backward()\n",
    "\n",
    "        sgd(params, learning_rate)\n",
    "        \n",
    "        with torch.no_grad():\n",
    "            cumulative_loss += loss        \n",
    "            cumulative_acc += accuracy(outputs, labels)\n",
    "\n",
    "    print(f'Epoch: {epoch} Loss: {cumulative_loss/num_batches} Accuracy: {cumulative_acc/num_batches}')\n",
    "    losses.append(cumulative_loss/num_batches)\n",
    "    accs.append(cumulative_acc/num_batches)"
   ]
  },
  {
   "cell_type": "markdown",
   "metadata": {},
   "source": [
    "## Lets see test accuracy"
   ]
  },
  {
   "cell_type": "code",
   "execution_count": 14,
   "metadata": {},
   "outputs": [
    {
     "name": "stdout",
     "output_type": "stream",
     "text": [
      "Test Accuracy: 0.8110072016716003\n"
     ]
    }
   ],
   "source": [
    "acc = 0.0\n",
    "test_batches = len(test_data)\n",
    "for features, labels in test_data:\n",
    "    features = features.to(device) # .to(device) put features stored in cpu to device(which we have initialized above)\n",
    "    labels = onehot(labels.to(device)) # .to(device) put labels stored in cpu to device(which we have initialized above)\n",
    "    outputs = softmaxclassification(features)\n",
    "    acc += accuracy(outputs, labels)\n",
    "    \n",
    "print(f'Test Accuracy: {acc/test_batches}')"
   ]
  },
  {
   "cell_type": "code",
   "execution_count": 31,
   "metadata": {},
   "outputs": [],
   "source": [
    "def plot(losses = losses, accs = accs, model = softmaxclassification):\n",
    "    samples = 16\n",
    "    plt.plot(losses, 'r')\n",
    "    plt.title('Loss during Training')\n",
    "    plt.xlabel('Epoch')\n",
    "    plt.ylabel('Loss')\n",
    "    plt.show()\n",
    "    \n",
    "    plt.plot(accs, 'g')\n",
    "    plt.title('Accuracy during Training')\n",
    "    plt.xlabel('Epoch')\n",
    "    plt.ylabel('Accuracy')\n",
    "    plt.show()\n",
    "    \n",
    "    plt.figure(figsize = (15, 15))\n",
    "\n",
    "    for i, example in enumerate(test_mnist, 1):\n",
    "        features = example[0].to(device).reshape(1, -1)\n",
    "        labels = example[1]\n",
    "        outputs = model(features).argmax(1)\n",
    "        plt.subplot(4, 4, i)\n",
    "        plt.imshow(features[0].cpu().reshape(28, 28), cmap = 'gray')\n",
    "        plt.axis('off')\n",
    "        plt.title(f'Predicted: {outputs.item()}, Target: {labels}')\n",
    "        if i == samples:\n",
    "            break\n",
    "    plt.show()"
   ]
  },
  {
   "cell_type": "code",
   "execution_count": 32,
   "metadata": {},
   "outputs": [
    {
     "data": {
      "image/png": "[encoded data removed]",
      "text/plain": [
       "<Figure size 432x288 with 1 Axes>"
      ]
     },
     "metadata": {
      "needs_background": "light"
     },
     "output_type": "display_data"
    },
    {
     "data": {
      "image/png": "[encoded data removed]",
      "text/plain": [
       "<Figure size 432x288 with 1 Axes>"
      ]
     },
     "metadata": {
      "needs_background": "light"
     },
     "output_type": "display_data"
    },
    {
     "data": {
      "image/png": "[encoded data removed]",
      "text/plain": [
       "<Figure size 1080x1080 with 16 Axes>"
      ]
     },
     "metadata": {
      "needs_background": "light"
     },
     "output_type": "display_data"
    }
   ],
   "source": [
    "plot()"
   ]
  }
 ],
 "metadata": {
  "kernelspec": {
   "display_name": "Python 3.7.5 64-bit",
   "language": "python",
   "name": "python37564bit78abdacf64e443609f57f8757402df21"
  },
  "language_info": {
   "codemirror_mode": {
    "name": "ipython",
    "version": 3
   },
   "file_extension": ".py",
   "mimetype": "text/x-python",
   "name": "python",
   "nbconvert_exporter": "python",
   "pygments_lexer": "ipython3",
   "version": "3.7.7"
  }
 },
 "nbformat": 4,
 "nbformat_minor": 4
}
