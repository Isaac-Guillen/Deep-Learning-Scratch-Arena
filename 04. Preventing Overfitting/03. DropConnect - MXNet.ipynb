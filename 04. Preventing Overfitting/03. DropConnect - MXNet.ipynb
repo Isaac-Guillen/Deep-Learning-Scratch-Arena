{
  "nbformat": 4,
  "nbformat_minor": 0,
  "metadata": {
    "colab": {
      "name": "DropConnect - MXNet (From Scratch).ipynb",
      "version": "0.3.2",
      "provenance": [],
      "collapsed_sections": []
    },
    "kernelspec": {
      "name": "python3",
      "display_name": "Python 3"
    },
    "accelerator": "GPU"
  },
  "cells": [
    {
      "cell_type": "code",
      "metadata": {
        "id": "L3KIZndDdgt4",
        "colab_type": "code",
        "outputId": "498a59f0-6893-491e-f1e3-18834c017d35",
        "colab": {
          "base_uri": "https://localhost:8080/",
          "height": 155
        }
      },
      "source": [
        "!pip install mxnet-cu100"
      ],
      "execution_count": 1,
      "outputs": [
        {
          "output_type": "stream",
          "text": [
            "Requirement already satisfied: mxnet-cu100 in /usr/local/lib/python3.6/dist-packages (1.4.1)\n",
            "Requirement already satisfied: numpy<1.15.0,>=1.8.2 in /usr/local/lib/python3.6/dist-packages (from mxnet-cu100) (1.14.6)\n",
            "Requirement already satisfied: graphviz<0.9.0,>=0.8.1 in /usr/local/lib/python3.6/dist-packages (from mxnet-cu100) (0.8.4)\n",
            "Requirement already satisfied: requests>=2.20.0 in /usr/local/lib/python3.6/dist-packages (from mxnet-cu100) (2.21.0)\n",
            "Requirement already satisfied: chardet<3.1.0,>=3.0.2 in /usr/local/lib/python3.6/dist-packages (from requests>=2.20.0->mxnet-cu100) (3.0.4)\n",
            "Requirement already satisfied: certifi>=2017.4.17 in /usr/local/lib/python3.6/dist-packages (from requests>=2.20.0->mxnet-cu100) (2019.3.9)\n",
            "Requirement already satisfied: idna<2.9,>=2.5 in /usr/local/lib/python3.6/dist-packages (from requests>=2.20.0->mxnet-cu100) (2.8)\n",
            "Requirement already satisfied: urllib3<1.25,>=1.21.1 in /usr/local/lib/python3.6/dist-packages (from requests>=2.20.0->mxnet-cu100) (1.24.3)\n"
          ],
          "name": "stdout"
        }
      ]
    },
    {
      "cell_type": "markdown",
      "metadata": {
        "id": "1YN4PT_Idstj",
        "colab_type": "text"
      },
      "source": [
        "#MXNet (From Scratch)"
      ]
    },
    {
      "cell_type": "code",
      "metadata": {
        "id": "CLGHa8i6WEaA",
        "colab_type": "code",
        "colab": {}
      },
      "source": [
        "import mxnet as mx\n",
        "from mxnet import nd, autograd, gluon\n",
        "import matplotlib.pyplot as plt\n",
        "\n",
        "mx.random.seed(1)\n",
        "\n",
        "data_ctx = mx.cpu()\n",
        "model_ctx = mx.gpu()"
      ],
      "execution_count": 0,
      "outputs": []
    },
    {
      "cell_type": "code",
      "metadata": {
        "id": "huuK9vLaWEcO",
        "colab_type": "code",
        "colab": {
          "base_uri": "https://localhost:8080/",
          "height": 106
        },
        "outputId": "ec3b997e-e90a-4df7-b53b-6429938ffc5a"
      },
      "source": [
        "def transform(data, label):\n",
        "    return data.astype('float32')/255.0, label.astype('float32')\n",
        "\n",
        "train_mnist = gluon.data.vision.MNIST(train = True, transform = transform)\n",
        "test_mnist = gluon.data.vision.MNIST(train = False, transform = transform)"
      ],
      "execution_count": 3,
      "outputs": [
        {
          "output_type": "stream",
          "text": [
            "Downloading /root/.mxnet/datasets/mnist/train-images-idx3-ubyte.gz from https://apache-mxnet.s3-accelerate.dualstack.amazonaws.com/gluon/dataset/mnist/train-images-idx3-ubyte.gz...\n",
            "Downloading /root/.mxnet/datasets/mnist/train-labels-idx1-ubyte.gz from https://apache-mxnet.s3-accelerate.dualstack.amazonaws.com/gluon/dataset/mnist/train-labels-idx1-ubyte.gz...\n",
            "Downloading /root/.mxnet/datasets/mnist/t10k-images-idx3-ubyte.gz from https://apache-mxnet.s3-accelerate.dualstack.amazonaws.com/gluon/dataset/mnist/t10k-images-idx3-ubyte.gz...\n",
            "Downloading /root/.mxnet/datasets/mnist/t10k-labels-idx1-ubyte.gz from https://apache-mxnet.s3-accelerate.dualstack.amazonaws.com/gluon/dataset/mnist/t10k-labels-idx1-ubyte.gz...\n"
          ],
          "name": "stdout"
        }
      ]
    },
    {
      "cell_type": "code",
      "metadata": {
        "id": "sAXcT8nSWEYo",
        "colab_type": "code",
        "outputId": "28e8241d-35c8-4a9e-a188-8323fc8b7796",
        "colab": {
          "base_uri": "https://localhost:8080/",
          "height": 34
        }
      },
      "source": [
        "image, label = train_mnist[798]\n",
        "print(image.shape, label.shape)"
      ],
      "execution_count": 4,
      "outputs": [
        {
          "output_type": "stream",
          "text": [
            "(28, 28, 1) ()\n"
          ],
          "name": "stdout"
        }
      ]
    },
    {
      "cell_type": "code",
      "metadata": {
        "id": "SIQSLxiFWEXg",
        "colab_type": "code",
        "outputId": "fde444c1-0b1a-483c-d60f-7ce821ec6663",
        "colab": {
          "base_uri": "https://localhost:8080/",
          "height": 281
        }
      },
      "source": [
        "plt.imshow(image.reshape((28, 28)).asnumpy())\n",
        "plt.title(label)\n",
        "plt.show()\n"
      ],
      "execution_count": 5,
      "outputs": [
        {
          "output_type": "display_data",
          "data": {
            "image/png": "[encoded data removed]",
            "text/plain": [
              "<Figure size 432x288 with 1 Axes>"
            ]
          },
          "metadata": {
            "tags": []
          }
        }
      ]
    },
    {
      "cell_type": "markdown",
      "metadata": {
        "id": "oF-WKS-xX73T",
        "colab_type": "text"
      },
      "source": [
        "##Creating data loader for training and testing"
      ]
    },
    {
      "cell_type": "code",
      "metadata": {
        "id": "IVmMwE94WEWY",
        "colab_type": "code",
        "colab": {}
      },
      "source": [
        "batch_size = 64\n",
        "training_data = gluon.data.DataLoader(train_mnist, batch_size = batch_size, shuffle = True)\n",
        "testing_data = gluon.data.DataLoader(test_mnist, batch_size = batch_size, shuffle = False)"
      ],
      "execution_count": 0,
      "outputs": []
    },
    {
      "cell_type": "markdown",
      "metadata": {
        "id": "5HUXvMyHYKoM",
        "colab_type": "text"
      },
      "source": [
        "##Building the model"
      ]
    },
    {
      "cell_type": "markdown",
      "metadata": {
        "id": "n6LpOyKS9gKf",
        "colab_type": "text"
      },
      "source": [
        "###Understanding dropout function"
      ]
    },
    {
      "cell_type": "code",
      "metadata": {
        "id": "u7Vdh54QWESq",
        "colab_type": "code",
        "colab": {}
      },
      "source": [
        "weight_scale = .01\n",
        "\n",
        "#  Allocate parameters for the first hidden layer\n",
        "W1 = nd.random_normal(shape = (784, 256), scale=weight_scale, ctx=model_ctx)\n",
        "b1 = nd.random_normal(shape = 256, scale=weight_scale, ctx=model_ctx)\n",
        "\n",
        "#  Allocate parameters for the second hidden layer\n",
        "W2 = nd.random_normal(shape = (256, 128), scale=weight_scale, ctx=model_ctx)\n",
        "b2 = nd.random_normal(shape = 128, scale=weight_scale, ctx=model_ctx)\n",
        "\n",
        "#  Allocate parameters for the output layer\n",
        "W3 = nd.random_normal(shape=(128, 10), scale=weight_scale, ctx=model_ctx)\n",
        "b3 = nd.random_normal(shape=10, scale=weight_scale, ctx=model_ctx)\n",
        "\n",
        "params = [W1, b1, W2, b2, W3, b3]\n",
        "\n",
        "for param in params:\n",
        "    param.attach_grad()\n",
        "    \n",
        "def dropconnect(weight, drop_prob = 0.5):\n",
        "    # drop_prob is what is the probability that a each neuron will get droped\n",
        "    keep_prob = 1 - drop_prob\n",
        "    mask = nd.random.uniform(0, 1, weight.shape).as_in_context(model_ctx) < keep_prob\n",
        "    scale = 1/keep_prob if keep_prob > 0.0 else 0.0\n",
        "    return weight * mask * scale\n",
        "\n",
        "def neuralnetworks(inputs):\n",
        "    layer1 = nd.relu(nd.dot(inputs, dropconnect(W1, 0.2)) + b1)\n",
        "    layer2 = nd.relu(nd.dot(layer1, dropconnect(W2, 0.2)) + b2)\n",
        "    return nd.softmax(nd.dot(layer2, dropconnect(W3, 0.2)) + b3)"
      ],
      "execution_count": 0,
      "outputs": []
    },
    {
      "cell_type": "markdown",
      "metadata": {
        "id": "HW4Jzb46EyyD",
        "colab_type": "text"
      },
      "source": [
        "##Defining our objective function"
      ]
    },
    {
      "cell_type": "code",
      "metadata": {
        "id": "avO1uf5fItMV",
        "colab_type": "code",
        "colab": {}
      },
      "source": [
        "def categoricalcrossentropy(predictions, labels):\n",
        "    return -nd.sum(labels * nd.log(predictions))"
      ],
      "execution_count": 0,
      "outputs": []
    },
    {
      "cell_type": "markdown",
      "metadata": {
        "id": "3qr1NTDkE7Kh",
        "colab_type": "text"
      },
      "source": [
        "##Defining our parameters optimizer"
      ]
    },
    {
      "cell_type": "code",
      "metadata": {
        "id": "hvFKa4WuI9c-",
        "colab_type": "code",
        "colab": {}
      },
      "source": [
        "def sgd(params, lr):\n",
        "    for param in params:\n",
        "        param[:] = param - lr * param.grad"
      ],
      "execution_count": 0,
      "outputs": []
    },
    {
      "cell_type": "markdown",
      "metadata": {
        "id": "lbHoiGM3ZrQY",
        "colab_type": "text"
      },
      "source": [
        "##Defining our accuracy function"
      ]
    },
    {
      "cell_type": "code",
      "metadata": {
        "id": "-3osTW97ZuHR",
        "colab_type": "code",
        "colab": {}
      },
      "source": [
        "def accuracy(predictions, labels):\n",
        "    return nd.mean(predictions.argmax(1) == labels.argmax(1))"
      ],
      "execution_count": 0,
      "outputs": []
    },
    {
      "cell_type": "markdown",
      "metadata": {
        "id": "UlkEn5XxFPkd",
        "colab_type": "text"
      },
      "source": [
        "##Training the  model"
      ]
    },
    {
      "cell_type": "code",
      "metadata": {
        "id": "kVao6lbWCizF",
        "colab_type": "code",
        "outputId": "91119fa5-a71e-4497-9802-2af25f263cab",
        "colab": {
          "base_uri": "https://localhost:8080/",
          "height": 190
        }
      },
      "source": [
        "epochs = 10\n",
        "num_batches = 60000/batch_size\n",
        "learning_rate = .001\n",
        "losses = []\n",
        "accs = []\n",
        "\n",
        "for epoch in range(epochs):\n",
        "    cumulative_loss = 0\n",
        "    cumulative_acc = 0\n",
        "    for features, labels in training_data:\n",
        "        features = features.as_in_context(model_ctx).reshape((-1, 784))\n",
        "        labels = labels.as_in_context(model_ctx).one_hot(10)\n",
        "        with autograd.record():\n",
        "            output = neuralnetworks(features)\n",
        "            loss = categoricalcrossentropy(output, labels)\n",
        "        loss.backward()\n",
        "        sgd(params, learning_rate)\n",
        "        cumulative_loss += loss\n",
        "        cumulative_acc += accuracy(output, labels)\n",
        "    print(f'Epoch: {epoch} Loss: {cumulative_loss.asscalar()/num_batches} Accuracy: {cumulative_acc.asscalar()/num_batches}')\n",
        "    losses.append(cumulative_loss.asscalar()/num_batches)\n",
        "    accs.append(cumulative_acc.asscalar()/num_batches)"
      ],
      "execution_count": 11,
      "outputs": [
        {
          "output_type": "stream",
          "text": [
            "Epoch: 0 Loss: 95.8028 Accuracy: 0.46055\n",
            "Epoch: 1 Loss: 26.080225 Accuracy: 0.8785\n",
            "Epoch: 2 Loss: 17.2777625 Accuracy: 0.9205833333333333\n",
            "Epoch: 3 Loss: 12.753277083333334 Accuracy: 0.9419333333333333\n",
            "Epoch: 4 Loss: 10.328601041666667 Accuracy: 0.9530166666666666\n",
            "Epoch: 5 Loss: 8.5542140625 Accuracy: 0.9609166666666666\n",
            "Epoch: 6 Loss: 7.36605 Accuracy: 0.9667\n",
            "Epoch: 7 Loss: 6.646780729166666 Accuracy: 0.9692666666666667\n",
            "Epoch: 8 Loss: 6.008209375 Accuracy: 0.9727333333333333\n",
            "Epoch: 9 Loss: 5.419719270833333 Accuracy: 0.9753666666666667\n"
          ],
          "name": "stdout"
        }
      ]
    },
    {
      "cell_type": "markdown",
      "metadata": {
        "id": "JJOc7DOepwEE",
        "colab_type": "text"
      },
      "source": [
        "##Lets see test accuracy"
      ]
    },
    {
      "cell_type": "code",
      "metadata": {
        "id": "dvvQC3oQYu5A",
        "colab_type": "code",
        "outputId": "a0a374ac-9962-493d-ce18-fe661dc85f50",
        "colab": {
          "base_uri": "https://localhost:8080/",
          "height": 34
        }
      },
      "source": [
        "acc = 0.0\n",
        "batches = 0\n",
        "for features, labels in testing_data:\n",
        "    features = features.as_in_context(model_ctx).reshape((-1, 784))\n",
        "    labels = labels.as_in_context(model_ctx).one_hot(10)\n",
        "    predictions = neuralnetworks(features)\n",
        "    acc += accuracy(predictions, labels)\n",
        "    batches += 1\n",
        "print(f'Test Accuracy: {acc.asscalar()/batches}')"
      ],
      "execution_count": 12,
      "outputs": [
        {
          "output_type": "stream",
          "text": [
            "Test Accuracy: 0.9713375796178344\n"
          ],
          "name": "stdout"
        }
      ]
    },
    {
      "cell_type": "code",
      "metadata": {
        "id": "hIBgjWVBYu3t",
        "colab_type": "code",
        "colab": {}
      },
      "source": [
        "def plot(losses = losses, accs = accs, model = neuralnetworks, samples = 5):\n",
        "    plt.plot(losses, 'r')\n",
        "    plt.title('Loss during Training')\n",
        "    plt.xlabel('Epoch')\n",
        "    plt.ylabel('Loss')\n",
        "    plt.show()\n",
        "    \n",
        "    plt.plot(accs, 'g')\n",
        "    plt.title('Accuracy during Training')\n",
        "    plt.xlabel('Epoch')\n",
        "    plt.ylabel('Accuracy')\n",
        "    plt.show()\n",
        "    \n",
        "    for i, batch in enumerate(test_mnist):\n",
        "        features = batch[0].as_in_context(model_ctx).reshape((1, 784))\n",
        "        labels = batch[1]\n",
        "        predictions = model(features).argmax(1).asscalar()\n",
        "        plt.imshow(features.reshape((28, 28)).asnumpy())\n",
        "        plt.title(f'Predicted: {predictions}, Target: {labels}')\n",
        "        plt.show()\n",
        "        if i == samples:\n",
        "            break"
      ],
      "execution_count": 0,
      "outputs": []
    },
    {
      "cell_type": "code",
      "metadata": {
        "id": "mkorWu1EYu2b",
        "colab_type": "code",
        "outputId": "d9d94882-670e-4d50-bafa-8d272b654214",
        "colab": {
          "base_uri": "https://localhost:8080/",
          "height": 3477
        }
      },
      "source": [
        "plot(samples = 10)"
      ],
      "execution_count": 14,
      "outputs": [
        {
          "output_type": "display_data",
          "data": {
            "image/png": "[encoded data removed]",
            "text/plain": [
              "<Figure size 432x288 with 1 Axes>"
            ]
          },
          "metadata": {
            "tags": []
          }
        },
        {
          "output_type": "display_data",
          "data": {
            "image/png": "[encoded data removed]",
            "text/plain": [
              "<Figure size 432x288 with 1 Axes>"
            ]
          },
          "metadata": {
            "tags": []
          }
        },
        {
          "output_type": "display_data",
          "data": {
            "image/png": "[encoded data removed]",
            "text/plain": [
              "<Figure size 432x288 with 1 Axes>"
            ]
          },
          "metadata": {
            "tags": []
          }
        },
        {
          "output_type": "display_data",
          "data": {
            "image/png": "[encoded data removed]",
            "text/plain": [
              "<Figure size 432x288 with 1 Axes>"
            ]
          },
          "metadata": {
            "tags": []
          }
        },
        {
          "output_type": "display_data",
          "data": {
            "image/png": "[encoded data removed]",
            "text/plain": [
              "<Figure size 432x288 with 1 Axes>"
            ]
          },
          "metadata": {
            "tags": []
          }
        },
        {
          "output_type": "display_data",
          "data": {
            "image/png": "[encoded data removed]",
            "text/plain": [
              "<Figure size 432x288 with 1 Axes>"
            ]
          },
          "metadata": {
            "tags": []
          }
        },
        {
          "output_type": "display_data",
          "data": {
            "image/png": "[encoded data removed]",
            "text/plain": [
              "<Figure size 432x288 with 1 Axes>"
            ]
          },
          "metadata": {
            "tags": []
          }
        },
        {
          "output_type": "display_data",
          "data": {
            "image/png": "[encoded data removed]",
            "text/plain": [
              "<Figure size 432x288 with 1 Axes>"
            ]
          },
          "metadata": {
            "tags": []
          }
        },
        {
          "output_type": "display_data",
          "data": {
            "image/png": "[encoded data removed]",
            "text/plain": [
              "<Figure size 432x288 with 1 Axes>"
            ]
          },
          "metadata": {
            "tags": []
          }
        },
        {
          "output_type": "display_data",
          "data": {
            "image/png": "[encoded data removed]",
            "text/plain": [
              "<Figure size 432x288 with 1 Axes>"
            ]
          },
          "metadata": {
            "tags": []
          }
        },
        {
          "output_type": "display_data",
          "data": {
            "image/png": "[encoded data removed]",
            "text/plain": [
              "<Figure size 432x288 with 1 Axes>"
            ]
          },
          "metadata": {
            "tags": []
          }
        },
        {
          "output_type": "display_data",
          "data": {
            "image/png": "[encoded data removed]",
            "text/plain": [
              "<Figure size 432x288 with 1 Axes>"
            ]
          },
          "metadata": {
            "tags": []
          }
        },
        {
          "output_type": "display_data",
          "data": {
            "image/png": "[encoded data removed]",
            "text/plain": [
              "<Figure size 432x288 with 1 Axes>"
            ]
          },
          "metadata": {
            "tags": []
          }
        }
      ]
    }
  ]
}