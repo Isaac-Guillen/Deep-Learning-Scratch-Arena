{
  "cells": [
    {
      "cell_type": "code",
      "metadata": {
        "id": "L3KIZndDdgt4",
        "colab_type": "code",
        "outputId": "9cad0093-0572-4f7c-e020-eaeabbf46989",
        "colab": {
          "base_uri": "https://localhost:8080/",
          "height": 155
        }
      },
      "source": [
        "!pip install mxnet-cu100"
      ],
      "execution_count": null,
      "outputs": []
    },
    {
      "cell_type": "markdown",
      "metadata": {
        "id": "1YN4PT_Idstj",
        "colab_type": "text"
      },
      "source": [
        "# MXNet (From Scratch)"
      ]
    },
    {
      "cell_type": "code",
      "metadata": {
        "id": "CLGHa8i6WEaA",
        "colab_type": "code",
        "colab": {}
      },
      "source": [
        "import mxnet as mx\n",
        "from mxnet import nd, autograd, gluon\n",
        "import matplotlib.pyplot as plt\n",
        "\n",
        "model_ctx = mx.gpu()"
      ],
      "execution_count": null,
      "outputs": []
    },
    {
      "cell_type": "code",
      "metadata": {
        "id": "huuK9vLaWEcO",
        "colab_type": "code",
        "colab": {}
      },
      "source": [
        "def transform(data, label):\n",
        "    return data.astype('float32')/255.0, label.astype('float32')\n",
        "\n",
        "train_mnist = gluon.data.vision.FashionMNIST(train = True, transform = transform)\n",
        "test_mnist = gluon.data.vision.FashionMNIST(train = False, transform = transform)"
      ],
      "execution_count": null,
      "outputs": []
    },
    {
      "cell_type": "code",
      "metadata": {
        "id": "sAXcT8nSWEYo",
        "colab_type": "code",
        "outputId": "9a5cb8b3-77e0-4846-e14c-f0e4f2d62334",
        "colab": {
          "base_uri": "https://localhost:8080/",
          "height": 34
        }
      },
      "source": [
        "image, label = train_mnist[0]\n",
        "print(image.shape, label.shape)"
      ],
      "execution_count": null,
      "outputs": []
    },
    {
      "cell_type": "code",
      "metadata": {
        "id": "SIQSLxiFWEXg",
        "colab_type": "code",
        "outputId": "bed078f2-8bf0-4cea-b5de-8f5cb128821a",
        "colab": {
          "base_uri": "https://localhost:8080/",
          "height": 281
        }
      },
      "source": [
        "plt.imshow(image.reshape((28, 28)).asnumpy())\n",
        "plt.title(label)\n",
        "plt.show()\n"
      ],
      "execution_count": null,
      "outputs": []
    },
    {
      "cell_type": "markdown",
      "metadata": {
        "id": "oF-WKS-xX73T",
        "colab_type": "text"
      },
      "source": [
        "## Creating data loader for training and testing"
      ]
    },
    {
      "cell_type": "code",
      "metadata": {
        "id": "IVmMwE94WEWY",
        "colab_type": "code",
        "colab": {}
      },
      "source": [
        "batch_size = 64\n",
        "training_data = gluon.data.DataLoader(train_mnist, batch_size = batch_size, shuffle = True)\n",
        "testing_data = gluon.data.DataLoader(test_mnist, batch_size = batch_size, shuffle = False)"
      ],
      "execution_count": null,
      "outputs": []
    },
    {
      "cell_type": "markdown",
      "metadata": {
        "id": "5HUXvMyHYKoM",
        "colab_type": "text"
      },
      "source": [
        "## Building the model"
      ]
    },
    {
      "cell_type": "code",
      "metadata": {
        "id": "u7Vdh54QWESq",
        "colab_type": "code",
        "colab": {}
      },
      "source": [
        "weight_scale = .1\n",
        "\n",
        "#  Allocate parameters for the first hidden layer\n",
        "W1 = nd.random_normal(shape = (784, 256), scale=weight_scale, ctx=model_ctx)\n",
        "b1 = nd.random_normal(shape = 256, scale=weight_scale, ctx=model_ctx)\n",
        "\n",
        "#  Allocate parameters for the second hidden layer\n",
        "W2 = nd.random_normal(shape = (256, 128), scale=weight_scale, ctx=model_ctx)\n",
        "b2 = nd.random_normal(shape = 128, scale=weight_scale, ctx=model_ctx)\n",
        "\n",
        "#  Allocate parameters for the output layer\n",
        "W3 = nd.random_normal(shape=(128, 10), scale=weight_scale, ctx=model_ctx)\n",
        "b3 = nd.random_normal(shape=10, scale=weight_scale, ctx=model_ctx)\n",
        "\n",
        "params = [W1, b1, W2, b2, W3, b3]\n",
        "\n",
        "sqrs = []\n",
        "vs = []\n",
        "for param in params:\n",
        "    param.attach_grad()\n",
        "    sqrs.append(param.zeros_like() + 1e-5) # adding 1e-5 for computation stability \n",
        "    vs.append(param.zeros_like() + 1e-5) # adding 1e-5 for computation stability \n",
        "\n",
        "def neuralnetworks(inputs):\n",
        "    layer1 = nd.relu(nd.dot(inputs, W1) + b1)\n",
        "    layer2 = nd.relu(nd.dot(layer1, W2) + b2)\n",
        "    return nd.softmax(nd.dot(layer2, W3) + b3)"
      ],
      "execution_count": null,
      "outputs": []
    },
    {
      "cell_type": "markdown",
      "metadata": {
        "id": "HW4Jzb46EyyD",
        "colab_type": "text"
      },
      "source": [
        "## Defining our objective function"
      ]
    },
    {
      "cell_type": "code",
      "metadata": {
        "id": "avO1uf5fItMV",
        "colab_type": "code",
        "colab": {}
      },
      "source": [
        "def categoricalcrossentropy(predictions, labels):\n",
        "    return -nd.sum(labels * nd.log(predictions))"
      ],
      "execution_count": null,
      "outputs": []
    },
    {
      "cell_type": "markdown",
      "metadata": {
        "id": "3qr1NTDkE7Kh",
        "colab_type": "text"
      },
      "source": [
        "## Defining Adam Optimizer"
      ]
    },
    {
      "cell_type": "markdown",
      "metadata": {
        "id": "Ed6gHzFSA8Un",
        "colab_type": "text"
      },
      "source": [
        "MY PERSONAL FAVOURITE OPTIMIZER"
      ]
    },
    {
      "cell_type": "code",
      "metadata": {
        "id": "hvFKa4WuI9c-",
        "colab_type": "code",
        "colab": {}
      },
      "source": [
        "def adam(t, params, vs = vs, sqrs = sqrs, lr = 0.001):\n",
        "    beta1 = 0.9\n",
        "    beta2 = 0.999\n",
        "    eps = 1e-8\n",
        "\n",
        "    for param, v, sqr in zip(params, vs, sqrs):\n",
        "        grad = param.grad / batch_size\n",
        "\n",
        "        v[:] = beta1 * v + (1. - beta1) * grad\n",
        "        sqr[:] = beta2 * sqr + (1. - beta2) * nd.square(grad + 1e-8)\n",
        "\n",
        "        v_bias_corr = v / (1. - beta1 ** t)\n",
        "        sqr_bias_corr = sqr / (1. - beta2 ** t)\n",
        "\n",
        "        update = lr * v_bias_corr / (nd.sqrt(sqr_bias_corr + 1e-8) + eps)\n",
        "        param[:] = param - update"
      ],
      "execution_count": null,
      "outputs": []
    },
    {
      "cell_type": "markdown",
      "metadata": {
        "id": "lbHoiGM3ZrQY",
        "colab_type": "text"
      },
      "source": [
        "## Defining our accuracy function"
      ]
    },
    {
      "cell_type": "code",
      "metadata": {
        "id": "-3osTW97ZuHR",
        "colab_type": "code",
        "colab": {}
      },
      "source": [
        "def accuracy(predictions, labels):\n",
        "    return nd.mean(predictions.argmax(1) == labels.argmax(1))"
      ],
      "execution_count": null,
      "outputs": []
    },
    {
      "cell_type": "markdown",
      "metadata": {
        "id": "UlkEn5XxFPkd",
        "colab_type": "text"
      },
      "source": [
        "## Training the  model"
      ]
    },
    {
      "cell_type": "code",
      "metadata": {
        "id": "kVao6lbWCizF",
        "colab_type": "code",
        "outputId": "a6216f1c-9dfd-43ac-a67d-5e6869fbddf8",
        "colab": {
          "base_uri": "https://localhost:8080/",
          "height": 190
        }
      },
      "source": [
        "epochs = 10\n",
        "num_batches = (60000//batch_size) + 1\n",
        "learning_rate = 0.0005\n",
        "losses = []\n",
        "accs = []\n",
        "\n",
        "t = 0\n",
        "for epoch in range(epochs):\n",
        "    cumulative_loss = 0\n",
        "    cumulative_acc = 0\n",
        "    for features, labels in training_data:\n",
        "        t += 1\n",
        "        features = features.as_in_context(model_ctx).reshape((-1, 784))\n",
        "        labels = labels.as_in_context(model_ctx).one_hot(10)\n",
        "        with autograd.record():\n",
        "            output = neuralnetworks(features)\n",
        "            loss = categoricalcrossentropy(output, labels)\n",
        "        loss.backward()\n",
        "        adam(t, params, lr = learning_rate) # RUNNING ADAM OPTIMIZER\n",
        "        cumulative_loss += loss\n",
        "        acc = accuracy(output, labels)\n",
        "        cumulative_acc += acc\n",
        "    loss = cumulative_loss.asscalar()/num_batches\n",
        "    acc = cumulative_acc.asscalar()/num_batches\n",
        "    losses.append(loss)\n",
        "    accs.append(acc)\n",
        "    print(f'Epoch: {epoch} | Loss: {loss:.5f} | Accuracy: {acc:.5f}')"
      ],
      "execution_count": null,
      "outputs": []
    },
    {
      "cell_type": "markdown",
      "metadata": {
        "id": "JJOc7DOepwEE",
        "colab_type": "text"
      },
      "source": [
        "## Lets see test accuracy"
      ]
    },
    {
      "cell_type": "code",
      "metadata": {
        "id": "dvvQC3oQYu5A",
        "colab_type": "code",
        "outputId": "30825972-6287-480c-b432-691f34719c93",
        "colab": {
          "base_uri": "https://localhost:8080/",
          "height": 34
        }
      },
      "source": [
        "acc = 0.0\n",
        "batches = 0\n",
        "for features, labels in testing_data:\n",
        "    features = features.as_in_context(model_ctx).reshape((-1, 784))\n",
        "    labels = labels.as_in_context(model_ctx).one_hot(10)\n",
        "    predictions = neuralnetworks(features)\n",
        "    acc += accuracy(predictions, labels)\n",
        "    batches += 1\n",
        "print(f'Test Accuracy: {acc.asscalar()/batches}')"
      ],
      "execution_count": null,
      "outputs": []
    },
    {
      "cell_type": "code",
      "metadata": {
        "id": "hIBgjWVBYu3t",
        "colab_type": "code",
        "colab": {}
      },
      "source": [
        "def plot(losses = losses, accs = accs, model = neuralnetworks, samples = 5):\n",
        "    plt.plot(losses, 'r')\n",
        "    plt.title('Loss during Training')\n",
        "    plt.xlabel('Optimizer Step')\n",
        "    plt.ylabel('Loss')\n",
        "    plt.show()\n",
        "    \n",
        "    plt.plot(accs, 'g')\n",
        "    plt.title('Accuracy during Training')\n",
        "    plt.xlabel('Optimizer Step')\n",
        "    plt.ylabel('Accuracy')\n",
        "    plt.show()\n",
        "    \n",
        "    for i, batch in enumerate(test_mnist):\n",
        "        features = batch[0].as_in_context(model_ctx).reshape((1, 784))\n",
        "        labels = batch[1]\n",
        "        predictions = model(features).argmax(1).asscalar()\n",
        "        plt.imshow(features.reshape((28, 28)).asnumpy())\n",
        "        plt.title(f'Predicted: {predictions}, Target: {labels}')\n",
        "        plt.show()\n",
        "        if i == samples:\n",
        "            break"
      ],
      "execution_count": null,
      "outputs": []
    },
    {
      "cell_type": "code",
      "metadata": {
        "id": "mkorWu1EYu2b",
        "colab_type": "code",
        "outputId": "ce958801-0f91-4ee0-9c8e-b87d47d5b00b",
        "colab": {
          "base_uri": "https://localhost:8080/",
          "height": 3477
        }
      },
      "source": [
        "plot(samples = 10)"
      ],
      "execution_count": null,
      "outputs": []
    },
    {
      "cell_type": "code",
      "metadata": {
        "id": "59YfC3nthjfA",
        "colab_type": "code",
        "colab": {}
      },
      "source": [
        ""
      ],
      "execution_count": null,
      "outputs": []
    }
  ],
  "metadata": {
    "colab": {
      "name": "Adam Optimizer - MXNet (From Scratch).ipynb",
      "version": "0.3.2",
      "provenance": [],
      "collapsed_sections": []
    },
    "kernelspec": {
      "name": "python3",
      "display_name": "Python 3"
    },
    "accelerator": "GPU"
  },
  "nbformat": 4,
  "nbformat_minor": 0
}